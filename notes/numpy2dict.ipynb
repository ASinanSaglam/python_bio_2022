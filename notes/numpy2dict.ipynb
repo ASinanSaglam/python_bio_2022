{
 "cells": [
  {
   "cell_type": "markdown",
   "metadata": {
    "slideshow": {
     "slide_type": "slide"
    }
   },
   "source": [
    "# dictionaries, sets, and function fitting\n",
    "## 9/21/2021\n",
    "\n",
    "<a href=\"?print-pdf\">print view</a>"
   ]
  },
  {
   "cell_type": "code",
   "execution_count": 1,
   "metadata": {},
   "outputs": [
    {
     "data": {
      "text/html": [
       "\n",
       "<script src=\"http://bits.csb.pitt.edu/asker.js/lib/asker.js\"></script>\n",
       "\n",
       "<script>\n",
       "\n",
       "require(['https://cdnjs.cloudflare.com/ajax/libs/Chart.js/2.2.2/Chart.js'], function(Ch){\n",
       " Chart = Ch;\n",
       "});\n",
       "\n",
       "$('head').append('<link rel=\"stylesheet\" href=\"http://bits.csb.pitt.edu/asker.js/themes/asker.default.css\" />');\n",
       "\n",
       "\n",
       "//the callback is provided a canvas object and data \n",
       "var chartmaker = function(canvas, labels, data) {\n",
       "  var ctx = $(canvas).get(0).getContext(\"2d\");\n",
       "     var dataset = {labels: labels,                     \n",
       "    datasets:[{\n",
       "     data: data,\n",
       "     backgroundColor: \"rgba(150,64,150,0.5)\",\n",
       "         fillColor: \"rgba(150,64,150,0.8)\",    \n",
       "  }]};\n",
       "  var myBarChart = new Chart(ctx,{type:'bar',data:dataset,options:{legend: {display:false},scales:{yAxes:[{ticks:{min: 0}}]}}});\n",
       "\n",
       "\n",
       "};\n",
       "\n",
       "$(\".jp-InputArea .o:contains(html)\").closest('.jp-InputArea').hide();\n",
       "\n",
       "\n",
       "\n",
       "</script>\n"
      ],
      "text/plain": [
       "<IPython.core.display.HTML object>"
      ]
     },
     "metadata": {},
     "output_type": "display_data"
    }
   ],
   "source": [
    "%%html\n",
    "\n",
    "<script src=\"http://bits.csb.pitt.edu/asker.js/lib/asker.js\"></script>\n",
    "\n",
    "<script>\n",
    "\n",
    "require(['https://cdnjs.cloudflare.com/ajax/libs/Chart.js/2.2.2/Chart.js'], function(Ch){\n",
    " Chart = Ch;\n",
    "});\n",
    "\n",
    "$('head').append('<link rel=\"stylesheet\" href=\"http://bits.csb.pitt.edu/asker.js/themes/asker.default.css\" />');\n",
    "\n",
    "\n",
    "//the callback is provided a canvas object and data \n",
    "var chartmaker = function(canvas, labels, data) {\n",
    "  var ctx = $(canvas).get(0).getContext(\"2d\");\n",
    "     var dataset = {labels: labels,                     \n",
    "    datasets:[{\n",
    "     data: data,\n",
    "     backgroundColor: \"rgba(150,64,150,0.5)\",\n",
    "         fillColor: \"rgba(150,64,150,0.8)\",    \n",
    "  }]};\n",
    "  var myBarChart = new Chart(ctx,{type:'bar',data:dataset,options:{legend: {display:false},scales:{yAxes:[{ticks:{min: 0}}]}}});\n",
    "\n",
    "\n",
    "};\n",
    "\n",
    "$(\".jp-InputArea .o:contains(html)\").closest('.jp-InputArea').hide();\n",
    "\n",
    "\n",
    "\n",
    "</script>"
   ]
  },
  {
   "cell_type": "markdown",
   "metadata": {
    "slideshow": {
     "slide_type": "slide"
    }
   },
   "source": [
    "# Dictionary"
   ]
  },
  {
   "cell_type": "markdown",
   "metadata": {},
   "source": [
    "A dictionary is an **unordered** collection of key,value pairs where the keys are mapped to values.  \n",
    "\n",
    "A dictionary object is *indexed* by the key to get the value."
   ]
  },
  {
   "cell_type": "code",
   "execution_count": 2,
   "metadata": {},
   "outputs": [
    {
     "name": "stdout",
     "output_type": "stream",
     "text": [
      "{'key': 'value', 0: ['x', 'y', 'z']}\n"
     ]
    }
   ],
   "source": [
    "d = dict()\n",
    "d['key'] = 'value'\n",
    "d[0] = ['x','y','z']\n",
    "print(d)"
   ]
  },
  {
   "cell_type": "markdown",
   "metadata": {
    "slideshow": {
     "slide_type": "slide"
    }
   },
   "source": [
    "# Initializing `dicts`"
   ]
  },
  {
   "cell_type": "code",
   "execution_count": 3,
   "metadata": {},
   "outputs": [],
   "source": [
    "empty = dict()\n",
    "alsoempty = {}"
   ]
  },
  {
   "cell_type": "markdown",
   "metadata": {},
   "source": [
    "Specify *key*:*value* pairs within curly braces."
   ]
  },
  {
   "cell_type": "code",
   "execution_count": 4,
   "metadata": {},
   "outputs": [
    {
     "data": {
      "text/plain": [
       "{'a': 1, 'b': 2}"
      ]
     },
     "execution_count": 4,
     "metadata": {},
     "output_type": "execute_result"
    }
   ],
   "source": [
    "example = {'a': 1, 'b':2}\n",
    "example"
   ]
  },
  {
   "cell_type": "markdown",
   "metadata": {},
   "source": [
    "Add new values by indexing with new/existing key"
   ]
  },
  {
   "cell_type": "code",
   "execution_count": 6,
   "metadata": {},
   "outputs": [
    {
     "data": {
      "text/plain": [
       "{'a': 0, 'b': 2, 'z': 26}"
      ]
     },
     "execution_count": 6,
     "metadata": {},
     "output_type": "execute_result"
    }
   ],
   "source": [
    "example['a'] = 0\n",
    "example['z'] = 26\n",
    "example"
   ]
  },
  {
   "cell_type": "markdown",
   "metadata": {
    "slideshow": {
     "slide_type": "slide"
    }
   },
   "source": [
    "# Accessing values"
   ]
  },
  {
   "cell_type": "code",
   "execution_count": 7,
   "metadata": {},
   "outputs": [
    {
     "ename": "KeyError",
     "evalue": "'c'",
     "output_type": "error",
     "traceback": [
      "\u001b[0;31m---------------------------------------------------------------------------\u001b[0m",
      "\u001b[0;31mKeyError\u001b[0m                                  Traceback (most recent call last)",
      "\u001b[0;32m<ipython-input-7-2c38503f75de>\u001b[0m in \u001b[0;36m<module>\u001b[0;34m\u001b[0m\n\u001b[0;32m----> 1\u001b[0;31m \u001b[0mexample\u001b[0m\u001b[0;34m[\u001b[0m\u001b[0;34m'c'\u001b[0m\u001b[0;34m]\u001b[0m \u001b[0;31m#keys must exist\u001b[0m\u001b[0;34m\u001b[0m\u001b[0;34m\u001b[0m\u001b[0m\n\u001b[0m",
      "\u001b[0;31mKeyError\u001b[0m: 'c'"
     ]
    }
   ],
   "source": [
    "example['c'] #keys must exist"
   ]
  },
  {
   "cell_type": "markdown",
   "metadata": {},
   "source": [
    "Use **`in`** to test for membership"
   ]
  },
  {
   "cell_type": "code",
   "execution_count": 8,
   "metadata": {},
   "outputs": [
    {
     "data": {
      "text/plain": [
       "False"
      ]
     },
     "execution_count": 8,
     "metadata": {},
     "output_type": "execute_result"
    }
   ],
   "source": [
    "'c' in example "
   ]
  },
  {
   "cell_type": "code",
   "execution_count": 9,
   "metadata": {},
   "outputs": [
    {
     "data": {
      "text/plain": [
       "{'a': 0, 'b': 2, 'z': 26, 'c': 0}"
      ]
     },
     "execution_count": 9,
     "metadata": {},
     "output_type": "execute_result"
    }
   ],
   "source": [
    "if 'c' not in example:\n",
    "    example['c'] = 0\n",
    "example"
   ]
  },
  {
   "cell_type": "markdown",
   "metadata": {
    "slideshow": {
     "slide_type": "slide"
    }
   },
   "source": [
    "# Methods"
   ]
  },
  {
   "cell_type": "code",
   "execution_count": 10,
   "metadata": {},
   "outputs": [
    {
     "data": {
      "text/plain": [
       "dict_keys(['a', 'b', 'z', 'c'])"
      ]
     },
     "execution_count": 10,
     "metadata": {},
     "output_type": "execute_result"
    }
   ],
   "source": [
    "example.keys()"
   ]
  },
  {
   "cell_type": "code",
   "execution_count": 11,
   "metadata": {},
   "outputs": [
    {
     "data": {
      "text/plain": [
       "dict_values([0, 2, 26, 0])"
      ]
     },
     "execution_count": 11,
     "metadata": {},
     "output_type": "execute_result"
    }
   ],
   "source": [
    "example.values()"
   ]
  },
  {
   "cell_type": "code",
   "execution_count": 12,
   "metadata": {},
   "outputs": [
    {
     "data": {
      "text/plain": [
       "dict_items([('a', 0), ('b', 2), ('z', 26), ('c', 0)])"
      ]
     },
     "execution_count": 12,
     "metadata": {},
     "output_type": "execute_result"
    }
   ],
   "source": [
    "example.items()"
   ]
  },
  {
   "cell_type": "code",
   "execution_count": 13,
   "metadata": {
    "slideshow": {
     "slide_type": "slide"
    }
   },
   "outputs": [],
   "source": [
    "def count(vals):\n",
    "    cnts = {}\n",
    "    for x in vals:\n",
    "        cnts[x] += 1\n",
    "    return cnts"
   ]
  },
  {
   "cell_type": "code",
   "execution_count": null,
   "metadata": {
    "slideshow": {
     "slide_type": "-"
    }
   },
   "outputs": [],
   "source": [
    "d = count(['a','a','b','a','c','b'])"
   ]
  },
  {
   "cell_type": "code",
   "execution_count": 14,
   "metadata": {},
   "outputs": [
    {
     "data": {
      "text/html": [
       "<div id=\"dictdefault\" style=\"width: 500px\"></div>\n",
       "<script>\n",
       "$('head').append('<link rel=\"stylesheet\" href=\"http://bits.csb.pitt.edu/asker.js/themes/asker.default.css\" />');\n",
       "\n",
       "    var divid = '#dictdefault';\n",
       "\tjQuery(divid).asker({\n",
       "\t    id: divid,\n",
       "\t    question: \"What is the value of <tt>d['a']</tt>?\",\n",
       "\t\tanswers: [\"0\",\"1\",\"2\",\"3\",\"6\",'Error'],\n",
       "        server: \"http://bits.csb.pitt.edu/asker.js/example/asker.cgi\",\n",
       "\t\tcharter: chartmaker})\n",
       "    \n",
       " $(\".input .o:contains(html)\").closest('.input').hide();\n",
       "\n",
       "\n",
       "</script>\n"
      ],
      "text/plain": [
       "<IPython.core.display.HTML object>"
      ]
     },
     "metadata": {},
     "output_type": "display_data"
    }
   ],
   "source": [
    "%%html\n",
    "<div id=\"dictdefault\" style=\"width: 500px\"></div>\n",
    "<script>\n",
    "$('head').append('<link rel=\"stylesheet\" href=\"http://bits.csb.pitt.edu/asker.js/themes/asker.default.css\" />');\n",
    "\n",
    "    var divid = '#dictdefault';\n",
    "\tjQuery(divid).asker({\n",
    "\t    id: divid,\n",
    "\t    question: \"What is the value of <tt>d['a']</tt>?\",\n",
    "\t\tanswers: [\"0\",\"1\",\"2\",\"3\",\"6\",'Error'],\n",
    "        server: \"http://bits.csb.pitt.edu/asker.js/example/asker.cgi\",\n",
    "\t\tcharter: chartmaker})\n",
    "    \n",
    "$(\".jp-InputArea .o:contains(html)\").closest('.jp-InputArea').hide();\n",
    "\n",
    "\n",
    "</script>"
   ]
  },
  {
   "cell_type": "markdown",
   "metadata": {
    "slideshow": {
     "slide_type": "slide"
    }
   },
   "source": [
    "# The Fix"
   ]
  },
  {
   "cell_type": "code",
   "execution_count": 15,
   "metadata": {},
   "outputs": [
    {
     "data": {
      "text/plain": [
       "3"
      ]
     },
     "execution_count": 15,
     "metadata": {},
     "output_type": "execute_result"
    }
   ],
   "source": [
    "def count(vals):\n",
    "    cnts = {}\n",
    "    for x in vals:\n",
    "        if x not in cnts:\n",
    "            cnts[x] = 0\n",
    "        cnts[x] += 1\n",
    "    return cnts\n",
    "\n",
    "d = count(['a','a','b','a','c','b'])\n",
    "d['a']"
   ]
  },
  {
   "cell_type": "markdown",
   "metadata": {},
   "source": [
    "If this seems annoying, checkout [`collections.defaultdict`](https://docs.python.org/2/library/collections.html)"
   ]
  },
  {
   "cell_type": "markdown",
   "metadata": {
    "slideshow": {
     "slide_type": "slide"
    }
   },
   "source": [
    "# Sets"
   ]
  },
  {
   "cell_type": "markdown",
   "metadata": {},
   "source": [
    " A set is an **unordered** collection with no duplicate elements. Basic uses include *membership testing* and *eliminating duplicate entries*. Set objects also support mathematical operations like union, intersection, difference, and symmetric difference."
   ]
  },
  {
   "cell_type": "markdown",
   "metadata": {},
   "source": [
    "Can initialize with a list"
   ]
  },
  {
   "cell_type": "code",
   "execution_count": 16,
   "metadata": {},
   "outputs": [
    {
     "data": {
      "text/plain": [
       "{'a', 'b', 'd', 'e', 'x'}"
      ]
     },
     "execution_count": 16,
     "metadata": {},
     "output_type": "execute_result"
    }
   ],
   "source": [
    "stuff = set(['a','b','a','d','x','a','e'])\n",
    "stuff"
   ]
  },
  {
   "cell_type": "markdown",
   "metadata": {},
   "source": [
    "Sets are not indexed - use `add` to insert new elements."
   ]
  },
  {
   "cell_type": "code",
   "execution_count": 17,
   "metadata": {},
   "outputs": [],
   "source": [
    "stuff.add('y')"
   ]
  },
  {
   "cell_type": "markdown",
   "metadata": {
    "slideshow": {
     "slide_type": "slide"
    }
   },
   "source": [
    "# `set` operations"
   ]
  },
  {
   "cell_type": "markdown",
   "metadata": {},
   "source": [
    "Efficient membership testing"
   ]
  },
  {
   "cell_type": "code",
   "execution_count": 18,
   "metadata": {},
   "outputs": [
    {
     "data": {
      "text/plain": [
       "True"
      ]
     },
     "execution_count": 18,
     "metadata": {},
     "output_type": "execute_result"
    }
   ],
   "source": [
    "'y' in stuff"
   ]
  },
  {
   "cell_type": "code",
   "execution_count": 19,
   "metadata": {},
   "outputs": [
    {
     "name": "stdout",
     "output_type": "stream",
     "text": [
      "and {'b', 'a'}\n"
     ]
    }
   ],
   "source": [
    "stuff2 = set(['a','b','c'])\n",
    "print('and',stuff & stuff2) #intersection"
   ]
  },
  {
   "cell_type": "code",
   "execution_count": 20,
   "metadata": {},
   "outputs": [
    {
     "name": "stdout",
     "output_type": "stream",
     "text": [
      "or {'e', 'y', 'b', 'x', 'a', 'c', 'd'}\n"
     ]
    }
   ],
   "source": [
    "print('or', stuff | stuff2)"
   ]
  },
  {
   "cell_type": "code",
   "execution_count": 21,
   "metadata": {},
   "outputs": [
    {
     "name": "stdout",
     "output_type": "stream",
     "text": [
      "diff {'x', 'y', 'e', 'd'}\n"
     ]
    }
   ],
   "source": [
    "print('diff', stuff - stuff2)"
   ]
  },
  {
   "cell_type": "code",
   "execution_count": 22,
   "metadata": {
    "slideshow": {
     "slide_type": "slide"
    }
   },
   "outputs": [],
   "source": [
    "s = set([1,2,2,3,3,3,4,4,4,4])"
   ]
  },
  {
   "cell_type": "code",
   "execution_count": 23,
   "metadata": {},
   "outputs": [
    {
     "data": {
      "text/html": [
       "<div id=\"dictset\" style=\"width: 500px\"></div>\n",
       "<script>\n",
       "$('head').append('<link rel=\"stylesheet\" href=\"http://bits.csb.pitt.edu/asker.js/themes/asker.default.css\" />');\n",
       "\n",
       "    var divid = '#dictset';\n",
       "\tjQuery(divid).asker({\n",
       "\t    id: divid,\n",
       "\t    question: \"What is <tt>len(s)</tt>?\",\n",
       "\t\tanswers: [\"0\",\"1\",\"3\",\"4\",\"9\",\"10\",'Error'],\n",
       "        server: \"http://bits.csb.pitt.edu/asker.js/example/asker.cgi\",\n",
       "\t\tcharter: chartmaker})\n",
       "    \n",
       "$(\".jp-InputArea .o:contains(html)\").closest('.jp-InputArea').hide();\n",
       "\n",
       "\n",
       "</script>\n"
      ],
      "text/plain": [
       "<IPython.core.display.HTML object>"
      ]
     },
     "metadata": {},
     "output_type": "display_data"
    }
   ],
   "source": [
    "%%html\n",
    "<div id=\"dictset\" style=\"width: 500px\"></div>\n",
    "<script>\n",
    "$('head').append('<link rel=\"stylesheet\" href=\"http://bits.csb.pitt.edu/asker.js/themes/asker.default.css\" />');\n",
    "\n",
    "    var divid = '#dictset';\n",
    "\tjQuery(divid).asker({\n",
    "\t    id: divid,\n",
    "\t    question: \"What is <tt>len(s)</tt>?\",\n",
    "\t\tanswers: [\"0\",\"1\",\"3\",\"4\",\"9\",\"10\",'Error'],\n",
    "        server: \"http://bits.csb.pitt.edu/asker.js/example/asker.cgi\",\n",
    "\t\tcharter: chartmaker})\n",
    "    \n",
    "$(\".jp-InputArea .o:contains(html)\").closest('.jp-InputArea').hide();\n",
    "\n",
    "\n",
    "</script>"
   ]
  },
  {
   "cell_type": "code",
   "execution_count": 24,
   "metadata": {
    "slideshow": {
     "slide_type": "slide"
    }
   },
   "outputs": [],
   "source": [
    "a = set([1,2,2,3])\n",
    "b = set([2,3,3,4])\n",
    "c = a & b"
   ]
  },
  {
   "cell_type": "code",
   "execution_count": 25,
   "metadata": {},
   "outputs": [
    {
     "data": {
      "text/html": [
       "<div id=\"setinter\" style=\"width: 500px\"></div>\n",
       "<script>\n",
       "$('head').append('<link rel=\"stylesheet\" href=\"http://bits.csb.pitt.edu/asker.js/themes/asker.default.css\" />');\n",
       "\n",
       "    var divid = '#setinter';\n",
       "\tjQuery(divid).asker({\n",
       "\t    id: divid,\n",
       "\t    question: \"What is <tt>c</tt>?\",\n",
       "\t\tanswers: [\"{1,2,3,4}\",\"{2,2,3,3}\",\"{2,3}\",\"{1,4}\",'Error'],\n",
       "        server: \"http://bits.csb.pitt.edu/asker.js/example/asker.cgi\",\n",
       "\t\tcharter: chartmaker})\n",
       "    \n",
       "$(\".jp-InputArea .o:contains(html)\").closest('.jp-InputArea').hide();\n",
       "\n",
       "\n",
       "</script>\n"
      ],
      "text/plain": [
       "<IPython.core.display.HTML object>"
      ]
     },
     "metadata": {},
     "output_type": "display_data"
    }
   ],
   "source": [
    "%%html\n",
    "<div id=\"setinter\" style=\"width: 500px\"></div>\n",
    "<script>\n",
    "$('head').append('<link rel=\"stylesheet\" href=\"http://bits.csb.pitt.edu/asker.js/themes/asker.default.css\" />');\n",
    "\n",
    "    var divid = '#setinter';\n",
    "\tjQuery(divid).asker({\n",
    "\t    id: divid,\n",
    "\t    question: \"What is <tt>c</tt>?\",\n",
    "\t\tanswers: [\"{1,2,3,4}\",\"{2,2,3,3}\",\"{2,3}\",\"{1,4}\",'Error'],\n",
    "        server: \"http://bits.csb.pitt.edu/asker.js/example/asker.cgi\",\n",
    "\t\tcharter: chartmaker})\n",
    "    \n",
    "$(\".jp-InputArea .o:contains(html)\").closest('.jp-InputArea').hide();\n",
    "\n",
    "\n",
    "</script>"
   ]
  },
  {
   "cell_type": "markdown",
   "metadata": {
    "slideshow": {
     "slide_type": "slide"
    }
   },
   "source": [
    "# Tuples\n",
    "\n",
    "A `tuple` is an *immutable* list."
   ]
  },
  {
   "cell_type": "code",
   "execution_count": 26,
   "metadata": {},
   "outputs": [
    {
     "data": {
      "text/plain": [
       "(1, 2, 3)"
      ]
     },
     "execution_count": 26,
     "metadata": {},
     "output_type": "execute_result"
    }
   ],
   "source": [
    "t = tuple([1,2,3])\n",
    "t"
   ]
  },
  {
   "cell_type": "markdown",
   "metadata": {},
   "source": [
    "Tuples are initialized the same way as lists, just with parentheses"
   ]
  },
  {
   "cell_type": "code",
   "execution_count": 27,
   "metadata": {},
   "outputs": [
    {
     "data": {
      "text/plain": [
       "(('x', 0, 3.0), ['x', 0, 3.0])"
      ]
     },
     "execution_count": 27,
     "metadata": {},
     "output_type": "execute_result"
    }
   ],
   "source": [
    "t = ('x',0,3.0)\n",
    "l = ['x',0,3.0]\n",
    "t,l"
   ]
  },
  {
   "cell_type": "code",
   "execution_count": 28,
   "metadata": {},
   "outputs": [
    {
     "data": {
      "text/plain": [
       "'hello 3'"
      ]
     },
     "execution_count": 28,
     "metadata": {},
     "output_type": "execute_result"
    }
   ],
   "source": [
    "'%s %d' % ('hello',3) # second operand of string % operator is tuple"
   ]
  },
  {
   "cell_type": "code",
   "execution_count": null,
   "metadata": {
    "slideshow": {
     "slide_type": "slide"
    }
   },
   "outputs": [],
   "source": [
    "t = ('x',0,3.0)\n",
    "t[2] += 1"
   ]
  },
  {
   "cell_type": "code",
   "execution_count": 30,
   "metadata": {},
   "outputs": [
    {
     "data": {
      "text/html": [
       "<div id=\"dictimm\" style=\"width: 500px\"></div>\n",
       "<script>\n",
       "$('head').append('<link rel=\"stylesheet\" href=\"http://bits.csb.pitt.edu/asker.js/themes/asker.default.css\" />');\n",
       "\n",
       "    var divid = '#dictimm';\n",
       "\tjQuery(divid).asker({\n",
       "\t    id: divid,\n",
       "\t    question: \"What is the value of <tt>t[2]</tt>?\",\n",
       "\t\tanswers: [\"0\",\"1\",\"3.0\",\"4.0\",'Error'],\n",
       "        server: \"http://bits.csb.pitt.edu/asker.js/example/asker.cgi\",\n",
       "\t\tcharter: chartmaker})\n",
       "    \n",
       "$(\".jp-InputArea .o:contains(html)\").closest('.jp-InputArea').hide();\n",
       "\n",
       "\n",
       "</script>\n"
      ],
      "text/plain": [
       "<IPython.core.display.HTML object>"
      ]
     },
     "metadata": {},
     "output_type": "display_data"
    }
   ],
   "source": [
    "%%html\n",
    "<div id=\"dictimm\" style=\"width: 500px\"></div>\n",
    "<script>\n",
    "$('head').append('<link rel=\"stylesheet\" href=\"http://bits.csb.pitt.edu/asker.js/themes/asker.default.css\" />');\n",
    "\n",
    "    var divid = '#dictimm';\n",
    "\tjQuery(divid).asker({\n",
    "\t    id: divid,\n",
    "\t    question: \"What is the value of <tt>t[2]</tt>?\",\n",
    "\t\tanswers: [\"0\",\"1\",\"3.0\",\"4.0\",'Error'],\n",
    "        server: \"http://bits.csb.pitt.edu/asker.js/example/asker.cgi\",\n",
    "\t\tcharter: chartmaker})\n",
    "    \n",
    "$(\".jp-InputArea .o:contains(html)\").closest('.jp-InputArea').hide();\n",
    "\n",
    "\n",
    "</script>"
   ]
  },
  {
   "cell_type": "markdown",
   "metadata": {
    "slideshow": {
     "slide_type": "slide"
    }
   },
   "source": [
    "# Keys"
   ]
  },
  {
   "cell_type": "markdown",
   "metadata": {},
   "source": [
    "The keys of a dictionary or set should be *immutable*. Examples of immutable types are numbers, strings, tuples (that contain only immutable objects) and frozensets."
   ]
  },
  {
   "cell_type": "code",
   "execution_count": 31,
   "metadata": {},
   "outputs": [],
   "source": [
    "example[(1,2)] = 'a'"
   ]
  },
  {
   "cell_type": "code",
   "execution_count": 32,
   "metadata": {},
   "outputs": [
    {
     "ename": "TypeError",
     "evalue": "unhashable type: 'list'",
     "output_type": "error",
     "traceback": [
      "\u001b[0;31m---------------------------------------------------------------------------\u001b[0m",
      "\u001b[0;31mTypeError\u001b[0m                                 Traceback (most recent call last)",
      "\u001b[0;32m<ipython-input-32-09353c6c1458>\u001b[0m in \u001b[0;36m<module>\u001b[0;34m\u001b[0m\n\u001b[0;32m----> 1\u001b[0;31m \u001b[0mexample\u001b[0m\u001b[0;34m[\u001b[0m\u001b[0;34m[\u001b[0m\u001b[0;36m1\u001b[0m\u001b[0;34m,\u001b[0m\u001b[0;36m2\u001b[0m\u001b[0;34m]\u001b[0m\u001b[0;34m]\u001b[0m \u001b[0;34m=\u001b[0m \u001b[0;34m'a'\u001b[0m\u001b[0;34m\u001b[0m\u001b[0;34m\u001b[0m\u001b[0m\n\u001b[0m",
      "\u001b[0;31mTypeError\u001b[0m: unhashable type: 'list'"
     ]
    }
   ],
   "source": [
    "example[[1,2]] = 'a'"
   ]
  },
  {
   "cell_type": "markdown",
   "metadata": {},
   "source": [
    "Dictionaries and sets efficiently store data based on the properties of the key - if the properties of the key can change, then the data structure is broken and the data is not where it should be."
   ]
  },
  {
   "cell_type": "markdown",
   "metadata": {
    "slideshow": {
     "slide_type": "slide"
    }
   },
   "source": [
    "# Efficiency"
   ]
  },
  {
   "cell_type": "markdown",
   "metadata": {},
   "source": [
    "Imagine we have two lists, `l1` and `l2`, and we want do something with the items that are in common in both lists.  Here we'll just count them."
   ]
  },
  {
   "cell_type": "code",
   "execution_count": 33,
   "metadata": {},
   "outputs": [],
   "source": [
    "def listcnt(l1, l2):\n",
    "    cnt = 0\n",
    "    for x in l1:\n",
    "            if x in l2:\n",
    "                cnt += 1\n",
    "    return cnt  "
   ]
  },
  {
   "cell_type": "code",
   "execution_count": 34,
   "metadata": {},
   "outputs": [],
   "source": [
    "def setcnt(l1, l2):\n",
    "    cnt = 0\n",
    "    s1 = set(l1)\n",
    "    s2 = set(l2)\n",
    "    for x in s1:\n",
    "            if x in s2:\n",
    "                cnt += 1\n",
    "    return cnt      "
   ]
  },
  {
   "cell_type": "markdown",
   "metadata": {},
   "source": [
    "These two functions generate the same answer *if the lists have all distinct elements*."
   ]
  },
  {
   "cell_type": "code",
   "execution_count": 35,
   "metadata": {
    "slideshow": {
     "slide_type": "slide"
    }
   },
   "outputs": [
    {
     "data": {
      "text/html": [
       "<div id=\"dictspeed\" style=\"width: 500px\"></div>\n",
       "<script>\n",
       "$('head').append('<link rel=\"stylesheet\" href=\"http://bits.csb.pitt.edu/asker.js/themes/asker.default.css\" />');\n",
       "\n",
       "    var divid = '#dictspeed';\n",
       "\tjQuery(divid).asker({\n",
       "\t    id: divid,\n",
       "\t    question: \"Which function is faster?\",\n",
       "\t\tanswers: ['listcnt, by a lot','listcnt, by a little','about the same','setcnt, by a little','setcnt, by a lot'],\n",
       "        server: \"http://bits.csb.pitt.edu/asker.js/example/asker.cgi\",\n",
       "\t\tcharter: chartmaker})\n",
       "    \n",
       "$(\".jp-InputArea .o:contains(html)\").closest('.jp-InputArea').hide();\n",
       "\n",
       "\n",
       "</script>\n"
      ],
      "text/plain": [
       "<IPython.core.display.HTML object>"
      ]
     },
     "metadata": {},
     "output_type": "display_data"
    }
   ],
   "source": [
    "%%html\n",
    "<div id=\"dictspeed\" style=\"width: 500px\"></div>\n",
    "<script>\n",
    "$('head').append('<link rel=\"stylesheet\" href=\"http://bits.csb.pitt.edu/asker.js/themes/asker.default.css\" />');\n",
    "\n",
    "    var divid = '#dictspeed';\n",
    "\tjQuery(divid).asker({\n",
    "\t    id: divid,\n",
    "\t    question: \"Which function is faster?\",\n",
    "\t\tanswers: ['listcnt, by a lot','listcnt, by a little','about the same','setcnt, by a little','setcnt, by a lot'],\n",
    "        server: \"http://bits.csb.pitt.edu/asker.js/example/asker.cgi\",\n",
    "\t\tcharter: chartmaker})\n",
    "    \n",
    "$(\".jp-InputArea .o:contains(html)\").closest('.jp-InputArea').hide();\n",
    "\n",
    "\n",
    "</script>"
   ]
  },
  {
   "cell_type": "code",
   "execution_count": 36,
   "metadata": {
    "slideshow": {
     "slide_type": "slide"
    }
   },
   "outputs": [
    {
     "name": "stdout",
     "output_type": "stream",
     "text": [
      "listcnt time:  4.077635765075684 \n",
      "setcnt time: 0.004424095153808594\n"
     ]
    }
   ],
   "source": [
    "import time\n",
    "l1 = list(range(40000))\n",
    "l2 = list(range(1000,10000))\n",
    "\n",
    "t0 = time.time()\n",
    "listcnt(l1,l2)\n",
    "t1 = time.time()\n",
    "setcnt(l1,l2)\n",
    "t2 = time.time()\n",
    "print(\"listcnt time: \",t1-t0,'\\nsetcnt time:',t2-t1)"
   ]
  },
  {
   "cell_type": "markdown",
   "metadata": {},
   "source": [
    "Can you think of another way?"
   ]
  },
  {
   "cell_type": "code",
   "execution_count": 37,
   "metadata": {
    "slideshow": {
     "slide_type": "fragment"
    }
   },
   "outputs": [
    {
     "name": "stdout",
     "output_type": "stream",
     "text": [
      "set intersection time: 0.0020401477813720703\n"
     ]
    }
   ],
   "source": [
    "t0 = time.time()\n",
    "len(set(l1) & set(l2))\n",
    "t3 = time.time()\n",
    "print(\"set intersection time:\",t3-t0)"
   ]
  },
  {
   "cell_type": "markdown",
   "metadata": {
    "slideshow": {
     "slide_type": "slide"
    }
   },
   "source": [
    "# Do not do membership testing on lists"
   ]
  },
  {
   "cell_type": "markdown",
   "metadata": {
    "slideshow": {
     "slide_type": "fragment"
    }
   },
   "source": [
    "* Lists are *ordered* by the programmer, which means Python must examine *every* element to determine (non)membership.\n",
    "* Dictionaries and sets are *unordered* so Python can store the contents in a way that makes membership testing efficient (using <a href=\"https://en.wikipedia.org/wiki/Hash_function\">hashing</a>)"
   ]
  },
  {
   "cell_type": "markdown",
   "metadata": {
    "slideshow": {
     "slide_type": "slide"
    }
   },
   "source": [
    "# Hashing \n",
    "\n",
    "The keys of sets and dictionaries must be *hashable* types.  Technically, this means they define methods `__eq__` (or `__cmp__`) and  `__hash__`.\n",
    "\n",
    "A hash function (`__hash__`) takes an arbitrary object and produces a number.  Objects that are identical (according to `__eq__` or `__cmp__`) must hash to the same hash value. \n",
    "\n",
    "### What does this get us?\n",
    "\n",
    "Accessing an element of an array of elements in memory (random access...) is as simple as computing a memory address (base of array plus offset).  This is **great** if our keys are a dense array of integers (then we have a lookup table).\n",
    "\n",
    "Hash functions provide a way to quickly index into an array of data even when are keys are arbitray objects.\n",
    "\n"
   ]
  },
  {
   "cell_type": "markdown",
   "metadata": {
    "slideshow": {
     "slide_type": "slide"
    }
   },
   "source": [
    "# Hashing\n",
    "\n",
    "<center><img  src='http://upload.wikimedia.org/wikipedia/commons/thumb/d/d0/Hash_table_5_0_1_1_1_1_1_LL.svg/450px-Hash_table_5_0_1_1_1_1_1_LL.svg.png'></center>\n",
    "\n",
    "In this figure (from Wikipedia), *collisions* are resolved through chaining.<br>\n",
    "With a good hash function and enough buckets, no chain (list) will be more than a few elements long and accessing our data will be constant time (on average).\n",
    "The position of an element in the table is determined by its hash value and the *table size*. \n",
    "\n",
    "   `position = obj.__hash__() % table_size`\n",
    "\n"
   ]
  },
  {
   "cell_type": "markdown",
   "metadata": {
    "slideshow": {
     "slide_type": "slide"
    }
   },
   "source": [
    "# Hash Functions\n",
    "\n",
    "A good hash function of an object has the following properties:\n",
    "\n",
    "*  The hash value is fully determined by the object (*deterministic*).\n",
    "*  The hash function uses all the object's data (if relevant). \n",
    "*  The hash function is *uniform* (evenly distributes keys across the range) \n",
    "\n",
    "The *range* of the hash function is usual the integers ($2^{32}$ or $2^{64}$).\n"
   ]
  },
  {
   "cell_type": "code",
   "execution_count": 38,
   "metadata": {},
   "outputs": [
    {
     "name": "stdout",
     "output_type": "stream",
     "text": [
      "3 1435080909832 -8257565457473944838 -8733718446622029835\n"
     ]
    }
   ],
   "source": [
    "print(hash(3), hash(1435080909832), hash('cat'), hash((3,'cat')))"
   ]
  },
  {
   "cell_type": "markdown",
   "metadata": {
    "slideshow": {
     "slide_type": "slide"
    }
   },
   "source": [
    "# Implementing a Hash Function\n",
    "\n",
    "You only need to implement a hash function when defining your own object types (which we haven't talked about yet...)\n",
    "\n",
    "The best (and easiest) approach is to combine the built-in hash functions on your data.  "
   ]
  },
  {
   "cell_type": "code",
   "execution_count": 39,
   "metadata": {},
   "outputs": [
    {
     "name": "stdout",
     "output_type": "stream",
     "text": [
      "-8257565457473944838\n",
      "-6226553178208338080\n",
      "1451804004006005960\n"
     ]
    }
   ],
   "source": [
    "a = 'cat'\n",
    "b = 'dog'\n",
    "print(hash(a))\n",
    "print(hash(b))\n",
    "print(hash( (a,b) ))"
   ]
  },
  {
   "cell_type": "markdown",
   "metadata": {
    "slideshow": {
     "slide_type": "slide"
    }
   },
   "source": [
    "# Takeaway\n",
    "\n",
    "`sets`, `frozensets`, and `dicts` use hashing to provide extremely efficient **membership testing** and (for `dicts`) **value lookup**. \n",
    "\n",
    "However, you **cannot** rely on the order of data in these data structures.  In fact, the order of items will change as you add and delete."
   ]
  },
  {
   "cell_type": "code",
   "execution_count": 40,
   "metadata": {
    "slideshow": {
     "slide_type": "slide"
    }
   },
   "outputs": [
    {
     "data": {
      "text/plain": [
       "{3, 999}"
      ]
     },
     "execution_count": 40,
     "metadata": {},
     "output_type": "execute_result"
    }
   ],
   "source": [
    "s = set([3,999])\n",
    "s"
   ]
  },
  {
   "cell_type": "code",
   "execution_count": 41,
   "metadata": {},
   "outputs": [],
   "source": [
    "s.add(1000)"
   ]
  },
  {
   "cell_type": "code",
   "execution_count": 42,
   "metadata": {
    "slideshow": {
     "slide_type": "fragment"
    }
   },
   "outputs": [
    {
     "name": "stdout",
     "output_type": "stream",
     "text": [
      "{1000, 3, 999}\n"
     ]
    }
   ],
   "source": [
    "print(s)\n",
    "s.update([1001,1002,1003])"
   ]
  },
  {
   "cell_type": "code",
   "execution_count": 43,
   "metadata": {
    "slideshow": {
     "slide_type": "fragment"
    }
   },
   "outputs": [
    {
     "name": "stdout",
     "output_type": "stream",
     "text": [
      "{3, 999, 1000, 1001, 1002, 1003}\n"
     ]
    }
   ],
   "source": [
    "print(s)"
   ]
  },
  {
   "cell_type": "markdown",
   "metadata": {
    "slideshow": {
     "slide_type": "slide"
    }
   },
   "source": [
    "# Function fitting\n",
    "\n",
    "`numpy.polyfit` - polynomial fitting\n",
    "\n",
    "`scipy.optimize.curve_fit` - arbitrary functions"
   ]
  },
  {
   "cell_type": "markdown",
   "metadata": {
    "slideshow": {
     "slide_type": "slide"
    }
   },
   "source": [
    "# polyfit\n",
    "\n",
    "Takes $x$ values, $y$ values, and degree of polynomial.  Returns coefficients with least squares fit (highest degree first)."
   ]
  },
  {
   "cell_type": "code",
   "execution_count": 44,
   "metadata": {},
   "outputs": [
    {
     "data": {
      "text/html": [
       "<div id=\"polydeg\" style=\"width: 500px\"></div>\n",
       "<script>\n",
       "$('head').append('<link rel=\"stylesheet\" href=\"http://bits.csb.pitt.edu/asker.js/themes/asker.default.css\" />');\n",
       "\n",
       "    var divid = '#polydeg';\n",
       "\tjQuery(divid).asker({\n",
       "\t    id: divid,\n",
       "\t    question: \"What degree is the polynomial 4x^2 + 5x - 3?\",\n",
       "\t\tanswers: ['1','2','3','4','5'],\n",
       "        server: \"http://bits.csb.pitt.edu/asker.js/example/asker.cgi\",\n",
       "\t\tcharter: chartmaker})\n",
       "    \n",
       "$(\".jp-InputArea .o:contains(html)\").closest('.jp-InputArea').hide();\n",
       "\n",
       "\n",
       "</script>\n"
      ],
      "text/plain": [
       "<IPython.core.display.HTML object>"
      ]
     },
     "metadata": {},
     "output_type": "display_data"
    }
   ],
   "source": [
    "%%html\n",
    "<div id=\"polydeg\" style=\"width: 500px\"></div>\n",
    "<script>\n",
    "$('head').append('<link rel=\"stylesheet\" href=\"http://bits.csb.pitt.edu/asker.js/themes/asker.default.css\" />');\n",
    "\n",
    "    var divid = '#polydeg';\n",
    "\tjQuery(divid).asker({\n",
    "\t    id: divid,\n",
    "\t    question: \"What degree is the polynomial 4x^2 + 5x - 3?\",\n",
    "\t\tanswers: ['1','2','3','4','5'],\n",
    "        server: \"http://bits.csb.pitt.edu/asker.js/example/asker.cgi\",\n",
    "\t\tcharter: chartmaker})\n",
    "    \n",
    "$(\".jp-InputArea .o:contains(html)\").closest('.jp-InputArea').hide();\n",
    "\n",
    "\n",
    "</script>"
   ]
  },
  {
   "cell_type": "code",
   "execution_count": 45,
   "metadata": {
    "slideshow": {
     "slide_type": "slide"
    }
   },
   "outputs": [],
   "source": [
    "import numpy as np\n",
    "xvals = np.linspace(-1,2,20) \n",
    "yvals = xvals**3 +np.random.random(20) #adds random numbers from 0 to 1 to 20 values of xvals"
   ]
  },
  {
   "cell_type": "code",
   "execution_count": 46,
   "metadata": {},
   "outputs": [
    {
     "data": {
      "image/png": "[encoded data removed]",
      "text/plain": [
       "<Figure size 432x288 with 1 Axes>"
      ]
     },
     "metadata": {
      "needs_background": "light"
     },
     "output_type": "display_data"
    }
   ],
   "source": [
    "import matplotlib.pyplot as plt\n",
    "%matplotlib inline\n",
    "plt.plot(xvals,yvals,'o');"
   ]
  },
  {
   "cell_type": "markdown",
   "metadata": {
    "slideshow": {
     "slide_type": "slide"
    }
   },
   "source": [
    "# polyfit"
   ]
  },
  {
   "cell_type": "code",
   "execution_count": 47,
   "metadata": {},
   "outputs": [],
   "source": [
    "deg1 = np.polyfit(xvals,yvals,1)\n",
    "deg2 = np.polyfit(xvals,yvals,2)\n",
    "deg3 = np.polyfit(xvals,yvals,3)"
   ]
  },
  {
   "cell_type": "code",
   "execution_count": 48,
   "metadata": {},
   "outputs": [
    {
     "data": {
      "text/plain": [
       "array([2.24860435, 0.74761374])"
      ]
     },
     "execution_count": 48,
     "metadata": {},
     "output_type": "execute_result"
    }
   ],
   "source": [
    "deg1"
   ]
  },
  {
   "cell_type": "code",
   "execution_count": 49,
   "metadata": {},
   "outputs": [
    {
     "data": {
      "text/plain": [
       "array([ 1.41331199,  0.83529236, -0.07061951])"
      ]
     },
     "execution_count": 49,
     "metadata": {},
     "output_type": "execute_result"
    }
   ],
   "source": [
    "deg2"
   ]
  },
  {
   "cell_type": "code",
   "execution_count": 50,
   "metadata": {
    "slideshow": {
     "slide_type": "slide"
    }
   },
   "outputs": [
    {
     "data": {
      "text/html": [
       "<div id=\"deg3\" style=\"width: 500px\"></div>\n",
       "<script>\n",
       "$('head').append('<link rel=\"stylesheet\" href=\"http://bits.csb.pitt.edu/asker.js/themes/asker.default.css\" />');\n",
       "\n",
       "    var divid = '#deg3';\n",
       "\tjQuery(divid).asker({\n",
       "\t    id: divid,\n",
       "\t    question: \"What is the expected value of deg3[-1]?\",\n",
       "\t\tanswers: ['-1','0','0.5','1'],\n",
       "        server: \"http://bits.csb.pitt.edu/asker.js/example/asker.cgi\",\n",
       "\t\tcharter: chartmaker})\n",
       "    \n",
       "$(\".jp-InputArea .o:contains(html)\").closest('.jp-InputArea').hide();\n",
       "\n",
       "\n",
       "</script>\n"
      ],
      "text/plain": [
       "<IPython.core.display.HTML object>"
      ]
     },
     "metadata": {},
     "output_type": "display_data"
    }
   ],
   "source": [
    "%%html\n",
    "<div id=\"deg3\" style=\"width: 500px\"></div>\n",
    "<script>\n",
    "$('head').append('<link rel=\"stylesheet\" href=\"http://bits.csb.pitt.edu/asker.js/themes/asker.default.css\" />');\n",
    "\n",
    "    var divid = '#deg3';\n",
    "\tjQuery(divid).asker({\n",
    "\t    id: divid,\n",
    "\t    question: \"What is the expected value of deg3[-1]?\",\n",
    "\t\tanswers: ['-1','0','0.5','1'],\n",
    "        server: \"http://bits.csb.pitt.edu/asker.js/example/asker.cgi\",\n",
    "\t\tcharter: chartmaker})\n",
    "    \n",
    "$(\".jp-InputArea .o:contains(html)\").closest('.jp-InputArea').hide();\n",
    "\n",
    "\n",
    "</script>"
   ]
  },
  {
   "cell_type": "code",
   "execution_count": 51,
   "metadata": {
    "slideshow": {
     "slide_type": "slide"
    }
   },
   "outputs": [
    {
     "data": {
      "text/html": [
       "<div id=\"deg3_2\" style=\"width: 500px\"></div>\n",
       "<script>\n",
       "$('head').append('<link rel=\"stylesheet\" href=\"http://bits.csb.pitt.edu/asker.js/themes/asker.default.css\" />');\n",
       "\n",
       "    var divid = '#deg3_2';\n",
       "\tjQuery(divid).asker({\n",
       "\t    id: divid,\n",
       "\t    question: \"What is the expected value of deg3[0]?\",\n",
       "\t\tanswers: ['-1','0','0.5','1'],\n",
       "        server: \"http://bits.csb.pitt.edu/asker.js/example/asker.cgi\",\n",
       "\t\tcharter: chartmaker})\n",
       "    \n",
       "$(\".jp-InputArea .o:contains(html)\").closest('.jp-InputArea').hide();\n",
       "\n",
       "\n",
       "</script>\n"
      ],
      "text/plain": [
       "<IPython.core.display.HTML object>"
      ]
     },
     "metadata": {},
     "output_type": "display_data"
    }
   ],
   "source": [
    "%%html\n",
    "<div id=\"deg3_2\" style=\"width: 500px\"></div>\n",
    "<script>\n",
    "$('head').append('<link rel=\"stylesheet\" href=\"http://bits.csb.pitt.edu/asker.js/themes/asker.default.css\" />');\n",
    "\n",
    "    var divid = '#deg3_2';\n",
    "\tjQuery(divid).asker({\n",
    "\t    id: divid,\n",
    "\t    question: \"What is the expected value of deg3[0]?\",\n",
    "\t\tanswers: ['-1','0','0.5','1'],\n",
    "        server: \"http://bits.csb.pitt.edu/asker.js/example/asker.cgi\",\n",
    "\t\tcharter: chartmaker})\n",
    "    \n",
    "$(\".jp-InputArea .o:contains(html)\").closest('.jp-InputArea').hide();\n",
    "\n",
    "\n",
    "</script>"
   ]
  },
  {
   "cell_type": "code",
   "execution_count": 52,
   "metadata": {
    "slideshow": {
     "slide_type": "slide"
    }
   },
   "outputs": [
    {
     "data": {
      "text/plain": [
       "array([ 0.96709705, -0.03733359,  0.12242663,  0.52758761])"
      ]
     },
     "execution_count": 52,
     "metadata": {},
     "output_type": "execute_result"
    }
   ],
   "source": [
    "deg3"
   ]
  },
  {
   "cell_type": "code",
   "execution_count": 53,
   "metadata": {},
   "outputs": [
    {
     "data": {
      "text/plain": [
       "0.5275876115133333"
      ]
     },
     "execution_count": 53,
     "metadata": {},
     "output_type": "execute_result"
    }
   ],
   "source": [
    "deg3[-1]"
   ]
  },
  {
   "cell_type": "markdown",
   "metadata": {
    "slideshow": {
     "slide_type": "slide"
    }
   },
   "source": [
    "# poly1d\n",
    "\n",
    "Construct a polynomial function from coefficients"
   ]
  },
  {
   "cell_type": "code",
   "execution_count": 54,
   "metadata": {},
   "outputs": [
    {
     "data": {
      "text/plain": [
       "(5.244822435483533, 7.253213157046696, 8.359882943143173)"
      ]
     },
     "execution_count": 54,
     "metadata": {},
     "output_type": "execute_result"
    }
   ],
   "source": [
    "p1 = np.poly1d(deg1)\n",
    "p2 = np.poly1d(deg2)\n",
    "p3 = np.poly1d(deg3)\n",
    "p1(2),p2(2),p3(2)"
   ]
  },
  {
   "cell_type": "code",
   "execution_count": 55,
   "metadata": {},
   "outputs": [
    {
     "data": {
      "text/plain": [
       "(0.7476137436937703, -0.0706195132393695, 0.5275876115133333)"
      ]
     },
     "execution_count": 55,
     "metadata": {},
     "output_type": "execute_result"
    }
   ],
   "source": [
    "p1(0),p2(0),p3(0)"
   ]
  },
  {
   "cell_type": "code",
   "execution_count": 56,
   "metadata": {
    "slideshow": {
     "slide_type": "slide"
    }
   },
   "outputs": [
    {
     "data": {
      "image/png": "[encoded data removed]",
      "text/plain": [
       "<Figure size 432x288 with 1 Axes>"
      ]
     },
     "metadata": {
      "needs_background": "light"
     },
     "output_type": "display_data"
    }
   ],
   "source": [
    "plt.plot(xvals,yvals,'o',xvals,p1(xvals),'-',xvals,p2(xvals),'-',xvals,p3(xvals),'-'); "
   ]
  },
  {
   "cell_type": "markdown",
   "metadata": {
    "slideshow": {
     "slide_type": "slide"
    }
   },
   "source": [
    "# scipy.optimize.curve_fit\n",
    "\n",
    "Optimize fit to an arbitrary function.  Returns optimal values (for least squares) of parameters along with covariance estimate.  \n",
    "\n",
    "Provide python function that takes *x* value and any parameters."
   ]
  },
  {
   "cell_type": "code",
   "execution_count": 57,
   "metadata": {},
   "outputs": [
    {
     "data": {
      "text/plain": [
       "array([0.32402799, 3.50165788])"
      ]
     },
     "execution_count": 57,
     "metadata": {},
     "output_type": "execute_result"
    }
   ],
   "source": [
    "from scipy.optimize import curve_fit\n",
    "\n",
    "def tanh(x,a,b):\n",
    "    return b*np.tanh(a+x)\n",
    "\n",
    "popt,pconv = curve_fit(tanh, xvals, yvals)\n",
    "popt"
   ]
  },
  {
   "cell_type": "code",
   "execution_count": 58,
   "metadata": {
    "slideshow": {
     "slide_type": "slide"
    }
   },
   "outputs": [
    {
     "data": {
      "image/png": "[encoded data removed]",
      "text/plain": [
       "<Figure size 432x288 with 1 Axes>"
      ]
     },
     "metadata": {
      "needs_background": "light"
     },
     "output_type": "display_data"
    }
   ],
   "source": [
    "plt.plot(xvals,yvals,'o',xvals,popt[1]*np.tanh(popt[0]+xvals)); plt.show()"
   ]
  },
  {
   "cell_type": "markdown",
   "metadata": {
    "slideshow": {
     "slide_type": "slide"
    }
   },
   "source": [
    "# Let's Analyze Data!\n"
   ]
  },
  {
   "cell_type": "code",
   "execution_count": 59,
   "metadata": {},
   "outputs": [
    {
     "name": "stdout",
     "output_type": "stream",
     "text": [
      "--2021-09-20 20:35:40--  https://asinansaglam.github.io/python_bio_2022/files/kd\n",
      "Resolving mscbio2025.csb.pitt.edu (mscbio2025.csb.pitt.edu)... 136.142.4.139\n",
      "Connecting to mscbio2025.csb.pitt.edu (mscbio2025.csb.pitt.edu)|136.142.4.139|:80... connected.\n",
      "HTTP request sent, awaiting response... 200 OK\n",
      "Length: 5262 (5.1K)\n",
      "Saving to: ‘kd’\n",
      "\n",
      "kd                  100%[===================>]   5.14K  --.-KB/s    in 0.04s   \n",
      "\n",
      "2021-09-20 20:35:41 (121 KB/s) - ‘kd’ saved [5262/5262]\n",
      "\n",
      "--2021-09-20 20:35:41--  https://asinansaglam.github.io/python_bio_2022/files/aff.min\n",
      "Resolving mscbio2025.csb.pitt.edu (mscbio2025.csb.pitt.edu)... 136.142.4.139\n",
      "Connecting to mscbio2025.csb.pitt.edu (mscbio2025.csb.pitt.edu)|136.142.4.139|:80... connected.\n",
      "HTTP request sent, awaiting response... 200 OK\n",
      "Length: 5678 (5.5K)\n",
      "Saving to: ‘aff.min’\n",
      "\n",
      "aff.min             100%[===================>]   5.54K  --.-KB/s    in 0.04s   \n",
      "\n",
      "2021-09-20 20:35:41 (143 KB/s) - ‘aff.min’ saved [5678/5678]\n",
      "\n",
      "--2021-09-20 20:35:41--  https://asinansaglam.github.io/python_bio_2022/files/aff.score\n",
      "Resolving mscbio2025.csb.pitt.edu (mscbio2025.csb.pitt.edu)... 136.142.4.139\n",
      "Connecting to mscbio2025.csb.pitt.edu (mscbio2025.csb.pitt.edu)|136.142.4.139|:80... connected.\n",
      "HTTP request sent, awaiting response... 200 OK\n",
      "Length: 5659 (5.5K)\n",
      "Saving to: ‘aff.score’\n",
      "\n",
      "aff.score           100%[===================>]   5.53K  --.-KB/s    in 0.05s   \n",
      "\n",
      "2021-09-20 20:35:41 (112 KB/s) - ‘aff.score’ saved [5659/5659]\n",
      "\n"
     ]
    }
   ],
   "source": [
    "!wget https://asinansaglam.github.io/python_bio_2022/files/kd\n",
    "!wget https://asinansaglam.github.io/python_bio_2022/files/aff.min\n",
    "!wget https://asinansaglam.github.io/python_bio_2022/files/aff.score"
   ]
  },
  {
   "cell_type": "code",
   "execution_count": 60,
   "metadata": {},
   "outputs": [
    {
     "name": "stdout",
     "output_type": "stream",
     "text": [
      "set1_1  3.34 \r\n",
      "set1_100  6.3 \r\n",
      "set1_102  8.62 \r\n",
      "set1_103  6.44 \r\n",
      "set1_104  -0.15 \r\n",
      "set1_105  8.48 \r\n",
      "set1_106  7.01 \r\n",
      "set1_107  4.61 \r\n",
      "set1_108  7.55 \r\n",
      "set1_109  7.96 \r\n"
     ]
    }
   ],
   "source": [
    "!head kd"
   ]
  },
  {
   "cell_type": "markdown",
   "metadata": {},
   "source": [
    "`kd` contains experimental values while `aff.min` and `aff.score` contain computational predictions of the experimental values.  Each line has a name and value.\n",
    "\n",
    "How good are the predictions?"
   ]
  },
  {
   "cell_type": "markdown",
   "metadata": {
    "slideshow": {
     "slide_type": "slide"
    }
   },
   "source": [
    "## How do we want to load and store the data?\n",
    "\n",
    "The rows of the provided files are **not** in the same order.\n",
    "\n",
    "We only care about points that are in **all three files**.\n",
    "\n",
    "**Hint:** use dictionary to associate names with values."
   ]
  },
  {
   "cell_type": "code",
   "execution_count": 61,
   "metadata": {
    "slideshow": {
     "slide_type": "subslide"
    }
   },
   "outputs": [],
   "source": [
    "import numpy as np\n",
    "\n",
    "def makedict(fname):\n",
    "    f = open(fname)\n",
    "    retdict = {}\n",
    "    for line in f:\n",
    "        (name,value) = line.split()\n",
    "        retdict[name] = float(value)\n",
    "    return retdict\n",
    "\n",
    "kdvalues = makedict('kd')\n",
    "scorevalues = makedict('aff.score')\n",
    "minvalues = makedict('aff.min')\n",
    "\n",
    "names = []\n",
    "kdlist = []\n",
    "scorelist = []\n",
    "minlist = []\n",
    "for name in sorted(kdvalues.keys()):\n",
    "    if name in scorevalues and name in minvalues:\n",
    "        names.append(name)\n",
    "        kdlist.append(kdvalues[name])\n",
    "        scorelist.append(scorevalues[name])\n",
    "        minlist.append(minvalues[name])\n",
    "        \n",
    "kds = np.array(kdlist)\n",
    "scores = np.array(scorelist)\n",
    "mins = np.array(minlist)"
   ]
  },
  {
   "cell_type": "markdown",
   "metadata": {
    "slideshow": {
     "slide_type": "slide"
    }
   },
   "source": [
    "# How do we want to visualize the data?\n",
    "\n",
    "Plot experiment value vs. predicted values (two series, scatterplot)."
   ]
  },
  {
   "cell_type": "code",
   "execution_count": 62,
   "metadata": {
    "slideshow": {
     "slide_type": "slide"
    }
   },
   "outputs": [
    {
     "data": {
      "image/png": "[encoded data removed]",
      "text/plain": [
       "<Figure size 432x288 with 1 Axes>"
      ]
     },
     "metadata": {
      "needs_background": "light"
     },
     "output_type": "display_data"
    }
   ],
   "source": [
    "%matplotlib inline\n",
    "import matplotlib.pylab as plt\n",
    "plt.plot(kds,scores,'o',alpha=0.5,label='score')\n",
    "plt.plot(kds,mins,'o',alpha=0.5,label='min')\n",
    "plt.legend(numpoints=1)\n",
    "plt.xlim(0,18)\n",
    "plt.ylim(0,18)\n",
    "plt.xlabel('Experiment')\n",
    "plt.ylabel('Prediction')\n",
    "plt.gca().set_aspect('equal')\n",
    "plt.show()"
   ]
  },
  {
   "cell_type": "markdown",
   "metadata": {
    "slideshow": {
     "slide_type": "slide"
    }
   },
   "source": [
    "# Aside: Visualizing dense 2D distributions\n",
    "\n",
    "`seaborn` - extends `matplotlib` to make some hard things easy"
   ]
  },
  {
   "cell_type": "code",
   "execution_count": 65,
   "metadata": {},
   "outputs": [
    {
     "name": "stderr",
     "output_type": "stream",
     "text": [
      "/Library/Python/3.8/site-packages/seaborn/_decorators.py:36: FutureWarning: Pass the following variables as keyword args: x, y. From version 0.12, the only valid positional argument will be `data`, and passing other arguments without an explicit keyword will result in an error or misinterpretation.\n",
      "  warnings.warn(\n"
     ]
    },
    {
     "data": {
      "image/png": "[encoded data removed]",
      "text/plain": [
       "<Figure size 432x432 with 3 Axes>"
      ]
     },
     "metadata": {
      "needs_background": "light"
     },
     "output_type": "display_data"
    }
   ],
   "source": [
    "import seaborn as sns  # package that sits on top of \n",
    "sns.jointplot(kds,scores);"
   ]
  },
  {
   "cell_type": "code",
   "execution_count": 66,
   "metadata": {
    "slideshow": {
     "slide_type": "slide"
    }
   },
   "outputs": [
    {
     "name": "stderr",
     "output_type": "stream",
     "text": [
      "/Library/Python/3.8/site-packages/seaborn/_decorators.py:36: FutureWarning: Pass the following variables as keyword args: x, y. From version 0.12, the only valid positional argument will be `data`, and passing other arguments without an explicit keyword will result in an error or misinterpretation.\n",
      "  warnings.warn(\n"
     ]
    },
    {
     "data": {
      "image/png": "[encoded data removed]",
      "text/plain": [
       "<Figure size 432x432 with 3 Axes>"
      ]
     },
     "metadata": {
      "needs_background": "light"
     },
     "output_type": "display_data"
    }
   ],
   "source": [
    "sns.jointplot(kds,scores,kind='hex');"
   ]
  },
  {
   "cell_type": "code",
   "execution_count": 68,
   "metadata": {
    "slideshow": {
     "slide_type": "slide"
    }
   },
   "outputs": [
    {
     "name": "stderr",
     "output_type": "stream",
     "text": [
      "/Library/Python/3.8/site-packages/seaborn/_decorators.py:36: FutureWarning: Pass the following variables as keyword args: x, y. From version 0.12, the only valid positional argument will be `data`, and passing other arguments without an explicit keyword will result in an error or misinterpretation.\n",
      "  warnings.warn(\n"
     ]
    },
    {
     "data": {
      "image/png": "[encoded data removed]",
      "text/plain": [
       "<Figure size 432x432 with 3 Axes>"
      ]
     },
     "metadata": {
      "needs_background": "light"
     },
     "output_type": "display_data"
    }
   ],
   "source": [
    "sns.jointplot(kds,scores,kind='kde');"
   ]
  },
  {
   "cell_type": "markdown",
   "metadata": {
    "slideshow": {
     "slide_type": "slide"
    }
   },
   "source": [
    "# What is the error?\n",
    "\n",
    "Average absolute? Mean squared?"
   ]
  },
  {
   "cell_type": "code",
   "execution_count": 69,
   "metadata": {
    "slideshow": {
     "slide_type": "slide"
    }
   },
   "outputs": [
    {
     "name": "stdout",
     "output_type": "stream",
     "text": [
      "Scores absolute average error: 2.3590879883381928\n",
      "Mins absolute average error: 2.682967900874636\n"
     ]
    }
   ],
   "source": [
    "print(\"Scores absolute average error:\",np.mean(np.abs(scores-kds)))\n",
    "print(\"Mins absolute average error:\",np.mean(np.abs(mins-kds)))"
   ]
  },
  {
   "cell_type": "code",
   "execution_count": 70,
   "metadata": {
    "slideshow": {
     "slide_type": "-"
    }
   },
   "outputs": [
    {
     "name": "stdout",
     "output_type": "stream",
     "text": [
      "Scores Mean squared error: 8.165401751357434\n",
      "Mins Mean squared error: 10.058501106196793\n"
     ]
    }
   ],
   "source": [
    "print(\"Scores Mean squared error:\",np.mean(np.square(scores-kds)))\n",
    "print(\"Mins Mean squared error:\",np.mean(np.square(mins-kds)))"
   ]
  },
  {
   "cell_type": "code",
   "execution_count": 71,
   "metadata": {
    "slideshow": {
     "slide_type": "slide"
    }
   },
   "outputs": [
    {
     "data": {
      "image/png": "[encoded data removed]",
      "text/plain": [
       "<Figure size 432x288 with 1 Axes>"
      ]
     },
     "metadata": {
      "needs_background": "light"
     },
     "output_type": "display_data"
    }
   ],
   "source": [
    "plt.hist(np.square(kds-mins),25,(0,25),density=True)\n",
    "plt.show()"
   ]
  },
  {
   "cell_type": "code",
   "execution_count": 72,
   "metadata": {
    "slideshow": {
     "slide_type": "-"
    }
   },
   "outputs": [
    {
     "name": "stdout",
     "output_type": "stream",
     "text": [
      "Average experimental value 6.154081632653062\n",
      "Error of predicting the average 4.956176343190337\n"
     ]
    }
   ],
   "source": [
    "ave = np.mean(kds)\n",
    "print(\"Average experimental value\",ave)\n",
    "print(\"Error of predicting the average\",np.mean(np.square(kds-ave)))"
   ]
  },
  {
   "cell_type": "markdown",
   "metadata": {
    "slideshow": {
     "slide_type": "slide"
    }
   },
   "source": [
    "# Do the predictions correlate with the observed values?\n",
    "\n",
    "Compute correlations: np.corrcoef, scipy.stats.pearsonr, scipy.stats.spearmanr, scipy.stats.kendalltau"
   ]
  },
  {
   "cell_type": "code",
   "execution_count": 73,
   "metadata": {
    "slideshow": {
     "slide_type": "slide"
    }
   },
   "outputs": [
    {
     "data": {
      "text/plain": [
       "array([[1.        , 0.58006564],\n",
       "       [0.58006564, 1.        ]])"
      ]
     },
     "execution_count": 73,
     "metadata": {},
     "output_type": "execute_result"
    }
   ],
   "source": [
    "np.corrcoef(kds,scores)"
   ]
  },
  {
   "cell_type": "code",
   "execution_count": 74,
   "metadata": {
    "slideshow": {
     "slide_type": "-"
    }
   },
   "outputs": [
    {
     "data": {
      "text/plain": [
       "array([[1.        , 0.59026701],\n",
       "       [0.59026701, 1.        ]])"
      ]
     },
     "execution_count": 74,
     "metadata": {},
     "output_type": "execute_result"
    }
   ],
   "source": [
    "np.corrcoef(kds,mins)"
   ]
  },
  {
   "cell_type": "code",
   "execution_count": 75,
   "metadata": {
    "slideshow": {
     "slide_type": "-"
    }
   },
   "outputs": [
    {
     "data": {
      "text/plain": [
       "(0.5800656427326171, 3.1321668954861346e-32)"
      ]
     },
     "execution_count": 75,
     "metadata": {},
     "output_type": "execute_result"
    }
   ],
   "source": [
    "import scipy.stats as stats\n",
    "stats.pearsonr(kds,scores)"
   ]
  },
  {
   "cell_type": "code",
   "execution_count": 76,
   "metadata": {
    "slideshow": {
     "slide_type": "-"
    }
   },
   "outputs": [
    {
     "data": {
      "text/plain": [
       "SpearmanrResult(correlation=0.5843897097494348, pvalue=8.484372310278012e-33)"
      ]
     },
     "execution_count": 76,
     "metadata": {},
     "output_type": "execute_result"
    }
   ],
   "source": [
    "stats.spearmanr(kds,scores)"
   ]
  },
  {
   "cell_type": "code",
   "execution_count": 77,
   "metadata": {
    "slideshow": {
     "slide_type": "-"
    }
   },
   "outputs": [
    {
     "data": {
      "text/plain": [
       "KendalltauResult(correlation=0.4128988002305019, pvalue=4.122713715359224e-30)"
      ]
     },
     "execution_count": 77,
     "metadata": {},
     "output_type": "execute_result"
    }
   ],
   "source": [
    "stats.kendalltau(kds,scores)"
   ]
  },
  {
   "cell_type": "markdown",
   "metadata": {
    "slideshow": {
     "slide_type": "slide"
    }
   },
   "source": [
    "# What is the linear relationship?"
   ]
  },
  {
   "cell_type": "code",
   "execution_count": 78,
   "metadata": {
    "slideshow": {
     "slide_type": "slide"
    }
   },
   "outputs": [
    {
     "data": {
      "text/plain": [
       "array([0.62828046, 4.19091432])"
      ]
     },
     "execution_count": 78,
     "metadata": {},
     "output_type": "execute_result"
    }
   ],
   "source": [
    "fit = np.polyfit(kds,scores,1)\n",
    "fit"
   ]
  },
  {
   "cell_type": "code",
   "execution_count": 79,
   "metadata": {
    "slideshow": {
     "slide_type": "-"
    }
   },
   "outputs": [
    {
     "data": {
      "text/plain": [
       "6.075755700166205"
      ]
     },
     "execution_count": 79,
     "metadata": {},
     "output_type": "execute_result"
    }
   ],
   "source": [
    "line = np.poly1d(fit) #converts coefficients into function\n",
    "line(3)"
   ]
  },
  {
   "cell_type": "code",
   "execution_count": 80,
   "metadata": {
    "slideshow": {
     "slide_type": "slide"
    }
   },
   "outputs": [
    {
     "data": {
      "image/png": "[encoded data removed]",
      "text/plain": [
       "<Figure size 432x288 with 1 Axes>"
      ]
     },
     "metadata": {
      "needs_background": "light"
     },
     "output_type": "display_data"
    }
   ],
   "source": [
    "xpoints = np.linspace(0,18,100) #make 100 xcoords\n",
    "plt.plot(kds,scores,'o',alpha=0.5,label='score')\n",
    "plt.plot(kds,mins,'o',alpha=0.5,label='min')\n",
    "plt.xlim(0,18)\n",
    "plt.ylim(0,18)\n",
    "plt.xlabel('Experiment')\n",
    "plt.ylabel('Prediction')\n",
    "plt.gca().set_aspect('equal')\n",
    "\n",
    "plt.plot(xpoints,xpoints,'k')\n",
    "plt.plot(xpoints,line(xpoints),label=\"fit\",linewidth=2)\n",
    "plt.legend(loc='lower right')\n",
    "plt.show()"
   ]
  },
  {
   "cell_type": "markdown",
   "metadata": {
    "slideshow": {
     "slide_type": "slide"
    }
   },
   "source": [
    "# What happens if we rescale the predictions?\n",
    "\n",
    "Apply the linear fit to the predicted values."
   ]
  },
  {
   "cell_type": "code",
   "execution_count": 81,
   "metadata": {
    "slideshow": {
     "slide_type": "slide"
    }
   },
   "outputs": [
    {
     "name": "stdout",
     "output_type": "stream",
     "text": [
      "Fit: [0.53555088 1.83893211]\n",
      "Scores Mean squared error: 8.165401751357434\n",
      "Fit Scores Mean squared error: 3.2885412091132413\n"
     ]
    }
   ],
   "source": [
    "f2 = np.polyfit(scores,kds,1)\n",
    "print(\"Fit:\",f2)\n",
    "fscores = scores*f2[0]+f2[1]\n",
    "print(\"Scores Mean squared error:\",np.mean(np.square(scores-kds)))\n",
    "print(\"Fit Scores Mean squared error:\",np.mean(np.square(fscores-kds)))"
   ]
  },
  {
   "cell_type": "code",
   "execution_count": 82,
   "metadata": {
    "slideshow": {
     "slide_type": "slide"
    }
   },
   "outputs": [
    {
     "data": {
      "image/png": "[encoded data removed]",
      "text/plain": [
       "<Figure size 432x288 with 1 Axes>"
      ]
     },
     "metadata": {
      "needs_background": "light"
     },
     "output_type": "display_data"
    }
   ],
   "source": [
    "plt.plot(kds,scores,'o',alpha=0.5,label='score')\n",
    "plt.plot(kds,fscores,'o',alpha=0.5,label='fit')\n",
    "plt.xlim(0,18)\n",
    "plt.ylim(0,18)\n",
    "plt.xlabel('Experiment')\n",
    "plt.ylabel('Prediction')\n",
    "plt.gca().set_aspect('equal')\n",
    "\n",
    "plt.plot(xpoints,xpoints)\n",
    "plt.legend(loc='lower right')\n",
    "plt.show()"
   ]
  },
  {
   "cell_type": "code",
   "execution_count": 83,
   "metadata": {
    "slideshow": {
     "slide_type": "-"
    }
   },
   "outputs": [
    {
     "data": {
      "text/plain": [
       "(0.5800656427326171, 3.1321668954861346e-32)"
      ]
     },
     "execution_count": 83,
     "metadata": {},
     "output_type": "execute_result"
    }
   ],
   "source": [
    "stats.pearsonr(kds,fscores)"
   ]
  }
 ],
 "metadata": {
  "celltoolbar": "Slideshow",
  "kernelspec": {
   "display_name": "Python 3",
   "language": "python",
   "name": "python3"
  },
  "language_info": {
   "codemirror_mode": {
    "name": "ipython",
    "version": 3
   },
   "file_extension": ".py",
   "mimetype": "text/x-python",
   "name": "python",
   "nbconvert_exporter": "python",
   "pygments_lexer": "ipython3",
   "version": "3.8.2"
  }
 },
 "nbformat": 4,
 "nbformat_minor": 1
}
