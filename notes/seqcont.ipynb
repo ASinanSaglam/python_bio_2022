{
 "cells": [
  {
   "cell_type": "markdown",
   "metadata": {
    "slideshow": {
     "slide_type": "slide"
    }
   },
   "source": [
    "# Biopython continued\n",
    "## 9/27/2021\n",
    "<a href=\"?print-pdf\">print view</a>"
   ]
  },
  {
   "cell_type": "code",
   "execution_count": 2,
   "metadata": {},
   "outputs": [
    {
     "data": {
      "text/html": [
       "\n",
       "<script src=\"http://bits.csb.pitt.edu/asker.js/lib/asker.js\"></script>\n",
       "\n",
       "<script>\n",
       "\n",
       "require(['https://cdnjs.cloudflare.com/ajax/libs/Chart.js/2.2.2/Chart.js'], function(Ch){\n",
       " Chart = Ch;\n",
       "});\n",
       "\n",
       "$('head').append('<link rel=\"stylesheet\" href=\"http://bits.csb.pitt.edu/asker.js/themes/asker.default.css\" />');\n",
       "\n",
       "\n",
       "//the callback is provided a canvas object and data \n",
       "var chartmaker = function(canvas, labels, data) {\n",
       "  var ctx = $(canvas).get(0).getContext(\"2d\");\n",
       "     var dataset = {labels: labels,                     \n",
       "    datasets:[{\n",
       "     data: data,\n",
       "     backgroundColor: \"rgba(150,64,150,0.5)\",\n",
       "         fillColor: \"rgba(150,64,150,0.8)\",    \n",
       "  }]};\n",
       "  var myBarChart = new Chart(ctx,{type:'bar',data:dataset,options:{legend: {display:false},scales:{yAxes:[{ticks:{min: 0}}]}}});\n",
       "\n",
       "};\n",
       "\n",
       "$(\".jp-InputArea .o:contains(html)\").closest('.jp-InputArea').hide();\n",
       "\n",
       "\n",
       "\n",
       "</script>\n"
      ],
      "text/plain": [
       "<IPython.core.display.HTML object>"
      ]
     },
     "metadata": {},
     "output_type": "display_data"
    }
   ],
   "source": [
    "%%html\n",
    "\n",
    "<script src=\"http://bits.csb.pitt.edu/asker.js/lib/asker.js\"></script>\n",
    "\n",
    "<script>\n",
    "\n",
    "require(['https://cdnjs.cloudflare.com/ajax/libs/Chart.js/2.2.2/Chart.js'], function(Ch){\n",
    " Chart = Ch;\n",
    "});\n",
    "\n",
    "$('head').append('<link rel=\"stylesheet\" href=\"http://bits.csb.pitt.edu/asker.js/themes/asker.default.css\" />');\n",
    "\n",
    "\n",
    "//the callback is provided a canvas object and data \n",
    "var chartmaker = function(canvas, labels, data) {\n",
    "  var ctx = $(canvas).get(0).getContext(\"2d\");\n",
    "     var dataset = {labels: labels,                     \n",
    "    datasets:[{\n",
    "     data: data,\n",
    "     backgroundColor: \"rgba(150,64,150,0.5)\",\n",
    "         fillColor: \"rgba(150,64,150,0.8)\",    \n",
    "  }]};\n",
    "  var myBarChart = new Chart(ctx,{type:'bar',data:dataset,options:{legend: {display:false},scales:{yAxes:[{ticks:{min: 0}}]}}});\n",
    "\n",
    "};\n",
    "\n",
    "$(\".jp-InputArea .o:contains(html)\").closest('.jp-InputArea').hide();\n",
    "\n",
    "\n",
    "\n",
    "</script>"
   ]
  },
  {
   "cell_type": "markdown",
   "metadata": {
    "slideshow": {
     "slide_type": "slide"
    }
   },
   "source": [
    "# Sequence Project\n",
    "\n",
    "https://asinansaglam.github.io/python_bio_2022/files/hydra179.aln\n",
    "\n",
    "Identify the region of this gene with the most variation.\n",
    "\n",
    "1. For each position, identify and plot the number of unique residues\n",
    "2. For each position, identify and plot the number of unique subsequences of length 10"
   ]
  },
  {
   "cell_type": "code",
   "execution_count": 3,
   "metadata": {
    "slideshow": {
     "slide_type": "slide"
    }
   },
   "outputs": [
    {
     "data": {
      "image/png": "[encoded data removed]",
      "text/plain": [
       "<Figure size 432x288 with 1 Axes>"
      ]
     },
     "metadata": {
      "needs_background": "light"
     },
     "output_type": "display_data"
    }
   ],
   "source": [
    "import matplotlib.pyplot as plt\n",
    "from Bio import AlignIO\n",
    "\n",
    "def countatpos(seqs,pos):\n",
    "    '''count the number of unique subsequences of length 10 at pos in seqs'''\n",
    "    vals = set()\n",
    "    for s in seqs:\n",
    "        vals.add(str(s[pos:pos+10].seq))\n",
    "    return len(vals)\n",
    "\n",
    "seqs = AlignIO.read(\"../files/hydra179.aln\",'clustal');\n",
    "\n",
    "xaxis = list()\n",
    "yaxis = list()\n",
    "for i in range(seqs.get_alignment_length()):\n",
    "    xaxis.append(i)\n",
    "    yaxis.append(countatpos(seqs,i))\n",
    "\n",
    "plt.bar(xaxis,yaxis,width=1);"
   ]
  },
  {
   "cell_type": "markdown",
   "metadata": {
    "slideshow": {
     "slide_type": "slide"
    }
   },
   "source": [
    "<img src=\"imgs/sequence_project/sequence_project.011.png\">"
   ]
  },
  {
   "cell_type": "markdown",
   "metadata": {
    "slideshow": {
     "slide_type": "slide"
    }
   },
   "source": [
    "# A bit more python... list comprehensions\n",
    "\n",
    "A concise way to create lists\n",
    "\n",
    "`[ <expr of var> for <var> in <iterable> if <condition> ]`"
   ]
  },
  {
   "cell_type": "code",
   "execution_count": 4,
   "metadata": {},
   "outputs": [
    {
     "data": {
      "text/plain": [
       "[0, 2, 4, 6, 8]"
      ]
     },
     "execution_count": 4,
     "metadata": {},
     "output_type": "execute_result"
    }
   ],
   "source": [
    "[x for x in range(10) if x % 2 == 0]"
   ]
  },
  {
   "cell_type": "markdown",
   "metadata": {
    "slideshow": {
     "slide_type": "slide"
    }
   },
   "source": [
    "# Three ways to do the same thing"
   ]
  },
  {
   "cell_type": "code",
   "execution_count": 5,
   "metadata": {},
   "outputs": [
    {
     "data": {
      "text/plain": [
       "[0, 1, 4, 9, 16, 25, 36, 49, 64, 81]"
      ]
     },
     "execution_count": 5,
     "metadata": {},
     "output_type": "execute_result"
    }
   ],
   "source": [
    "squares = [x**2 for x in range(10)]\n",
    "squares"
   ]
  },
  {
   "cell_type": "code",
   "execution_count": 6,
   "metadata": {},
   "outputs": [
    {
     "data": {
      "text/plain": [
       "[0, 1, 4, 9, 16, 25, 36, 49, 64, 81]"
      ]
     },
     "execution_count": 6,
     "metadata": {},
     "output_type": "execute_result"
    }
   ],
   "source": [
    "squares = []\n",
    "for x in range(10):\n",
    "    squares.append(x**2)\n",
    "squares"
   ]
  },
  {
   "cell_type": "code",
   "execution_count": 7,
   "metadata": {},
   "outputs": [
    {
     "data": {
      "text/plain": [
       "[0, 1, 4, 9, 16, 25, 36, 49, 64, 81]"
      ]
     },
     "execution_count": 7,
     "metadata": {},
     "output_type": "execute_result"
    }
   ],
   "source": [
    "squares = list(map(lambda x: x**2, range(10)))\n",
    "squares"
   ]
  },
  {
   "cell_type": "markdown",
   "metadata": {
    "slideshow": {
     "slide_type": "slide"
    }
   },
   "source": [
    "# Other comprehensions\n"
   ]
  },
  {
   "cell_type": "code",
   "execution_count": 8,
   "metadata": {},
   "outputs": [
    {
     "data": {
      "text/plain": [
       "[(0, 'A'), (1, 'B'), (2, 'C'), (3, 'D')]"
      ]
     },
     "execution_count": 8,
     "metadata": {},
     "output_type": "execute_result"
    }
   ],
   "source": [
    "list(enumerate('ABCD')) #enumerate returns tuples of index,value"
   ]
  },
  {
   "cell_type": "markdown",
   "metadata": {},
   "source": [
    "### Dictionary comprehension"
   ]
  },
  {
   "cell_type": "code",
   "execution_count": 9,
   "metadata": {},
   "outputs": [
    {
     "data": {
      "text/plain": [
       "{0: 'A', 3: 'D'}"
      ]
     },
     "execution_count": 9,
     "metadata": {},
     "output_type": "execute_result"
    }
   ],
   "source": [
    "{key: val for key, val in enumerate('ABCD') if val not in 'CB'}"
   ]
  },
  {
   "cell_type": "markdown",
   "metadata": {},
   "source": [
    "### Set comprehension"
   ]
  },
  {
   "cell_type": "code",
   "execution_count": 10,
   "metadata": {},
   "outputs": [
    {
     "data": {
      "text/plain": [
       "{'A', 'D'}"
      ]
     },
     "execution_count": 10,
     "metadata": {},
     "output_type": "execute_result"
    }
   ],
   "source": [
    "{v for v in 'ABCDABCD' if v not in 'CB'}"
   ]
  },
  {
   "cell_type": "markdown",
   "metadata": {
    "slideshow": {
     "slide_type": "slide"
    }
   },
   "source": [
    "# Should you use comprehensions?\n",
    "\n",
    "Sure, if the result is short and easy to understand\n",
    "\n",
    "But don't go out of your way to use them - they can get ugly fast"
   ]
  },
  {
   "cell_type": "code",
   "execution_count": 11,
   "metadata": {
    "slideshow": {
     "slide_type": "slide"
    }
   },
   "outputs": [
    {
     "ename": "FileNotFoundError",
     "evalue": "[Errno 2] No such file or directory: 'file'",
     "output_type": "error",
     "traceback": [
      "\u001b[0;31m---------------------------------------------------------------------------\u001b[0m",
      "\u001b[0;31mFileNotFoundError\u001b[0m                         Traceback (most recent call last)",
      "\u001b[0;32m/var/folders/c_/pwm7n7_174724g8zkkqlpr3m0000gn/T/ipykernel_8616/1666820394.py\u001b[0m in \u001b[0;36m<module>\u001b[0;34m\u001b[0m\n\u001b[0;32m----> 1\u001b[0;31m \u001b[0mresult\u001b[0m \u001b[0;34m=\u001b[0m \u001b[0;34m[\u001b[0m\u001b[0mline\u001b[0m\u001b[0;34m.\u001b[0m\u001b[0mstrip\u001b[0m\u001b[0;34m(\u001b[0m\u001b[0;34m)\u001b[0m\u001b[0;34m.\u001b[0m\u001b[0msplit\u001b[0m\u001b[0;34m(\u001b[0m\u001b[0;34m\"\\t\"\u001b[0m\u001b[0;34m)\u001b[0m \u001b[0;32mfor\u001b[0m \u001b[0mline\u001b[0m \u001b[0;32min\u001b[0m \u001b[0mopen\u001b[0m\u001b[0;34m(\u001b[0m\u001b[0;34m\"file\"\u001b[0m\u001b[0;34m)\u001b[0m \u001b[0;32mif\u001b[0m \u001b[0;32mnot\u001b[0m \u001b[0mline\u001b[0m\u001b[0;34m.\u001b[0m\u001b[0mstartswith\u001b[0m\u001b[0;34m(\u001b[0m\u001b[0;34m'#'\u001b[0m\u001b[0;34m)\u001b[0m\u001b[0;34m]\u001b[0m\u001b[0;34m\u001b[0m\u001b[0;34m\u001b[0m\u001b[0m\n\u001b[0m",
      "\u001b[0;31mFileNotFoundError\u001b[0m: [Errno 2] No such file or directory: 'file'"
     ]
    }
   ],
   "source": [
    "result = [line.strip().split(\"\\t\") for line in open(\"file\") if not line.startswith('#')]"
   ]
  },
  {
   "cell_type": "code",
   "execution_count": 12,
   "metadata": {},
   "outputs": [
    {
     "data": {
      "text/html": [
       "<div id=\"seq2comp\" style=\"width: 500px\"></div>\n",
       "<script>\n",
       "$('head').append('<link rel=\"stylesheet\" href=\"http://bits.csb.pitt.edu/asker.js/themes/asker.default.css\" />');\n",
       "\n",
       "    var divid = '#seq2comp';\n",
       "\tjQuery(divid).asker({\n",
       "\t    id: divid,\n",
       "\t    question: \"What is in result?\",\n",
       "\t\tanswers: [\"A\",\"B\",\"C\",\"D\",\"E\"],\n",
       "        extra: ['A list of lists of the tab separated values of lines with #',\n",
       "                'A list of lists of the tab separated values of lines without #',\n",
       "                'A list of the lines without #',\n",
       "                'A list of the tab separated values of lines without #',\n",
       "                'I have no idea'],\n",
       "        server: \"http://bits.csb.pitt.edu/asker.js/example/asker.cgi\",\n",
       "\t\tcharter: chartmaker})\n",
       "    \n",
       "$(\".jp-InputArea .o:contains(html)\").closest('.jp-InputArea').hide();\n",
       "\n",
       "\n",
       "</script>\n"
      ],
      "text/plain": [
       "<IPython.core.display.HTML object>"
      ]
     },
     "metadata": {},
     "output_type": "display_data"
    }
   ],
   "source": [
    "%%html\n",
    "<div id=\"seq2comp\" style=\"width: 500px\"></div>\n",
    "<script>\n",
    "$('head').append('<link rel=\"stylesheet\" href=\"http://bits.csb.pitt.edu/asker.js/themes/asker.default.css\" />');\n",
    "\n",
    "    var divid = '#seq2comp';\n",
    "\tjQuery(divid).asker({\n",
    "\t    id: divid,\n",
    "\t    question: \"What is in result?\",\n",
    "\t\tanswers: [\"A\",\"B\",\"C\",\"D\",\"E\"],\n",
    "        extra: ['A list of lists of the tab separated values of lines with #',\n",
    "                'A list of lists of the tab separated values of lines without #',\n",
    "                'A list of the lines without #',\n",
    "                'A list of the tab separated values of lines without #',\n",
    "                'I have no idea'],\n",
    "        server: \"http://bits.csb.pitt.edu/asker.js/example/asker.cgi\",\n",
    "\t\tcharter: chartmaker})\n",
    "    \n",
    "$(\".jp-InputArea .o:contains(html)\").closest('.jp-InputArea').hide();\n",
    "\n",
    "\n",
    "</script>"
   ]
  },
  {
   "cell_type": "code",
   "execution_count": 12,
   "metadata": {
    "slideshow": {
     "slide_type": "slide"
    }
   },
   "outputs": [
    {
     "data": {
      "image/png": "[encoded data removed]",
      "text/plain": [
       "<Figure size 432x288 with 1 Axes>"
      ]
     },
     "metadata": {
      "needs_background": "light"
     },
     "output_type": "display_data"
    }
   ],
   "source": [
    "seqs = AlignIO.read(\"../files/hydra179.aln\",'clustal');\n",
    "yaxis = [len({str(s[i:i+10].seq) for s in seqs}) for i in range(seqs.get_alignment_length())]\n",
    "plt.bar(range(seqs.get_alignment_length()),yaxis,width=1);"
   ]
  },
  {
   "cell_type": "markdown",
   "metadata": {
    "slideshow": {
     "slide_type": "slide"
    }
   },
   "source": [
    "# Back to Biopython..."
   ]
  },
  {
   "cell_type": "code",
   "execution_count": 13,
   "metadata": {},
   "outputs": [],
   "source": [
    "from Bio import AlignIO\n",
    "a = AlignIO.read('../files/hydra179.aln','clustal')"
   ]
  },
  {
   "cell_type": "code",
   "execution_count": 14,
   "metadata": {},
   "outputs": [
    {
     "data": {
      "text/plain": [
       "179"
      ]
     },
     "execution_count": 14,
     "metadata": {},
     "output_type": "execute_result"
    }
   ],
   "source": [
    "len(a)"
   ]
  },
  {
   "cell_type": "code",
   "execution_count": 15,
   "metadata": {},
   "outputs": [
    {
     "data": {
      "text/plain": [
       "(706, 706)"
      ]
     },
     "execution_count": 15,
     "metadata": {},
     "output_type": "execute_result"
    }
   ],
   "source": [
    "len(a[0]),a.get_alignment_length()"
   ]
  },
  {
   "cell_type": "code",
   "execution_count": 16,
   "metadata": {},
   "outputs": [
    {
     "data": {
      "text/plain": [
       "<<class 'Bio.Align.MultipleSeqAlignment'> instance (179 records of length 706) at 11c8a3850>"
      ]
     },
     "execution_count": 16,
     "metadata": {},
     "output_type": "execute_result"
    }
   ],
   "source": [
    "a"
   ]
  },
  {
   "cell_type": "markdown",
   "metadata": {
    "slideshow": {
     "slide_type": "slide"
    }
   },
   "source": [
    "# Phylogenetic Trees\n",
    "\n",
    "*A phylogenetic tree or evolutionary tree is a branching diagram or \"tree\" showing the inferred evolutionary relationships among various biological species or other entities—their phylogeny—based upon similarities and differences in their physical or genetic characteristics.* --Wikipedia\n",
    "\n",
    "Biopython can read a variety of tree formats: **Newick (clustal)**, NEXUS, phyloXML, NeXML, and CDAO."
   ]
  },
  {
   "cell_type": "code",
   "execution_count": 21,
   "metadata": {},
   "outputs": [
    {
     "data": {
      "text/plain": [
       "Tree(rooted=False, weight=1.0)"
      ]
     },
     "execution_count": 21,
     "metadata": {},
     "output_type": "execute_result"
    }
   ],
   "source": [
    "from Bio import Phylo\n",
    "tree = Phylo.read('../files/hydra179.dnd','newick') #must specify format\n",
    "tree"
   ]
  },
  {
   "cell_type": "markdown",
   "metadata": {
    "slideshow": {
     "slide_type": "slide"
    }
   },
   "source": [
    "# Displaying trees"
   ]
  },
  {
   "cell_type": "code",
   "execution_count": 22,
   "metadata": {},
   "outputs": [
    {
     "name": "stdout",
     "output_type": "stream",
     "text": [
      "                  ______ gi|302171738|gb|ADK97770.1|\n",
      "             ____|\n",
      "            |    |____ gi|302171740|gb|ADK97771.1|\n",
      "       _____|\n",
      "      |     |                               , gi|313105485|gb|ADR32101.1|\n",
      "      |     |_______________________________|\n",
      "      |                                     | gi|313105490|gb|ADR32105.1|\n",
      "      |\n",
      "      |     , gi|225423246|gb|ACN91129.1|\n",
      "      |     |\n",
      "      |     | gi|407380197|gb|AFU11414.1|\n",
      "      |     |\n",
      "      |     |, gi|302171754|gb|ADK97778.1|\n",
      "      |     ||\n",
      "      |     || gi|407380047|gb|AFU11341.1|\n",
      "      |     |\n",
      "      |    ,, gi|407380097|gb|AFU11366.1|\n",
      "      |    ||\n",
      "      |    || gi|407380101|gb|AFU11368.1|\n",
      "      |    ||\n",
      "      |    || gi|407380017|gb|AFU11326.1|\n",
      "      |    ||\n",
      "      |    || gi|407380135|gb|AFU11385.1|\n",
      "      |    ||\n",
      "      |    || gi|407380117|gb|AFU11376.1|\n",
      "      |    |\n",
      "      |    |, gi|407380023|gb|AFU11329.1|\n",
      "      |    ||\n",
      "      |    || gi|407380045|gb|AFU11340.1|\n",
      "      |    ||\n",
      "      |    || gi|302171762|gb|ADK97782.1|\n",
      "      |    |\n",
      "      |    |_ gi|407380093|gb|AFU11364.1|\n",
      "      |    |\n",
      "      |    | , gi|302171792|gb|ADK97797.1|\n",
      "      |    | |\n",
      "      |    |,| gi|302171794|gb|ADK97798.1|\n",
      "      |    |||\n",
      "      |    ||| gi|225423258|gb|ACN91135.1|\n",
      "      |    ||\n",
      "      |    ,| gi|407380183|gb|AFU11407.1|\n",
      "      |    ||\n",
      "      |    || gi|302171760|gb|ADK97781.1|\n",
      "      |    |\n",
      "      |    |__ gi|225423252|gb|ACN91132.1|\n",
      "      |    |\n",
      "      |    | , gi|407380005|gb|AFU11320.1|\n",
      "      |    | |\n",
      "      |    |_| gi|407380157|gb|AFU11396.1|\n",
      "      |    | |\n",
      "      |    | | gi|407380057|gb|AFU11346.1|\n",
      "      |    |\n",
      "      |    | , gi|302171782|gb|ADK97792.1|\n",
      "      |    | |\n",
      "      |    | | gi|407380151|gb|AFU11393.1|\n",
      "      |    | |\n",
      "    __|    |,| gi|407380113|gb|AFU11374.1|\n",
      "   |  |   ,|||\n",
      "   |  |   |||| gi|407380085|gb|AFU11360.1|\n",
      "   |  |   |||\n",
      "   |  |   |||, gi|407380139|gb|AFU11387.1|\n",
      "   |  |   ||||\n",
      "   |  |   |||| gi|407380181|gb|AFU11406.1|\n",
      "   |  |   |||\n",
      "   |  |   ||| gi|407380035|gb|AFU11335.1|\n",
      "   |  |   |||\n",
      "   |  |   |||_ gi|407380123|gb|AFU11379.1|\n",
      "   |  |   |||\n",
      "   |  |   ||| gi|407380187|gb|AFU11409.1|\n",
      "   |  |   ||\n",
      "   |  |   ||, gi|225423250|gb|ACN91131.1|\n",
      "   |  |   |||\n",
      "   |  |   |,| gi|407380176|gb|AFU11404.1|\n",
      "   |  |   |||\n",
      "   |  |   ||| gi|407380103|gb|AFU11369.1|\n",
      "   |  |   ||\n",
      "   |  |   || gi|407379993|gb|AFU11314.1|\n",
      "   |  |   |\n",
      "   |  |   |  , gi|225423248|gb|ACN91130.1|\n",
      "   |  |   |  |\n",
      "   |  |   |  | gi|225423296|gb|ACN91154.1|\n",
      "   |  |   |  |\n",
      "   |  |   |  | gi|225423298|gb|ACN91155.1|\n",
      "   |  |   |  |\n",
      "   |  |   | ,| gi|302171786|gb|ADK97794.1|\n",
      "   |  |   | ||\n",
      "   |  |   |,|| gi|302171788|gb|ADK97795.1|\n",
      "   |  |   |||\n",
      "   |  |   ||| gi|407380051|gb|AFU11343.1|\n",
      "   |  |   ||\n",
      "   |  |   || , gi|225423280|gb|ACN91146.1|\n",
      "   |  |   || |\n",
      "   |  |   ||,| gi|302171758|gb|ADK97780.1|\n",
      "   |  |   ||||\n",
      "   |  |   |||| gi|407380185|gb|AFU11408.1|\n",
      "   |  |   | |\n",
      "   |  |   | |, gi|407380007|gb|AFU11321.1|\n",
      "   |  |   | ||\n",
      "   |  |   |  | gi|407380105|gb|AFU11370.1|\n",
      "   |  |   |\n",
      "   |  |   |_ gi|407380133|gb|AFU11384.1|\n",
      "   |  |   |\n",
      "  ,|  |   |  , gi|225423276|gb|ACN91144.1|\n",
      "  ||  |   |  |\n",
      "  ||  |   |  | gi|407380001|gb|AFU11318.1|\n",
      "  ||  |   |  |\n",
      "  ||  |   |  | gi|302171752|gb|ADK97777.1|\n",
      "  ||  |   |  |\n",
      "  ||  |   |  | gi|313105489|gb|ADR32104.1|\n",
      "  ||  |   |  |\n",
      "  ||  |___|  | gi|407380003|gb|AFU11319.1|\n",
      "  ||      |  |\n",
      "  ||      |  , gi|225423300|gb|ACN91156.1|\n",
      "  ||      |  |\n",
      "  ||      |  | gi|302171790|gb|ADK97796.1|\n",
      "  ||      |  |\n",
      "  ||      | ,| gi|407380031|gb|AFU11333.1|\n",
      "  ||      | ||\n",
      "  ||      | ||, gi|407380077|gb|AFU11356.1|\n",
      "  ||      | |,|\n",
      "  ||      | ||| gi|407380079|gb|AFU11357.1|\n",
      "  ||      | ||\n",
      "  ||      | || gi|407380015|gb|AFU11325.1|\n",
      "  ||      | |\n",
      "  ||      | |, gi|302171764|gb|ADK97783.1|\n",
      "  ||      |,||\n",
      "  ||      |||| gi|407380171|gb|AFU11402.1|\n",
      "  ||      ||,|\n",
      "  ||      |||, gi|407380033|gb|AFU11334.1|\n",
      "  ||      ||||\n",
      "  ||      |||| gi|407380083|gb|AFU11359.1|\n",
      "  ||      |||\n",
      "  ||      |||_ gi|407380013|gb|AFU11324.1|\n",
      "  ||      |||\n",
      "  ||      ||| , gi|407380037|gb|AFU11336.1|\n",
      "  ||      |||,|\n",
      " ,||       |||| gi|407380039|gb|AFU11337.1|\n",
      " |||       |,|\n",
      " |||       ||, gi|407380173|gb|AFU11403.1|\n",
      " |||       |||\n",
      " |||       ||| gi|407380210|gb|AFU11420.1|\n",
      " |||       ||\n",
      " |||       ||_ gi|407380075|gb|AFU11355.1|\n",
      " |||       ||\n",
      " |||       || gi|407380189|gb|AFU11410.1|\n",
      " |||       |\n",
      " |||       |_ gi|407380143|gb|AFU11389.1|\n",
      " |||\n",
      " |||__ gi|302171734|gb|ADK97768.1|\n",
      " |||\n",
      " |||___ gi|302171736|gb|ADK97769.1|\n",
      " ||\n",
      " || , gi|225423290|gb|ACN91151.1|\n",
      " || |\n",
      " || | gi|407380025|gb|AFU11330.1|\n",
      " || |\n",
      " || | gi|302171774|gb|ADK97788.1|\n",
      " || |\n",
      " ||,| gi|225423244|gb|ACN91128.1|\n",
      " ||||\n",
      " ||||, gi|407380155|gb|AFU11395.1|\n",
      " |,|||\n",
      " ||| | gi|407380179|gb|AFU11405.1|\n",
      " |||\n",
      " ||| gi|225423272|gb|ACN91142.1|\n",
      " ||\n",
      " || , gi|407380061|gb|AFU11348.1|\n",
      " ||,|\n",
      " |||| gi|407380205|gb|AFU11418.1|\n",
      " |||\n",
      " |||, gi|407380069|gb|AFU11352.1|\n",
      " ||||\n",
      " || | gi|407380195|gb|AFU11413.1|\n",
      " ||\n",
      " ||_ gi|407380019|gb|AFU11327.1|\n",
      " ||\n",
      " ||_ gi|407380053|gb|AFU11344.1|\n",
      " |\n",
      " | , gi|225423284|gb|ACN91148.1|\n",
      " | |\n",
      " |_| gi|407380109|gb|AFU11372.1|\n",
      " | |\n",
      " | | gi|302171750|gb|ADK97776.1|\n",
      " |\n",
      " | , gi|302171784|gb|ADK97793.1|\n",
      " | |\n",
      " | | gi|407380089|gb|AFU11362.1|\n",
      " | |\n",
      " |,| gi|225423254|gb|ACN91133.1|\n",
      " |||\n",
      " ,|| gi|225423294|gb|ACN91153.1|\n",
      " ||\n",
      " || gi|407379991|gb|AFU11313.1|\n",
      " |\n",
      " |, gi|225423260|gb|ACN91136.1|\n",
      " ||\n",
      " || gi|407380131|gb|AFU11383.1|\n",
      " ||\n",
      " ||, gi|407380027|gb|AFU11331.1|\n",
      " |||\n",
      " ||| gi|407380029|gb|AFU11332.1|\n",
      " |||\n",
      " |,| gi|302171778|gb|ADK97790.1|\n",
      " |||\n",
      " ||| gi|225423266|gb|ACN91139.1|\n",
      " ||\n",
      " ||, gi|225423292|gb|ACN91152.1|\n",
      " |||\n",
      " ||| gi|302171776|gb|ADK97789.1|\n",
      " ||\n",
      " |, gi|407380055|gb|AFU11345.1|\n",
      " ||\n",
      " || gi|407380214|gb|AFU11422.1|\n",
      " ||\n",
      " ||, gi|407380041|gb|AFU11338.1|\n",
      " |||\n",
      " ||| gi|407380149|gb|AFU11392.1|\n",
      " |||\n",
      " ||| gi|407380169|gb|AFU11401.1|\n",
      " |||\n",
      " ,|| gi|225423268|gb|ACN91140.1|\n",
      " ||\n",
      " ||, gi|302171770|gb|ADK97786.1|\n",
      " |,|\n",
      " ||| gi|407380203|gb|AFU11417.1|\n",
      " ||\n",
      " ||, gi|407379997|gb|AFU11316.1|\n",
      " |||\n",
      " ||| gi|407380009|gb|AFU11322.1|\n",
      " |||\n",
      " ||| gi|407380141|gb|AFU11388.1|\n",
      " |||\n",
      " ||| gi|407380011|gb|AFU11323.1|\n",
      " ||\n",
      " |, gi|407380021|gb|AFU11328.1|\n",
      " ||\n",
      " || gi|407380191|gb|AFU11411.1|\n",
      " ||\n",
      " || gi|407379989|gb|AFU11312.1|\n",
      " |\n",
      " |_ gi|407380095|gb|AFU11365.1|\n",
      " |\n",
      " |  , gi|225423270|gb|ACN91141.1|\n",
      " | ,|\n",
      " |,|| gi|407380193|gb|AFU11412.1|\n",
      " |||\n",
      " ||| gi|407380147|gb|AFU11391.1|\n",
      " ||\n",
      " ||, gi|225423288|gb|ACN91150.1|\n",
      " |||\n",
      " ||| gi|302171768|gb|ADK97785.1|\n",
      " |||\n",
      " ||, gi|407380043|gb|AFU11339.1|\n",
      " |,|\n",
      " ||| gi|407380111|gb|AFU11373.1|\n",
      " |||\n",
      " ||| gi|407380212|gb|AFU11421.1|\n",
      " ||\n",
      " || gi|407380067|gb|AFU11351.1|\n",
      " ||\n",
      " || gi|302171756|gb|ADK97779.1|\n",
      " ||\n",
      " ||, gi|407380063|gb|AFU11349.1|\n",
      " |,|\n",
      " ||| gi|407380145|gb|AFU11390.1|\n",
      " ||\n",
      " || gi|407380160|gb|AFU11397.1|\n",
      " |\n",
      " |, gi|302171746|gb|ADK97774.1|\n",
      " ||\n",
      " || gi|407380137|gb|AFU11386.1|\n",
      " |\n",
      " |, gi|225423286|gb|ACN91149.1|\n",
      " ||\n",
      " || gi|302171766|gb|ADK97784.1|\n",
      " ||\n",
      " || gi|225423256|gb|ACN91134.1|\n",
      " ||\n",
      " || gi|407380164|gb|AFU11399.1|\n",
      " ||\n",
      " || gi|407380199|gb|AFU11415.1|\n",
      " ||\n",
      " |, gi|225423282|gb|ACN91147.1|\n",
      " ||\n",
      " || gi|302171748|gb|ADK97775.1|\n",
      " ||\n",
      " ,| gi|407379995|gb|AFU11315.1|\n",
      " ||\n",
      " || gi|407379987|gb|AFU11311.1|\n",
      " ||\n",
      " || gi|407380065|gb|AFU11350.1|\n",
      " |\n",
      " |, gi|302171772|gb|ADK97787.1|\n",
      " ||\n",
      " || gi|407380127|gb|AFU11381.1|\n",
      " ,|\n",
      " |, gi|407380099|gb|AFU11367.1|\n",
      " ||\n",
      " || gi|407380129|gb|AFU11382.1|\n",
      " |\n",
      " |, gi|407380119|gb|AFU11377.1|\n",
      " ||\n",
      " || gi|407380121|gb|AFU11378.1|\n",
      " ||\n",
      " || gi|407380081|gb|AFU11358.1|\n",
      " |\n",
      " , gi|302171780|gb|ADK97791.1|\n",
      " |\n",
      " | gi|407380073|gb|AFU11354.1|\n",
      " |\n",
      " , gi|407380107|gb|AFU11371.1|\n",
      " |\n",
      " | gi|407380153|gb|AFU11394.1|\n",
      " |\n",
      " , gi|407380115|gb|AFU11375.1|\n",
      " |\n",
      " | gi|407380201|gb|AFU11416.1|\n",
      " |\n",
      " |    ___ model1_F.pdb\n",
      "_|  _|\n",
      " |,| | gi|407380166|gb|AFU11400.1|\n",
      " |||\n",
      " ||| gi|407380162|gb|AFU11398.1|\n",
      " ||\n",
      " || gi|407379985|gb|AFU11310.1|\n",
      " ||\n",
      " ,| gi|407380059|gb|AFU11347.1|\n",
      " ||\n",
      " || gi|164609123|gb|ABY62783.1|\n",
      " |\n",
      " | gi|225423262|gb|ACN91137.1|\n",
      " |\n",
      " | gi|407380049|gb|AFU11342.1|\n",
      " |\n",
      " | gi|407380208|gb|AFU11419.1|\n",
      " |\n",
      " , gi|407380071|gb|AFU11353.1|\n",
      " |\n",
      " | gi|407380091|gb|AFU11363.1|\n",
      " |\n",
      " |, gi|225423274|gb|ACN91143.1|\n",
      " ||\n",
      " || gi|225423278|gb|ACN91145.1|\n",
      " ||\n",
      " || gi|302171742|gb|ADK97772.1|\n",
      " ||\n",
      " ,| gi|302171744|gb|ADK97773.1|\n",
      " ||\n",
      " || gi|313105486|gb|ADR32102.1|\n",
      " |\n",
      " | gi|225423264|gb|ACN91138.1|\n",
      " |\n",
      " , gi|407379999|gb|AFU11317.1|\n",
      " |\n",
      " | gi|407380087|gb|AFU11361.1|\n",
      " |\n",
      " | gi|407380125|gb|AFU11380.1|\n",
      "\n"
     ]
    }
   ],
   "source": [
    "Phylo.draw_ascii(tree)"
   ]
  },
  {
   "cell_type": "markdown",
   "metadata": {
    "slideshow": {
     "slide_type": "slide"
    }
   },
   "source": [
    "# Displaying trees\n",
    "\n",
    "Phylo can draw trees using matplot lib (e.g., can use savefig etc)"
   ]
  },
  {
   "cell_type": "code",
   "execution_count": 23,
   "metadata": {},
   "outputs": [
    {
     "data": {
      "image/png": "[encoded data removed]",
      "text/plain": [
       "<Figure size 432x288 with 1 Axes>"
      ]
     },
     "metadata": {
      "needs_background": "light"
     },
     "output_type": "display_data"
    }
   ],
   "source": [
    "%matplotlib inline\n",
    "Phylo.draw(tree)"
   ]
  },
  {
   "cell_type": "code",
   "execution_count": 24,
   "metadata": {
    "slideshow": {
     "slide_type": "slide"
    }
   },
   "outputs": [
    {
     "data": {
      "image/png": "[encoded data removed]",
      "text/plain": [
       "<Figure size 432x288 with 1 Axes>"
      ]
     },
     "metadata": {
      "needs_background": "light"
     },
     "output_type": "display_data"
    }
   ],
   "source": [
    "Phylo.draw(tree,label_func=lambda x: None)"
   ]
  },
  {
   "cell_type": "markdown",
   "metadata": {
    "slideshow": {
     "slide_type": "slide"
    }
   },
   "source": [
    "# Motifs\n",
    "\n",
    "*Sequence motifs are short, recurring patterns in DNA that are presumed to have a biological function. Often they indicate sequence-specific binding sites for proteins such as nucleases and transcription factors (TF).* --The Internet\n"
   ]
  },
  {
   "cell_type": "markdown",
   "metadata": {
    "collapsed": true,
    "slideshow": {
     "slide_type": "slide"
    }
   },
   "source": [
    "# Motif logos\n",
    "\n"
   ]
  },
  {
   "cell_type": "code",
   "execution_count": 25,
   "metadata": {},
   "outputs": [],
   "source": [
    "from Bio import motifs  #lower case for some reason\n",
    "m = motifs.create([\"TACAA\",\"CATGC\",\"TACTA\",\"CCCAA\"])"
   ]
  },
  {
   "cell_type": "code",
   "execution_count": 26,
   "metadata": {},
   "outputs": [
    {
     "data": {
      "text/plain": [
       "{'A': [0, 3, 0, 2, 3],\n",
       " 'C': [2, 1, 3, 0, 1],\n",
       " 'G': [0, 0, 0, 1, 0],\n",
       " 'T': [2, 0, 1, 1, 0]}"
      ]
     },
     "execution_count": 26,
     "metadata": {},
     "output_type": "execute_result"
    }
   ],
   "source": [
    "m.counts"
   ]
  },
  {
   "cell_type": "code",
   "execution_count": 27,
   "metadata": {},
   "outputs": [
    {
     "data": {
      "text/plain": [
       "Seq('CACAA')"
      ]
     },
     "execution_count": 27,
     "metadata": {},
     "output_type": "execute_result"
    }
   ],
   "source": [
    "m.consensus"
   ]
  },
  {
   "cell_type": "markdown",
   "metadata": {
    "slideshow": {
     "slide_type": "slide"
    }
   },
   "source": [
    "# Motif Logos\n",
    "\n",
    "Biopython uses [weblogo](http://weblogo.berkeley.edu/)"
   ]
  },
  {
   "cell_type": "code",
   "execution_count": 28,
   "metadata": {},
   "outputs": [],
   "source": [
    "m.weblogo('logo.png',alphabet='alphabet_dna',stack_width='large')"
   ]
  },
  {
   "cell_type": "code",
   "execution_count": 29,
   "metadata": {},
   "outputs": [
    {
     "data": {
      "image/png": "[encoded data removed]",
      "text/plain": [
       "<IPython.core.display.Image object>"
      ]
     },
     "execution_count": 29,
     "metadata": {},
     "output_type": "execute_result"
    }
   ],
   "source": [
    "from IPython.display import Image\n",
    "Image(filename='logo.png')"
   ]
  },
  {
   "cell_type": "markdown",
   "metadata": {
    "slideshow": {
     "slide_type": "slide"
    }
   },
   "source": [
    "# Reading Motifs\n",
    "\n",
    "Biopython supports a number of motif formats: JASPAR, MEME, TRANSFAC\n",
    "\n",
    "These formats are associated with databases (JASPAR, TRANSFAC) and tools (MEME).\n",
    "\n",
    "Of particular interest are sequence motifs for transcription factor binding.\n",
    "\n",
    "[JASPAR](http://jaspar.genereg.net/)"
   ]
  },
  {
   "cell_type": "markdown",
   "metadata": {
    "slideshow": {
     "slide_type": "slide"
    }
   },
   "source": [
    "# Reading Motifs"
   ]
  },
  {
   "cell_type": "code",
   "execution_count": 30,
   "metadata": {},
   "outputs": [],
   "source": [
    "f = open('../files/MA0004.1.sites') #unlike other parts of Biopython, can't just provide filename to open\n",
    "arnt = motifs.read(f,'sites') #JASPAR sites"
   ]
  },
  {
   "cell_type": "code",
   "execution_count": 31,
   "metadata": {},
   "outputs": [
    {
     "data": {
      "text/plain": [
       "<Bio.motifs.jaspar.Motif at 0x11c50dfa0>"
      ]
     },
     "execution_count": 31,
     "metadata": {},
     "output_type": "execute_result"
    }
   ],
   "source": [
    "arnt"
   ]
  },
  {
   "cell_type": "code",
   "execution_count": 32,
   "metadata": {},
   "outputs": [
    {
     "data": {
      "text/plain": [
       "Seq('CACGTG')"
      ]
     },
     "execution_count": 32,
     "metadata": {},
     "output_type": "execute_result"
    }
   ],
   "source": [
    "arnt.consensus"
   ]
  },
  {
   "cell_type": "code",
   "execution_count": 33,
   "metadata": {},
   "outputs": [
    {
     "name": "stdout",
     "output_type": "stream",
     "text": [
      "        0      1      2      3      4      5\n",
      "A:   4.00  19.00   0.00   0.00   0.00   0.00\n",
      "C:  16.00   0.00  20.00   0.00   0.00   0.00\n",
      "G:   0.00   1.00   0.00  20.00   0.00  20.00\n",
      "T:   0.00   0.00   0.00   0.00  20.00   0.00\n",
      "\n"
     ]
    }
   ],
   "source": [
    "print(arnt.counts)"
   ]
  },
  {
   "cell_type": "code",
   "execution_count": 34,
   "metadata": {},
   "outputs": [
    {
     "data": {
      "text/plain": [
       "[Seq('CACGTG'),\n",
       " Seq('CACGTG'),\n",
       " Seq('CACGTG'),\n",
       " Seq('CACGTG'),\n",
       " Seq('CACGTG'),\n",
       " Seq('CACGTG'),\n",
       " Seq('CACGTG'),\n",
       " Seq('CACGTG'),\n",
       " Seq('CACGTG'),\n",
       " Seq('CACGTG'),\n",
       " Seq('CACGTG'),\n",
       " Seq('CACGTG'),\n",
       " Seq('CACGTG'),\n",
       " Seq('CACGTG'),\n",
       " Seq('CACGTG'),\n",
       " Seq('AACGTG'),\n",
       " Seq('AACGTG'),\n",
       " Seq('AACGTG'),\n",
       " Seq('AACGTG'),\n",
       " Seq('CGCGTG')]"
      ]
     },
     "execution_count": 34,
     "metadata": {},
     "output_type": "execute_result"
    }
   ],
   "source": [
    "arnt.instances"
   ]
  },
  {
   "cell_type": "markdown",
   "metadata": {
    "slideshow": {
     "slide_type": "slide"
    }
   },
   "source": [
    "# Scoring Matrices\n",
    "\n",
    "The counts attribute can be normalized to represent probabilities at each position"
   ]
  },
  {
   "cell_type": "code",
   "execution_count": 35,
   "metadata": {},
   "outputs": [
    {
     "name": "stdout",
     "output_type": "stream",
     "text": [
      "        0      1      2      3      4      5\n",
      "A:   0.20   0.95   0.00   0.00   0.00   0.00\n",
      "C:   0.80   0.00   1.00   0.00   0.00   0.00\n",
      "G:   0.00   0.05   0.00   1.00   0.00   1.00\n",
      "T:   0.00   0.00   0.00   0.00   1.00   0.00\n",
      "\n"
     ]
    }
   ],
   "source": [
    "print(arnt.counts.normalize())"
   ]
  },
  {
   "cell_type": "markdown",
   "metadata": {},
   "source": [
    "A *pseudocount* is often added at each position to prevent probability from going to zero."
   ]
  },
  {
   "cell_type": "code",
   "execution_count": 36,
   "metadata": {},
   "outputs": [
    {
     "name": "stdout",
     "output_type": "stream",
     "text": [
      "        0      1      2      3      4      5\n",
      "A:   0.21   0.85   0.03   0.03   0.03   0.03\n",
      "C:   0.72   0.03   0.90   0.03   0.03   0.03\n",
      "G:   0.03   0.08   0.03   0.90   0.03   0.90\n",
      "T:   0.03   0.03   0.03   0.03   0.90   0.03\n",
      "\n"
     ]
    }
   ],
   "source": [
    "print(arnt.counts.normalize(pseudocounts=0.8))"
   ]
  },
  {
   "cell_type": "markdown",
   "metadata": {
    "slideshow": {
     "slide_type": "slide"
    }
   },
   "source": [
    "# PSSM\n",
    "\n",
    "The *position-specific scoring matrix* is the position weight matrix (with pseudocounts) expressed as a log likelihoods"
   ]
  },
  {
   "cell_type": "code",
   "execution_count": 37,
   "metadata": {},
   "outputs": [
    {
     "name": "stdout",
     "output_type": "stream",
     "text": [
      "        0      1      2      3      4      5\n",
      "A:  -0.27   1.77  -2.86  -2.86  -2.86  -2.86\n",
      "C:   1.53  -2.86   1.84  -2.86  -2.86  -2.86\n",
      "G:  -2.86  -1.69  -2.86   1.84  -2.86   1.84\n",
      "T:  -2.86  -2.86  -2.86  -2.86   1.84  -2.86\n",
      "\n"
     ]
    }
   ],
   "source": [
    "pwm = arnt.counts.normalize(pseudocounts=0.8)\n",
    "pssm = pwm.log_odds()\n",
    "print(pssm)"
   ]
  },
  {
   "cell_type": "markdown",
   "metadata": {},
   "source": [
    "A negative value means a nucleotide is less likely than the background at a specific position.\n",
    "\n",
    "By default a uniform background is assumed, but this can be changed with the `background` parameter of `log_odds`."
   ]
  },
  {
   "cell_type": "code",
   "execution_count": 38,
   "metadata": {
    "slideshow": {
     "slide_type": "slide"
    }
   },
   "outputs": [
    {
     "data": {
      "text/html": [
       "<div id=\"logpssm\" style=\"width: 500px\"></div>\n",
       "<script>\n",
       "$('head').append('<link rel=\"stylesheet\" href=\"http://bits.csb.pitt.edu/asker.js/themes/asker.default.css\" />');\n",
       "\n",
       "    var divid = '#logpssm';\n",
       "\tjQuery(divid).asker({\n",
       "\t    id: divid,\n",
       "\t    question: \"What is the PSSM score for A at a position if it occurs 5 times out of 20 sequences (no pseudocount)?\",\n",
       "\t\tanswers: [\"-1\",\"-.25\",\"0\",\".25\",\"1\",\"None of the above\"],\n",
       "        server: \"http://bits.csb.pitt.edu/asker.js/example/asker.cgi\",\n",
       "\t\tcharter: chartmaker})\n",
       "    \n",
       "$(\".jp-InputArea .o:contains(html)\").closest('.jp-InputArea').hide();\n",
       "\n",
       "\n",
       "</script>\n"
      ],
      "text/plain": [
       "<IPython.core.display.HTML object>"
      ]
     },
     "metadata": {},
     "output_type": "display_data"
    }
   ],
   "source": [
    "%%html\n",
    "<div id=\"logpssm\" style=\"width: 500px\"></div>\n",
    "<script>\n",
    "$('head').append('<link rel=\"stylesheet\" href=\"http://bits.csb.pitt.edu/asker.js/themes/asker.default.css\" />');\n",
    "\n",
    "    var divid = '#logpssm';\n",
    "\tjQuery(divid).asker({\n",
    "\t    id: divid,\n",
    "\t    question: \"What is the PSSM score for A at a position if it occurs 5 times out of 20 sequences (no pseudocount)?\",\n",
    "\t\tanswers: [\"-1\",\"-.25\",\"0\",\".25\",\"1\",\"None of the above\"],\n",
    "        server: \"http://bits.csb.pitt.edu/asker.js/example/asker.cgi\",\n",
    "\t\tcharter: chartmaker})\n",
    "    \n",
    "$(\".jp-InputArea .o:contains(html)\").closest('.jp-InputArea').hide();\n",
    "\n",
    "\n",
    "</script>"
   ]
  },
  {
   "cell_type": "markdown",
   "metadata": {
    "slideshow": {
     "slide_type": "slide"
    }
   },
   "source": [
    "# Search for Motifs"
   ]
  },
  {
   "cell_type": "code",
   "execution_count": 39,
   "metadata": {},
   "outputs": [],
   "source": [
    "from Bio import SeqIO\n",
    "from Bio.Seq import Seq\n",
    "largeseq = SeqIO.read('../files/bnip3.fasta','fasta') #load with same alphabet as motif\n",
    "smallseq = Seq('AAACCCACGTGACTATATA')"
   ]
  },
  {
   "cell_type": "markdown",
   "metadata": {},
   "source": [
    "We can search for exact matches"
   ]
  },
  {
   "cell_type": "code",
   "execution_count": 40,
   "metadata": {},
   "outputs": [
    {
     "name": "stdout",
     "output_type": "stream",
     "text": [
      "5 CACGTG\n"
     ]
    }
   ],
   "source": [
    "for pos,seq in arnt.instances.search(smallseq):\n",
    "    print(\"%i %s\" % (pos,seq))"
   ]
  },
  {
   "cell_type": "code",
   "execution_count": 41,
   "metadata": {},
   "outputs": [
    {
     "name": "stdout",
     "output_type": "stream",
     "text": [
      "3452 CACGTG\n",
      "4058 CACGTG\n",
      "6181 AACGTG\n",
      "8591 CGCGTG\n",
      "10719 CACGTG\n",
      "10998 CACGTG\n"
     ]
    }
   ],
   "source": [
    "for pos,seq in arnt.instances.search(largeseq.seq): # pass sequence, not seqrecord\n",
    "    print(\"%i %s\" % (pos,seq))"
   ]
  },
  {
   "cell_type": "markdown",
   "metadata": {
    "slideshow": {
     "slide_type": "slide"
    }
   },
   "source": [
    "# Searching for Motifs"
   ]
  },
  {
   "cell_type": "code",
   "execution_count": 42,
   "metadata": {},
   "outputs": [
    {
     "data": {
      "text/plain": [
       "6"
      ]
     },
     "execution_count": 42,
     "metadata": {},
     "output_type": "execute_result"
    }
   ],
   "source": [
    "results = [(pos,str(seq)) for pos,seq in arnt.instances.search(largeseq.seq)]\n",
    "len(results)"
   ]
  },
  {
   "cell_type": "code",
   "execution_count": 43,
   "metadata": {},
   "outputs": [
    {
     "name": "stdout",
     "output_type": "stream",
     "text": [
      "[(3452, 'CACGTG'), (4058, 'CACGTG'), (6181, 'AACGTG'), (8591, 'CGCGTG'), (10719, 'CACGTG'), (10998, 'CACGTG')]\n"
     ]
    }
   ],
   "source": [
    "print(results)"
   ]
  },
  {
   "cell_type": "code",
   "execution_count": 44,
   "metadata": {},
   "outputs": [
    {
     "data": {
      "text/plain": [
       "[Seq('CACGTG'),\n",
       " Seq('CACGTG'),\n",
       " Seq('CACGTG'),\n",
       " Seq('CACGTG'),\n",
       " Seq('CACGTG'),\n",
       " Seq('CACGTG'),\n",
       " Seq('CACGTG'),\n",
       " Seq('CACGTG'),\n",
       " Seq('CACGTG'),\n",
       " Seq('CACGTG'),\n",
       " Seq('CACGTG'),\n",
       " Seq('CACGTG'),\n",
       " Seq('CACGTG'),\n",
       " Seq('CACGTG'),\n",
       " Seq('CACGTG'),\n",
       " Seq('AACGTG'),\n",
       " Seq('AACGTG'),\n",
       " Seq('AACGTG'),\n",
       " Seq('AACGTG'),\n",
       " Seq('CGCGTG')]"
      ]
     },
     "execution_count": 44,
     "metadata": {},
     "output_type": "execute_result"
    }
   ],
   "source": [
    "arnt.instances"
   ]
  },
  {
   "cell_type": "markdown",
   "metadata": {
    "slideshow": {
     "slide_type": "slide"
    }
   },
   "source": [
    "# Searching for Motifs\n",
    "\n",
    "We can use the PSSM to get a fuzzier match"
   ]
  },
  {
   "cell_type": "code",
   "execution_count": 45,
   "metadata": {},
   "outputs": [
    {
     "data": {
      "text/plain": [
       "1065"
      ]
     },
     "execution_count": 45,
     "metadata": {},
     "output_type": "execute_result"
    }
   ],
   "source": [
    "pwm = arnt.counts.normalize(pseudocounts=0.8)\n",
    "pssm = pwm.log_odds()\n",
    "positions = [pos for pos,seq in pssm.search(largeseq.seq)]\n",
    "len(positions)"
   ]
  },
  {
   "cell_type": "code",
   "execution_count": 46,
   "metadata": {},
   "outputs": [
    {
     "data": {
      "text/plain": [
       "167"
      ]
     },
     "execution_count": 46,
     "metadata": {},
     "output_type": "execute_result"
    }
   ],
   "source": [
    "results = [(pos,score) for pos,score in pssm.search(largeseq.seq, threshold=4)]\n",
    "len(results)"
   ]
  },
  {
   "cell_type": "markdown",
   "metadata": {},
   "source": [
    "The score is a $log_2$ likelihood so a score of 4 is $2^4=16$ times more likely to occur as part of the motif than as part of the (uniform) background"
   ]
  },
  {
   "cell_type": "code",
   "execution_count": 47,
   "metadata": {},
   "outputs": [
    {
     "data": {
      "text/plain": [
       "(508, 5.975107)"
      ]
     },
     "execution_count": 47,
     "metadata": {},
     "output_type": "execute_result"
    }
   ],
   "source": [
    "results[0]"
   ]
  },
  {
   "cell_type": "markdown",
   "metadata": {
    "slideshow": {
     "slide_type": "slide"
    }
   },
   "source": [
    "# Searching for Motifs\n",
    "\n",
    "Positions may be negative if the motif was found on the reverse strand."
   ]
  },
  {
   "cell_type": "code",
   "execution_count": 48,
   "metadata": {},
   "outputs": [
    {
     "data": {
      "text/plain": [
       "[(508, 5.975107), (-13823, 6.0461903)]"
      ]
     },
     "execution_count": 48,
     "metadata": {},
     "output_type": "execute_result"
    }
   ],
   "source": [
    "results[:2]"
   ]
  },
  {
   "cell_type": "code",
   "execution_count": 49,
   "metadata": {},
   "outputs": [],
   "source": [
    "pos = results[1][0] #-13823\n",
    "hit = largeseq.seq[pos:pos+len(arnt)]  #negative indices can still be used to retrieve matched subsequence"
   ]
  },
  {
   "cell_type": "code",
   "execution_count": 50,
   "metadata": {},
   "outputs": [
    {
     "name": "stdout",
     "output_type": "stream",
     "text": [
      "-13823 508\n",
      "CACGGG CCCGTG\n"
     ]
    }
   ],
   "source": [
    "print(pos,len(largeseq)+pos)\n",
    "print(hit, hit.reverse_complement())"
   ]
  },
  {
   "cell_type": "code",
   "execution_count": 51,
   "metadata": {},
   "outputs": [
    {
     "name": "stdout",
     "output_type": "stream",
     "text": [
      "        0      1      2      3      4      5\n",
      "A:   4.00  19.00   0.00   0.00   0.00   0.00\n",
      "C:  16.00   0.00  20.00   0.00   0.00   0.00\n",
      "G:   0.00   1.00   0.00  20.00   0.00  20.00\n",
      "T:   0.00   0.00   0.00   0.00  20.00   0.00\n",
      "\n"
     ]
    }
   ],
   "source": [
    "print(arnt.counts)"
   ]
  },
  {
   "cell_type": "markdown",
   "metadata": {
    "slideshow": {
     "slide_type": "slide"
    }
   },
   "source": [
    "# Some more marine biology\n",
    "\n",
    "<img src=\"https://c2.staticflickr.com/4/3285/3293134375_635141a7b3_b.jpg\">"
   ]
  },
  {
   "cell_type": "markdown",
   "metadata": {
    "slideshow": {
     "slide_type": "slide"
    }
   },
   "source": [
    "# Your Herculean Task\n",
    "\n",
    "&nbsp;&nbsp;0\\. Get input files of 179 hydra sequences"
   ]
  },
  {
   "cell_type": "code",
   "execution_count": 52,
   "metadata": {},
   "outputs": [
    {
     "name": "stdout",
     "output_type": "stream",
     "text": [
      "--2021-09-27 20:10:34--  https://asinansaglam.github.io/python_bio_2022/files/hydra179.aln\n",
      "Resolving mscbio2025.csb.pitt.edu (mscbio2025.csb.pitt.edu)... 136.142.4.139\n",
      "Connecting to mscbio2025.csb.pitt.edu (mscbio2025.csb.pitt.edu)|136.142.4.139|:80... connected.\n",
      "HTTP request sent, awaiting response... 200 OK\n",
      "Length: 218936 (214K)\n",
      "Saving to: ‘hydra179.aln’\n",
      "\n",
      "hydra179.aln        100%[===================>] 213.80K   129KB/s    in 1.7s    \n",
      "\n",
      "2021-09-27 20:10:36 (129 KB/s) - ‘hydra179.aln’ saved [218936/218936]\n",
      "\n",
      "--2021-09-27 20:10:36--  https://asinansaglam.github.io/python_bio_2022/files/hydra179.dnd\n",
      "Resolving mscbio2025.csb.pitt.edu (mscbio2025.csb.pitt.edu)... 136.142.4.139\n",
      "Connecting to mscbio2025.csb.pitt.edu (mscbio2025.csb.pitt.edu)|136.142.4.139|:80... connected.\n",
      "HTTP request sent, awaiting response... 200 OK\n",
      "Length: 8747 (8.5K)\n",
      "Saving to: ‘hydra179.dnd’\n",
      "\n",
      "hydra179.dnd        100%[===================>]   8.54K  --.-KB/s    in 0.05s   \n",
      "\n",
      "2021-09-27 20:10:36 (176 KB/s) - ‘hydra179.dnd’ saved [8747/8747]\n",
      "\n",
      "--2021-09-27 20:10:36--  https://asinansaglam.github.io/python_bio_2022/files/hydra179.fasta\n",
      "Resolving mscbio2025.csb.pitt.edu (mscbio2025.csb.pitt.edu)... 136.142.4.139\n",
      "Connecting to mscbio2025.csb.pitt.edu (mscbio2025.csb.pitt.edu)|136.142.4.139|:80... connected.\n",
      "HTTP request sent, awaiting response... 200 OK\n",
      "Length: 119642 (117K)\n",
      "Saving to: ‘hydra179.fasta’\n",
      "\n",
      "hydra179.fasta      100%[===================>] 116.84K   393KB/s    in 0.3s    \n",
      "\n",
      "2021-09-27 20:10:37 (393 KB/s) - ‘hydra179.fasta’ saved [119642/119642]\n",
      "\n"
     ]
    }
   ],
   "source": [
    "!wget https://asinansaglam.github.io/python_bio_2022/files/hydra179.aln\n",
    "!wget https://asinansaglam.github.io/python_bio_2022/files/hydra179.dnd\n",
    "!wget https://asinansaglam.github.io/python_bio_2022/files/hydra179.fasta"
   ]
  },
  {
   "cell_type": "markdown",
   "metadata": {
    "slideshow": {
     "slide_type": "slide"
    }
   },
   "source": [
    " 2. Display the phylogenetic tree from the clustal alignment (hydra179.dnd)\n",
    " 3. Identify the subsequence of length 20 that has the most variation amount these sequences (like last time)\n",
    " 4. Use clustal to compute the multiple alignment of these 179 length 20 subsequences\n",
    " 5. Display the phylogenetic tree from this alignment"
   ]
  },
  {
   "cell_type": "code",
   "execution_count": 53,
   "metadata": {
    "slideshow": {
     "slide_type": "subslide"
    }
   },
   "outputs": [],
   "source": [
    "#!/usr/local/bin/python\n",
    "from Bio import SeqIO\n",
    "from Bio import AlignIO\n",
    "from Bio.Seq import Seq\n",
    "from Bio import Phylo\n",
    "from Bio.Align.Applications import ClustalwCommandline\n",
    "import sys\n",
    "\n",
    "sys.argv = ['fake','../files/hydra179.aln']\n",
    "a = AlignIO.read(sys.argv[1],'clustal')\n",
    "\n",
    "#the following is perhaps not the most readable, but it counts\n",
    "#the number of unique sequences of length 20 at each position in align\n",
    "cnts = [len({str(s.seq) for s in a[:,i:i+20]}) for i in range(len(a[0])-20)]\n"
   ]
  },
  {
   "cell_type": "code",
   "execution_count": 54,
   "metadata": {
    "slideshow": {
     "slide_type": "notes"
    }
   },
   "outputs": [
    {
     "data": {
      "image/png": "[encoded data removed]",
      "text/plain": [
       "<Figure size 432x288 with 1 Axes>"
      ]
     },
     "metadata": {
      "needs_background": "light"
     },
     "output_type": "display_data"
    }
   ],
   "source": [
    "\n",
    "maxpos = cnts.index(max(cnts))\n",
    "maxseqs = a[:,maxpos:maxpos+20]\n",
    "\n",
    "\n",
    "#have to write out to a file to compute msa with clustal\n",
    "out = open('subalign.fasta','w')\n",
    "SeqIO.write(maxseqs, out, 'fasta')\n",
    "out.close() # must close before reading \n",
    "\n",
    "cline = ClustalwCommandline(\"clustalw\", infile=\"subalign.fasta\",outfile='subalign.aln')\n",
    "cline()\n",
    "#msa of the subsequences\n",
    "maxalign = AlignIO.read('subalign.aln','clustal')\n",
    "\n",
    "tree = Phylo.read('subalign.dnd','newick')\n",
    "tree.root.branch_length = 0 #prettier\n",
    "Phylo.draw(tree,label_func=lambda x: None)"
   ]
  }
 ],
 "metadata": {
  "celltoolbar": "Slideshow",
  "kernelspec": {
   "display_name": "Python 3",
   "language": "python",
   "name": "python3"
  },
  "language_info": {
   "codemirror_mode": {
    "name": "ipython",
    "version": 3
   },
   "file_extension": ".py",
   "mimetype": "text/x-python",
   "name": "python",
   "nbconvert_exporter": "python",
   "pygments_lexer": "ipython3",
   "version": "3.8.2"
  }
 },
 "nbformat": 4,
 "nbformat_minor": 1
}
