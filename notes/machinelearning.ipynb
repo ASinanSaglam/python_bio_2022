{
 "cells": [
  {
   "cell_type": "markdown",
   "metadata": {
    "slideshow": {
     "slide_type": "slide"
    }
   },
   "source": [
    "# Machine Learning Overview\n",
    "\n",
    "## 11/4/2021\n",
    "<a href=\"?print-pdf\">print view</a>"
   ]
  },
  {
   "cell_type": "code",
   "execution_count": 11,
   "metadata": {},
   "outputs": [
    {
     "data": {
      "text/html": [
       "<script src=\"http://bits.csb.pitt.edu/asker.js/lib/asker.js\"></script>\n",
       "<style>\n",
       ".reveal .highlight pre { font-size: 100%}\n",
       ".reveal .slides>section>section.present { max-height: 100%; overflow-y: auto;}\n",
       "</style>\n",
       "\n",
       "<script>\n",
       "$3Dmolpromise = new Promise((resolve, reject) => { \n",
       "    require(['https://3dmol.org/build/3Dmol-nojquery.js'], function(){       \n",
       "            resolve();});\n",
       "});\n",
       "\n",
       "require(['https://cdnjs.cloudflare.com/ajax/libs/Chart.js/2.2.2/Chart.js'], function(Ch){\n",
       " Chart = Ch;\n",
       "});\n",
       "\n",
       "$('head').append('<link rel=\"stylesheet\" href=\"http://bits.csb.pitt.edu/asker.js/themes/asker.default.css\" />');\n",
       "\n",
       "\n",
       "//the callback is provided a canvas object and data \n",
       "var chartmaker = function(canvas, labels, data) {\n",
       "  var ctx = $(canvas).get(0).getContext(\"2d\");\n",
       "     var dataset = {labels: labels,                     \n",
       "    datasets:[{\n",
       "     data: data,\n",
       "     backgroundColor: \"rgba(150,64,150,0.5)\",\n",
       "         fillColor: \"rgba(150,64,150,0.8)\",    \n",
       "  }]};\n",
       "  var myBarChart = new Chart(ctx,{type:'bar',data:dataset,options:{legend: {display:false},\n",
       "        scales: {\n",
       "            yAxes: [{\n",
       "                ticks: {\n",
       "                    min: 0,\n",
       "                }\n",
       "            }]}}});\n",
       "};\n",
       "\n",
       "$(\".jp-InputArea .o:contains(html)\").closest('.jp-InputArea').hide();\n",
       "\n",
       "\n",
       "</script>\n"
      ],
      "text/plain": [
       "<IPython.core.display.HTML object>"
      ]
     },
     "metadata": {},
     "output_type": "display_data"
    }
   ],
   "source": [
    "%%html\n",
    "<script src=\"http://bits.csb.pitt.edu/asker.js/lib/asker.js\"></script>\n",
    "<style>\n",
    ".reveal .highlight pre { font-size: 100%}\n",
    ".reveal .slides>section>section.present { max-height: 100%; overflow-y: auto;}\n",
    "</style>\n",
    "\n",
    "<script>\n",
    "$3Dmolpromise = new Promise((resolve, reject) => { \n",
    "    require(['https://3dmol.org/build/3Dmol-nojquery.js'], function(){       \n",
    "            resolve();});\n",
    "});\n",
    "\n",
    "require(['https://cdnjs.cloudflare.com/ajax/libs/Chart.js/2.2.2/Chart.js'], function(Ch){\n",
    " Chart = Ch;\n",
    "});\n",
    "\n",
    "$('head').append('<link rel=\"stylesheet\" href=\"http://bits.csb.pitt.edu/asker.js/themes/asker.default.css\" />');\n",
    "\n",
    "\n",
    "//the callback is provided a canvas object and data \n",
    "var chartmaker = function(canvas, labels, data) {\n",
    "  var ctx = $(canvas).get(0).getContext(\"2d\");\n",
    "     var dataset = {labels: labels,                     \n",
    "    datasets:[{\n",
    "     data: data,\n",
    "     backgroundColor: \"rgba(150,64,150,0.5)\",\n",
    "         fillColor: \"rgba(150,64,150,0.8)\",    \n",
    "  }]};\n",
    "  var myBarChart = new Chart(ctx,{type:'bar',data:dataset,options:{legend: {display:false},\n",
    "        scales: {\n",
    "            yAxes: [{\n",
    "                ticks: {\n",
    "                    min: 0,\n",
    "                }\n",
    "            }]}}});\n",
    "};\n",
    "\n",
    "$(\".jp-InputArea .o:contains(html)\").closest('.jp-InputArea').hide();\n",
    "\n",
    "\n",
    "</script>\n"
   ]
  },
  {
   "cell_type": "markdown",
   "metadata": {
    "slideshow": {
     "slide_type": "slide"
    }
   },
   "source": [
    "# What is machine learning?\n",
    "\n",
    "*Machine learning is a subfield of computer science that evolved from the study of pattern recognition and computational learning theory in artificial intelligence. Machine learning explores the study and construction of algorithms that can learn from and make predictions on data.* --Wikipedia\n",
    "\n",
    "*Creating useful and/or predictive computational models from data* --dkoes"
   ]
  },
  {
   "cell_type": "markdown",
   "metadata": {
    "slideshow": {
     "slide_type": "slide"
    }
   },
   "source": [
    "# Unsupervised Learning\n",
    "\n",
    "Construct a model from unlabeled data.  That is, discover an underlying structure in the data.\n",
    "\n",
    "We've done this!\n",
    " * Clustering\n",
    " * Principal Components Analysis (PCA)\n",
    " * UMAP\n",
    " \n",
    "Also\n",
    " * Latent variable methods\n",
    " * Expectation-maximization\n",
    " * Self-organizing map"
   ]
  },
  {
   "cell_type": "code",
   "execution_count": 12,
   "metadata": {
    "slideshow": {
     "slide_type": "slide"
    }
   },
   "outputs": [
    {
     "data": {
      "image/png": "[encoded data removed]",
      "text/plain": [
       "<Figure size 432x288 with 1 Axes>"
      ]
     },
     "metadata": {
      "needs_background": "light"
     },
     "output_type": "display_data"
    }
   ],
   "source": [
    "import numpy as np\n",
    "import scipy.cluster.vq as vq #vq: vector quantization\n",
    "import matplotlib.pylab as plt\n",
    "%matplotlib inline\n",
    "randpts = np.vstack((np.random.randn(100,2)/(4,1),(np.random.randn(100,2)+(1,0))/(1,4)))\n",
    "(means,clusters) = vq.kmeans2(randpts,4)\n",
    "plt.scatter(randpts[:,0],randpts[:,1],c=clusters)\n",
    "plt.plot(means[:,0],means[:,1],'*',ms=20);"
   ]
  },
  {
   "cell_type": "markdown",
   "metadata": {
    "slideshow": {
     "slide_type": "slide"
    }
   },
   "source": [
    "# Supervised Learning\n",
    "\n",
    "Create a model from labeled data. The data consists of a set of *examples* where each example has a number of features *X* and a label *y*.\n",
    "\n",
    "Our assumption is that the label is a function of the features:\n",
    "$$y = f(X)$$  \n",
    "And our goal is to determine what f is. \n",
    "We want a model/estimator/classifier that accurately predicts *y* given an _X_.\n",
    "<div style=\"text-align: center; font-size: 150%\">$X \\rightarrow$<div style=\"display: inline-block; background-color: black; width: em; color: white; font-size: 120%; padding: 1em; font-weight: bold\">Model</div>$ \\rightarrow y$</div>\n"
   ]
  },
  {
   "cell_type": "markdown",
   "metadata": {
    "slideshow": {
     "slide_type": "slide"
    }
   },
   "source": [
    "# Labels\n",
    "\n",
    "There are two main types of supervised learning depending on the type of label.\n",
    "\n",
    "## Classification\n",
    "\n",
    "The label is one of a limited number of classes.\n",
    "Most commonly it is a binary label.\n",
    " * Will it rain tomorrow?\n",
    " * Is the protein overexpressed?\n",
    " * Do the cells die?\n",
    "\n",
    "## Regression\n",
    "\n",
    "The label is a continuous value.\n",
    " * How much precipitation will there be tomorrow?\n",
    " * What is the expression level of the protein?\n",
    " * What percent of the cells died?"
   ]
  },
  {
   "cell_type": "markdown",
   "metadata": {
    "slideshow": {
     "slide_type": "slide"
    }
   },
   "source": [
    "# Features\n",
    "\n",
    "The features, *X*, are what make each example distinct.  Ideally they contain enough information to predict _y_.\n",
    "The choice of features is critical and problem-specific.\n",
    "\n",
    "There are three main three main types:\n",
    " * Binary - zero or one\n",
    " * Nominal - one of a limited number of values\n",
    "   * low, medium, high\n",
    "   * nucleus, vacuole, cytoplasm\n",
    " * Numerical\n",
    " \n",
    "Not all classifiers can handle all three types, but we can inter-convert.\n",
    "\n",
    "How?"
   ]
  },
  {
   "cell_type": "markdown",
   "metadata": {
    "slideshow": {
     "slide_type": "slide"
    }
   },
   "source": [
    "# Example\n",
    "\n",
    "Let's use chemical fingerprints as features!"
   ]
  },
  {
   "cell_type": "code",
   "execution_count": 19,
   "metadata": {},
   "outputs": [
    {
     "name": "stdout",
     "output_type": "stream",
     "text": [
      "--2021-11-03 09:18:11--  https://asinansaglam.github.io/python_bio_2022/files/er.smi\r\n",
      "Resolving mscbio2025.csb.pitt.edu (mscbio2025.csb.pitt.edu)... 136.142.4.139\r\n",
      "Connecting to mscbio2025.csb.pitt.edu (mscbio2025.csb.pitt.edu)|136.142.4.139|:80... connected.\r\n",
      "HTTP request sent, awaiting response... 200 OK\r\n",
      "Length: 20022 (20K) [application/smil+xml]\r\n",
      "Saving to: ‘er.smi’\r\n",
      "\r\n",
      "\r",
      "er.smi                0%[                    ]       0  --.-KB/s               \r",
      "er.smi              100%[===================>]  19.55K  --.-KB/s    in 0.001s  \r\n",
      "\r\n",
      "2021-11-03 09:18:11 (35.2 MB/s) - ‘er.smi’ saved [20022/20022]\r\n",
      "\r\n"
     ]
    }
   ],
   "source": [
    "!wget https://asinansaglam.github.io/python_bio_2022/files/er.smi"
   ]
  },
  {
   "cell_type": "code",
   "execution_count": 14,
   "metadata": {
    "slideshow": {
     "slide_type": "slide"
    }
   },
   "outputs": [],
   "source": [
    "from openbabel import pybel\n",
    "yvals = []\n",
    "fps = []\n",
    "for mol in pybel.readfile('smi','er.smi'):\n",
    "    yvals.append(float(mol.title))\n",
    "    fpbits = mol.calcfp().bits\n",
    "    fp = np.zeros(1024)\n",
    "    fp[fpbits] = 1\n",
    "    fps.append(fp)\n",
    "    \n",
    "X = np.array(fps)\n",
    "y = np.array(yvals)"
   ]
  },
  {
   "cell_type": "code",
   "execution_count": 15,
   "metadata": {},
   "outputs": [
    {
     "data": {
      "text/plain": [
       "(387, 1024)"
      ]
     },
     "execution_count": 15,
     "metadata": {},
     "output_type": "execute_result"
    }
   ],
   "source": [
    "X.shape"
   ]
  },
  {
   "cell_type": "code",
   "execution_count": 16,
   "metadata": {},
   "outputs": [
    {
     "data": {
      "text/plain": [
       "array([0., 0., 0., ..., 0., 0., 0.])"
      ]
     },
     "execution_count": 16,
     "metadata": {},
     "output_type": "execute_result"
    }
   ],
   "source": [
    "X[0]"
   ]
  },
  {
   "cell_type": "markdown",
   "metadata": {
    "slideshow": {
     "slide_type": "slide"
    }
   },
   "source": [
    "The y-values, taken from the second column of the smiles file, are the logS solubility (I think)."
   ]
  },
  {
   "cell_type": "code",
   "execution_count": 17,
   "metadata": {
    "slideshow": {
     "slide_type": "-"
    }
   },
   "outputs": [
    {
     "data": {
      "image/png": "[encoded data removed]",
      "text/plain": [
       "<Figure size 432x288 with 1 Axes>"
      ]
     },
     "metadata": {
      "needs_background": "light"
     },
     "output_type": "display_data"
    }
   ],
   "source": [
    "plt.hist(y);"
   ]
  },
  {
   "cell_type": "code",
   "execution_count": 18,
   "metadata": {
    "slideshow": {
     "slide_type": "slide"
    }
   },
   "outputs": [
    {
     "data": {
      "text/html": [
       "<div id=\"classtype\" style=\"width: 500px\"></div>\n",
       "<script>\n",
       "$('head').append('<link rel=\"stylesheet\" href=\"http://bits.csb.pitt.edu/asker.js/themes/asker.default.css\" />');\n",
       "\n",
       "    var divid = '#classtype';\n",
       "\tjQuery(divid).asker({\n",
       "\t    id: divid,\n",
       "\t    question: \"What sort of problem is this??\",\n",
       "        answers: ['Classification','Regression','Unsupervised'],\n",
       "        server: \"http://bits.csb.pitt.edu/asker.js/example/asker.cgi\",\n",
       "\t\tcharter: chartmaker})\n",
       "    \n",
       "$(\".jp-InputArea .o:contains(html)\").closest('.jp-InputArea').hide();\n",
       "\n",
       "\n",
       "</script>\n"
      ],
      "text/plain": [
       "<IPython.core.display.HTML object>"
      ]
     },
     "metadata": {},
     "output_type": "display_data"
    }
   ],
   "source": [
    "%%html\n",
    "<div id=\"classtype\" style=\"width: 500px\"></div>\n",
    "<script>\n",
    "$('head').append('<link rel=\"stylesheet\" href=\"http://bits.csb.pitt.edu/asker.js/themes/asker.default.css\" />');\n",
    "\n",
    "    var divid = '#classtype';\n",
    "\tjQuery(divid).asker({\n",
    "\t    id: divid,\n",
    "\t    question: \"What sort of problem is this??\",\n",
    "        answers: ['Classification','Regression','Unsupervised'],\n",
    "        server: \"http://bits.csb.pitt.edu/asker.js/example/asker.cgi\",\n",
    "\t\tcharter: chartmaker})\n",
    "    \n",
    "$(\".jp-InputArea .o:contains(html)\").closest('.jp-InputArea').hide();\n",
    "\n",
    "\n",
    "</script>"
   ]
  },
  {
   "cell_type": "markdown",
   "metadata": {
    "slideshow": {
     "slide_type": "slide"
    }
   },
   "source": [
    "# `sklearn`\n",
    "\n",
    "[scikit-learn](http://scikit-learn.org/stable/) provides a complete set machine learning tools.\n",
    "\n",
    "* Classification\n",
    "* Regression\n",
    "* Clustering\n",
    "* Dimensionality reduction\n",
    "* Model selection and evaluation\n",
    "* Preprocessing"
   ]
  },
  {
   "cell_type": "code",
   "execution_count": 20,
   "metadata": {},
   "outputs": [],
   "source": [
    "import sklearn"
   ]
  },
  {
   "cell_type": "markdown",
   "metadata": {
    "slideshow": {
     "slide_type": "slide"
    }
   },
   "source": [
    "# Linear Model\n",
    "\n",
    "One of the simplest models is a linear regression, where the goal is to find weights *w* to minimize:\n",
    "$$\\sum(Xw - y)^2$$\n",
    "\n",
    "<table>\n",
    "<tr>\n",
    "<td>\n",
    "<img src=\"https://upload.wikimedia.org/wikipedia/commons/thumb/3/3a/Linear_regression.svg/400px-Linear_regression.svg.png\"></td><td>\n",
    "<img src=\"http://fab.cba.mit.edu/classes/864.11/people/Moritz_Kassner/img/blue_plane.png\"></td></tr>\n",
    "</table>"
   ]
  },
  {
   "cell_type": "code",
   "execution_count": 21,
   "metadata": {
    "slideshow": {
     "slide_type": "slide"
    }
   },
   "outputs": [
    {
     "data": {
      "text/html": [
       "<div id=\"wshape\" style=\"width: 500px\"></div>\n",
       "<script>\n",
       "$('head').append('<link rel=\"stylesheet\" href=\"http://bits.csb.pitt.edu/asker.js/themes/asker.default.css\" />');\n",
       "\n",
       "    var divid = '#wshape';\n",
       "\tjQuery(divid).asker({\n",
       "\t    id: divid,\n",
       "\t    question: \"What is the shape of w?\",\n",
       "        answers: ['387','1024','(378,1024)','(1024,387)',\"I've never taken matrix algebra\"],\n",
       "        server: \"http://bits.csb.pitt.edu/asker.js/example/asker.cgi\",\n",
       "\t\tcharter: chartmaker})\n",
       "    \n",
       "$(\".jp-InputArea .o:contains(html)\").closest('.jp-InputArea').hide();\n",
       "\n",
       "\n",
       "</script>\n"
      ],
      "text/plain": [
       "<IPython.core.display.HTML object>"
      ]
     },
     "metadata": {},
     "output_type": "display_data"
    }
   ],
   "source": [
    "%%html\n",
    "<div id=\"wshape\" style=\"width: 500px\"></div>\n",
    "<script>\n",
    "$('head').append('<link rel=\"stylesheet\" href=\"http://bits.csb.pitt.edu/asker.js/themes/asker.default.css\" />');\n",
    "\n",
    "    var divid = '#wshape';\n",
    "\tjQuery(divid).asker({\n",
    "\t    id: divid,\n",
    "\t    question: \"What is the shape of w?\",\n",
    "        answers: ['387','1024','(378,1024)','(1024,387)',\"I've never taken matrix algebra\"],\n",
    "        server: \"http://bits.csb.pitt.edu/asker.js/example/asker.cgi\",\n",
    "\t\tcharter: chartmaker})\n",
    "    \n",
    "$(\".jp-InputArea .o:contains(html)\").closest('.jp-InputArea').hide();\n",
    "\n",
    "\n",
    "</script>"
   ]
  },
  {
   "cell_type": "markdown",
   "metadata": {
    "slideshow": {
     "slide_type": "slide"
    }
   },
   "source": [
    "# Linear Model\n",
    "\n",
    "`sklearn` has a uniform interface for all its models:"
   ]
  },
  {
   "cell_type": "code",
   "execution_count": 22,
   "metadata": {},
   "outputs": [],
   "source": [
    "from sklearn import linear_model\n",
    "model = linear_model.LinearRegression() # create the model\n",
    "model.fit(X,y) # fit the model to the data\n",
    "p = model.predict(X) # make predictions with the model"
   ]
  },
  {
   "cell_type": "code",
   "execution_count": 25,
   "metadata": {},
   "outputs": [
    {
     "data": {
      "image/png": "[encoded data removed]",
      "text/plain": [
       "<Figure size 432x288 with 1 Axes>"
      ]
     },
     "metadata": {
      "needs_background": "light"
     },
     "output_type": "display_data"
    }
   ],
   "source": [
    "plt.scatter(y,p); plt.xlabel('True'); plt.ylabel('Predict');"
   ]
  },
  {
   "cell_type": "markdown",
   "metadata": {
    "slideshow": {
     "slide_type": "slide"
    }
   },
   "source": [
    "Let's reframe this is a classification problem for illustrative purposes..."
   ]
  },
  {
   "cell_type": "code",
   "execution_count": 26,
   "metadata": {},
   "outputs": [],
   "source": [
    "ylabel = y > -1\n",
    "plabel = p > -1"
   ]
  },
  {
   "cell_type": "markdown",
   "metadata": {
    "slideshow": {
     "slide_type": "slide"
    }
   },
   "source": [
    "# Evaluating Predictions\n",
    "\n",
    "There are a number of ways to evaluate how good a prediction is.\n",
    " * *TP* true positive, a correctly predicted positive example\n",
    " * *TN*  true negatie, a correctly predicted negative example\n",
    " * *FP* false positive, a negative example incorrectly predicted as positive\n",
    " * *FN* false negative, a positive example incorrectly predicted as negative\n",
    " * *P* total number of positives (*TP* + *FN*)\n",
    " * *N* total number of negatives (*TN* + *FP*)\n",
    "\n",
    "Accuracy: $\\frac{TP+TN}{P+N}$"
   ]
  },
  {
   "cell_type": "code",
   "execution_count": 27,
   "metadata": {},
   "outputs": [
    {
     "data": {
      "text/plain": [
       "0.9431524547803618"
      ]
     },
     "execution_count": 27,
     "metadata": {},
     "output_type": "execute_result"
    }
   ],
   "source": [
    "from sklearn.metrics import * #pull in accuracy score, amount other things\n",
    "accuracy_score(ylabel, plabel)"
   ]
  },
  {
   "cell_type": "markdown",
   "metadata": {
    "slideshow": {
     "slide_type": "slide"
    }
   },
   "source": [
    "# Confusion matrix\n",
    "\n",
    "The confusion matrix compares the predicted class to the actual class."
   ]
  },
  {
   "cell_type": "code",
   "execution_count": 28,
   "metadata": {},
   "outputs": [
    {
     "name": "stdout",
     "output_type": "stream",
     "text": [
      "[[200  12]\n",
      " [ 10 165]]\n"
     ]
    }
   ],
   "source": [
    "print(confusion_matrix(ylabel,plabel))"
   ]
  },
  {
   "cell_type": "markdown",
   "metadata": {},
   "source": [
    "This corresponds to:"
   ]
  },
  {
   "cell_type": "code",
   "execution_count": 29,
   "metadata": {},
   "outputs": [
    {
     "name": "stdout",
     "output_type": "stream",
     "text": [
      "[['TN' 'FP']\n",
      " ['FN' 'TP']]\n"
     ]
    }
   ],
   "source": [
    "print(np.array([['TN', 'FP'],['FN','TP']]))"
   ]
  },
  {
   "cell_type": "markdown",
   "metadata": {
    "slideshow": {
     "slide_type": "slide"
    }
   },
   "source": [
    "# Other measures\n",
    "\n",
    "Precision. Of those predicted true, how may are accurate? $\\frac{TP}{TP+FP}$\n",
    "\n",
    "Recall (true positive rate). How many of the true examples were retrieved? $\\frac{TP}{P}$\n",
    "\n",
    "F1 Score. The geometric mean of precision and recall. $\\frac{2TP}{2TP+FP+FN}$"
   ]
  },
  {
   "cell_type": "code",
   "execution_count": 30,
   "metadata": {},
   "outputs": [
    {
     "name": "stdout",
     "output_type": "stream",
     "text": [
      "              precision    recall  f1-score   support\n",
      "\n",
      "       False       0.95      0.94      0.95       212\n",
      "        True       0.93      0.94      0.94       175\n",
      "\n",
      "    accuracy                           0.94       387\n",
      "   macro avg       0.94      0.94      0.94       387\n",
      "weighted avg       0.94      0.94      0.94       387\n",
      "\n"
     ]
    }
   ],
   "source": [
    "print(classification_report(ylabel,plabel))"
   ]
  },
  {
   "cell_type": "code",
   "execution_count": 31,
   "metadata": {
    "slideshow": {
     "slide_type": "slide"
    }
   },
   "outputs": [
    {
     "data": {
      "text/html": [
       "<div id=\"confq\" style=\"width: 500px\"></div>\n",
       "<script>\n",
       "$('head').append('<link rel=\"stylesheet\" href=\"http://bits.csb.pitt.edu/asker.js/themes/asker.default.css\" />');\n",
       "\n",
       "    var divid = '#confq';\n",
       "\tjQuery(divid).asker({\n",
       "\t    id: divid,\n",
       "\t    question: \"What would the recall be if our classifer predicted everything as true?\",\n",
       "        answers: ['0','81/306','0.5','1.0'],\n",
       "        server: \"http://bits.csb.pitt.edu/asker.js/example/asker.cgi\",\n",
       "\t\tcharter: chartmaker})\n",
       "    \n",
       "$(\".jp-InputArea .o:contains(html)\").closest('.jp-InputArea').hide();\n",
       "\n",
       "\n",
       "</script>\n"
      ],
      "text/plain": [
       "<IPython.core.display.HTML object>"
      ]
     },
     "metadata": {},
     "output_type": "display_data"
    }
   ],
   "source": [
    "%%html\n",
    "<div id=\"confq\" style=\"width: 500px\"></div>\n",
    "<script>\n",
    "$('head').append('<link rel=\"stylesheet\" href=\"http://bits.csb.pitt.edu/asker.js/themes/asker.default.css\" />');\n",
    "\n",
    "    var divid = '#confq';\n",
    "\tjQuery(divid).asker({\n",
    "\t    id: divid,\n",
    "\t    question: \"What would the recall be if our classifer predicted everything as true?\",\n",
    "        answers: ['0','81/306','0.5','1.0'],\n",
    "        server: \"http://bits.csb.pitt.edu/asker.js/example/asker.cgi\",\n",
    "\t\tcharter: chartmaker})\n",
    "    \n",
    "$(\".jp-InputArea .o:contains(html)\").closest('.jp-InputArea').hide();\n",
    "\n",
    "\n",
    "</script>"
   ]
  },
  {
   "cell_type": "markdown",
   "metadata": {
    "slideshow": {
     "slide_type": "slide"
    }
   },
   "source": [
    "# ROC Curves\n",
    "\n",
    "The previous metrics work on classification results (yes or no).  Many models are capable of producing scores or probabilities (recall we had to threshold our results).  The classification performance then depends on what score threshold is chosen to distinguish the two classes.\n",
    "\n",
    "ROC curves plot the false positive rate and true positive rate as this treshold is changed."
   ]
  },
  {
   "cell_type": "code",
   "execution_count": 32,
   "metadata": {
    "slideshow": {
     "slide_type": "slide"
    }
   },
   "outputs": [
    {
     "data": {
      "image/png": "[encoded data removed]",
      "text/plain": [
       "<Figure size 432x288 with 1 Axes>"
      ]
     },
     "metadata": {
      "needs_background": "light"
     },
     "output_type": "display_data"
    }
   ],
   "source": [
    "fpr, tpr, thresholds = roc_curve(ylabel, p)  #not using rounded values\n",
    "plt.plot(fpr,tpr,linewidth=4,clip_on=False)\n",
    "plt.xlabel(\"FPR\"); plt.ylabel(\"TPR\")\n",
    "plt.gca().set_aspect('equal')\n",
    "plt.ylim(0,1); plt.xlim(0,1); plt.show()"
   ]
  },
  {
   "cell_type": "markdown",
   "metadata": {
    "slideshow": {
     "slide_type": "slide"
    }
   },
   "source": [
    "# AUC\n",
    "\n",
    "The area under the ROC curve (AUC) has a statistical meaning. It is equal to the probability that the classifier will rank a randomly chosen positive example higher than a randomly chosen negative example.\n",
    "\n",
    "An AUC of one is perfect prediction.\n",
    "\n",
    "An AUC of 0.5 is the same as random."
   ]
  },
  {
   "cell_type": "code",
   "execution_count": 33,
   "metadata": {
    "slideshow": {
     "slide_type": "slide"
    }
   },
   "outputs": [
    {
     "name": "stdout",
     "output_type": "stream",
     "text": [
      "0.5159029649595687\n"
     ]
    },
    {
     "data": {
      "image/png": "[encoded data removed]",
      "text/plain": [
       "<Figure size 432x288 with 1 Axes>"
      ]
     },
     "metadata": {
      "needs_background": "light"
     },
     "output_type": "display_data"
    }
   ],
   "source": [
    "np.random.shuffle(p)\n",
    "fpr, tpr, thresholds = roc_curve(ylabel, p)  \n",
    "plt.plot(fpr,tpr,linewidth=3); plt.xlabel(\"FPR\"); plt.ylabel(\"TPR\"); plt.ylim(0,1); plt.xlim(0,1)\n",
    "plt.gca().set_aspect('equal')\n",
    "\n",
    "print(roc_auc_score(ylabel,p))"
   ]
  },
  {
   "cell_type": "markdown",
   "metadata": {
    "slideshow": {
     "slide_type": "slide"
    }
   },
   "source": [
    "# Correct Model Evaluation\n",
    "\n",
    "We are most interested in *generalization error*: the ability of the model to predict **new** data that was not part of the training set.\n",
    "\n",
    "We have been evaluating how well our model can fit the training data.  This is usually irrelevant.\n",
    "\n",
    "In order to assess the *predictiveness* of the model, we must use it to predict data it has not been trained on."
   ]
  },
  {
   "cell_type": "markdown",
   "metadata": {
    "slideshow": {
     "slide_type": "slide"
    }
   },
   "source": [
    "# Cross Validation\n",
    "\n",
    "In cross validation we train on a portion of the data and test on the remainder.\n",
    "\n",
    "### K-Fold Cross Validation\n",
    " * split data into *k* parts, or folds\n",
    " * train *k* models, each using a different set of k-1 folds\n",
    " * evaluate on held out set\n",
    " \n",
    " If k == n, called leave-one-out cross validation.\n",
    " \n",
    " <img width=\"600\" src=\"http://i.stack.imgur.com/1fXzJ.png\">"
   ]
  },
  {
   "cell_type": "code",
   "execution_count": 34,
   "metadata": {
    "slideshow": {
     "slide_type": "slide"
    }
   },
   "outputs": [
    {
     "data": {
      "text/html": [
       "<div id=\"crossq\" style=\"width: 500px\"></div>\n",
       "<script>\n",
       "$('head').append('<link rel=\"stylesheet\" href=\"http://bits.csb.pitt.edu/asker.js/themes/asker.default.css\" />');\n",
       "\n",
       "    var divid = '#crossq';\n",
       "\tjQuery(divid).asker({\n",
       "\t    id: divid,\n",
       "\t    question: \"In 5-fold cross validation, on average, how many times will a given example be in the training set?\",\n",
       "        answers: ['0','1','2.5','4','5'],\n",
       "        server: \"http://bits.csb.pitt.edu/asker.js/example/asker.cgi\",\n",
       "\t\tcharter: chartmaker})\n",
       "    \n",
       "$(\".jp-InputArea .o:contains(html)\").closest('.jp-InputArea').hide();\n",
       "\n",
       "\n",
       "</script>\n"
      ],
      "text/plain": [
       "<IPython.core.display.HTML object>"
      ]
     },
     "metadata": {},
     "output_type": "display_data"
    }
   ],
   "source": [
    "%%html\n",
    "<div id=\"crossq\" style=\"width: 500px\"></div>\n",
    "<script>\n",
    "$('head').append('<link rel=\"stylesheet\" href=\"http://bits.csb.pitt.edu/asker.js/themes/asker.default.css\" />');\n",
    "\n",
    "    var divid = '#crossq';\n",
    "\tjQuery(divid).asker({\n",
    "\t    id: divid,\n",
    "\t    question: \"In 5-fold cross validation, on average, how many times will a given example be in the training set?\",\n",
    "        answers: ['0','1','2.5','4','5'],\n",
    "        server: \"http://bits.csb.pitt.edu/asker.js/example/asker.cgi\",\n",
    "\t\tcharter: chartmaker})\n",
    "    \n",
    "$(\".jp-InputArea .o:contains(html)\").closest('.jp-InputArea').hide();\n",
    "\n",
    "\n",
    "</script>"
   ]
  },
  {
   "cell_type": "markdown",
   "metadata": {
    "slideshow": {
     "slide_type": "slide"
    }
   },
   "source": [
    "# Cross Validation\n",
    "\n",
    "`sklearn` implement a number of cross validation variants.  They provide a way to generate test/train sets."
   ]
  },
  {
   "cell_type": "code",
   "execution_count": 35,
   "metadata": {},
   "outputs": [],
   "source": [
    "from sklearn.model_selection import KFold\n",
    "kf = KFold(n_splits=5)\n",
    "accuracies = []; rocs = []\n",
    "for train,test in kf.split(X): # these are arrays of indices\n",
    "    model = linear_model.LinearRegression() \n",
    "    model.fit(X[train],y[train]) #slice out the training folds\n",
    "    p = model.predict(X[test]) #slice out the test fold\n",
    "    accuracies.append(accuracy_score(ylabel[test],p > -1))\n",
    "    fpr, tpr, thresholds = roc_curve(ylabel[test], p)  \n",
    "    rocs.append( (fpr,tpr, roc_auc_score(ylabel[test], p)))"
   ]
  },
  {
   "cell_type": "code",
   "execution_count": 36,
   "metadata": {
    "slideshow": {
     "slide_type": "slide"
    }
   },
   "outputs": [
    {
     "name": "stdout",
     "output_type": "stream",
     "text": [
      "[0.6794871794871795, 0.5384615384615384, 0.4935064935064935, 0.5584415584415584, 0.6103896103896104]\n",
      "Average accuracy: 0.5760572760572761\n"
     ]
    }
   ],
   "source": [
    "print(accuracies)\n",
    "print(\"Average accuracy:\",np.mean(accuracies))"
   ]
  },
  {
   "cell_type": "code",
   "execution_count": 37,
   "metadata": {
    "slideshow": {
     "slide_type": "-"
    }
   },
   "outputs": [
    {
     "data": {
      "text/plain": [
       "0.5478036175710594"
      ]
     },
     "execution_count": 37,
     "metadata": {},
     "output_type": "execute_result"
    }
   ],
   "source": [
    "np.count_nonzero(ylabel==0)/float(len(ylabel))"
   ]
  },
  {
   "cell_type": "code",
   "execution_count": 38,
   "metadata": {},
   "outputs": [
    {
     "data": {
      "image/png": "[encoded data removed]",
      "text/plain": [
       "<Figure size 432x288 with 1 Axes>"
      ]
     },
     "metadata": {
      "needs_background": "light"
     },
     "output_type": "display_data"
    }
   ],
   "source": [
    "for roc in rocs:\n",
    "    plt.plot(roc[0],roc[1],label=\"AUC %.2f\" %roc[2]); \n",
    "plt.gca().set_aspect('equal')\n",
    "plt.xlabel(\"FPR\"); plt.ylabel(\"TPR\"); plt.ylim(0,1); plt.xlim(0,1); plt.legend(loc='best'); plt.show()"
   ]
  },
  {
   "cell_type": "markdown",
   "metadata": {
    "slideshow": {
     "slide_type": "slide"
    }
   },
   "source": [
    "## Alternatively..."
   ]
  },
  {
   "cell_type": "code",
   "execution_count": 49,
   "metadata": {},
   "outputs": [
    {
     "data": {
      "text/plain": [
       "{'fit_time': array([0.10693192, 0.14133501, 0.09526706, 0.10032511, 0.09746909]),\n",
       " 'score_time': array([0.00554419, 0.01018572, 0.01348901, 0.00984788, 0.00208616]),\n",
       " 'test_roc_auc': array([0.60723684, 0.39027778, 0.43851351, 0.63444444, 0.63022942])}"
      ]
     },
     "execution_count": 49,
     "metadata": {},
     "output_type": "execute_result"
    }
   ],
   "source": [
    "from sklearn.model_selection import cross_validate\n",
    "\n",
    "cross_validate(linear_model.LinearRegression(),X,y > -1,cv=5,scoring=['roc_auc'])"
   ]
  },
  {
   "cell_type": "code",
   "execution_count": 50,
   "metadata": {
    "slideshow": {
     "slide_type": "slide"
    }
   },
   "outputs": [
    {
     "data": {
      "text/html": [
       "<div id=\"howgood\" style=\"width: 500px\"></div>\n",
       "<script>\n",
       "$('head').append('<link rel=\"stylesheet\" href=\"http://bits.csb.pitt.edu/asker.js/themes/asker.default.css\" />');\n",
       "\n",
       "    var divid = '#howgood';\n",
       "\tjQuery(divid).asker({\n",
       "\t    id: divid,\n",
       "\t    question: \"How good is the predictiveness of our model?\",\n",
       "        answers: ['A','B','C','D'],\n",
       "\t\textra: ['Still Perfect','Not perfect, but still good','Not great, but better than random','Horrible'],\n",
       "        server: \"http://bits.csb.pitt.edu/asker.js/example/asker.cgi\",\n",
       "\t\tcharter: chartmaker})\n",
       "    \n",
       "$(\".jp-InputArea .o:contains(html)\").closest('.jp-InputArea').hide();\n",
       "\n",
       "\n",
       "</script>\n"
      ],
      "text/plain": [
       "<IPython.core.display.HTML object>"
      ]
     },
     "metadata": {},
     "output_type": "display_data"
    }
   ],
   "source": [
    "%%html\n",
    "<div id=\"howgood\" style=\"width: 500px\"></div>\n",
    "<script>\n",
    "$('head').append('<link rel=\"stylesheet\" href=\"http://bits.csb.pitt.edu/asker.js/themes/asker.default.css\" />');\n",
    "\n",
    "    var divid = '#howgood';\n",
    "\tjQuery(divid).asker({\n",
    "\t    id: divid,\n",
    "\t    question: \"How good is the predictiveness of our model?\",\n",
    "        answers: ['A','B','C','D'],\n",
    "\t\textra: ['Still Perfect','Not perfect, but still good','Not great, but better than random','Horrible'],\n",
    "        server: \"http://bits.csb.pitt.edu/asker.js/example/asker.cgi\",\n",
    "\t\tcharter: chartmaker})\n",
    "    \n",
    "$(\".jp-InputArea .o:contains(html)\").closest('.jp-InputArea').hide();\n",
    "\n",
    "\n",
    "</script>"
   ]
  },
  {
   "cell_type": "markdown",
   "metadata": {
    "slideshow": {
     "slide_type": "slide"
    }
   },
   "source": [
    "# Generalization Error\n",
    "\n",
    "There are several sources of generalization error:\n",
    " * overfitting - using artifacts of the data to make predictions\n",
    "   * our data set has 387 examples and 1024 features\n",
    " * insufficient data - not enough or not the right kind\n",
    " * inappropriate model - isn't capable of representing reality\n",
    " \n",
    "A large different between cross-validation performance and fit (test-on-train) performance indicates overfitting.\n",
    "\n",
    "One way to reduce overfitting is to reduce the number of features used for training (this is called *feature selection*)."
   ]
  },
  {
   "cell_type": "markdown",
   "metadata": {
    "slideshow": {
     "slide_type": "slide"
    }
   },
   "source": [
    "# LASSO\n",
    "\n",
    "Lasso is a modified form of linear regression that includes a *regularization* parameter $\\alpha$\n",
    "$$\\sum(Xw - y)^2 + \\alpha\\sum|w|$$\n",
    "\n",
    "The higher the value of $\\alpha$, the greater the penalty for having non-zero weights.  This has the effect of driving weights to zero and selecting fewer features for the model.\n"
   ]
  },
  {
   "cell_type": "code",
   "execution_count": 51,
   "metadata": {},
   "outputs": [],
   "source": [
    "kf = KFold(n_splits=5)\n",
    "accuracies = []; rocs = []\n",
    "for train,test in kf.split(X): # these are arrays of indices\n",
    "    model = linear_model.Lasso(alpha=0.005) \n",
    "    model.fit(X[train],y[train]) #slice out the training folds\n",
    "    p = model.predict(X[test]) #slice out the test fold\n",
    "    accuracies.append(accuracy_score(ylabel[test],p > 0))\n",
    "    fpr, tpr, thresholds = roc_curve(ylabel[test], p)  \n",
    "    rocs.append( (fpr,tpr, roc_auc_score(ylabel[test],p)))"
   ]
  },
  {
   "cell_type": "code",
   "execution_count": 52,
   "metadata": {
    "slideshow": {
     "slide_type": "slide"
    }
   },
   "outputs": [
    {
     "name": "stdout",
     "output_type": "stream",
     "text": [
      "[0.6666666666666666, 0.7948717948717948, 0.6493506493506493, 0.8051948051948052, 0.7402597402597403]\n",
      "Average accuracy: 0.7312687312687312\n"
     ]
    }
   ],
   "source": [
    "print(accuracies)\n",
    "print(\"Average accuracy:\",np.mean(accuracies))"
   ]
  },
  {
   "cell_type": "code",
   "execution_count": 53,
   "metadata": {},
   "outputs": [
    {
     "data": {
      "image/png": "[encoded data removed]",
      "text/plain": [
       "<Figure size 432x288 with 1 Axes>"
      ]
     },
     "metadata": {
      "needs_background": "light"
     },
     "output_type": "display_data"
    }
   ],
   "source": [
    "for roc in rocs:\n",
    "    plt.plot(roc[0],roc[1],label=\"AUC %.2f\" %roc[2]); \n",
    "plt.gca().set_aspect('equal')    \n",
    "plt.xlabel(\"FPR\"); plt.ylabel(\"TPR\"); plt.ylim(0,1); plt.xlim(0,1); plt.legend(loc='best'); plt.show()"
   ]
  },
  {
   "cell_type": "markdown",
   "metadata": {
    "slideshow": {
     "slide_type": "slide"
    }
   },
   "source": [
    "# Lasso vs. LinearRegression"
   ]
  },
  {
   "cell_type": "code",
   "execution_count": 54,
   "metadata": {},
   "outputs": [],
   "source": [
    "linmodel = linear_model.LinearRegression() \n",
    "linmodel.fit(X,y) \n",
    "lassomodel = linear_model.Lasso(alpha=0.005) \n",
    "lassomodel.fit(X,y);"
   ]
  },
  {
   "cell_type": "markdown",
   "metadata": {},
   "source": [
    "The Lasso model is much simpler"
   ]
  },
  {
   "cell_type": "code",
   "execution_count": 55,
   "metadata": {},
   "outputs": [
    {
     "name": "stdout",
     "output_type": "stream",
     "text": [
      "Nonzero coefficients in linear: 881\n",
      "Nonzero coefficients in LASSO: 64\n"
     ]
    }
   ],
   "source": [
    "print(\"Nonzero coefficients in linear:\",np.count_nonzero(linmodel.coef_))\n",
    "print(\"Nonzero coefficients in LASSO:\",np.count_nonzero(lassomodel.coef_))"
   ]
  },
  {
   "cell_type": "markdown",
   "metadata": {
    "collapsed": true,
    "slideshow": {
     "slide_type": "slide"
    }
   },
   "source": [
    "# Model Parameter Optimization\n",
    "\n",
    "Most classifiers have parameters, like $\\alpha$ in Lasso, that can be set to change the classification behavior.\n",
    "\n",
    "A key part of training a model is figuring out what parameters to use.\n",
    "\n",
    "This is typically done by a brute-force grid search (i.e., try a bunch of values and see which ones work)"
   ]
  },
  {
   "cell_type": "code",
   "execution_count": 56,
   "metadata": {},
   "outputs": [
    {
     "data": {
      "text/plain": [
       "{'alpha': 0.005}"
      ]
     },
     "execution_count": 56,
     "metadata": {},
     "output_type": "execute_result"
    }
   ],
   "source": [
    "from sklearn import model_selection\n",
    "#setup grid search with default 5-fold CV and scoring\n",
    "searcher = model_selection.GridSearchCV(linear_model.Lasso(max_iter=10000), {'alpha': [0.001,0.005,0.01,0.1]})\n",
    "searcher.fit(X,y)\n",
    "searcher.best_params_"
   ]
  },
  {
   "cell_type": "markdown",
   "metadata": {
    "slideshow": {
     "slide_type": "slide"
    }
   },
   "source": [
    "# Model specific optimization\n",
    "\n",
    "Some classifiers (mostly linear models) can identify optimal parameters more efficiently and have a \"CV\" version that automatically determines the best parameters."
   ]
  },
  {
   "cell_type": "code",
   "execution_count": 57,
   "metadata": {},
   "outputs": [
    {
     "data": {
      "text/plain": [
       "LassoCV(max_iter=10000, n_jobs=8)"
      ]
     },
     "execution_count": 57,
     "metadata": {},
     "output_type": "execute_result"
    }
   ],
   "source": [
    "lassomodel = linear_model.LassoCV(n_jobs=8,max_iter=10000)\n",
    "lassomodel.fit(X,y)"
   ]
  },
  {
   "cell_type": "code",
   "execution_count": 58,
   "metadata": {},
   "outputs": [
    {
     "data": {
      "text/plain": [
       "0.00455203947849711"
      ]
     },
     "execution_count": 58,
     "metadata": {},
     "output_type": "execute_result"
    }
   ],
   "source": [
    "lassomodel.alpha_"
   ]
  },
  {
   "cell_type": "markdown",
   "metadata": {
    "collapsed": true,
    "slideshow": {
     "slide_type": "slide"
    }
   },
   "source": [
    "# Support Vector Machine (SVM)\n",
    "\n",
    "A support vector machine is orthogonal to a linear model - it attempts to find a plane that *separates* the classes of data with the maximum *margin*.\n",
    "\n",
    "<img  src=\"http://docs.opencv.org/2.4/_images/optimal-hyperplane.png\">\n",
    "\n",
    "There are two key parameters in an SVM: the kernel and the penalty term (and some kernels may have additional parameters)."
   ]
  },
  {
   "cell_type": "markdown",
   "metadata": {
    "slideshow": {
     "slide_type": "slide"
    }
   },
   "source": [
    "# SVM Kernels\n",
    "\n",
    "A kernel function, $\\phi$, is a transformation of the input data that let's us apply SVM (linear separation) to problems that are not linearly separable.\n",
    "\n",
    "<img src=\"http://upload.wikimedia.org/wikipedia/commons/1/1b/Kernel_Machine.png\">"
   ]
  },
  {
   "cell_type": "markdown",
   "metadata": {
    "slideshow": {
     "slide_type": "slide"
    }
   },
   "source": [
    "<img src=\"https://scikit-learn.org/0.18/_images/sphx_glr_plot_iris_001.png\">"
   ]
  },
  {
   "cell_type": "markdown",
   "metadata": {
    "slideshow": {
     "slide_type": "slide"
    }
   },
   "source": [
    "# Training SVM\n",
    "\n",
    "We can get both the *predictions* (0 or 1) from the SVM as well as *probabilities*, a confidence in how accurate the predictions are.  We use the probabilities to compute the ROC curve."
   ]
  },
  {
   "cell_type": "code",
   "execution_count": 59,
   "metadata": {
    "slideshow": {
     "slide_type": "-"
    }
   },
   "outputs": [],
   "source": [
    "from sklearn import svm\n",
    "kf = KFold(n_splits=5)\n",
    "accuracies = []; rocs = []\n",
    "for train,test in kf.split(X): # these are arrays of indices\n",
    "    model = svm.SVC(probability=True) \n",
    "    model.fit(X[train],ylabel[train]) #slice out the training folds\n",
    "    p = model.predict(X[test]) # prediction (0 or 1)\n",
    "    probs = model.predict_proba(X[test])[:,1] #probability of being 1\n",
    "    accuracies.append(accuracy_score(ylabel[test],p))\n",
    "    fpr, tpr, thresholds = roc_curve(ylabel[test], probs)  \n",
    "    rocs.append( (fpr,tpr, roc_auc_score(ylabel[test],probs)))"
   ]
  },
  {
   "cell_type": "markdown",
   "metadata": {
    "slideshow": {
     "slide_type": "slide"
    }
   },
   "source": [
    "# Training SVM"
   ]
  },
  {
   "cell_type": "code",
   "execution_count": 60,
   "metadata": {},
   "outputs": [
    {
     "name": "stdout",
     "output_type": "stream",
     "text": [
      "[0.6923076923076923, 0.7307692307692307, 0.6883116883116883, 0.7922077922077922, 0.6753246753246753]\n",
      "Average accuracy: 0.7157842157842158\n"
     ]
    }
   ],
   "source": [
    "print(accuracies)\n",
    "print(\"Average accuracy:\",np.mean(accuracies))"
   ]
  },
  {
   "cell_type": "code",
   "execution_count": 61,
   "metadata": {},
   "outputs": [
    {
     "data": {
      "image/png": "[encoded data removed]",
      "text/plain": [
       "<Figure size 432x288 with 1 Axes>"
      ]
     },
     "metadata": {
      "needs_background": "light"
     },
     "output_type": "display_data"
    }
   ],
   "source": [
    "for roc in rocs:\n",
    "    plt.plot(roc[0],roc[1],label=\"AUC %.2f\" %roc[2]); \n",
    "plt.gca().set_aspect('equal')\n",
    "plt.xlabel(\"FPR\"); plt.ylabel(\"TPR\"); plt.ylim(0,1); plt.xlim(0,1); plt.legend(loc='best'); plt.show()"
   ]
  },
  {
   "cell_type": "markdown",
   "metadata": {
    "slideshow": {
     "slide_type": "slide"
    }
   },
   "source": [
    "# Training SVM"
   ]
  },
  {
   "cell_type": "code",
   "execution_count": 62,
   "metadata": {
    "slideshow": {
     "slide_type": "-"
    }
   },
   "outputs": [
    {
     "data": {
      "text/plain": [
       "GridSearchCV(estimator=SVC(), n_jobs=-1,\n",
       "             param_grid={'C': [1, 10, 100, 1000], 'kernel': ['linear', 'rbf']},\n",
       "             scoring='roc_auc')"
      ]
     },
     "execution_count": 62,
     "metadata": {},
     "output_type": "execute_result"
    }
   ],
   "source": [
    "from sklearn import model_selection\n",
    "searcher = model_selection.GridSearchCV(svm.SVC(), {'kernel': ['linear','rbf'],'C': [1,10,100,1000]},scoring='roc_auc',n_jobs=-1)\n",
    "searcher.fit(X,ylabel)"
   ]
  },
  {
   "cell_type": "code",
   "execution_count": 63,
   "metadata": {},
   "outputs": [
    {
     "name": "stdout",
     "output_type": "stream",
     "text": [
      "Best AUC: 0.8149612403100776\n",
      "Parameters {'C': 10, 'kernel': 'rbf'}\n"
     ]
    }
   ],
   "source": [
    "print(\"Best AUC:\",searcher.best_score_)\n",
    "print(\"Parameters\",searcher.best_params_)"
   ]
  },
  {
   "cell_type": "markdown",
   "metadata": {
    "slideshow": {
     "slide_type": "slide"
    }
   },
   "source": [
    "# Nearest Neighbors (NN)\n",
    "\n",
    "Nearest Neighbors models classify new points based on the values of the closest points in the training set.\n",
    "\n",
    "<img width=\"400\" src=\"http://scikit-learn.org/stable/_images/sphx_glr_plot_classification_001.png\">\n",
    "\n",
    "The main parameter is $k$, the number of neighbors to consider, and the method of combining the neighbor results."
   ]
  },
  {
   "cell_type": "markdown",
   "metadata": {
    "slideshow": {
     "slide_type": "slide"
    }
   },
   "source": [
    "# Training NN"
   ]
  },
  {
   "cell_type": "code",
   "execution_count": 64,
   "metadata": {},
   "outputs": [],
   "source": [
    "from sklearn import neighbors\n",
    "kf = KFold(n_splits=5)\n",
    "accuracies = []; rocs = []\n",
    "for train,test in kf.split(X): # these are arrays of indices\n",
    "    model = neighbors.KNeighborsClassifier() # defaults to k=5\n",
    "    model.fit(X[train],ylabel[train]) #slice out the training folds\n",
    "    p = model.predict(X[test]) # prediction (0 or 1)\n",
    "    probs = model.predict_proba(X[test])[:,1] #probability of being 1\n",
    "    accuracies.append(accuracy_score(ylabel[test],p))\n",
    "    fpr, tpr, thresholds = roc_curve(ylabel[test], probs)  \n",
    "    rocs.append( (fpr,tpr, roc_auc_score(ylabel[test],probs)))"
   ]
  },
  {
   "cell_type": "markdown",
   "metadata": {
    "slideshow": {
     "slide_type": "slide"
    }
   },
   "source": [
    "# Training NN"
   ]
  },
  {
   "cell_type": "code",
   "execution_count": 65,
   "metadata": {},
   "outputs": [
    {
     "name": "stdout",
     "output_type": "stream",
     "text": [
      "[0.7307692307692307, 0.6923076923076923, 0.7272727272727273, 0.7272727272727273, 0.7662337662337663]\n",
      "Average accuracy: 0.7287712287712288\n"
     ]
    }
   ],
   "source": [
    "print(accuracies)\n",
    "print(\"Average accuracy:\",np.mean(accuracies))"
   ]
  },
  {
   "cell_type": "code",
   "execution_count": 66,
   "metadata": {},
   "outputs": [
    {
     "data": {
      "image/png": "[encoded data removed]",
      "text/plain": [
       "<Figure size 432x288 with 1 Axes>"
      ]
     },
     "metadata": {
      "needs_background": "light"
     },
     "output_type": "display_data"
    }
   ],
   "source": [
    "for roc in rocs:\n",
    "    plt.plot(roc[0],roc[1],label=\"AUC %.2f\" %roc[2]); \n",
    "plt.gca().set_aspect('equal')    \n",
    "plt.xlabel(\"FPR\"); plt.ylabel(\"TPR\"); plt.ylim(0,1); plt.xlim(0,1); plt.legend(loc='best'); plt.show()"
   ]
  },
  {
   "cell_type": "code",
   "execution_count": 68,
   "metadata": {
    "slideshow": {
     "slide_type": "slide"
    }
   },
   "outputs": [
    {
     "data": {
      "text/html": [
       "<div id=\"knnq\" style=\"width: 500px\"></div>\n",
       "<script>\n",
       "$('head').append('<link rel=\"stylesheet\" href=\"http://bits.csb.pitt.edu/asker.js/themes/asker.default.css\" />');\n",
       "\n",
       "    var divid = '#knnq';\n",
       "\tjQuery(divid).asker({\n",
       "\t    id: divid,\n",
       "\t    question: \"What could <b>not</b> be a valid probability from the previous k-nn (k=5) model?\",\n",
       "        answers: ['0','.5','.6','1'],\n",
       "        server: \"http://bits.csb.pitt.edu/asker.js/example/asker.cgi\",\n",
       "\t\tcharter: chartmaker})\n",
       "    \n",
       "$(\".jp-InputArea .o:contains(html)\").closest('.jp-InputArea').hide();\n",
       "\n",
       "\n",
       "</script>\n"
      ],
      "text/plain": [
       "<IPython.core.display.HTML object>"
      ]
     },
     "metadata": {},
     "output_type": "display_data"
    }
   ],
   "source": [
    "%%html\n",
    "<div id=\"knnq\" style=\"width: 500px\"></div>\n",
    "<script>\n",
    "$('head').append('<link rel=\"stylesheet\" href=\"http://bits.csb.pitt.edu/asker.js/themes/asker.default.css\" />');\n",
    "\n",
    "    var divid = '#knnq';\n",
    "\tjQuery(divid).asker({\n",
    "\t    id: divid,\n",
    "\t    question: \"What could <b>not</b> be a valid probability from the previous k-nn (k=5) model?\",\n",
    "        answers: ['0','.5','.6','1'],\n",
    "        server: \"http://bits.csb.pitt.edu/asker.js/example/asker.cgi\",\n",
    "\t\tcharter: chartmaker})\n",
    "    \n",
    "$(\".jp-InputArea .o:contains(html)\").closest('.jp-InputArea').hide();\n",
    "\n",
    "\n",
    "</script>"
   ]
  },
  {
   "cell_type": "markdown",
   "metadata": {
    "slideshow": {
     "slide_type": "slide"
    }
   },
   "source": [
    "# Training NN"
   ]
  },
  {
   "cell_type": "code",
   "execution_count": 69,
   "metadata": {},
   "outputs": [],
   "source": [
    "searcher = model_selection.GridSearchCV(neighbors.KNeighborsClassifier(), \\\n",
    "                {'n_neighbors': [1,2,3,4,5,10]},scoring='roc_auc',n_jobs=-1)\n",
    "searcher.fit(X,ylabel);"
   ]
  },
  {
   "cell_type": "code",
   "execution_count": 70,
   "metadata": {},
   "outputs": [
    {
     "name": "stdout",
     "output_type": "stream",
     "text": [
      "Best AUC: 0.8039629805410536\n",
      "Parameters {'n_neighbors': 5}\n"
     ]
    }
   ],
   "source": [
    "print(\"Best AUC:\",searcher.best_score_)\n",
    "print(\"Parameters\",searcher.best_params_)"
   ]
  },
  {
   "cell_type": "markdown",
   "metadata": {
    "slideshow": {
     "slide_type": "slide"
    }
   },
   "source": [
    "# Decision Trees\n",
    "\n",
    "A decision tree is a tree where each node make a decision based on the value of a single feature.  At the bottom of the tree is the classification that results from all those decisions.\n",
    "\n",
    "<img width=\"500px\" src=\"http://www.massgenomics.org/wp-content/uploads/2008/10/decision_tree_model.png\">\n",
    "\n",
    "Significant model parameters include the depth of the tree and how features and splits are determined."
   ]
  },
  {
   "cell_type": "code",
   "execution_count": 71,
   "metadata": {
    "slideshow": {
     "slide_type": "slide"
    }
   },
   "outputs": [
    {
     "data": {
      "text/html": [
       "<div id=\"dtqml\" style=\"width: 500px\"></div>\n",
       "<script>\n",
       "$('head').append('<link rel=\"stylesheet\" href=\"http://bits.csb.pitt.edu/asker.js/themes/asker.default.css\" />');\n",
       "\n",
       "    var divid = '#dtqml';\n",
       "\tjQuery(divid).asker({\n",
       "\t    id: divid,\n",
       "\t    question: \"Humidity is low, it's windy, and it is sunny. What do you do?\",\n",
       "\t\tanswers: [\"Play\",\"Don't Play\"],\n",
       "        server: \"http://bits.csb.pitt.edu/asker.js/example/asker.cgi\",\n",
       "\t\tcharter: chartmaker})\n",
       "    \n",
       "$(\".jp-InputArea .o:contains(html)\").closest('.jp-InputArea').hide();\n",
       "</script>\n"
      ],
      "text/plain": [
       "<IPython.core.display.HTML object>"
      ]
     },
     "metadata": {},
     "output_type": "display_data"
    }
   ],
   "source": [
    "%%html\n",
    "<div id=\"dtqml\" style=\"width: 500px\"></div>\n",
    "<script>\n",
    "$('head').append('<link rel=\"stylesheet\" href=\"http://bits.csb.pitt.edu/asker.js/themes/asker.default.css\" />');\n",
    "\n",
    "    var divid = '#dtqml';\n",
    "\tjQuery(divid).asker({\n",
    "\t    id: divid,\n",
    "\t    question: \"Humidity is low, it's windy, and it is sunny. What do you do?\",\n",
    "\t\tanswers: [\"Play\",\"Don't Play\"],\n",
    "        server: \"http://bits.csb.pitt.edu/asker.js/example/asker.cgi\",\n",
    "\t\tcharter: chartmaker})\n",
    "    \n",
    "$(\".jp-InputArea .o:contains(html)\").closest('.jp-InputArea').hide();\n",
    "</script>"
   ]
  },
  {
   "cell_type": "markdown",
   "metadata": {
    "slideshow": {
     "slide_type": "slide"
    }
   },
   "source": [
    "# Random Forest\n",
    "\n",
    "A bunch of decision trees trained on different sub-samples of the data.\n",
    "\n",
    "They vote (or are averaged)."
   ]
  },
  {
   "cell_type": "markdown",
   "metadata": {
    "slideshow": {
     "slide_type": "slide"
    }
   },
   "source": [
    "# Training a Decision Tree"
   ]
  },
  {
   "cell_type": "code",
   "execution_count": 72,
   "metadata": {},
   "outputs": [],
   "source": [
    "from sklearn import tree\n",
    "kf = KFold(n_splits=5)\n",
    "accuracies = []; rocs = []\n",
    "for train,test in kf.split(X): # these are arrays of indices\n",
    "    model = tree.DecisionTreeClassifier() \n",
    "    model.fit(X[train],ylabel[train]) #slice out the training folds\n",
    "    p = model.predict(X[test]) # prediction (0 or 1)\n",
    "    probs = model.predict_proba(X[test])[:,1] #probability of being 1\n",
    "    accuracies.append(accuracy_score(ylabel[test],p))\n",
    "    fpr, tpr, thresholds = roc_curve(ylabel[test], probs)  \n",
    "    rocs.append( (fpr,tpr, roc_auc_score(ylabel[test],probs)))"
   ]
  },
  {
   "cell_type": "markdown",
   "metadata": {
    "slideshow": {
     "slide_type": "slide"
    }
   },
   "source": [
    "# Training a Decision Tree"
   ]
  },
  {
   "cell_type": "code",
   "execution_count": 73,
   "metadata": {},
   "outputs": [
    {
     "name": "stdout",
     "output_type": "stream",
     "text": [
      "[0.7692307692307693, 0.717948717948718, 0.6883116883116883, 0.7402597402597403, 0.7402597402597403]\n",
      "Average accuracy: 0.7312021312021312\n"
     ]
    }
   ],
   "source": [
    "print(accuracies)\n",
    "print(\"Average accuracy:\",np.mean(accuracies))"
   ]
  },
  {
   "cell_type": "code",
   "execution_count": 74,
   "metadata": {},
   "outputs": [
    {
     "data": {
      "image/png": "[encoded data removed]",
      "text/plain": [
       "<Figure size 432x288 with 1 Axes>"
      ]
     },
     "metadata": {
      "needs_background": "light"
     },
     "output_type": "display_data"
    }
   ],
   "source": [
    "for roc in rocs:\n",
    "    plt.plot(roc[0],roc[1],label=\"AUC %.2f\" %roc[2]); \n",
    "plt.gca().set_aspect('equal')    \n",
    "plt.xlabel(\"FPR\"); plt.ylabel(\"TPR\"); plt.ylim(0,1); plt.xlim(0,1); plt.legend(loc='best'); plt.show()"
   ]
  },
  {
   "cell_type": "code",
   "execution_count": 75,
   "metadata": {},
   "outputs": [
    {
     "data": {
      "text/plain": [
       "{0.0, 0.5, 1.0}"
      ]
     },
     "execution_count": 75,
     "metadata": {},
     "output_type": "execute_result"
    }
   ],
   "source": [
    "set(probs)"
   ]
  },
  {
   "cell_type": "markdown",
   "metadata": {
    "slideshow": {
     "slide_type": "slide"
    }
   },
   "source": [
    "# Training a Decision Tree"
   ]
  },
  {
   "cell_type": "code",
   "execution_count": 76,
   "metadata": {},
   "outputs": [],
   "source": [
    "searcher = model_selection.GridSearchCV(tree.DecisionTreeClassifier(),  \\\n",
    "                {'max_depth': [1,2,3,4,5,10]},scoring='roc_auc',n_jobs=-1)\n",
    "searcher.fit(X,ylabel);"
   ]
  },
  {
   "cell_type": "code",
   "execution_count": 77,
   "metadata": {},
   "outputs": [
    {
     "name": "stdout",
     "output_type": "stream",
     "text": [
      "Best AUC: 0.7670779939882931\n",
      "Parameters {'max_depth': 5}\n"
     ]
    }
   ],
   "source": [
    "print(\"Best AUC:\",searcher.best_score_)\n",
    "print(\"Parameters\",searcher.best_params_)"
   ]
  },
  {
   "cell_type": "code",
   "execution_count": 83,
   "metadata": {},
   "outputs": [
    {
     "data": {
      "text/plain": [
       "{0.0,\n",
       " 0.046153846153846156,\n",
       " 0.15217391304347827,\n",
       " 0.2391304347826087,\n",
       " 0.5,\n",
       " 0.6666666666666666,\n",
       " 1.0}"
      ]
     },
     "execution_count": 83,
     "metadata": {},
     "output_type": "execute_result"
    }
   ],
   "source": [
    "model = tree.DecisionTreeClassifier(max_depth=5).fit(X,ylabel)\n",
    "set(model.predict_proba(X)[:,1])"
   ]
  },
  {
   "cell_type": "markdown",
   "metadata": {
    "slideshow": {
     "slide_type": "slide"
    }
   },
   "source": [
    "# Regression\n",
    "\n",
    "Regression in `sklearn` is pretty much the same as classification, but you use a score appropriate for regression (e.g., squared error or correlation)."
   ]
  },
  {
   "cell_type": "markdown",
   "metadata": {
    "slideshow": {
     "slide_type": "slide"
    }
   },
   "source": [
    "# Key Points\n",
    "\n",
    " * **Must cross-validate** or otherwise evaluate model on unseen data\n",
    " * Need to parameterize model\n",
    " * Once parameterized, train on full dataset\n",
    " \n",
    "### Which method works best?\n",
    "\n",
    "The one that provides the best predictive power with your data."
   ]
  },
  {
   "cell_type": "markdown",
   "metadata": {
    "slideshow": {
     "slide_type": "slide"
    }
   },
   "source": [
    "# Project\n",
    "\n",
    "Pick a model and train it to predict the actual y values (regression) of our er.smi dataset."
   ]
  },
  {
   "cell_type": "code",
   "execution_count": null,
   "metadata": {},
   "outputs": [],
   "source": [
    "!wget https://asinansaglam.github.io/python_bio_2022/files/er.smi\n",
    "\n",
    "from openbabel import pybel\n",
    "yvals = []\n",
    "fps = []\n",
    "for mol in pybel.readfile('smi','er.smi'):\n",
    "    yvals.append(float(mol.title))\n",
    "    fpbits = mol.calcfp().bits\n",
    "    fp = np.zeros(1024)\n",
    "    fp[fpbits] = 1\n",
    "    fps.append(fp)\n",
    "    \n",
    "X = np.array(fps)\n",
    "y = np.array(yvals)"
   ]
  },
  {
   "cell_type": "code",
   "execution_count": 87,
   "metadata": {
    "slideshow": {
     "slide_type": "notes"
    }
   },
   "outputs": [
    {
     "name": "stdout",
     "output_type": "stream",
     "text": [
      "--2021-11-03 11:13:27--  https://asinansaglam.github.io/python_bio_2022/files/er.smi\r\n",
      "Resolving mscbio2025.csb.pitt.edu (mscbio2025.csb.pitt.edu)... 136.142.4.139\r\n",
      "Connecting to mscbio2025.csb.pitt.edu (mscbio2025.csb.pitt.edu)|136.142.4.139|:80... connected.\r\n",
      "HTTP request sent, awaiting response... 200 OK\r\n",
      "Length: 20022 (20K) [application/smil+xml]\r\n",
      "Saving to: ‘er.smi.2’\r\n",
      "\r\n",
      "\r",
      "er.smi.2              0%[                    ]       0  --.-KB/s               \r",
      "er.smi.2            100%[===================>]  19.55K  --.-KB/s    in 0.001s  \r\n",
      "\r\n",
      "2021-11-03 11:13:27 (37.5 MB/s) - ‘er.smi.2’ saved [20022/20022]\r\n",
      "\r\n"
     ]
    }
   ],
   "source": [
    "from sklearn.model_selection import KFold\n",
    "from sklearn.metrics import *\n",
    "from sklearn import ensemble\n",
    "kf = KFold(n_splits=5)\n",
    "errors = []\n",
    "predictions = []\n",
    "for train,test in kf.split(X): # these are arrays of indices\n",
    "    model = sklearn.ensemble.RandomForestRegressor() \n",
    "    model.fit(X[train],y[train]) #slice out the training folds\n",
    "    p = model.predict(X[test]) # prediction (0 or 1)\n",
    "    predictions += zip(y[test],p)\n",
    "    errors.append(mean_squared_error(y[test],p))\n",
    "predictions = np.array(predictions)"
   ]
  },
  {
   "cell_type": "code",
   "execution_count": 85,
   "metadata": {
    "slideshow": {
     "slide_type": "notes"
    }
   },
   "outputs": [
    {
     "name": "stdout",
     "output_type": "stream",
     "text": [
      "[0.29409426131815575, 0.3725477330795315, 0.19486106838189757, 0.37289075403267813, 0.20452413132812097]\n",
      "Average squared error 0.2877835896280768\n"
     ]
    }
   ],
   "source": [
    "print(errors)\n",
    "print(\"Average squared error\",np.mean(errors))"
   ]
  },
  {
   "cell_type": "code",
   "execution_count": 86,
   "metadata": {
    "slideshow": {
     "slide_type": "notes"
    }
   },
   "outputs": [
    {
     "name": "stderr",
     "output_type": "stream",
     "text": [
      "/usr/local/lib/python3.8/dist-packages/seaborn/_decorators.py:36: FutureWarning: Pass the following variables as keyword args: x, y. From version 0.12, the only valid positional argument will be `data`, and passing other arguments without an explicit keyword will result in an error or misinterpretation.\n",
      "  warnings.warn(\n"
     ]
    },
    {
     "data": {
      "text/plain": [
       "0.9025381312047994"
      ]
     },
     "execution_count": 86,
     "metadata": {},
     "output_type": "execute_result"
    },
    {
     "data": {
      "image/png": "[encoded data removed]",
      "text/plain": [
       "<Figure size 432x432 with 3 Axes>"
      ]
     },
     "metadata": {
      "needs_background": "light"
     },
     "output_type": "display_data"
    }
   ],
   "source": [
    "import seaborn as sns\n",
    "sns.jointplot(predictions[:,0],predictions[:,1])\n",
    "plt.xlabel(\"Experiment\"); plt.ylabel(\"Predicted\")\n",
    "np.corrcoef(predictions[:,0],predictions[:,1])[0][1]"
   ]
  }
 ],
 "metadata": {
  "celltoolbar": "Slideshow",
  "kernelspec": {
   "display_name": "Python 3",
   "language": "python",
   "name": "python3"
  },
  "language_info": {
   "codemirror_mode": {
    "name": "ipython",
    "version": 3
   },
   "file_extension": ".py",
   "mimetype": "text/x-python",
   "name": "python",
   "nbconvert_exporter": "python",
   "pygments_lexer": "ipython3",
   "version": "3.8.10"
  },
  "widgets": {
   "state": {},
   "version": "1.1.1"
  }
 },
 "nbformat": 4,
 "nbformat_minor": 1
}
