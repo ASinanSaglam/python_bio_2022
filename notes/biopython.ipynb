{
 "cells": [
  {
   "cell_type": "markdown",
   "metadata": {
    "slideshow": {
     "slide_type": "slide"
    }
   },
   "source": [
    "# sequences and biopython\n",
    "## 9/23/2021\n",
    "\n",
    "<a href=\"?print-pdf\">print view</a>"
   ]
  },
  {
   "cell_type": "code",
   "execution_count": 2,
   "metadata": {},
   "outputs": [
    {
     "data": {
      "text/html": [
       "\n",
       "<script src=\"http://bits.csb.pitt.edu/asker.js/lib/asker.js\"></script>\n",
       "\n",
       "<script>\n",
       "\n",
       "require(['https://cdnjs.cloudflare.com/ajax/libs/Chart.js/2.2.2/Chart.js'], function(Ch){\n",
       " Chart = Ch;\n",
       "});\n",
       "\n",
       "$('head').append('<link rel=\"stylesheet\" href=\"http://bits.csb.pitt.edu/asker.js/themes/asker.default.css\" />');\n",
       "\n",
       "\n",
       "//the callback is provided a canvas object and data \n",
       "var chartmaker = function(canvas, labels, data) {\n",
       "  var ctx = $(canvas).get(0).getContext(\"2d\");\n",
       "     var dataset = {labels: labels,                     \n",
       "    datasets:[{\n",
       "     data: data,\n",
       "     backgroundColor: \"rgba(150,64,150,0.5)\",\n",
       "         fillColor: \"rgba(150,64,150,0.8)\",    \n",
       "  }]};\n",
       "  var myBarChart = new Chart(ctx,{type:'bar',data:dataset,options:{legend: {display:false},scales:{yAxes:[{ticks:{min: 0}}]}}});\n",
       "\n",
       "\n",
       "};\n",
       "\n",
       "$(\".jp-InputArea .o:contains(html)\").closest('.jp-InputArea').hide();\n",
       "\n",
       "</script>\n"
      ],
      "text/plain": [
       "<IPython.core.display.HTML object>"
      ]
     },
     "metadata": {},
     "output_type": "display_data"
    }
   ],
   "source": [
    "%%html\n",
    "\n",
    "<script src=\"http://bits.csb.pitt.edu/asker.js/lib/asker.js\"></script>\n",
    "\n",
    "<script>\n",
    "\n",
    "require(['https://cdnjs.cloudflare.com/ajax/libs/Chart.js/2.2.2/Chart.js'], function(Ch){\n",
    " Chart = Ch;\n",
    "});\n",
    "\n",
    "$('head').append('<link rel=\"stylesheet\" href=\"http://bits.csb.pitt.edu/asker.js/themes/asker.default.css\" />');\n",
    "\n",
    "\n",
    "//the callback is provided a canvas object and data \n",
    "var chartmaker = function(canvas, labels, data) {\n",
    "  var ctx = $(canvas).get(0).getContext(\"2d\");\n",
    "     var dataset = {labels: labels,                     \n",
    "    datasets:[{\n",
    "     data: data,\n",
    "     backgroundColor: \"rgba(150,64,150,0.5)\",\n",
    "         fillColor: \"rgba(150,64,150,0.8)\",    \n",
    "  }]};\n",
    "  var myBarChart = new Chart(ctx,{type:'bar',data:dataset,options:{legend: {display:false},scales:{yAxes:[{ticks:{min: 0}}]}}});\n",
    "\n",
    "\n",
    "};\n",
    "\n",
    "$(\".jp-InputArea .o:contains(html)\").closest('.jp-InputArea').hide();\n",
    "\n",
    "</script>"
   ]
  },
  {
   "cell_type": "markdown",
   "metadata": {
    "slideshow": {
     "slide_type": "slide"
    }
   },
   "source": [
    "# Sequence data\n",
    "\n",
    "[http://www.ncbi.nlm.nih.gov](http://www.ncbi.nlm.nih.gov)\n",
    "\n",
    "[Example](http://www.ncbi.nlm.nih.gov/gene/5216)"
   ]
  },
  {
   "cell_type": "markdown",
   "metadata": {
    "slideshow": {
     "slide_type": "slide"
    }
   },
   "source": [
    "# FASTA\n",
    "\n",
    "First line is description of sequence and starts with `>`\n",
    "\n",
    "All lines up to the next `>` are part of the same sequence\n",
    "\n",
    "Usually less than 80 characters per line\n",
    "\n",
    "```\n",
    ">gi|568815581:c4949086-4945650 Homo sapiens chromosome 17, GRCh38.p2 Primary Assembly\n",
    "CCCGCAGGGTCCACACGGGTCGGGCCGGGCGCGCTCCCGTGCAGCCGGCTCCGGCCCCGACCGCCCCATG\n",
    "CACTCCCGGCCCCGGCGCAGGCGCAGGCGCGGGCACACGCGCCGCCGCCCGCCGGTCCTTCCCTTCGGCG\n",
    "GAGGTGGGGGAAGGAGGAGTCATCCCGTTTAACCCTGGGCTCCCCGAACTCTCCTTAATTTGCTAAATTT\n",
    "GCAGCTTGCTAATTCCTCCTGCTTTCTCCTTCCTTCCTTCTTCTGGCTCACTCCCTGCCCCGATACCAAA\n",
    "GTCTGGTTTATATTCAGTGCAAATTGGAGCAAACCCTACCCTTCACCTCTCTCCCGCCACCCCCCATCCT\n",
    "TCTGCATTGCTTTCCATCGAACTCTGCAAATTTTGCAATAGGGGGAGGGATTTTTAAAATTGCATTTGCA\n",
    "```"
   ]
  },
  {
   "cell_type": "markdown",
   "metadata": {
    "slideshow": {
     "slide_type": "slide"
    }
   },
   "source": [
    "# Genbank\n",
    "\n",
    "Annotated format.  Starts with `LOCUS` field.  Can have several other annotation (e.g. `KEYWORDS`, `SOURCE`, `REFERENCE`, `FEATURES`).\n",
    "\n",
    "`ORIGIN` record indicates start of sequence\n",
    "\n",
    "'`\\\\`' indicates the end of sequence\n",
    "\n",
    "```\n",
    "LOCUS       CAG28598                 140 aa            linear   PRI 16-OCT-2008\n",
    "DEFINITION  PFN1, partial [Homo sapiens].\n",
    "ACCESSION   CAG28598\n",
    "VERSION     CAG28598.1  GI:47115277\n",
    "DBSOURCE    embl accession CR407670.1\n",
    "KEYWORDS    .\n",
    "SOURCE      Homo sapiens (human)\n",
    "  ORGANISM  Homo sapiens\n",
    "            Eukaryota; Metazoa; Chordata; Craniata; Vertebrata; Euteleostomi;\n",
    "            Mammalia; Eutheria; Euarchontoglires; Primates; Haplorrhini;\n",
    "            Catarrhini; Hominidae; Homo.\n",
    "ORIGIN      \n",
    "        1 magwnayidn lmadgtcqda aivgykdsps vwaavpgktf vnitpaevgv lvgkdrssfy\n",
    "       61 vngltlggqk csvirdsllq dgefsmdlrt kstggaptfn vtvtktdktl vllmgkegvh\n",
    "      121 gglinkkcye mashlrrsqy\n",
    "//\n",
    "```"
   ]
  },
  {
   "cell_type": "markdown",
   "metadata": {
    "slideshow": {
     "slide_type": "slide"
    }
   },
   "source": [
    "# Biopython\n",
    "\n",
    "*Biopython features include parsers for various Bioinformatics file formats (BLAST, Clustalw, FASTA, Genbank,...), access to online services (NCBI, Expasy,...), interfaces to common and not-so-common programs (Clustalw, DSSP, MSMS...), a standard sequence class, various clustering modules, a KD tree data structure etc. and even documentation.*\n",
    "\n",
    "Other modules that might be of interest:\n",
    "\n",
    " *   Pycogent: http://pycogent.org/\n",
    " *   bx-python: http://bitbucket.org/james_taylor/bx-python/wiki/Home\n",
    " *   DendroPy: http://packages.python.org/DendroPy/\n",
    " *   Pygr: http://code.google.com/p/pygr/\n",
    " *   bioservices: https://bioservices.readthedocs.io/en/master/\n",
    " \n",
    "Biopython is **not** for performing sequencing itself (see: https://crc.pitt.edu/training/fall-2021-next-generation-sequencing-workshops)."
   ]
  },
  {
   "cell_type": "markdown",
   "metadata": {
    "collapsed": true,
    "slideshow": {
     "slide_type": "slide"
    }
   },
   "source": [
    "# Sequence Objects"
   ]
  },
  {
   "cell_type": "code",
   "execution_count": 3,
   "metadata": {},
   "outputs": [
    {
     "data": {
      "text/plain": [
       "Seq('GATTACA')"
      ]
     },
     "execution_count": 3,
     "metadata": {},
     "output_type": "execute_result"
    }
   ],
   "source": [
    "from Bio.Seq import Seq # the submodule structure of biopython is a little awkward\n",
    "\n",
    "s = Seq(\"GATTACA\")\n",
    "s"
   ]
  },
  {
   "cell_type": "markdown",
   "metadata": {},
   "source": [
    "Sequences act a lot like strings, but have an associated *alphabet* and additional methods.\n",
    "\n",
    "Methods shared with `str`: `count`, `endswith`, `find`, `lower`, `lstrip`, `rfind`, `split`, `startswith`, `strip`,`upper`\n",
    "\n",
    "`Seq` methods:`back_transcribe`, `complement`, `reverse_complement`, `tomutable`, `tostring`, `transcribe`, `translate`, `ungap`"
   ]
  },
  {
   "cell_type": "markdown",
   "metadata": {
    "slideshow": {
     "slide_type": "slide"
    }
   },
   "source": [
    "# Accessing Seq data\n",
    "\n",
    "Sequences act like strings (indexed from 0)"
   ]
  },
  {
   "cell_type": "code",
   "execution_count": 8,
   "metadata": {},
   "outputs": [
    {
     "data": {
      "text/plain": [
       "'G'"
      ]
     },
     "execution_count": 8,
     "metadata": {},
     "output_type": "execute_result"
    }
   ],
   "source": [
    "s[0]"
   ]
  },
  {
   "cell_type": "code",
   "execution_count": 9,
   "metadata": {},
   "outputs": [
    {
     "data": {
      "text/plain": [
       "Seq('TT')"
      ]
     },
     "execution_count": 9,
     "metadata": {},
     "output_type": "execute_result"
    }
   ],
   "source": [
    "s[2:4] #returns sequence"
   ]
  },
  {
   "cell_type": "code",
   "execution_count": 10,
   "metadata": {},
   "outputs": [
    {
     "data": {
      "text/plain": [
       "Seq('gattaca')"
      ]
     },
     "execution_count": 10,
     "metadata": {},
     "output_type": "execute_result"
    }
   ],
   "source": [
    "s.lower()"
   ]
  },
  {
   "cell_type": "code",
   "execution_count": 11,
   "metadata": {},
   "outputs": [
    {
     "data": {
      "text/plain": [
       "Seq('GATTACAGATTACA')"
      ]
     },
     "execution_count": 11,
     "metadata": {},
     "output_type": "execute_result"
    }
   ],
   "source": [
    "s + s"
   ]
  },
  {
   "cell_type": "markdown",
   "metadata": {
    "slideshow": {
     "slide_type": "slide"
    }
   },
   "source": [
    "# The Central Dogma"
   ]
  },
  {
   "cell_type": "markdown",
   "metadata": {},
   "source": [
    "```\n",
    "DNA coding strand (aka Crick strand, strand +1)\t \n",
    "5’\tATGGCCATTGTAATGGGCCGCTGAAAGGGTGCCCGATAG\t3’\n",
    " \t|||||||||||||||||||||||||||||||||||||||\t \n",
    "3’\tTACCGGTAACATTACCCGGCGACTTTCCCACGGGCTATC\t5’\n",
    " \tDNA template strand (aka Watson strand, strand −1)\t \n",
    "                        |\t \n",
    "                    Transcription\t \n",
    "                        ↓\t \n",
    " \n",
    "5’\tAUGGCCAUUGUAAUGGGCCGCUGAAAGGGUGCCCGAUAG\t3’\n",
    " \tSingle stranded messenger RNA\t \n",
    "                        |\t \n",
    "                   Translation\t \n",
    "                        ↓\t \n",
    "                  MAIVMGR*KGAR*\n",
    "        amino acid sequence (w/stop codons)\n",
    " ```"
   ]
  },
  {
   "cell_type": "code",
   "execution_count": 12,
   "metadata": {},
   "outputs": [
    {
     "data": {
      "text/plain": [
       "(Seq('CTAATGTCTAATGTCTAATGT'), Seq('TGTAATCTGTAATCTGTAATC'))"
      ]
     },
     "execution_count": 12,
     "metadata": {},
     "output_type": "execute_result"
    }
   ],
   "source": [
    "dna = Seq('GATTACAGATTACAGATTACA')\n",
    "dna.complement(),dna.reverse_complement()"
   ]
  },
  {
   "cell_type": "markdown",
   "metadata": {
    "slideshow": {
     "slide_type": "slide"
    }
   },
   "source": [
    "# The Central Dogma"
   ]
  },
  {
   "cell_type": "code",
   "execution_count": 13,
   "metadata": {},
   "outputs": [
    {
     "data": {
      "text/plain": [
       "Seq('GATTACAGATTACAGATTACA')"
      ]
     },
     "execution_count": 13,
     "metadata": {},
     "output_type": "execute_result"
    }
   ],
   "source": [
    "dna"
   ]
  },
  {
   "cell_type": "code",
   "execution_count": 14,
   "metadata": {},
   "outputs": [
    {
     "data": {
      "text/plain": [
       "Seq('GAUUACAGAUUACAGAUUACA')"
      ]
     },
     "execution_count": 14,
     "metadata": {},
     "output_type": "execute_result"
    }
   ],
   "source": [
    "rna = dna.transcribe()\n",
    "rna"
   ]
  },
  {
   "cell_type": "code",
   "execution_count": 15,
   "metadata": {},
   "outputs": [
    {
     "data": {
      "text/plain": [
       "Seq('DYRLQIT')"
      ]
     },
     "execution_count": 15,
     "metadata": {},
     "output_type": "execute_result"
    }
   ],
   "source": [
    "protein = rna.translate()\n",
    "protein"
   ]
  },
  {
   "cell_type": "code",
   "execution_count": 16,
   "metadata": {},
   "outputs": [
    {
     "data": {
      "text/plain": [
       "Seq('DYRLQIT')"
      ]
     },
     "execution_count": 16,
     "metadata": {},
     "output_type": "execute_result"
    }
   ],
   "source": [
    "dna.translate() #unlike cells, don't actually need rna"
   ]
  },
  {
   "cell_type": "markdown",
   "metadata": {
    "slideshow": {
     "slide_type": "slide"
    }
   },
   "source": [
    "# Codon Tables\n",
    "\n",
    "By default the standard translation table is used, but others can be provided to the translate method."
   ]
  },
  {
   "cell_type": "code",
   "execution_count": 17,
   "metadata": {
    "slideshow": {
     "slide_type": "-"
    }
   },
   "outputs": [
    {
     "name": "stdout",
     "output_type": "stream",
     "text": [
      "['Alternative Flatworm Mitochondrial', 'Alternative Yeast Nuclear', 'Archaeal', 'Ascidian Mitochondrial', 'Bacterial', 'Balanophoraceae Plastid', 'Blastocrithidia Nuclear', 'Blepharisma Macronuclear', 'Candidate Division SR1', 'Cephalodiscidae Mitochondrial', 'Chlorophycean Mitochondrial', 'Ciliate Nuclear', 'Coelenterate Mitochondrial', 'Condylostoma Nuclear', 'Dasycladacean Nuclear', 'Echinoderm Mitochondrial', 'Euplotid Nuclear', 'Flatworm Mitochondrial', 'Gracilibacteria', 'Hexamita Nuclear', 'Invertebrate Mitochondrial', 'Karyorelict Nuclear', 'Mesodinium Nuclear', 'Mold Mitochondrial', 'Mycoplasma', 'Pachysolen tannophilus Nuclear', 'Peritrich Nuclear', 'Plant Plastid', 'Protozoan Mitochondrial', 'Pterobranchia Mitochondrial', 'SGC0', 'SGC1', 'SGC2', 'SGC3', 'SGC4', 'SGC5', 'SGC8', 'SGC9', 'Scenedesmus obliquus Mitochondrial', 'Spiroplasma', 'Standard', 'Thraustochytrium Mitochondrial', 'Trematode Mitochondrial', 'Vertebrate Mitochondrial', 'Yeast Mitochondrial']\n"
     ]
    }
   ],
   "source": [
    "from Bio.Data import CodonTable\n",
    "print(sorted(CodonTable.unambiguous_dna_by_name.keys()))"
   ]
  },
  {
   "cell_type": "code",
   "execution_count": 18,
   "metadata": {
    "slideshow": {
     "slide_type": "slide"
    }
   },
   "outputs": [
    {
     "name": "stdout",
     "output_type": "stream",
     "text": [
      "Table 1 Standard, SGC0\n",
      "\n",
      "  |  T      |  C      |  A      |  G      |\n",
      "--+---------+---------+---------+---------+--\n",
      "T | TTT F   | TCT S   | TAT Y   | TGT C   | T\n",
      "T | TTC F   | TCC S   | TAC Y   | TGC C   | C\n",
      "T | TTA L   | TCA S   | TAA Stop| TGA Stop| A\n",
      "T | TTG L(s)| TCG S   | TAG Stop| TGG W   | G\n",
      "--+---------+---------+---------+---------+--\n",
      "C | CTT L   | CCT P   | CAT H   | CGT R   | T\n",
      "C | CTC L   | CCC P   | CAC H   | CGC R   | C\n",
      "C | CTA L   | CCA P   | CAA Q   | CGA R   | A\n",
      "C | CTG L(s)| CCG P   | CAG Q   | CGG R   | G\n",
      "--+---------+---------+---------+---------+--\n",
      "A | ATT I   | ACT T   | AAT N   | AGT S   | T\n",
      "A | ATC I   | ACC T   | AAC N   | AGC S   | C\n",
      "A | ATA I   | ACA T   | AAA K   | AGA R   | A\n",
      "A | ATG M(s)| ACG T   | AAG K   | AGG R   | G\n",
      "--+---------+---------+---------+---------+--\n",
      "G | GTT V   | GCT A   | GAT D   | GGT G   | T\n",
      "G | GTC V   | GCC A   | GAC D   | GGC G   | C\n",
      "G | GTA V   | GCA A   | GAA E   | GGA G   | A\n",
      "G | GTG V   | GCG A   | GAG E   | GGG G   | G\n",
      "--+---------+---------+---------+---------+--\n"
     ]
    }
   ],
   "source": [
    "print(CodonTable.unambiguous_dna_by_name['Standard'])"
   ]
  },
  {
   "cell_type": "markdown",
   "metadata": {
    "slideshow": {
     "slide_type": "slide"
    }
   },
   "source": [
    "<img src=\"../files/amino_acids.svg\">"
   ]
  },
  {
   "cell_type": "code",
   "execution_count": 63,
   "metadata": {
    "slideshow": {
     "slide_type": "slide"
    }
   },
   "outputs": [
    {
     "data": {
      "text/html": [
       "<div id=\"seqtrans\" style=\"width: 500px\"></div>\n",
       "<script>\n",
       "$('head').append('<link rel=\"stylesheet\" href=\"http://bits.csb.pitt.edu/asker.js/themes/asker.default.css\" />');\n",
       "\n",
       "    var divid = '#seqtrans';\n",
       "\tjQuery(divid).asker({\n",
       "\t    id: divid,\n",
       "\t    question: \"What amino acid does the codon <tt>CAT</tt> translate to?\",\n",
       "\t\tanswers: ['H',\"Y\",\"V\",\"A\",\"X\"],\n",
       "        extra: ['Histidine','Tyrosine','Valine','Alanine','Other'],\n",
       "        server: \"http://bits.csb.pitt.edu/asker.js/example/asker.cgi\",\n",
       "\t\tcharter: chartmaker})\n",
       "    \n",
       "$(\".jp-InputArea .o:contains(html)\").closest('.jp-InputArea').hide();\n",
       "\n",
       "\n",
       "</script>\n"
      ],
      "text/plain": [
       "<IPython.core.display.HTML object>"
      ]
     },
     "metadata": {},
     "output_type": "display_data"
    }
   ],
   "source": [
    "%%html\n",
    "<div id=\"seqtrans\" style=\"width: 500px\"></div>\n",
    "<script>\n",
    "$('head').append('<link rel=\"stylesheet\" href=\"http://bits.csb.pitt.edu/asker.js/themes/asker.default.css\" />');\n",
    "\n",
    "    var divid = '#seqtrans';\n",
    "\tjQuery(divid).asker({\n",
    "\t    id: divid,\n",
    "\t    question: \"What amino acid does the codon <tt>CAT</tt> translate to?\",\n",
    "\t\tanswers: ['H',\"Y\",\"V\",\"A\",\"X\"],\n",
    "        extra: ['Histidine','Tyrosine','Valine','Alanine','Other'],\n",
    "        server: \"http://bits.csb.pitt.edu/asker.js/example/asker.cgi\",\n",
    "\t\tcharter: chartmaker})\n",
    "    \n",
    "$(\".jp-InputArea .o:contains(html)\").closest('.jp-InputArea').hide();\n",
    "\n",
    "\n",
    "</script>"
   ]
  },
  {
   "cell_type": "markdown",
   "metadata": {
    "slideshow": {
     "slide_type": "slide"
    }
   },
   "source": [
    "# SeqRecord\n",
    "\n",
    "Sequence data is read/written as `SeqRecord` objects.\n",
    "\n",
    "These objects store additional information about the sequence (name, id, description, features)\n",
    "\n",
    "`SeqIO` reads sequence records: \n",
    "  * must specify format\n",
    "  * `read` to read a file with a single record\n",
    "  * `parse` to iterate over file with mulitple records"
   ]
  },
  {
   "cell_type": "code",
   "execution_count": 20,
   "metadata": {
    "slideshow": {
     "slide_type": "slide"
    }
   },
   "outputs": [
    {
     "data": {
      "text/plain": [
       "SeqRecord(seq=Seq('GATGGGATTGGGGTTTTCCCCTCCCATGTGCTCAAGACTGGCGCTAAAAGTTTT...GTG'), id='NG_017013.2', name='NG_017013', description='Homo sapiens tumor protein p53 (TP53), RefSeqGene (LRG_321) on chromosome 17', dbxrefs=[])"
      ]
     },
     "execution_count": 20,
     "metadata": {},
     "output_type": "execute_result"
    }
   ],
   "source": [
    "from Bio.SeqRecord import SeqRecord\n",
    "from Bio import SeqIO\n",
    "seq = SeqIO.read('../files/p53.gb','genbank')\n",
    "seq"
   ]
  },
  {
   "cell_type": "code",
   "execution_count": 21,
   "metadata": {},
   "outputs": [],
   "source": [
    "seqs = []\n",
    "# https://asinansaglam.github.io/python_bio_2022/files/hydra.fasta\n",
    "for s in SeqIO.parse('../files/hydra.fasta','fasta'):\n",
    "    seqs.append(s)"
   ]
  },
  {
   "cell_type": "code",
   "execution_count": 22,
   "metadata": {},
   "outputs": [
    {
     "data": {
      "text/plain": [
       "40"
      ]
     },
     "execution_count": 22,
     "metadata": {},
     "output_type": "execute_result"
    }
   ],
   "source": [
    "len(seqs)"
   ]
  },
  {
   "cell_type": "markdown",
   "metadata": {
    "slideshow": {
     "slide_type": "slide"
    }
   },
   "source": [
    "# Fetching sequences from the Internet\n",
    "\n",
    "Biopython provides and interface to the [NCBI \"Entrez\" search engine](http://www.ncbi.nlm.nih.gov/sites/gquery)\n",
    "\n",
    "The results of internet queries are returned as file-like objects."
   ]
  },
  {
   "cell_type": "code",
   "execution_count": 23,
   "metadata": {},
   "outputs": [
    {
     "data": {
      "text/plain": [
       "{'DbList': ['pubmed', 'protein', 'nuccore', 'ipg', 'nucleotide', 'structure', 'genome', 'annotinfo', 'assembly', 'bioproject', 'biosample', 'blastdbinfo', 'books', 'cdd', 'clinvar', 'gap', 'gapplus', 'grasp', 'dbvar', 'gene', 'gds', 'geoprofiles', 'homologene', 'medgen', 'mesh', 'ncbisearch', 'nlmcatalog', 'omim', 'orgtrack', 'pmc', 'popset', 'proteinclusters', 'pcassay', 'protfam', 'biosystems', 'pccompound', 'pcsubstance', 'seqannot', 'snp', 'sra', 'taxonomy', 'biocollections', 'gtr']}"
      ]
     },
     "execution_count": 23,
     "metadata": {},
     "output_type": "execute_result"
    }
   ],
   "source": [
    "from Bio import Entrez\n",
    "Entrez.email = \"dkoes@pitt.edu\" #biopython forces you to provide your email\n",
    "res = Entrez.read(Entrez.einfo()) # the names of all available databases\n",
    "res"
   ]
  },
  {
   "cell_type": "code",
   "execution_count": 24,
   "metadata": {},
   "outputs": [
    {
     "name": "stdout",
     "output_type": "stream",
     "text": [
      "['annotinfo', 'assembly', 'biocollections', 'bioproject', 'biosample', 'biosystems', 'blastdbinfo', 'books', 'cdd', 'clinvar', 'dbvar', 'gap', 'gapplus', 'gds', 'gene', 'genome', 'geoprofiles', 'grasp', 'gtr', 'homologene', 'ipg', 'medgen', 'mesh', 'ncbisearch', 'nlmcatalog', 'nuccore', 'nucleotide', 'omim', 'orgtrack', 'pcassay', 'pccompound', 'pcsubstance', 'pmc', 'popset', 'protein', 'proteinclusters', 'protfam', 'pubmed', 'seqannot', 'snp', 'sra', 'structure', 'taxonomy']\n"
     ]
    }
   ],
   "source": [
    "print(sorted(res['DbList']))"
   ]
  },
  {
   "cell_type": "markdown",
   "metadata": {
    "slideshow": {
     "slide_type": "slide"
    }
   },
   "source": [
    "# ESearch\n",
    "\n",
    "You can search any database for a given term and it will return the ids of all the relevant records."
   ]
  },
  {
   "cell_type": "code",
   "execution_count": 25,
   "metadata": {},
   "outputs": [
    {
     "name": "stdout",
     "output_type": "stream",
     "text": [
      "{'Count': '12751', 'RetMax': '20', 'RetStart': '0', 'IdList': ['2095557441', '2095547223', '2095541784', '2095533838', '2088687916', '595763516', '595763184', '56790941', '1890342052', '1677539426', '1677537377', '1519316331', '1388003379', '1169640623', '383209646', '187960039', '187960038', '167736374', '167736372', '154146208'], 'TranslationSet': [], 'TranslationStack': [{'Term': 'tp53[All Fields]', 'Field': 'All Fields', 'Count': '12751', 'Explode': 'N'}, 'GROUP'], 'QueryTranslation': 'tp53[All Fields]'}\n"
     ]
    }
   ],
   "source": [
    "result = Entrez.esearch(db='nucleotide', term='tp53')  #the result is a file-like object of the raw xml data\n",
    "records = Entrez.read(result) #put into a more palatable form (dictionary)\n",
    "print(records)"
   ]
  },
  {
   "cell_type": "markdown",
   "metadata": {},
   "source": [
    "There were <strike>2923</strike> <strike>7616</strike> <strike>8238</strike> <strike>10725</strike> <strike>11850</strike> 12751 hits, but by default only 20 are returned.  We can change this ([and other parameters](http://www.ncbi.nlm.nih.gov/books/NBK25499/#chapter4.ESearch)) by changing our search terms."
   ]
  },
  {
   "cell_type": "code",
   "execution_count": 26,
   "metadata": {
    "slideshow": {
     "slide_type": "slide"
    }
   },
   "outputs": [
    {
     "data": {
      "text/plain": [
       "{'Count': '12751', 'RetMax': '50', 'RetStart': '0', 'IdList': ['2095557441', '2095547223', '2095541784', '2095533838', '2088687916', '595763516', '595763184', '56790941', '1890342052', '1677539426', '1677537377', '1519316331', '1388003379', '1169640623', '383209646', '187960039', '187960038', '167736374', '167736372', '154146208', '148747364', '67078437', '2092262714', '2092262693', '2092262690', '2092222507', '2092222504', '2092222501', '2092220105', '2092218640', '2092203059', '2092187984', '2092184066', '2092184064', '2092176789', '2092176786', '2092176784', '2092176781', '2092173253', '2092157841', '2092144944', '2092144942', '2092144564', '2092133000', '2092132653', '2092132649', '2092116963', '2092101586', '2092080167', '2092080165'], 'TranslationSet': [], 'TranslationStack': [{'Term': 'tp53[All Fields]', 'Field': 'All Fields', 'Count': '12751', 'Explode': 'N'}, 'GROUP'], 'QueryTranslation': 'tp53[All Fields]'}"
      ]
     },
     "execution_count": 26,
     "metadata": {},
     "output_type": "execute_result"
    }
   ],
   "source": [
    "records = Entrez.read(Entrez.esearch(db='nucleotide', term='tp53', retmax=50))\n",
    "records"
   ]
  },
  {
   "cell_type": "markdown",
   "metadata": {
    "slideshow": {
     "slide_type": "slide"
    }
   },
   "source": [
    "# EFetch\n",
    "\n",
    "To get the full record for a given id, use `efetch`.  \n",
    "\n",
    "Must provide `rettype`  ([available options](http://www.ncbi.nlm.nih.gov/books/NBK25499/table/chapter4.T._valid_values_of__retmode_and/?report=objectonly) include fasta and gb)\n",
    "\n",
    "`retmode` can be text or xml."
   ]
  },
  {
   "cell_type": "code",
   "execution_count": 27,
   "metadata": {},
   "outputs": [],
   "source": [
    "#fetch the genbank file for the first id from our search\n",
    "result = Entrez.efetch(db=\"nucleotide\",id=records['IdList'][1],rettype=\"gb\",retmode='text')\n",
    "#parse into a seqrecord\n",
    "p53 = SeqIO.read(result,'gb')"
   ]
  },
  {
   "cell_type": "code",
   "execution_count": 28,
   "metadata": {},
   "outputs": [
    {
     "data": {
      "text/plain": [
       "<_io.TextIOWrapper encoding='UTF-8'>"
      ]
     },
     "execution_count": 28,
     "metadata": {},
     "output_type": "execute_result"
    }
   ],
   "source": [
    "result"
   ]
  },
  {
   "cell_type": "code",
   "execution_count": 29,
   "metadata": {},
   "outputs": [
    {
     "data": {
      "text/plain": [
       "SeqRecord(seq=Seq('ACGTGAGCCTGTCTCCTCAGCGTGCACACACTCACCTGCACACACCCTGTGAAC...CCT'), id='JAATJU010022300.1', name='JAATJU010022300', description='Microtus ochrogaster isolate LTLLF scaffold31, whole genome shotgun sequence', dbxrefs=['BioProject:PRJNA541330', 'BioSample:SAMN11605340'])"
      ]
     },
     "execution_count": 29,
     "metadata": {},
     "output_type": "execute_result"
    }
   ],
   "source": [
    "p53"
   ]
  },
  {
   "cell_type": "markdown",
   "metadata": {
    "slideshow": {
     "slide_type": "slide"
    }
   },
   "source": [
    "# Features\n",
    "\n",
    "Genbank files are typically annotated with features, which refer to portions of the full sequence\n",
    "\n",
    "`SeqRecord` objects track these features and you can extract the corresponding subsequence\n",
    "\n",
    "*CDS* - coding sequence"
   ]
  },
  {
   "cell_type": "code",
   "execution_count": 30,
   "metadata": {},
   "outputs": [
    {
     "data": {
      "text/plain": [
       "[SeqFeature(FeatureLocation(ExactPosition(0), ExactPosition(10587605), strand=1), type='source'),\n",
       " SeqFeature(FeatureLocation(ExactPosition(7559), ExactPosition(62343), strand=-1), type='gene'),\n",
       " SeqFeature(CompoundLocation([FeatureLocation(ExactPosition(62289), ExactPosition(62343), strand=-1), FeatureLocation(ExactPosition(46544), ExactPosition(46649), strand=-1), FeatureLocation(ExactPosition(43511), ExactPosition(43673), strand=-1), FeatureLocation(ExactPosition(33520), ExactPosition(33649), strand=-1), FeatureLocation(ExactPosition(31983), ExactPosition(32169), strand=-1), FeatureLocation(ExactPosition(30375), ExactPosition(30644), strand=-1), FeatureLocation(ExactPosition(28385), ExactPosition(28528), strand=-1), FeatureLocation(ExactPosition(25029), ExactPosition(25275), strand=-1), FeatureLocation(ExactPosition(22983), ExactPosition(23199), strand=-1), FeatureLocation(ExactPosition(22343), ExactPosition(22474), strand=-1), FeatureLocation(ExactPosition(20333), ExactPosition(20411), strand=-1), FeatureLocation(ExactPosition(7559), ExactPosition(7763), strand=-1)], 'join'), type='mRNA', location_operator='join'),\n",
       " SeqFeature(CompoundLocation([FeatureLocation(ExactPosition(62289), ExactPosition(62343), strand=-1), FeatureLocation(ExactPosition(46544), ExactPosition(46649), strand=-1), FeatureLocation(ExactPosition(43511), ExactPosition(43673), strand=-1), FeatureLocation(ExactPosition(33520), ExactPosition(33649), strand=-1), FeatureLocation(ExactPosition(31983), ExactPosition(32169), strand=-1), FeatureLocation(ExactPosition(30375), ExactPosition(30644), strand=-1), FeatureLocation(ExactPosition(28385), ExactPosition(28528), strand=-1), FeatureLocation(ExactPosition(25029), ExactPosition(25275), strand=-1), FeatureLocation(ExactPosition(22983), ExactPosition(23199), strand=-1), FeatureLocation(ExactPosition(22343), ExactPosition(22474), strand=-1), FeatureLocation(ExactPosition(20333), ExactPosition(20411), strand=-1), FeatureLocation(ExactPosition(7559), ExactPosition(7763), strand=-1)], 'join'), type='CDS', location_operator='join'),\n",
       " SeqFeature(FeatureLocation(ExactPosition(73204), ExactPosition(74200), strand=-1), type='gene'),\n",
       " SeqFeature(FeatureLocation(ExactPosition(73204), ExactPosition(74200), strand=-1), type='mRNA'),\n",
       " SeqFeature(FeatureLocation(ExactPosition(73204), ExactPosition(74200), strand=-1), type='CDS'),\n",
       " SeqFeature(FeatureLocation(ExactPosition(80175), ExactPosition(81015), strand=1), type='gene'),\n",
       " SeqFeature(FeatureLocation(ExactPosition(80175), ExactPosition(81015), strand=1), type='mRNA'),\n",
       " SeqFeature(FeatureLocation(ExactPosition(80175), ExactPosition(81015), strand=1), type='CDS'),\n",
       " SeqFeature(FeatureLocation(ExactPosition(90386), ExactPosition(826735), strand=1), type='gene'),\n",
       " SeqFeature(CompoundLocation([FeatureLocation(ExactPosition(90386), ExactPosition(90560), strand=1), FeatureLocation(ExactPosition(92545), ExactPosition(92570), strand=1), FeatureLocation(ExactPosition(95549), ExactPosition(95635), strand=1), FeatureLocation(ExactPosition(97178), ExactPosition(97307), strand=1), FeatureLocation(ExactPosition(101574), ExactPosition(101635), strand=1), FeatureLocation(ExactPosition(104631), ExactPosition(104780), strand=1), FeatureLocation(ExactPosition(106410), ExactPosition(106557), strand=1), FeatureLocation(ExactPosition(116751), ExactPosition(116879), strand=1), FeatureLocation(ExactPosition(138276), ExactPosition(138407), strand=1), FeatureLocation(ExactPosition(138885), ExactPosition(138995), strand=1), FeatureLocation(ExactPosition(512471), ExactPosition(512545), strand=1), FeatureLocation(ExactPosition(512780), ExactPosition(512876), strand=1), FeatureLocation(ExactPosition(521188), ExactPosition(521270), strand=1), FeatureLocation(ExactPosition(826657), ExactPosition(826735), strand=1)], 'join'), type='mRNA', location_operator='join'),\n",
       " SeqFeature(CompoundLocation([FeatureLocation(ExactPosition(90386), ExactPosition(90560), strand=1), FeatureLocation(ExactPosition(92545), ExactPosition(92570), strand=1), FeatureLocation(ExactPosition(95549), ExactPosition(95635), strand=1), FeatureLocation(ExactPosition(97178), ExactPosition(97307), strand=1), FeatureLocation(ExactPosition(101574), ExactPosition(101635), strand=1), FeatureLocation(ExactPosition(104631), ExactPosition(104780), strand=1), FeatureLocation(ExactPosition(106410), ExactPosition(106557), strand=1), FeatureLocation(ExactPosition(116751), ExactPosition(116879), strand=1), FeatureLocation(ExactPosition(138276), ExactPosition(138407), strand=1), FeatureLocation(ExactPosition(138885), ExactPosition(138995), strand=1), FeatureLocation(ExactPosition(512471), ExactPosition(512545), strand=1), FeatureLocation(ExactPosition(512780), ExactPosition(512876), strand=1), FeatureLocation(ExactPosition(521188), ExactPosition(521270), strand=1), FeatureLocation(ExactPosition(826657), ExactPosition(826735), strand=1)], 'join'), type='CDS', location_operator='join'),\n",
       " SeqFeature(FeatureLocation(ExactPosition(156810), ExactPosition(161466), strand=-1), type='gene'),\n",
       " SeqFeature(CompoundLocation([FeatureLocation(ExactPosition(161375), ExactPosition(161466), strand=-1), FeatureLocation(ExactPosition(158114), ExactPosition(158176), strand=-1), FeatureLocation(ExactPosition(156810), ExactPosition(157020), strand=-1)], 'join'), type='mRNA', location_operator='join'),\n",
       " SeqFeature(CompoundLocation([FeatureLocation(ExactPosition(161375), ExactPosition(161466), strand=-1), FeatureLocation(ExactPosition(158114), ExactPosition(158176), strand=-1), FeatureLocation(ExactPosition(156810), ExactPosition(157020), strand=-1)], 'join'), type='CDS', location_operator='join'),\n",
       " SeqFeature(FeatureLocation(ExactPosition(566827), ExactPosition(725197), strand=-1), type='gene'),\n",
       " SeqFeature(CompoundLocation([FeatureLocation(ExactPosition(724120), ExactPosition(725197), strand=-1), FeatureLocation(ExactPosition(722375), ExactPosition(722515), strand=-1), FeatureLocation(ExactPosition(712434), ExactPosition(712571), strand=-1), FeatureLocation(ExactPosition(658687), ExactPosition(658839), strand=-1), FeatureLocation(ExactPosition(657048), ExactPosition(657855), strand=-1), FeatureLocation(ExactPosition(601379), ExactPosition(601558), strand=-1), FeatureLocation(ExactPosition(600578), ExactPosition(600830), strand=-1), FeatureLocation(ExactPosition(582865), ExactPosition(583042), strand=-1), FeatureLocation(ExactPosition(566827), ExactPosition(567086), strand=-1)], 'join'), type='mRNA', location_operator='join'),\n",
       " SeqFeature(CompoundLocation([FeatureLocation(ExactPosition(724120), ExactPosition(725197), strand=-1), FeatureLocation(ExactPosition(722375), ExactPosition(722515), strand=-1), FeatureLocation(ExactPosition(712434), ExactPosition(712571), strand=-1), FeatureLocation(ExactPosition(658687), ExactPosition(658839), strand=-1), FeatureLocation(ExactPosition(657048), ExactPosition(657855), strand=-1), FeatureLocation(ExactPosition(601379), ExactPosition(601558), strand=-1), FeatureLocation(ExactPosition(600578), ExactPosition(600830), strand=-1), FeatureLocation(ExactPosition(582865), ExactPosition(583042), strand=-1), FeatureLocation(ExactPosition(566827), ExactPosition(567086), strand=-1)], 'join'), type='CDS', location_operator='join'),\n",
       " SeqFeature(FeatureLocation(ExactPosition(725785), ExactPosition(727747), strand=-1), type='gene'),\n",
       " SeqFeature(FeatureLocation(ExactPosition(725785), ExactPosition(727747), strand=-1), type='mRNA'),\n",
       " SeqFeature(FeatureLocation(ExactPosition(725785), ExactPosition(727747), strand=-1), type='CDS'),\n",
       " SeqFeature(FeatureLocation(BeforePosition(912577), ExactPosition(916311), strand=1), type='gene'),\n",
       " SeqFeature(CompoundLocation([FeatureLocation(BeforePosition(912580), ExactPosition(912772), strand=1), FeatureLocation(ExactPosition(913691), ExactPosition(913781), strand=1), FeatureLocation(ExactPosition(914936), ExactPosition(915023), strand=1), FeatureLocation(ExactPosition(916188), ExactPosition(916311), strand=1)], 'join'), type='mRNA', location_operator='join'),\n",
       " SeqFeature(CompoundLocation([FeatureLocation(BeforePosition(912580), ExactPosition(912772), strand=1), FeatureLocation(ExactPosition(913691), ExactPosition(913781), strand=1), FeatureLocation(ExactPosition(914936), ExactPosition(915023), strand=1), FeatureLocation(ExactPosition(916188), ExactPosition(916311), strand=1)], 'join'), type='CDS', location_operator='join'),\n",
       " SeqFeature(FeatureLocation(ExactPosition(923732), ExactPosition(931371), strand=-1), type='gene'),\n",
       " SeqFeature(CompoundLocation([FeatureLocation(ExactPosition(931314), ExactPosition(931371), strand=-1), FeatureLocation(ExactPosition(925692), ExactPosition(925801), strand=-1), FeatureLocation(ExactPosition(924944), ExactPosition(925055), strand=-1), FeatureLocation(ExactPosition(923732), ExactPosition(924817), strand=-1)], 'join'), type='mRNA', location_operator='join'),\n",
       " SeqFeature(CompoundLocation([FeatureLocation(ExactPosition(931314), ExactPosition(931371), strand=-1), FeatureLocation(ExactPosition(925692), ExactPosition(925801), strand=-1), FeatureLocation(ExactPosition(924944), ExactPosition(925055), strand=-1), FeatureLocation(ExactPosition(923732), ExactPosition(924817), strand=-1)], 'join'), type='CDS', location_operator='join'),\n",
       " SeqFeature(FeatureLocation(ExactPosition(943161), ExactPosition(953986), strand=1), type='gene'),\n",
       " SeqFeature(CompoundLocation([FeatureLocation(ExactPosition(943161), ExactPosition(943310), strand=1), FeatureLocation(ExactPosition(943735), ExactPosition(943899), strand=1), FeatureLocation(ExactPosition(948225), ExactPosition(948405), strand=1), FeatureLocation(ExactPosition(952580), ExactPosition(952731), strand=1), FeatureLocation(ExactPosition(952985), ExactPosition(953151), strand=1), FeatureLocation(ExactPosition(953875), ExactPosition(953986), strand=1)], 'join'), type='mRNA', location_operator='join'),\n",
       " SeqFeature(CompoundLocation([FeatureLocation(ExactPosition(943161), ExactPosition(943310), strand=1), FeatureLocation(ExactPosition(943735), ExactPosition(943899), strand=1), FeatureLocation(ExactPosition(948225), ExactPosition(948405), strand=1), FeatureLocation(ExactPosition(952580), ExactPosition(952731), strand=1), FeatureLocation(ExactPosition(952985), ExactPosition(953151), strand=1), FeatureLocation(ExactPosition(953875), ExactPosition(953986), strand=1)], 'join'), type='CDS', location_operator='join'),\n",
       " SeqFeature(FeatureLocation(ExactPosition(954725), ExactPosition(965300), strand=-1), type='gene'),\n",
       " SeqFeature(CompoundLocation([FeatureLocation(ExactPosition(965213), ExactPosition(965300), strand=-1), FeatureLocation(ExactPosition(961778), ExactPosition(961894), strand=-1), FeatureLocation(ExactPosition(961470), ExactPosition(961580), strand=-1), FeatureLocation(ExactPosition(960275), ExactPosition(960385), strand=-1), FeatureLocation(ExactPosition(959374), ExactPosition(959482), strand=-1), FeatureLocation(ExactPosition(958817), ExactPosition(958970), strand=-1), FeatureLocation(ExactPosition(958529), ExactPosition(958660), strand=-1), FeatureLocation(ExactPosition(957847), ExactPosition(958013), strand=-1), FeatureLocation(ExactPosition(957345), ExactPosition(957480), strand=-1), FeatureLocation(ExactPosition(956831), ExactPosition(956971), strand=-1), FeatureLocation(ExactPosition(955876), ExactPosition(955991), strand=-1), FeatureLocation(ExactPosition(955444), ExactPosition(955540), strand=-1), FeatureLocation(ExactPosition(955227), ExactPosition(955368), strand=-1), FeatureLocation(ExactPosition(954725), ExactPosition(954956), strand=-1)], 'join'), type='mRNA', location_operator='join'),\n",
       " SeqFeature(CompoundLocation([FeatureLocation(ExactPosition(965213), ExactPosition(965300), strand=-1), FeatureLocation(ExactPosition(961778), ExactPosition(961894), strand=-1), FeatureLocation(ExactPosition(961470), ExactPosition(961580), strand=-1), FeatureLocation(ExactPosition(960275), ExactPosition(960385), strand=-1), FeatureLocation(ExactPosition(959374), ExactPosition(959482), strand=-1), FeatureLocation(ExactPosition(958817), ExactPosition(958970), strand=-1), FeatureLocation(ExactPosition(958529), ExactPosition(958660), strand=-1), FeatureLocation(ExactPosition(957847), ExactPosition(958013), strand=-1), FeatureLocation(ExactPosition(957345), ExactPosition(957480), strand=-1), FeatureLocation(ExactPosition(956831), ExactPosition(956971), strand=-1), FeatureLocation(ExactPosition(955876), ExactPosition(955991), strand=-1), FeatureLocation(ExactPosition(955444), ExactPosition(955540), strand=-1), FeatureLocation(ExactPosition(955227), ExactPosition(955368), strand=-1), FeatureLocation(ExactPosition(954725), ExactPosition(954956), strand=-1)], 'join'), type='CDS', location_operator='join'),\n",
       " SeqFeature(FeatureLocation(ExactPosition(1042839), ExactPosition(1092790), strand=-1), type='gene'),\n",
       " SeqFeature(CompoundLocation([FeatureLocation(ExactPosition(1090419), ExactPosition(1092790), strand=-1), FeatureLocation(ExactPosition(1077822), ExactPosition(1077889), strand=-1), FeatureLocation(ExactPosition(1072008), ExactPosition(1072199), strand=-1), FeatureLocation(ExactPosition(1054779), ExactPosition(1054852), strand=-1), FeatureLocation(ExactPosition(1046547), ExactPosition(1046602), strand=-1), FeatureLocation(ExactPosition(1046339), ExactPosition(1046459), strand=-1), FeatureLocation(ExactPosition(1045832), ExactPosition(1045930), strand=-1), FeatureLocation(ExactPosition(1044089), ExactPosition(1044144), strand=-1), FeatureLocation(ExactPosition(1043917), ExactPosition(1043991), strand=-1), FeatureLocation(ExactPosition(1043660), ExactPosition(1043840), strand=-1), FeatureLocation(ExactPosition(1043451), ExactPosition(1043582), strand=-1), FeatureLocation(ExactPosition(1043157), ExactPosition(1043225), strand=-1), FeatureLocation(ExactPosition(1042839), ExactPosition(1042986), strand=-1)], 'join'), type='mRNA', location_operator='join'),\n",
       " SeqFeature(CompoundLocation([FeatureLocation(ExactPosition(1090419), ExactPosition(1092790), strand=-1), FeatureLocation(ExactPosition(1077822), ExactPosition(1077889), strand=-1), FeatureLocation(ExactPosition(1072008), ExactPosition(1072199), strand=-1), FeatureLocation(ExactPosition(1054779), ExactPosition(1054852), strand=-1), FeatureLocation(ExactPosition(1046547), ExactPosition(1046602), strand=-1), FeatureLocation(ExactPosition(1046339), ExactPosition(1046459), strand=-1), FeatureLocation(ExactPosition(1045832), ExactPosition(1045930), strand=-1), FeatureLocation(ExactPosition(1044089), ExactPosition(1044144), strand=-1), FeatureLocation(ExactPosition(1043917), ExactPosition(1043991), strand=-1), FeatureLocation(ExactPosition(1043660), ExactPosition(1043840), strand=-1), FeatureLocation(ExactPosition(1043451), ExactPosition(1043582), strand=-1), FeatureLocation(ExactPosition(1043157), ExactPosition(1043225), strand=-1), FeatureLocation(ExactPosition(1042839), ExactPosition(1042986), strand=-1)], 'join'), type='CDS', location_operator='join'),\n",
       " SeqFeature(FeatureLocation(ExactPosition(1104346), ExactPosition(1105180), strand=-1), type='gene'),\n",
       " SeqFeature(FeatureLocation(ExactPosition(1104346), ExactPosition(1105180), strand=-1), type='mRNA'),\n",
       " SeqFeature(FeatureLocation(ExactPosition(1104346), ExactPosition(1105180), strand=-1), type='CDS'),\n",
       " SeqFeature(FeatureLocation(ExactPosition(1282459), ExactPosition(1313574), strand=-1), type='gene'),\n",
       " SeqFeature(CompoundLocation([FeatureLocation(ExactPosition(1313157), ExactPosition(1313574), strand=-1), FeatureLocation(ExactPosition(1312903), ExactPosition(1313089), strand=-1), FeatureLocation(ExactPosition(1312349), ExactPosition(1312520), strand=-1), FeatureLocation(ExactPosition(1310080), ExactPosition(1310170), strand=-1), FeatureLocation(ExactPosition(1309576), ExactPosition(1309658), strand=-1), FeatureLocation(ExactPosition(1307940), ExactPosition(1308083), strand=-1), FeatureLocation(ExactPosition(1285240), ExactPosition(1285318), strand=-1), FeatureLocation(ExactPosition(1284208), ExactPosition(1284309), strand=-1), FeatureLocation(ExactPosition(1283825), ExactPosition(1283949), strand=-1), FeatureLocation(ExactPosition(1283419), ExactPosition(1283596), strand=-1), FeatureLocation(ExactPosition(1282958), ExactPosition(1283069), strand=-1), FeatureLocation(ExactPosition(1282459), ExactPosition(1282621), strand=-1)], 'join'), type='mRNA', location_operator='join'),\n",
       " SeqFeature(CompoundLocation([FeatureLocation(ExactPosition(1313157), ExactPosition(1313574), strand=-1), FeatureLocation(ExactPosition(1312903), ExactPosition(1313089), strand=-1), FeatureLocation(ExactPosition(1312349), ExactPosition(1312520), strand=-1), FeatureLocation(ExactPosition(1310080), ExactPosition(1310170), strand=-1), FeatureLocation(ExactPosition(1309576), ExactPosition(1309658), strand=-1), FeatureLocation(ExactPosition(1307940), ExactPosition(1308083), strand=-1), FeatureLocation(ExactPosition(1285240), ExactPosition(1285318), strand=-1), FeatureLocation(ExactPosition(1284208), ExactPosition(1284309), strand=-1), FeatureLocation(ExactPosition(1283825), ExactPosition(1283949), strand=-1), FeatureLocation(ExactPosition(1283419), ExactPosition(1283596), strand=-1), FeatureLocation(ExactPosition(1282958), ExactPosition(1283069), strand=-1), FeatureLocation(ExactPosition(1282459), ExactPosition(1282621), strand=-1)], 'join'), type='CDS', location_operator='join'),\n",
       " SeqFeature(FeatureLocation(ExactPosition(1328384), ExactPosition(1335430), strand=-1), type='gene'),\n",
       " SeqFeature(CompoundLocation([FeatureLocation(ExactPosition(1335355), ExactPosition(1335430), strand=-1), FeatureLocation(ExactPosition(1334829), ExactPosition(1334937), strand=-1), FeatureLocation(ExactPosition(1333777), ExactPosition(1333918), strand=-1), FeatureLocation(ExactPosition(1332882), ExactPosition(1333030), strand=-1), FeatureLocation(ExactPosition(1331944), ExactPosition(1332036), strand=-1), FeatureLocation(ExactPosition(1331308), ExactPosition(1331452), strand=-1), FeatureLocation(ExactPosition(1330275), ExactPosition(1330356), strand=-1), FeatureLocation(ExactPosition(1328384), ExactPosition(1328489), strand=-1)], 'join'), type='mRNA', location_operator='join'),\n",
       " SeqFeature(CompoundLocation([FeatureLocation(ExactPosition(1335355), ExactPosition(1335430), strand=-1), FeatureLocation(ExactPosition(1334829), ExactPosition(1334937), strand=-1), FeatureLocation(ExactPosition(1333777), ExactPosition(1333918), strand=-1), FeatureLocation(ExactPosition(1332882), ExactPosition(1333030), strand=-1), FeatureLocation(ExactPosition(1331944), ExactPosition(1332036), strand=-1), FeatureLocation(ExactPosition(1331308), ExactPosition(1331452), strand=-1), FeatureLocation(ExactPosition(1330275), ExactPosition(1330356), strand=-1), FeatureLocation(ExactPosition(1328384), ExactPosition(1328489), strand=-1)], 'join'), type='CDS', location_operator='join'),\n",
       " SeqFeature(FeatureLocation(ExactPosition(1411258), ExactPosition(1648954), strand=1), type='gene'),\n",
       " SeqFeature(CompoundLocation([FeatureLocation(ExactPosition(1411258), ExactPosition(1411274), strand=1), FeatureLocation(ExactPosition(1638626), ExactPosition(1638765), strand=1), FeatureLocation(ExactPosition(1641297), ExactPosition(1641853), strand=1), FeatureLocation(ExactPosition(1648183), ExactPosition(1648954), strand=1)], 'join'), type='mRNA', location_operator='join'),\n",
       " SeqFeature(CompoundLocation([FeatureLocation(ExactPosition(1411258), ExactPosition(1411274), strand=1), FeatureLocation(ExactPosition(1638626), ExactPosition(1638765), strand=1), FeatureLocation(ExactPosition(1641297), ExactPosition(1641853), strand=1), FeatureLocation(ExactPosition(1648183), ExactPosition(1648954), strand=1)], 'join'), type='CDS', location_operator='join'),\n",
       " SeqFeature(FeatureLocation(ExactPosition(1664555), ExactPosition(1700322), strand=-1), type='gene'),\n",
       " SeqFeature(CompoundLocation([FeatureLocation(ExactPosition(1699969), ExactPosition(1700322), strand=-1), FeatureLocation(ExactPosition(1683884), ExactPosition(1683973), strand=-1), FeatureLocation(ExactPosition(1681062), ExactPosition(1681215), strand=-1), FeatureLocation(ExactPosition(1671796), ExactPosition(1671900), strand=-1), FeatureLocation(ExactPosition(1668519), ExactPosition(1668600), strand=-1), FeatureLocation(ExactPosition(1666761), ExactPosition(1666938), strand=-1), FeatureLocation(ExactPosition(1664555), ExactPosition(1664714), strand=-1)], 'join'), type='mRNA', location_operator='join'),\n",
       " SeqFeature(CompoundLocation([FeatureLocation(ExactPosition(1699969), ExactPosition(1700322), strand=-1), FeatureLocation(ExactPosition(1683884), ExactPosition(1683973), strand=-1), FeatureLocation(ExactPosition(1681062), ExactPosition(1681215), strand=-1), FeatureLocation(ExactPosition(1671796), ExactPosition(1671900), strand=-1), FeatureLocation(ExactPosition(1668519), ExactPosition(1668600), strand=-1), FeatureLocation(ExactPosition(1666761), ExactPosition(1666938), strand=-1), FeatureLocation(ExactPosition(1664555), ExactPosition(1664714), strand=-1)], 'join'), type='CDS', location_operator='join'),\n",
       " SeqFeature(FeatureLocation(ExactPosition(1840720), ExactPosition(1877807), strand=1), type='gene'),\n",
       " SeqFeature(CompoundLocation([FeatureLocation(ExactPosition(1840720), ExactPosition(1840761), strand=1), FeatureLocation(ExactPosition(1841551), ExactPosition(1841658), strand=1), FeatureLocation(ExactPosition(1842908), ExactPosition(1843051), strand=1), FeatureLocation(ExactPosition(1852557), ExactPosition(1852704), strand=1), FeatureLocation(ExactPosition(1853310), ExactPosition(1853448), strand=1), FeatureLocation(ExactPosition(1859782), ExactPosition(1859890), strand=1), FeatureLocation(ExactPosition(1860479), ExactPosition(1860545), strand=1), FeatureLocation(ExactPosition(1862509), ExactPosition(1862668), strand=1), FeatureLocation(ExactPosition(1863210), ExactPosition(1863395), strand=1), FeatureLocation(ExactPosition(1864846), ExactPosition(1865274), strand=1), FeatureLocation(ExactPosition(1867160), ExactPosition(1867354), strand=1), FeatureLocation(ExactPosition(1870790), ExactPosition(1870976), strand=1), FeatureLocation(ExactPosition(1871171), ExactPosition(1871333), strand=1), FeatureLocation(ExactPosition(1872052), ExactPosition(1872153), strand=1), FeatureLocation(ExactPosition(1874569), ExactPosition(1874690), strand=1), FeatureLocation(ExactPosition(1875504), ExactPosition(1875639), strand=1), FeatureLocation(ExactPosition(1877609), ExactPosition(1877807), strand=1)], 'join'), type='mRNA', location_operator='join'),\n",
       " SeqFeature(CompoundLocation([FeatureLocation(ExactPosition(1840720), ExactPosition(1840761), strand=1), FeatureLocation(ExactPosition(1841551), ExactPosition(1841658), strand=1), FeatureLocation(ExactPosition(1842908), ExactPosition(1843051), strand=1), FeatureLocation(ExactPosition(1852557), ExactPosition(1852704), strand=1), FeatureLocation(ExactPosition(1853310), ExactPosition(1853448), strand=1), FeatureLocation(ExactPosition(1859782), ExactPosition(1859890), strand=1), FeatureLocation(ExactPosition(1860479), ExactPosition(1860545), strand=1), FeatureLocation(ExactPosition(1862509), ExactPosition(1862668), strand=1), FeatureLocation(ExactPosition(1863210), ExactPosition(1863395), strand=1), FeatureLocation(ExactPosition(1864846), ExactPosition(1865274), strand=1), FeatureLocation(ExactPosition(1867160), ExactPosition(1867354), strand=1), FeatureLocation(ExactPosition(1870790), ExactPosition(1870976), strand=1), FeatureLocation(ExactPosition(1871171), ExactPosition(1871333), strand=1), FeatureLocation(ExactPosition(1872052), ExactPosition(1872153), strand=1), FeatureLocation(ExactPosition(1874569), ExactPosition(1874690), strand=1), FeatureLocation(ExactPosition(1875504), ExactPosition(1875639), strand=1), FeatureLocation(ExactPosition(1877609), ExactPosition(1877807), strand=1)], 'join'), type='CDS', location_operator='join'),\n",
       " SeqFeature(FeatureLocation(ExactPosition(1881300), ExactPosition(1890767), strand=1), type='gene'),\n",
       " SeqFeature(CompoundLocation([FeatureLocation(ExactPosition(1881300), ExactPosition(1881664), strand=1), FeatureLocation(ExactPosition(1886934), ExactPosition(1887065), strand=1), FeatureLocation(ExactPosition(1888413), ExactPosition(1888579), strand=1), FeatureLocation(ExactPosition(1890462), ExactPosition(1890767), strand=1)], 'join'), type='mRNA', location_operator='join'),\n",
       " SeqFeature(CompoundLocation([FeatureLocation(ExactPosition(1881300), ExactPosition(1881664), strand=1), FeatureLocation(ExactPosition(1886934), ExactPosition(1887065), strand=1), FeatureLocation(ExactPosition(1888413), ExactPosition(1888579), strand=1), FeatureLocation(ExactPosition(1890462), ExactPosition(1890767), strand=1)], 'join'), type='CDS', location_operator='join'),\n",
       " SeqFeature(FeatureLocation(ExactPosition(2218212), ExactPosition(2246523), strand=1), type='gene'),\n",
       " SeqFeature(CompoundLocation([FeatureLocation(ExactPosition(2218212), ExactPosition(2218531), strand=1), FeatureLocation(ExactPosition(2239741), ExactPosition(2239896), strand=1), FeatureLocation(ExactPosition(2246058), ExactPosition(2246109), strand=1), FeatureLocation(ExactPosition(2246355), ExactPosition(2246523), strand=1)], 'join'), type='mRNA', location_operator='join'),\n",
       " SeqFeature(CompoundLocation([FeatureLocation(ExactPosition(2218212), ExactPosition(2218531), strand=1), FeatureLocation(ExactPosition(2239741), ExactPosition(2239896), strand=1), FeatureLocation(ExactPosition(2246058), ExactPosition(2246109), strand=1), FeatureLocation(ExactPosition(2246355), ExactPosition(2246523), strand=1)], 'join'), type='CDS', location_operator='join'),\n",
       " SeqFeature(FeatureLocation(ExactPosition(2246616), ExactPosition(2265174), strand=1), type='gene'),\n",
       " SeqFeature(CompoundLocation([FeatureLocation(ExactPosition(2246616), ExactPosition(2246863), strand=1), FeatureLocation(ExactPosition(2258755), ExactPosition(2258992), strand=1), FeatureLocation(ExactPosition(2259906), ExactPosition(2260095), strand=1), FeatureLocation(ExactPosition(2260723), ExactPosition(2260891), strand=1), FeatureLocation(ExactPosition(2262163), ExactPosition(2262343), strand=1), FeatureLocation(ExactPosition(2263279), ExactPosition(2263495), strand=1), FeatureLocation(ExactPosition(2264998), ExactPosition(2265174), strand=1)], 'join'), type='mRNA', location_operator='join'),\n",
       " SeqFeature(CompoundLocation([FeatureLocation(ExactPosition(2246616), ExactPosition(2246863), strand=1), FeatureLocation(ExactPosition(2258755), ExactPosition(2258992), strand=1), FeatureLocation(ExactPosition(2259906), ExactPosition(2260095), strand=1), FeatureLocation(ExactPosition(2260723), ExactPosition(2260891), strand=1), FeatureLocation(ExactPosition(2262163), ExactPosition(2262343), strand=1), FeatureLocation(ExactPosition(2263279), ExactPosition(2263495), strand=1), FeatureLocation(ExactPosition(2264998), ExactPosition(2265174), strand=1)], 'join'), type='CDS', location_operator='join'),\n",
       " SeqFeature(FeatureLocation(ExactPosition(2318700), ExactPosition(2327527), strand=-1), type='gene'),\n",
       " SeqFeature(CompoundLocation([FeatureLocation(ExactPosition(2327391), ExactPosition(2327527), strand=-1), FeatureLocation(ExactPosition(2323793), ExactPosition(2324055), strand=-1), FeatureLocation(ExactPosition(2323292), ExactPosition(2323474), strand=-1), FeatureLocation(ExactPosition(2322508), ExactPosition(2322712), strand=-1), FeatureLocation(ExactPosition(2322064), ExactPosition(2322252), strand=-1), FeatureLocation(ExactPosition(2320983), ExactPosition(2321146), strand=-1), FeatureLocation(ExactPosition(2320129), ExactPosition(2320354), strand=-1), FeatureLocation(ExactPosition(2319912), ExactPosition(2320044), strand=-1), FeatureLocation(ExactPosition(2319287), ExactPosition(2319383), strand=-1), FeatureLocation(ExactPosition(2318700), ExactPosition(2319155), strand=-1)], 'join'), type='mRNA', location_operator='join'),\n",
       " SeqFeature(CompoundLocation([FeatureLocation(ExactPosition(2327391), ExactPosition(2327527), strand=-1), FeatureLocation(ExactPosition(2323793), ExactPosition(2324055), strand=-1), FeatureLocation(ExactPosition(2323292), ExactPosition(2323474), strand=-1), FeatureLocation(ExactPosition(2322508), ExactPosition(2322712), strand=-1), FeatureLocation(ExactPosition(2322064), ExactPosition(2322252), strand=-1), FeatureLocation(ExactPosition(2320983), ExactPosition(2321146), strand=-1), FeatureLocation(ExactPosition(2320129), ExactPosition(2320354), strand=-1), FeatureLocation(ExactPosition(2319912), ExactPosition(2320044), strand=-1), FeatureLocation(ExactPosition(2319287), ExactPosition(2319383), strand=-1), FeatureLocation(ExactPosition(2318700), ExactPosition(2319155), strand=-1)], 'join'), type='CDS', location_operator='join'),\n",
       " SeqFeature(FeatureLocation(ExactPosition(2356461), ExactPosition(2379259), strand=1), type='gene'),\n",
       " SeqFeature(CompoundLocation([FeatureLocation(ExactPosition(2356461), ExactPosition(2356555), strand=1), FeatureLocation(ExactPosition(2356848), ExactPosition(2357408), strand=1), FeatureLocation(ExactPosition(2358639), ExactPosition(2358862), strand=1), FeatureLocation(ExactPosition(2362092), ExactPosition(2362263), strand=1), FeatureLocation(ExactPosition(2363284), ExactPosition(2363418), strand=1), FeatureLocation(ExactPosition(2367031), ExactPosition(2367152), strand=1), FeatureLocation(ExactPosition(2367480), ExactPosition(2367630), strand=1), FeatureLocation(ExactPosition(2370250), ExactPosition(2370411), strand=1), FeatureLocation(ExactPosition(2371988), ExactPosition(2372171), strand=1), FeatureLocation(ExactPosition(2378343), ExactPosition(2378464), strand=1), FeatureLocation(ExactPosition(2379107), ExactPosition(2379259), strand=1)], 'join'), type='mRNA', location_operator='join'),\n",
       " SeqFeature(CompoundLocation([FeatureLocation(ExactPosition(2356461), ExactPosition(2356555), strand=1), FeatureLocation(ExactPosition(2356848), ExactPosition(2357408), strand=1), FeatureLocation(ExactPosition(2358639), ExactPosition(2358862), strand=1), FeatureLocation(ExactPosition(2362092), ExactPosition(2362263), strand=1), FeatureLocation(ExactPosition(2363284), ExactPosition(2363418), strand=1), FeatureLocation(ExactPosition(2367031), ExactPosition(2367152), strand=1), FeatureLocation(ExactPosition(2367480), ExactPosition(2367630), strand=1), FeatureLocation(ExactPosition(2370250), ExactPosition(2370411), strand=1), FeatureLocation(ExactPosition(2371988), ExactPosition(2372171), strand=1), FeatureLocation(ExactPosition(2378343), ExactPosition(2378464), strand=1), FeatureLocation(ExactPosition(2379107), ExactPosition(2379259), strand=1)], 'join'), type='CDS', location_operator='join'),\n",
       " SeqFeature(FeatureLocation(ExactPosition(2433411), ExactPosition(2445780), strand=-1), type='gene'),\n",
       " SeqFeature(CompoundLocation([FeatureLocation(ExactPosition(2445393), ExactPosition(2445780), strand=-1), FeatureLocation(ExactPosition(2444739), ExactPosition(2444863), strand=-1), FeatureLocation(ExactPosition(2444198), ExactPosition(2444253), strand=-1), FeatureLocation(ExactPosition(2433411), ExactPosition(2433715), strand=-1)], 'join'), type='mRNA', location_operator='join'),\n",
       " SeqFeature(CompoundLocation([FeatureLocation(ExactPosition(2445393), ExactPosition(2445780), strand=-1), FeatureLocation(ExactPosition(2444739), ExactPosition(2444863), strand=-1), FeatureLocation(ExactPosition(2444198), ExactPosition(2444253), strand=-1), FeatureLocation(ExactPosition(2433411), ExactPosition(2433715), strand=-1)], 'join'), type='CDS', location_operator='join'),\n",
       " SeqFeature(FeatureLocation(ExactPosition(2454474), ExactPosition(2486595), strand=-1), type='gene'),\n",
       " SeqFeature(CompoundLocation([FeatureLocation(ExactPosition(2486464), ExactPosition(2486595), strand=-1), FeatureLocation(ExactPosition(2481469), ExactPosition(2481578), strand=-1), FeatureLocation(ExactPosition(2481001), ExactPosition(2481088), strand=-1), FeatureLocation(ExactPosition(2479628), ExactPosition(2479760), strand=-1), FeatureLocation(ExactPosition(2477724), ExactPosition(2477824), strand=-1), FeatureLocation(ExactPosition(2477317), ExactPosition(2477355), strand=-1), FeatureLocation(ExactPosition(2476656), ExactPosition(2476733), strand=-1), FeatureLocation(ExactPosition(2473558), ExactPosition(2473677), strand=-1), FeatureLocation(ExactPosition(2464850), ExactPosition(2464945), strand=-1), FeatureLocation(ExactPosition(2464117), ExactPosition(2464222), strand=-1), FeatureLocation(ExactPosition(2460482), ExactPosition(2460569), strand=-1), FeatureLocation(ExactPosition(2459537), ExactPosition(2459624), strand=-1), FeatureLocation(ExactPosition(2459364), ExactPosition(2459436), strand=-1), FeatureLocation(ExactPosition(2458270), ExactPosition(2458378), strand=-1), FeatureLocation(ExactPosition(2455465), ExactPosition(2455572), strand=-1), FeatureLocation(ExactPosition(2455313), ExactPosition(2455389), strand=-1), FeatureLocation(ExactPosition(2454474), ExactPosition(2454708), strand=-1)], 'join'), type='mRNA', location_operator='join'),\n",
       " SeqFeature(CompoundLocation([FeatureLocation(ExactPosition(2486464), ExactPosition(2486595), strand=-1), FeatureLocation(ExactPosition(2481469), ExactPosition(2481578), strand=-1), FeatureLocation(ExactPosition(2481001), ExactPosition(2481088), strand=-1), FeatureLocation(ExactPosition(2479628), ExactPosition(2479760), strand=-1), FeatureLocation(ExactPosition(2477724), ExactPosition(2477824), strand=-1), FeatureLocation(ExactPosition(2477317), ExactPosition(2477355), strand=-1), FeatureLocation(ExactPosition(2476656), ExactPosition(2476733), strand=-1), FeatureLocation(ExactPosition(2473558), ExactPosition(2473677), strand=-1), FeatureLocation(ExactPosition(2464850), ExactPosition(2464945), strand=-1), FeatureLocation(ExactPosition(2464117), ExactPosition(2464222), strand=-1), FeatureLocation(ExactPosition(2460482), ExactPosition(2460569), strand=-1), FeatureLocation(ExactPosition(2459537), ExactPosition(2459624), strand=-1), FeatureLocation(ExactPosition(2459364), ExactPosition(2459436), strand=-1), FeatureLocation(ExactPosition(2458270), ExactPosition(2458378), strand=-1), FeatureLocation(ExactPosition(2455465), ExactPosition(2455572), strand=-1), FeatureLocation(ExactPosition(2455313), ExactPosition(2455389), strand=-1), FeatureLocation(ExactPosition(2454474), ExactPosition(2454708), strand=-1)], 'join'), type='CDS', location_operator='join'),\n",
       " SeqFeature(FeatureLocation(ExactPosition(2526011), ExactPosition(2564669), strand=1), type='gene'),\n",
       " SeqFeature(CompoundLocation([FeatureLocation(ExactPosition(2526011), ExactPosition(2526426), strand=1), FeatureLocation(ExactPosition(2551612), ExactPosition(2551805), strand=1), FeatureLocation(ExactPosition(2564403), ExactPosition(2564563), strand=1), FeatureLocation(ExactPosition(2564636), ExactPosition(2564669), strand=1)], 'join'), type='mRNA', location_operator='join'),\n",
       " SeqFeature(CompoundLocation([FeatureLocation(ExactPosition(2526011), ExactPosition(2526426), strand=1), FeatureLocation(ExactPosition(2551612), ExactPosition(2551805), strand=1), FeatureLocation(ExactPosition(2564403), ExactPosition(2564563), strand=1), FeatureLocation(ExactPosition(2564636), ExactPosition(2564669), strand=1)], 'join'), type='CDS', location_operator='join'),\n",
       " SeqFeature(FeatureLocation(ExactPosition(2572751), ExactPosition(2595088), strand=1), type='gene'),\n",
       " SeqFeature(CompoundLocation([FeatureLocation(ExactPosition(2572751), ExactPosition(2572795), strand=1), FeatureLocation(ExactPosition(2574555), ExactPosition(2574704), strand=1), FeatureLocation(ExactPosition(2586432), ExactPosition(2586630), strand=1), FeatureLocation(ExactPosition(2590691), ExactPosition(2590768), strand=1), FeatureLocation(ExactPosition(2592144), ExactPosition(2592255), strand=1), FeatureLocation(ExactPosition(2594938), ExactPosition(2595088), strand=1)], 'join'), type='mRNA', location_operator='join'),\n",
       " SeqFeature(CompoundLocation([FeatureLocation(ExactPosition(2572751), ExactPosition(2572795), strand=1), FeatureLocation(ExactPosition(2574555), ExactPosition(2574704), strand=1), FeatureLocation(ExactPosition(2586432), ExactPosition(2586630), strand=1), FeatureLocation(ExactPosition(2590691), ExactPosition(2590768), strand=1), FeatureLocation(ExactPosition(2592144), ExactPosition(2592255), strand=1), FeatureLocation(ExactPosition(2594938), ExactPosition(2595088), strand=1)], 'join'), type='CDS', location_operator='join'),\n",
       " SeqFeature(FeatureLocation(ExactPosition(2899588), ExactPosition(2906017), strand=-1), type='gene'),\n",
       " SeqFeature(CompoundLocation([FeatureLocation(ExactPosition(2905864), ExactPosition(2906017), strand=-1), FeatureLocation(ExactPosition(2905155), ExactPosition(2905641), strand=-1), FeatureLocation(ExactPosition(2904995), ExactPosition(2905047), strand=-1), FeatureLocation(ExactPosition(2903372), ExactPosition(2903589), strand=-1), FeatureLocation(ExactPosition(2902844), ExactPosition(2902963), strand=-1), FeatureLocation(ExactPosition(2900784), ExactPosition(2900929), strand=-1), FeatureLocation(ExactPosition(2899588), ExactPosition(2899874), strand=-1)], 'join'), type='mRNA', location_operator='join'),\n",
       " SeqFeature(CompoundLocation([FeatureLocation(ExactPosition(2905864), ExactPosition(2906017), strand=-1), FeatureLocation(ExactPosition(2905155), ExactPosition(2905641), strand=-1), FeatureLocation(ExactPosition(2904995), ExactPosition(2905047), strand=-1), FeatureLocation(ExactPosition(2903372), ExactPosition(2903589), strand=-1), FeatureLocation(ExactPosition(2902844), ExactPosition(2902963), strand=-1), FeatureLocation(ExactPosition(2900784), ExactPosition(2900929), strand=-1), FeatureLocation(ExactPosition(2899588), ExactPosition(2899874), strand=-1)], 'join'), type='CDS', location_operator='join'),\n",
       " SeqFeature(FeatureLocation(ExactPosition(2928821), ExactPosition(2929487), strand=1), type='gene'),\n",
       " SeqFeature(FeatureLocation(ExactPosition(2928821), ExactPosition(2929487), strand=1), type='mRNA'),\n",
       " SeqFeature(FeatureLocation(ExactPosition(2928821), ExactPosition(2929487), strand=1), type='CDS'),\n",
       " SeqFeature(FeatureLocation(ExactPosition(2974677), ExactPosition(2976262), strand=-1), type='gene'),\n",
       " SeqFeature(CompoundLocation([FeatureLocation(ExactPosition(2976013), ExactPosition(2976262), strand=-1), FeatureLocation(ExactPosition(2974677), ExactPosition(2974941), strand=-1)], 'join'), type='mRNA', location_operator='join'),\n",
       " SeqFeature(CompoundLocation([FeatureLocation(ExactPosition(2976013), ExactPosition(2976262), strand=-1), FeatureLocation(ExactPosition(2974677), ExactPosition(2974941), strand=-1)], 'join'), type='CDS', location_operator='join'),\n",
       " SeqFeature(FeatureLocation(ExactPosition(2980698), ExactPosition(3011778), strand=-1), type='gene'),\n",
       " SeqFeature(CompoundLocation([FeatureLocation(ExactPosition(3011701), ExactPosition(3011778), strand=-1), FeatureLocation(ExactPosition(3010273), ExactPosition(3010334), strand=-1), FeatureLocation(ExactPosition(3007225), ExactPosition(3007320), strand=-1), FeatureLocation(ExactPosition(3006382), ExactPosition(3006476), strand=-1), FeatureLocation(ExactPosition(3005152), ExactPosition(3005292), strand=-1), FeatureLocation(ExactPosition(3004568), ExactPosition(3004647), strand=-1), FeatureLocation(ExactPosition(2987538), ExactPosition(2987652), strand=-1), FeatureLocation(ExactPosition(2983828), ExactPosition(2983883), strand=-1), FeatureLocation(ExactPosition(2983632), ExactPosition(2983728), strand=-1), FeatureLocation(ExactPosition(2980698), ExactPosition(2980865), strand=-1)], 'join'), type='mRNA', location_operator='join'),\n",
       " SeqFeature(CompoundLocation([FeatureLocation(ExactPosition(3011701), ExactPosition(3011778), strand=-1), FeatureLocation(ExactPosition(3010273), ExactPosition(3010334), strand=-1), FeatureLocation(ExactPosition(3007225), ExactPosition(3007320), strand=-1), FeatureLocation(ExactPosition(3006382), ExactPosition(3006476), strand=-1), FeatureLocation(ExactPosition(3005152), ExactPosition(3005292), strand=-1), FeatureLocation(ExactPosition(3004568), ExactPosition(3004647), strand=-1), FeatureLocation(ExactPosition(2987538), ExactPosition(2987652), strand=-1), FeatureLocation(ExactPosition(2983828), ExactPosition(2983883), strand=-1), FeatureLocation(ExactPosition(2983632), ExactPosition(2983728), strand=-1), FeatureLocation(ExactPosition(2980698), ExactPosition(2980865), strand=-1)], 'join'), type='CDS', location_operator='join'),\n",
       " SeqFeature(FeatureLocation(ExactPosition(2995655), ExactPosition(2999333), strand=1), type='gene'),\n",
       " SeqFeature(CompoundLocation([FeatureLocation(ExactPosition(2995655), ExactPosition(2996625), strand=1), FeatureLocation(ExactPosition(2999304), ExactPosition(2999333), strand=1)], 'join'), type='mRNA', location_operator='join'),\n",
       " SeqFeature(CompoundLocation([FeatureLocation(ExactPosition(2995655), ExactPosition(2996625), strand=1), FeatureLocation(ExactPosition(2999304), ExactPosition(2999333), strand=1)], 'join'), type='CDS', location_operator='join'),\n",
       " SeqFeature(FeatureLocation(ExactPosition(3069829), ExactPosition(3076982), strand=-1), type='gene'),\n",
       " SeqFeature(CompoundLocation([FeatureLocation(ExactPosition(3076813), ExactPosition(3076982), strand=-1), FeatureLocation(ExactPosition(3074007), ExactPosition(3074285), strand=-1), FeatureLocation(ExactPosition(3073673), ExactPosition(3073871), strand=-1), FeatureLocation(ExactPosition(3072546), ExactPosition(3072937), strand=-1), FeatureLocation(ExactPosition(3069829), ExactPosition(3070089), strand=-1)], 'join'), type='mRNA', location_operator='join'),\n",
       " SeqFeature(CompoundLocation([FeatureLocation(ExactPosition(3076813), ExactPosition(3076982), strand=-1), FeatureLocation(ExactPosition(3074007), ExactPosition(3074285), strand=-1), FeatureLocation(ExactPosition(3073673), ExactPosition(3073871), strand=-1), FeatureLocation(ExactPosition(3072546), ExactPosition(3072937), strand=-1), FeatureLocation(ExactPosition(3069829), ExactPosition(3070089), strand=-1)], 'join'), type='CDS', location_operator='join'),\n",
       " SeqFeature(FeatureLocation(ExactPosition(3078647), ExactPosition(3093179), strand=1), type='gene'),\n",
       " SeqFeature(CompoundLocation([FeatureLocation(ExactPosition(3078647), ExactPosition(3079078), strand=1), FeatureLocation(ExactPosition(3085641), ExactPosition(3085833), strand=1), FeatureLocation(ExactPosition(3086759), ExactPosition(3086898), strand=1), FeatureLocation(ExactPosition(3089774), ExactPosition(3089923), strand=1), FeatureLocation(ExactPosition(3092732), ExactPosition(3092907), strand=1), FeatureLocation(ExactPosition(3092993), ExactPosition(3093179), strand=1)], 'join'), type='mRNA', location_operator='join'),\n",
       " SeqFeature(CompoundLocation([FeatureLocation(ExactPosition(3078647), ExactPosition(3079078), strand=1), FeatureLocation(ExactPosition(3085641), ExactPosition(3085833), strand=1), FeatureLocation(ExactPosition(3086759), ExactPosition(3086898), strand=1), FeatureLocation(ExactPosition(3089774), ExactPosition(3089923), strand=1), FeatureLocation(ExactPosition(3092732), ExactPosition(3092907), strand=1), FeatureLocation(ExactPosition(3092993), ExactPosition(3093179), strand=1)], 'join'), type='CDS', location_operator='join'),\n",
       " SeqFeature(FeatureLocation(ExactPosition(3097102), ExactPosition(3103981), strand=-1), type='gene'),\n",
       " SeqFeature(CompoundLocation([FeatureLocation(ExactPosition(3103795), ExactPosition(3103981), strand=-1), FeatureLocation(ExactPosition(3097927), ExactPosition(3098097), strand=-1), FeatureLocation(ExactPosition(3097102), ExactPosition(3097319), strand=-1)], 'join'), type='mRNA', location_operator='join'),\n",
       " SeqFeature(CompoundLocation([FeatureLocation(ExactPosition(3103795), ExactPosition(3103981), strand=-1), FeatureLocation(ExactPosition(3097927), ExactPosition(3098097), strand=-1), FeatureLocation(ExactPosition(3097102), ExactPosition(3097319), strand=-1)], 'join'), type='CDS', location_operator='join'),\n",
       " SeqFeature(FeatureLocation(ExactPosition(3197696), ExactPosition(3198632), strand=-1), type='gene'),\n",
       " SeqFeature(FeatureLocation(ExactPosition(3197696), ExactPosition(3198632), strand=-1), type='mRNA'),\n",
       " SeqFeature(FeatureLocation(ExactPosition(3197696), ExactPosition(3198632), strand=-1), type='CDS'),\n",
       " SeqFeature(FeatureLocation(ExactPosition(4427850), ExactPosition(4508357), strand=-1), type='gene'),\n",
       " SeqFeature(CompoundLocation([FeatureLocation(ExactPosition(4508336), ExactPosition(4508357), strand=-1), FeatureLocation(ExactPosition(4507898), ExactPosition(4508013), strand=-1), FeatureLocation(ExactPosition(4507655), ExactPosition(4507775), strand=-1), FeatureLocation(ExactPosition(4504812), ExactPosition(4505002), strand=-1), FeatureLocation(ExactPosition(4495337), ExactPosition(4495473), strand=-1), FeatureLocation(ExactPosition(4461959), ExactPosition(4462080), strand=-1), FeatureLocation(ExactPosition(4427850), ExactPosition(4427957), strand=-1)], 'join'), type='mRNA', location_operator='join'),\n",
       " SeqFeature(CompoundLocation([FeatureLocation(ExactPosition(4508336), ExactPosition(4508357), strand=-1), FeatureLocation(ExactPosition(4507898), ExactPosition(4508013), strand=-1), FeatureLocation(ExactPosition(4507655), ExactPosition(4507775), strand=-1), FeatureLocation(ExactPosition(4504812), ExactPosition(4505002), strand=-1), FeatureLocation(ExactPosition(4495337), ExactPosition(4495473), strand=-1), FeatureLocation(ExactPosition(4461959), ExactPosition(4462080), strand=-1), FeatureLocation(ExactPosition(4427850), ExactPosition(4427957), strand=-1)], 'join'), type='CDS', location_operator='join'),\n",
       " SeqFeature(FeatureLocation(ExactPosition(4751480), ExactPosition(4780609), strand=-1), type='gene'),\n",
       " SeqFeature(CompoundLocation([FeatureLocation(ExactPosition(4780396), ExactPosition(4780609), strand=-1), FeatureLocation(ExactPosition(4775338), ExactPosition(4775432), strand=-1), FeatureLocation(ExactPosition(4754783), ExactPosition(4754877), strand=-1), FeatureLocation(ExactPosition(4751480), ExactPosition(4751793), strand=-1)], 'join'), type='mRNA', location_operator='join'),\n",
       " SeqFeature(CompoundLocation([FeatureLocation(ExactPosition(4780396), ExactPosition(4780609), strand=-1), FeatureLocation(ExactPosition(4775338), ExactPosition(4775432), strand=-1), FeatureLocation(ExactPosition(4754783), ExactPosition(4754877), strand=-1), FeatureLocation(ExactPosition(4751480), ExactPosition(4751793), strand=-1)], 'join'), type='CDS', location_operator='join'),\n",
       " SeqFeature(FeatureLocation(ExactPosition(4830115), ExactPosition(4846663), strand=1), type='gene'),\n",
       " SeqFeature(CompoundLocation([FeatureLocation(ExactPosition(4830115), ExactPosition(4830341), strand=1), FeatureLocation(ExactPosition(4831064), ExactPosition(4831177), strand=1), FeatureLocation(ExactPosition(4831349), ExactPosition(4831540), strand=1), FeatureLocation(ExactPosition(4832349), ExactPosition(4832443), strand=1), FeatureLocation(ExactPosition(4832564), ExactPosition(4832755), strand=1), FeatureLocation(ExactPosition(4833564), ExactPosition(4833658), strand=1), FeatureLocation(ExactPosition(4835940), ExactPosition(4836037), strand=1), FeatureLocation(ExactPosition(4838658), ExactPosition(4838750), strand=1), FeatureLocation(ExactPosition(4839701), ExactPosition(4839813), strand=1), FeatureLocation(ExactPosition(4841089), ExactPosition(4841235), strand=1), FeatureLocation(ExactPosition(4844600), ExactPosition(4844767), strand=1), FeatureLocation(ExactPosition(4845593), ExactPosition(4845672), strand=1), FeatureLocation(ExactPosition(4846252), ExactPosition(4846450), strand=1), FeatureLocation(ExactPosition(4846552), ExactPosition(4846663), strand=1)], 'join'), type='mRNA', location_operator='join'),\n",
       " SeqFeature(CompoundLocation([FeatureLocation(ExactPosition(4830115), ExactPosition(4830341), strand=1), FeatureLocation(ExactPosition(4831064), ExactPosition(4831177), strand=1), FeatureLocation(ExactPosition(4831349), ExactPosition(4831540), strand=1), FeatureLocation(ExactPosition(4832349), ExactPosition(4832443), strand=1), FeatureLocation(ExactPosition(4832564), ExactPosition(4832755), strand=1), FeatureLocation(ExactPosition(4833564), ExactPosition(4833658), strand=1), FeatureLocation(ExactPosition(4835940), ExactPosition(4836037), strand=1), FeatureLocation(ExactPosition(4838658), ExactPosition(4838750), strand=1), FeatureLocation(ExactPosition(4839701), ExactPosition(4839813), strand=1), FeatureLocation(ExactPosition(4841089), ExactPosition(4841235), strand=1), FeatureLocation(ExactPosition(4844600), ExactPosition(4844767), strand=1), FeatureLocation(ExactPosition(4845593), ExactPosition(4845672), strand=1), FeatureLocation(ExactPosition(4846252), ExactPosition(4846450), strand=1), FeatureLocation(ExactPosition(4846552), ExactPosition(4846663), strand=1)], 'join'), type='CDS', location_operator='join'),\n",
       " SeqFeature(FeatureLocation(ExactPosition(4915674), ExactPosition(4982841), strand=1), type='gene'),\n",
       " SeqFeature(CompoundLocation([FeatureLocation(ExactPosition(4915674), ExactPosition(4915746), strand=1), FeatureLocation(ExactPosition(4917525), ExactPosition(4917604), strand=1), FeatureLocation(ExactPosition(4928860), ExactPosition(4929435), strand=1), FeatureLocation(ExactPosition(4944489), ExactPosition(4944645), strand=1), FeatureLocation(ExactPosition(4945253), ExactPosition(4945298), strand=1), FeatureLocation(ExactPosition(4948155), ExactPosition(4948290), strand=1), FeatureLocation(ExactPosition(4953771), ExactPosition(4953984), strand=1), FeatureLocation(ExactPosition(4961176), ExactPosition(4961218), strand=1), FeatureLocation(ExactPosition(4965434), ExactPosition(4965602), strand=1), FeatureLocation(ExactPosition(4975802), ExactPosition(4975868), strand=1), FeatureLocation(ExactPosition(4980037), ExactPosition(4980316), strand=1), FeatureLocation(ExactPosition(4982766), ExactPosition(4982841), strand=1)], 'join'), type='mRNA', location_operator='join'),\n",
       " SeqFeature(CompoundLocation([FeatureLocation(ExactPosition(4915674), ExactPosition(4915746), strand=1), FeatureLocation(ExactPosition(4917525), ExactPosition(4917604), strand=1), FeatureLocation(ExactPosition(4928860), ExactPosition(4929435), strand=1), FeatureLocation(ExactPosition(4944489), ExactPosition(4944645), strand=1), FeatureLocation(ExactPosition(4945253), ExactPosition(4945298), strand=1), FeatureLocation(ExactPosition(4948155), ExactPosition(4948290), strand=1), FeatureLocation(ExactPosition(4953771), ExactPosition(4953984), strand=1), FeatureLocation(ExactPosition(4961176), ExactPosition(4961218), strand=1), FeatureLocation(ExactPosition(4965434), ExactPosition(4965602), strand=1), FeatureLocation(ExactPosition(4975802), ExactPosition(4975868), strand=1), FeatureLocation(ExactPosition(4980037), ExactPosition(4980316), strand=1), FeatureLocation(ExactPosition(4982766), ExactPosition(4982841), strand=1)], 'join'), type='CDS', location_operator='join'),\n",
       " SeqFeature(FeatureLocation(ExactPosition(5208528), ExactPosition(5216656), strand=1), type='gene'),\n",
       " SeqFeature(CompoundLocation([FeatureLocation(ExactPosition(5208528), ExactPosition(5209915), strand=1), FeatureLocation(ExactPosition(5212626), ExactPosition(5212743), strand=1), FeatureLocation(ExactPosition(5213382), ExactPosition(5214885), strand=1), FeatureLocation(ExactPosition(5216546), ExactPosition(5216656), strand=1)], 'join'), type='mRNA', location_operator='join'),\n",
       " SeqFeature(CompoundLocation([FeatureLocation(ExactPosition(5208528), ExactPosition(5209915), strand=1), FeatureLocation(ExactPosition(5212626), ExactPosition(5212743), strand=1), FeatureLocation(ExactPosition(5213382), ExactPosition(5214885), strand=1), FeatureLocation(ExactPosition(5216546), ExactPosition(5216656), strand=1)], 'join'), type='CDS', location_operator='join'),\n",
       " SeqFeature(FeatureLocation(ExactPosition(5457505), ExactPosition(5461228), strand=-1), type='gene'),\n",
       " SeqFeature(CompoundLocation([FeatureLocation(ExactPosition(5461125), ExactPosition(5461228), strand=-1), FeatureLocation(ExactPosition(5457505), ExactPosition(5460561), strand=-1)], 'join'), type='mRNA', location_operator='join'),\n",
       " SeqFeature(CompoundLocation([FeatureLocation(ExactPosition(5461125), ExactPosition(5461228), strand=-1), FeatureLocation(ExactPosition(5457505), ExactPosition(5460561), strand=-1)], 'join'), type='CDS', location_operator='join'),\n",
       " SeqFeature(FeatureLocation(ExactPosition(6361355), ExactPosition(6396571), strand=1), type='gene'),\n",
       " SeqFeature(CompoundLocation([FeatureLocation(ExactPosition(6361355), ExactPosition(6361533), strand=1), FeatureLocation(ExactPosition(6368154), ExactPosition(6368394), strand=1), FeatureLocation(ExactPosition(6378777), ExactPosition(6378966), strand=1), FeatureLocation(ExactPosition(6380090), ExactPosition(6380153), strand=1), FeatureLocation(ExactPosition(6385790), ExactPosition(6386042), strand=1), FeatureLocation(ExactPosition(6395294), ExactPosition(6396571), strand=1)], 'join'), type='mRNA', location_operator='join'),\n",
       " SeqFeature(CompoundLocation([FeatureLocation(ExactPosition(6361355), ExactPosition(6361533), strand=1), FeatureLocation(ExactPosition(6368154), ExactPosition(6368394), strand=1), FeatureLocation(ExactPosition(6378777), ExactPosition(6378966), strand=1), FeatureLocation(ExactPosition(6380090), ExactPosition(6380153), strand=1), FeatureLocation(ExactPosition(6385790), ExactPosition(6386042), strand=1), FeatureLocation(ExactPosition(6395294), ExactPosition(6396571), strand=1)], 'join'), type='CDS', location_operator='join'),\n",
       " SeqFeature(FeatureLocation(ExactPosition(6562276), ExactPosition(6579730), strand=1), type='gene'),\n",
       " SeqFeature(CompoundLocation([FeatureLocation(ExactPosition(6562276), ExactPosition(6562397), strand=1), FeatureLocation(ExactPosition(6572960), ExactPosition(6575330), strand=1), FeatureLocation(ExactPosition(6576574), ExactPosition(6576855), strand=1), FeatureLocation(ExactPosition(6579307), ExactPosition(6579730), strand=1)], 'join'), type='mRNA', location_operator='join'),\n",
       " SeqFeature(CompoundLocation([FeatureLocation(ExactPosition(6562276), ExactPosition(6562397), strand=1), FeatureLocation(ExactPosition(6572960), ExactPosition(6575330), strand=1), FeatureLocation(ExactPosition(6576574), ExactPosition(6576855), strand=1), FeatureLocation(ExactPosition(6579307), ExactPosition(6579730), strand=1)], 'join'), type='CDS', location_operator='join'),\n",
       " SeqFeature(FeatureLocation(ExactPosition(6607648), ExactPosition(6681168), strand=1), type='gene'),\n",
       " SeqFeature(CompoundLocation([FeatureLocation(ExactPosition(6607648), ExactPosition(6607816), strand=1), FeatureLocation(ExactPosition(6613054), ExactPosition(6613095), strand=1), FeatureLocation(ExactPosition(6614452), ExactPosition(6614597), strand=1), FeatureLocation(ExactPosition(6618462), ExactPosition(6618576), strand=1), FeatureLocation(ExactPosition(6618970), ExactPosition(6619079), strand=1), FeatureLocation(ExactPosition(6625556), ExactPosition(6625615), strand=1), FeatureLocation(ExactPosition(6627867), ExactPosition(6627919), strand=1), FeatureLocation(ExactPosition(6628708), ExactPosition(6628803), strand=1), FeatureLocation(ExactPosition(6634729), ExactPosition(6634810), strand=1), FeatureLocation(ExactPosition(6635560), ExactPosition(6635636), strand=1), FeatureLocation(ExactPosition(6640686), ExactPosition(6640763), strand=1), FeatureLocation(ExactPosition(6642231), ExactPosition(6642392), strand=1), FeatureLocation(ExactPosition(6642741), ExactPosition(6642884), strand=1), FeatureLocation(ExactPosition(6644444), ExactPosition(6644557), strand=1), FeatureLocation(ExactPosition(6649402), ExactPosition(6649615), strand=1), FeatureLocation(ExactPosition(6654350), ExactPosition(6654512), strand=1), FeatureLocation(ExactPosition(6662760), ExactPosition(6662853), strand=1), FeatureLocation(ExactPosition(6664076), ExactPosition(6664160), strand=1), FeatureLocation(ExactPosition(6665072), ExactPosition(6665243), strand=1), FeatureLocation(ExactPosition(6667331), ExactPosition(6667430), strand=1), FeatureLocation(ExactPosition(6668061), ExactPosition(6668151), strand=1), FeatureLocation(ExactPosition(6668257), ExactPosition(6668402), strand=1), FeatureLocation(ExactPosition(6669082), ExactPosition(6669147), strand=1), FeatureLocation(ExactPosition(6671505), ExactPosition(6671661), strand=1), FeatureLocation(ExactPosition(6675152), ExactPosition(6675217), strand=1), FeatureLocation(ExactPosition(6676356), ExactPosition(6676465), strand=1), FeatureLocation(ExactPosition(6678098), ExactPosition(6678321), strand=1), FeatureLocation(ExactPosition(6681031), ExactPosition(6681168), strand=1)], 'join'), type='mRNA', location_operator='join'),\n",
       " SeqFeature(CompoundLocation([FeatureLocation(ExactPosition(6607648), ExactPosition(6607816), strand=1), FeatureLocation(ExactPosition(6613054), ExactPosition(6613095), strand=1), FeatureLocation(ExactPosition(6614452), ExactPosition(6614597), strand=1), FeatureLocation(ExactPosition(6618462), ExactPosition(6618576), strand=1), FeatureLocation(ExactPosition(6618970), ExactPosition(6619079), strand=1), FeatureLocation(ExactPosition(6625556), ExactPosition(6625615), strand=1), FeatureLocation(ExactPosition(6627867), ExactPosition(6627919), strand=1), FeatureLocation(ExactPosition(6628708), ExactPosition(6628803), strand=1), FeatureLocation(ExactPosition(6634729), ExactPosition(6634810), strand=1), FeatureLocation(ExactPosition(6635560), ExactPosition(6635636), strand=1), FeatureLocation(ExactPosition(6640686), ExactPosition(6640763), strand=1), FeatureLocation(ExactPosition(6642231), ExactPosition(6642392), strand=1), FeatureLocation(ExactPosition(6642741), ExactPosition(6642884), strand=1), FeatureLocation(ExactPosition(6644444), ExactPosition(6644557), strand=1), FeatureLocation(ExactPosition(6649402), ExactPosition(6649615), strand=1), FeatureLocation(ExactPosition(6654350), ExactPosition(6654512), strand=1), FeatureLocation(ExactPosition(6662760), ExactPosition(6662853), strand=1), FeatureLocation(ExactPosition(6664076), ExactPosition(6664160), strand=1), FeatureLocation(ExactPosition(6665072), ExactPosition(6665243), strand=1), FeatureLocation(ExactPosition(6667331), ExactPosition(6667430), strand=1), FeatureLocation(ExactPosition(6668061), ExactPosition(6668151), strand=1), FeatureLocation(ExactPosition(6668257), ExactPosition(6668402), strand=1), FeatureLocation(ExactPosition(6669082), ExactPosition(6669147), strand=1), FeatureLocation(ExactPosition(6671505), ExactPosition(6671661), strand=1), FeatureLocation(ExactPosition(6675152), ExactPosition(6675217), strand=1), FeatureLocation(ExactPosition(6676356), ExactPosition(6676465), strand=1), FeatureLocation(ExactPosition(6678098), ExactPosition(6678321), strand=1), FeatureLocation(ExactPosition(6681031), ExactPosition(6681168), strand=1)], 'join'), type='CDS', location_operator='join'),\n",
       " SeqFeature(FeatureLocation(ExactPosition(6729854), ExactPosition(6823894), strand=1), type='gene'),\n",
       " SeqFeature(CompoundLocation([FeatureLocation(ExactPosition(6729854), ExactPosition(6729984), strand=1), FeatureLocation(ExactPosition(6749989), ExactPosition(6751028), strand=1), FeatureLocation(ExactPosition(6755104), ExactPosition(6755276), strand=1), FeatureLocation(ExactPosition(6782320), ExactPosition(6782523), strand=1), FeatureLocation(ExactPosition(6783379), ExactPosition(6783552), strand=1), FeatureLocation(ExactPosition(6794750), ExactPosition(6794891), strand=1), FeatureLocation(ExactPosition(6810282), ExactPosition(6810338), strand=1), FeatureLocation(ExactPosition(6810839), ExactPosition(6810966), strand=1), FeatureLocation(ExactPosition(6812738), ExactPosition(6813431), strand=1), FeatureLocation(ExactPosition(6823769), ExactPosition(6823894), strand=1)], 'join'), type='mRNA', location_operator='join'),\n",
       " SeqFeature(CompoundLocation([FeatureLocation(ExactPosition(6729854), ExactPosition(6729984), strand=1), FeatureLocation(ExactPosition(6749989), ExactPosition(6751028), strand=1), FeatureLocation(ExactPosition(6755104), ExactPosition(6755276), strand=1), FeatureLocation(ExactPosition(6782320), ExactPosition(6782523), strand=1), FeatureLocation(ExactPosition(6783379), ExactPosition(6783552), strand=1), FeatureLocation(ExactPosition(6794750), ExactPosition(6794891), strand=1), FeatureLocation(ExactPosition(6810282), ExactPosition(6810338), strand=1), FeatureLocation(ExactPosition(6810839), ExactPosition(6810966), strand=1), FeatureLocation(ExactPosition(6812738), ExactPosition(6813431), strand=1), FeatureLocation(ExactPosition(6823769), ExactPosition(6823894), strand=1)], 'join'), type='CDS', location_operator='join'),\n",
       " SeqFeature(FeatureLocation(ExactPosition(7068677), ExactPosition(7071791), strand=1), type='gene'),\n",
       " SeqFeature(CompoundLocation([FeatureLocation(ExactPosition(7068677), ExactPosition(7068914), strand=1), FeatureLocation(ExactPosition(7071020), ExactPosition(7071791), strand=1)], 'join'), type='mRNA', location_operator='join'),\n",
       " SeqFeature(CompoundLocation([FeatureLocation(ExactPosition(7068677), ExactPosition(7068914), strand=1), FeatureLocation(ExactPosition(7071020), ExactPosition(7071791), strand=1)], 'join'), type='CDS', location_operator='join'),\n",
       " SeqFeature(FeatureLocation(ExactPosition(7098766), ExactPosition(7100143), strand=-1), type='gene'),\n",
       " SeqFeature(FeatureLocation(ExactPosition(7098766), ExactPosition(7100143), strand=-1), type='mRNA'),\n",
       " SeqFeature(FeatureLocation(ExactPosition(7098766), ExactPosition(7100143), strand=-1), type='CDS'),\n",
       " SeqFeature(FeatureLocation(ExactPosition(7100425), ExactPosition(7146204), strand=1), type='gene'),\n",
       " SeqFeature(CompoundLocation([FeatureLocation(ExactPosition(7100425), ExactPosition(7100586), strand=1), FeatureLocation(ExactPosition(7103647), ExactPosition(7103747), strand=1), FeatureLocation(ExactPosition(7106407), ExactPosition(7106441), strand=1), FeatureLocation(ExactPosition(7109375), ExactPosition(7109452), strand=1), FeatureLocation(ExactPosition(7109674), ExactPosition(7109700), strand=1), FeatureLocation(ExactPosition(7112629), ExactPosition(7112725), strand=1), FeatureLocation(ExactPosition(7117706), ExactPosition(7117816), strand=1), FeatureLocation(ExactPosition(7138599), ExactPosition(7138712), strand=1), FeatureLocation(ExactPosition(7140269), ExactPosition(7140362), strand=1), FeatureLocation(ExactPosition(7143099), ExactPosition(7144069), strand=1), FeatureLocation(ExactPosition(7145587), ExactPosition(7146204), strand=1)], 'join'), type='mRNA', location_operator='join'),\n",
       " SeqFeature(CompoundLocation([FeatureLocation(ExactPosition(7100425), ExactPosition(7100586), strand=1), FeatureLocation(ExactPosition(7103647), ExactPosition(7103747), strand=1), FeatureLocation(ExactPosition(7106407), ExactPosition(7106441), strand=1), FeatureLocation(ExactPosition(7109375), ExactPosition(7109452), strand=1), FeatureLocation(ExactPosition(7109674), ExactPosition(7109700), strand=1), FeatureLocation(ExactPosition(7112629), ExactPosition(7112725), strand=1), FeatureLocation(ExactPosition(7117706), ExactPosition(7117816), strand=1), FeatureLocation(ExactPosition(7138599), ExactPosition(7138712), strand=1), FeatureLocation(ExactPosition(7140269), ExactPosition(7140362), strand=1), FeatureLocation(ExactPosition(7143099), ExactPosition(7144069), strand=1), FeatureLocation(ExactPosition(7145587), ExactPosition(7146204), strand=1)], 'join'), type='CDS', location_operator='join'),\n",
       " SeqFeature(FeatureLocation(ExactPosition(7218042), ExactPosition(7244738), strand=-1), type='gene'),\n",
       " SeqFeature(CompoundLocation([FeatureLocation(ExactPosition(7244681), ExactPosition(7244738), strand=-1), FeatureLocation(ExactPosition(7241796), ExactPosition(7242709), strand=-1), FeatureLocation(ExactPosition(7241254), ExactPosition(7241351), strand=-1), FeatureLocation(ExactPosition(7236813), ExactPosition(7236961), strand=-1), FeatureLocation(ExactPosition(7235263), ExactPosition(7235486), strand=-1), FeatureLocation(ExactPosition(7231620), ExactPosition(7231836), strand=-1), FeatureLocation(ExactPosition(7218042), ExactPosition(7218869), strand=-1)], 'join'), type='mRNA', location_operator='join'),\n",
       " SeqFeature(CompoundLocation([FeatureLocation(ExactPosition(7244681), ExactPosition(7244738), strand=-1), FeatureLocation(ExactPosition(7241796), ExactPosition(7242709), strand=-1), FeatureLocation(ExactPosition(7241254), ExactPosition(7241351), strand=-1), FeatureLocation(ExactPosition(7236813), ExactPosition(7236961), strand=-1), FeatureLocation(ExactPosition(7235263), ExactPosition(7235486), strand=-1), FeatureLocation(ExactPosition(7231620), ExactPosition(7231836), strand=-1), FeatureLocation(ExactPosition(7218042), ExactPosition(7218869), strand=-1)], 'join'), type='CDS', location_operator='join'),\n",
       " SeqFeature(FeatureLocation(ExactPosition(7318576), ExactPosition(7347863), strand=1), type='gene'),\n",
       " SeqFeature(CompoundLocation([FeatureLocation(ExactPosition(7318576), ExactPosition(7318740), strand=1), FeatureLocation(ExactPosition(7324567), ExactPosition(7324714), strand=1), FeatureLocation(ExactPosition(7326369), ExactPosition(7326448), strand=1), FeatureLocation(ExactPosition(7328799), ExactPosition(7328823), strand=1), FeatureLocation(ExactPosition(7329057), ExactPosition(7329175), strand=1), FeatureLocation(ExactPosition(7330154), ExactPosition(7330303), strand=1), FeatureLocation(ExactPosition(7330389), ExactPosition(7330453), strand=1), FeatureLocation(ExactPosition(7330758), ExactPosition(7330802), strand=1), FeatureLocation(ExactPosition(7330899), ExactPosition(7331025), strand=1), FeatureLocation(ExactPosition(7331102), ExactPosition(7331248), strand=1), FeatureLocation(ExactPosition(7332336), ExactPosition(7332466), strand=1), FeatureLocation(ExactPosition(7333711), ExactPosition(7334260), strand=1), FeatureLocation(ExactPosition(7337403), ExactPosition(7337534), strand=1), FeatureLocation(ExactPosition(7338148), ExactPosition(7338272), strand=1), FeatureLocation(ExactPosition(7339273), ExactPosition(7339511), strand=1), FeatureLocation(ExactPosition(7339723), ExactPosition(7339885), strand=1), FeatureLocation(ExactPosition(7340332), ExactPosition(7340535), strand=1), FeatureLocation(ExactPosition(7341647), ExactPosition(7341731), strand=1), FeatureLocation(ExactPosition(7343068), ExactPosition(7343128), strand=1), FeatureLocation(ExactPosition(7343474), ExactPosition(7343543), strand=1), FeatureLocation(ExactPosition(7347710), ExactPosition(7347863), strand=1)], 'join'), type='mRNA', location_operator='join'),\n",
       " SeqFeature(CompoundLocation([FeatureLocation(ExactPosition(7318576), ExactPosition(7318740), strand=1), FeatureLocation(ExactPosition(7324567), ExactPosition(7324714), strand=1), FeatureLocation(ExactPosition(7326369), ExactPosition(7326448), strand=1), FeatureLocation(ExactPosition(7328799), ExactPosition(7328823), strand=1), FeatureLocation(ExactPosition(7329057), ExactPosition(7329175), strand=1), FeatureLocation(ExactPosition(7330154), ExactPosition(7330303), strand=1), FeatureLocation(ExactPosition(7330389), ExactPosition(7330453), strand=1), FeatureLocation(ExactPosition(7330758), ExactPosition(7330802), strand=1), FeatureLocation(ExactPosition(7330899), ExactPosition(7331025), strand=1), FeatureLocation(ExactPosition(7331102), ExactPosition(7331248), strand=1), FeatureLocation(ExactPosition(7332336), ExactPosition(7332466), strand=1), FeatureLocation(ExactPosition(7333711), ExactPosition(7334260), strand=1), FeatureLocation(ExactPosition(7337403), ExactPosition(7337534), strand=1), FeatureLocation(ExactPosition(7338148), ExactPosition(7338272), strand=1), FeatureLocation(ExactPosition(7339273), ExactPosition(7339511), strand=1), FeatureLocation(ExactPosition(7339723), ExactPosition(7339885), strand=1), FeatureLocation(ExactPosition(7340332), ExactPosition(7340535), strand=1), FeatureLocation(ExactPosition(7341647), ExactPosition(7341731), strand=1), FeatureLocation(ExactPosition(7343068), ExactPosition(7343128), strand=1), FeatureLocation(ExactPosition(7343474), ExactPosition(7343543), strand=1), FeatureLocation(ExactPosition(7347710), ExactPosition(7347863), strand=1)], 'join'), type='CDS', location_operator='join'),\n",
       " SeqFeature(FeatureLocation(ExactPosition(7347909), ExactPosition(7365112), strand=-1), type='gene'),\n",
       " SeqFeature(CompoundLocation([FeatureLocation(ExactPosition(7365004), ExactPosition(7365112), strand=-1), FeatureLocation(ExactPosition(7364810), ExactPosition(7364900), strand=-1), FeatureLocation(ExactPosition(7362725), ExactPosition(7362851), strand=-1), FeatureLocation(ExactPosition(7361970), ExactPosition(7362061), strand=-1), FeatureLocation(ExactPosition(7359438), ExactPosition(7359539), strand=-1), FeatureLocation(ExactPosition(7357587), ExactPosition(7357686), strand=-1), FeatureLocation(ExactPosition(7353160), ExactPosition(7353298), strand=-1), FeatureLocation(ExactPosition(7350212), ExactPosition(7350422), strand=-1), FeatureLocation(ExactPosition(7349756), ExactPosition(7349918), strand=-1), FeatureLocation(ExactPosition(7348883), ExactPosition(7349104), strand=-1), FeatureLocation(ExactPosition(7347909), ExactPosition(7348123), strand=-1)], 'join'), type='mRNA', location_operator='join'),\n",
       " SeqFeature(CompoundLocation([FeatureLocation(ExactPosition(7365004), ExactPosition(7365112), strand=-1), FeatureLocation(ExactPosition(7364810), ExactPosition(7364900), strand=-1), FeatureLocation(ExactPosition(7362725), ExactPosition(7362851), strand=-1), FeatureLocation(ExactPosition(7361970), ExactPosition(7362061), strand=-1), FeatureLocation(ExactPosition(7359438), ExactPosition(7359539), strand=-1), FeatureLocation(ExactPosition(7357587), ExactPosition(7357686), strand=-1), FeatureLocation(ExactPosition(7353160), ExactPosition(7353298), strand=-1), FeatureLocation(ExactPosition(7350212), ExactPosition(7350422), strand=-1), FeatureLocation(ExactPosition(7349756), ExactPosition(7349918), strand=-1), FeatureLocation(ExactPosition(7348883), ExactPosition(7349104), strand=-1), FeatureLocation(ExactPosition(7347909), ExactPosition(7348123), strand=-1)], 'join'), type='CDS', location_operator='join'),\n",
       " SeqFeature(FeatureLocation(ExactPosition(7645143), ExactPosition(7645356), strand=-1), type='gene'),\n",
       " SeqFeature(FeatureLocation(ExactPosition(7645143), ExactPosition(7645356), strand=-1), type='mRNA'),\n",
       " SeqFeature(FeatureLocation(ExactPosition(7645143), ExactPosition(7645356), strand=-1), type='CDS'),\n",
       " SeqFeature(FeatureLocation(ExactPosition(7677732), ExactPosition(7695662), strand=1), type='gene'),\n",
       " SeqFeature(CompoundLocation([FeatureLocation(ExactPosition(7677732), ExactPosition(7677856), strand=1), FeatureLocation(ExactPosition(7684909), ExactPosition(7685029), strand=1), FeatureLocation(ExactPosition(7692464), ExactPosition(7692556), strand=1), FeatureLocation(ExactPosition(7693647), ExactPosition(7693792), strand=1), FeatureLocation(ExactPosition(7694779), ExactPosition(7694992), strand=1), FeatureLocation(ExactPosition(7695540), ExactPosition(7695662), strand=1)], 'join'), type='mRNA', location_operator='join'),\n",
       " SeqFeature(CompoundLocation([FeatureLocation(ExactPosition(7677732), ExactPosition(7677856), strand=1), FeatureLocation(ExactPosition(7684909), ExactPosition(7685029), strand=1), FeatureLocation(ExactPosition(7692464), ExactPosition(7692556), strand=1), FeatureLocation(ExactPosition(7693647), ExactPosition(7693792), strand=1), FeatureLocation(ExactPosition(7694779), ExactPosition(7694992), strand=1), FeatureLocation(ExactPosition(7695540), ExactPosition(7695662), strand=1)], 'join'), type='CDS', location_operator='join'),\n",
       " SeqFeature(FeatureLocation(ExactPosition(7709751), ExactPosition(7735624), strand=1), type='gene'),\n",
       " SeqFeature(CompoundLocation([FeatureLocation(ExactPosition(7709751), ExactPosition(7709962), strand=1), FeatureLocation(ExactPosition(7726806), ExactPosition(7726955), strand=1), FeatureLocation(ExactPosition(7733901), ExactPosition(7734027), strand=1), FeatureLocation(ExactPosition(7735477), ExactPosition(7735624), strand=1)], 'join'), type='mRNA', location_operator='join'),\n",
       " SeqFeature(CompoundLocation([FeatureLocation(ExactPosition(7709751), ExactPosition(7709962), strand=1), FeatureLocation(ExactPosition(7726806), ExactPosition(7726955), strand=1), FeatureLocation(ExactPosition(7733901), ExactPosition(7734027), strand=1), FeatureLocation(ExactPosition(7735477), ExactPosition(7735624), strand=1)], 'join'), type='CDS', location_operator='join'),\n",
       " SeqFeature(FeatureLocation(ExactPosition(7805766), ExactPosition(7809212), strand=-1), type='gene'),\n",
       " SeqFeature(CompoundLocation([FeatureLocation(ExactPosition(7809130), ExactPosition(7809212), strand=-1), FeatureLocation(ExactPosition(7808311), ExactPosition(7808839), strand=-1), FeatureLocation(ExactPosition(7805766), ExactPosition(7805951), strand=-1)], 'join'), type='mRNA', location_operator='join'),\n",
       " SeqFeature(CompoundLocation([FeatureLocation(ExactPosition(7809130), ExactPosition(7809212), strand=-1), FeatureLocation(ExactPosition(7808311), ExactPosition(7808839), strand=-1), FeatureLocation(ExactPosition(7805766), ExactPosition(7805951), strand=-1)], 'join'), type='CDS', location_operator='join'),\n",
       " SeqFeature(FeatureLocation(ExactPosition(7823800), ExactPosition(7835681), strand=-1), type='gene'),\n",
       " SeqFeature(CompoundLocation([FeatureLocation(ExactPosition(7835538), ExactPosition(7835681), strand=-1), FeatureLocation(ExactPosition(7832509), ExactPosition(7832660), strand=-1), FeatureLocation(ExactPosition(7828778), ExactPosition(7828885), strand=-1), FeatureLocation(ExactPosition(7827899), ExactPosition(7828014), strand=-1), FeatureLocation(ExactPosition(7825997), ExactPosition(7826105), strand=-1), FeatureLocation(ExactPosition(7823800), ExactPosition(7823866), strand=-1)], 'join'), type='mRNA', location_operator='join'),\n",
       " SeqFeature(CompoundLocation([FeatureLocation(ExactPosition(7835538), ExactPosition(7835681), strand=-1), FeatureLocation(ExactPosition(7832509), ExactPosition(7832660), strand=-1), FeatureLocation(ExactPosition(7828778), ExactPosition(7828885), strand=-1), FeatureLocation(ExactPosition(7827899), ExactPosition(7828014), strand=-1), FeatureLocation(ExactPosition(7825997), ExactPosition(7826105), strand=-1), FeatureLocation(ExactPosition(7823800), ExactPosition(7823866), strand=-1)], 'join'), type='CDS', location_operator='join'),\n",
       " SeqFeature(FeatureLocation(ExactPosition(7852124), ExactPosition(7854270), strand=1), type='gene'),\n",
       " SeqFeature(CompoundLocation([FeatureLocation(ExactPosition(7852124), ExactPosition(7852442), strand=1), FeatureLocation(ExactPosition(7853055), ExactPosition(7854270), strand=1)], 'join'), type='mRNA', location_operator='join'),\n",
       " SeqFeature(CompoundLocation([FeatureLocation(ExactPosition(7852124), ExactPosition(7852442), strand=1), FeatureLocation(ExactPosition(7853055), ExactPosition(7854270), strand=1)], 'join'), type='CDS', location_operator='join'),\n",
       " SeqFeature(FeatureLocation(ExactPosition(7863529), ExactPosition(7948725), strand=-1), type='gene'),\n",
       " SeqFeature(CompoundLocation([FeatureLocation(ExactPosition(7948477), ExactPosition(7948725), strand=-1), FeatureLocation(ExactPosition(7916033), ExactPosition(7916212), strand=-1), FeatureLocation(ExactPosition(7902715), ExactPosition(7902796), strand=-1), FeatureLocation(ExactPosition(7898932), ExactPosition(7898991), strand=-1), FeatureLocation(ExactPosition(7898074), ExactPosition(7898158), strand=-1), FeatureLocation(ExactPosition(7896041), ExactPosition(7896143), strand=-1), FeatureLocation(ExactPosition(7895061), ExactPosition(7895096), strand=-1), FeatureLocation(ExactPosition(7890245), ExactPosition(7890389), strand=-1), FeatureLocation(ExactPosition(7884839), ExactPosition(7884900), strand=-1), FeatureLocation(ExactPosition(7882368), ExactPosition(7882465), strand=-1), FeatureLocation(ExactPosition(7872440), ExactPosition(7872667), strand=-1), FeatureLocation(ExactPosition(7868629), ExactPosition(7868741), strand=-1), FeatureLocation(ExactPosition(7866176), ExactPosition(7866397), strand=-1), FeatureLocation(ExactPosition(7864222), ExactPosition(7864369), strand=-1), FeatureLocation(ExactPosition(7863529), ExactPosition(7863637), strand=-1)], 'join'), type='mRNA', location_operator='join'),\n",
       " SeqFeature(CompoundLocation([FeatureLocation(ExactPosition(7948477), ExactPosition(7948725), strand=-1), FeatureLocation(ExactPosition(7916033), ExactPosition(7916212), strand=-1), FeatureLocation(ExactPosition(7902715), ExactPosition(7902796), strand=-1), FeatureLocation(ExactPosition(7898932), ExactPosition(7898991), strand=-1), FeatureLocation(ExactPosition(7898074), ExactPosition(7898158), strand=-1), FeatureLocation(ExactPosition(7896041), ExactPosition(7896143), strand=-1), FeatureLocation(ExactPosition(7895061), ExactPosition(7895096), strand=-1), FeatureLocation(ExactPosition(7890245), ExactPosition(7890389), strand=-1), FeatureLocation(ExactPosition(7884839), ExactPosition(7884900), strand=-1), FeatureLocation(ExactPosition(7882368), ExactPosition(7882465), strand=-1), FeatureLocation(ExactPosition(7872440), ExactPosition(7872667), strand=-1), FeatureLocation(ExactPosition(7868629), ExactPosition(7868741), strand=-1), FeatureLocation(ExactPosition(7866176), ExactPosition(7866397), strand=-1), FeatureLocation(ExactPosition(7864222), ExactPosition(7864369), strand=-1), FeatureLocation(ExactPosition(7863529), ExactPosition(7863637), strand=-1)], 'join'), type='CDS', location_operator='join'),\n",
       " SeqFeature(FeatureLocation(ExactPosition(8021199), ExactPosition(8056443), strand=1), type='gene'),\n",
       " SeqFeature(CompoundLocation([FeatureLocation(ExactPosition(8021199), ExactPosition(8021323), strand=1), FeatureLocation(ExactPosition(8048719), ExactPosition(8048854), strand=1), FeatureLocation(ExactPosition(8050672), ExactPosition(8050786), strand=1), FeatureLocation(ExactPosition(8052019), ExactPosition(8052144), strand=1), FeatureLocation(ExactPosition(8053288), ExactPosition(8053405), strand=1), FeatureLocation(ExactPosition(8054316), ExactPosition(8054504), strand=1), FeatureLocation(ExactPosition(8054950), ExactPosition(8055073), strand=1), FeatureLocation(ExactPosition(8055780), ExactPosition(8055882), strand=1), FeatureLocation(ExactPosition(8056295), ExactPosition(8056443), strand=1)], 'join'), type='mRNA', location_operator='join'),\n",
       " SeqFeature(CompoundLocation([FeatureLocation(ExactPosition(8021199), ExactPosition(8021323), strand=1), FeatureLocation(ExactPosition(8048719), ExactPosition(8048854), strand=1), FeatureLocation(ExactPosition(8050672), ExactPosition(8050786), strand=1), FeatureLocation(ExactPosition(8052019), ExactPosition(8052144), strand=1), FeatureLocation(ExactPosition(8053288), ExactPosition(8053405), strand=1), FeatureLocation(ExactPosition(8054316), ExactPosition(8054504), strand=1), FeatureLocation(ExactPosition(8054950), ExactPosition(8055073), strand=1), FeatureLocation(ExactPosition(8055780), ExactPosition(8055882), strand=1), FeatureLocation(ExactPosition(8056295), ExactPosition(8056443), strand=1)], 'join'), type='CDS', location_operator='join'),\n",
       " SeqFeature(FeatureLocation(BeforePosition(8126474), ExactPosition(8149314), strand=1), type='gene'),\n",
       " SeqFeature(CompoundLocation([FeatureLocation(BeforePosition(8126477), ExactPosition(8126600), strand=1), FeatureLocation(ExactPosition(8128342), ExactPosition(8128521), strand=1), FeatureLocation(ExactPosition(8129636), ExactPosition(8129780), strand=1), FeatureLocation(ExactPosition(8132199), ExactPosition(8132351), strand=1), FeatureLocation(ExactPosition(8137850), ExactPosition(8138032), strand=1), FeatureLocation(ExactPosition(8144724), ExactPosition(8144893), strand=1), FeatureLocation(ExactPosition(8145863), ExactPosition(8146045), strand=1), FeatureLocation(ExactPosition(8148378), ExactPosition(8148518), strand=1), FeatureLocation(ExactPosition(8149169), ExactPosition(8149314), strand=1)], 'join'), type='mRNA', location_operator='join'),\n",
       " SeqFeature(CompoundLocation([FeatureLocation(BeforePosition(8126477), ExactPosition(8126600), strand=1), FeatureLocation(ExactPosition(8128342), ExactPosition(8128521), strand=1), FeatureLocation(ExactPosition(8129636), ExactPosition(8129780), strand=1), FeatureLocation(ExactPosition(8132199), ExactPosition(8132351), strand=1), FeatureLocation(ExactPosition(8137850), ExactPosition(8138032), strand=1), FeatureLocation(ExactPosition(8144724), ExactPosition(8144893), strand=1), FeatureLocation(ExactPosition(8145863), ExactPosition(8146045), strand=1), FeatureLocation(ExactPosition(8148378), ExactPosition(8148518), strand=1), FeatureLocation(ExactPosition(8149169), ExactPosition(8149314), strand=1)], 'join'), type='CDS', location_operator='join'),\n",
       " SeqFeature(FeatureLocation(ExactPosition(8164526), ExactPosition(8165156), strand=1), type='gene'),\n",
       " SeqFeature(FeatureLocation(ExactPosition(8164526), ExactPosition(8165156), strand=1), type='mRNA'),\n",
       " SeqFeature(FeatureLocation(ExactPosition(8164526), ExactPosition(8165156), strand=1), type='CDS'),\n",
       " SeqFeature(FeatureLocation(ExactPosition(8203912), ExactPosition(8244099), strand=1), type='gene'),\n",
       " SeqFeature(CompoundLocation([FeatureLocation(ExactPosition(8203912), ExactPosition(8204078), strand=1), FeatureLocation(ExactPosition(8209943), ExactPosition(8210096), strand=1), FeatureLocation(ExactPosition(8233165), ExactPosition(8233290), strand=1), FeatureLocation(ExactPosition(8242092), ExactPosition(8244099), strand=1)], 'join'), type='mRNA', location_operator='join'),\n",
       " SeqFeature(CompoundLocation([FeatureLocation(ExactPosition(8203912), ExactPosition(8204078), strand=1), FeatureLocation(ExactPosition(8209943), ExactPosition(8210096), strand=1), FeatureLocation(ExactPosition(8233165), ExactPosition(8233290), strand=1), FeatureLocation(ExactPosition(8242092), ExactPosition(8244099), strand=1)], 'join'), type='CDS', location_operator='join'),\n",
       " SeqFeature(FeatureLocation(ExactPosition(8253502), ExactPosition(8306077), strand=1), type='gene'),\n",
       " SeqFeature(CompoundLocation([FeatureLocation(ExactPosition(8253502), ExactPosition(8253744), strand=1), FeatureLocation(ExactPosition(8273464), ExactPosition(8273520), strand=1), FeatureLocation(ExactPosition(8275504), ExactPosition(8275878), strand=1), FeatureLocation(ExactPosition(8278267), ExactPosition(8278373), strand=1), FeatureLocation(ExactPosition(8281775), ExactPosition(8283581), strand=1), FeatureLocation(ExactPosition(8290404), ExactPosition(8290536), strand=1), FeatureLocation(ExactPosition(8292460), ExactPosition(8292609), strand=1), FeatureLocation(ExactPosition(8293917), ExactPosition(8294067), strand=1), FeatureLocation(ExactPosition(8296296), ExactPosition(8296411), strand=1), FeatureLocation(ExactPosition(8297805), ExactPosition(8298053), strand=1), FeatureLocation(ExactPosition(8299287), ExactPosition(8299427), strand=1), FeatureLocation(ExactPosition(8299954), ExactPosition(8300109), strand=1), FeatureLocation(ExactPosition(8300468), ExactPosition(8300614), strand=1), FeatureLocation(ExactPosition(8302072), ExactPosition(8302183), strand=1), FeatureLocation(ExactPosition(8302459), ExactPosition(8302555), strand=1), FeatureLocation(ExactPosition(8303635), ExactPosition(8304318), strand=1), FeatureLocation(ExactPosition(8304675), ExactPosition(8306077), strand=1)], 'join'), type='mRNA', location_operator='join'),\n",
       " SeqFeature(CompoundLocation([FeatureLocation(ExactPosition(8253502), ExactPosition(8253744), strand=1), FeatureLocation(ExactPosition(8273464), ExactPosition(8273520), strand=1), FeatureLocation(ExactPosition(8275504), ExactPosition(8275878), strand=1), FeatureLocation(ExactPosition(8278267), ExactPosition(8278373), strand=1), FeatureLocation(ExactPosition(8281775), ExactPosition(8283581), strand=1), FeatureLocation(ExactPosition(8290404), ExactPosition(8290536), strand=1), FeatureLocation(ExactPosition(8292460), ExactPosition(8292609), strand=1), FeatureLocation(ExactPosition(8293917), ExactPosition(8294067), strand=1), FeatureLocation(ExactPosition(8296296), ExactPosition(8296411), strand=1), FeatureLocation(ExactPosition(8297805), ExactPosition(8298053), strand=1), FeatureLocation(ExactPosition(8299287), ExactPosition(8299427), strand=1), FeatureLocation(ExactPosition(8299954), ExactPosition(8300109), strand=1), FeatureLocation(ExactPosition(8300468), ExactPosition(8300614), strand=1), FeatureLocation(ExactPosition(8302072), ExactPosition(8302183), strand=1), FeatureLocation(ExactPosition(8302459), ExactPosition(8302555), strand=1), FeatureLocation(ExactPosition(8303635), ExactPosition(8304318), strand=1), FeatureLocation(ExactPosition(8304675), ExactPosition(8306077), strand=1)], 'join'), type='CDS', location_operator='join'),\n",
       " SeqFeature(FeatureLocation(ExactPosition(8308916), ExactPosition(8328229), strand=-1), type='gene'),\n",
       " SeqFeature(CompoundLocation([FeatureLocation(ExactPosition(8328136), ExactPosition(8328229), strand=-1), FeatureLocation(ExactPosition(8326790), ExactPosition(8326937), strand=-1), FeatureLocation(ExactPosition(8324632), ExactPosition(8324692), strand=-1), FeatureLocation(ExactPosition(8324260), ExactPosition(8324420), strand=-1), FeatureLocation(ExactPosition(8323730), ExactPosition(8323774), strand=-1), FeatureLocation(ExactPosition(8323536), ExactPosition(8323623), strand=-1), FeatureLocation(ExactPosition(8322338), ExactPosition(8322444), strand=-1), FeatureLocation(ExactPosition(8319794), ExactPosition(8319968), strand=-1), FeatureLocation(ExactPosition(8317893), ExactPosition(8318030), strand=-1), FeatureLocation(ExactPosition(8317648), ExactPosition(8317790), strand=-1), FeatureLocation(ExactPosition(8317258), ExactPosition(8317412), strand=-1), FeatureLocation(ExactPosition(8316369), ExactPosition(8316451), strand=-1), FeatureLocation(ExactPosition(8316099), ExactPosition(8316277), strand=-1), FeatureLocation(ExactPosition(8314201), ExactPosition(8314338), strand=-1), FeatureLocation(ExactPosition(8313956), ExactPosition(8314098), strand=-1), FeatureLocation(ExactPosition(8313566), ExactPosition(8313720), strand=-1), FeatureLocation(ExactPosition(8312675), ExactPosition(8312757), strand=-1), FeatureLocation(ExactPosition(8312405), ExactPosition(8312583), strand=-1), FeatureLocation(ExactPosition(8311373), ExactPosition(8311480), strand=-1), FeatureLocation(ExactPosition(8311164), ExactPosition(8311267), strand=-1), FeatureLocation(ExactPosition(8309390), ExactPosition(8309485), strand=-1), FeatureLocation(ExactPosition(8309190), ExactPosition(8309314), strand=-1), FeatureLocation(ExactPosition(8308916), ExactPosition(8309008), strand=-1)], 'join'), type='mRNA', location_operator='join'),\n",
       " SeqFeature(CompoundLocation([FeatureLocation(ExactPosition(8328136), ExactPosition(8328229), strand=-1), FeatureLocation(ExactPosition(8326790), ExactPosition(8326937), strand=-1), FeatureLocation(ExactPosition(8324632), ExactPosition(8324692), strand=-1), FeatureLocation(ExactPosition(8324260), ExactPosition(8324420), strand=-1), FeatureLocation(ExactPosition(8323730), ExactPosition(8323774), strand=-1), FeatureLocation(ExactPosition(8323536), ExactPosition(8323623), strand=-1), FeatureLocation(ExactPosition(8322338), ExactPosition(8322444), strand=-1), FeatureLocation(ExactPosition(8319794), ExactPosition(8319968), strand=-1), FeatureLocation(ExactPosition(8317893), ExactPosition(8318030), strand=-1), FeatureLocation(ExactPosition(8317648), ExactPosition(8317790), strand=-1), FeatureLocation(ExactPosition(8317258), ExactPosition(8317412), strand=-1), FeatureLocation(ExactPosition(8316369), ExactPosition(8316451), strand=-1), FeatureLocation(ExactPosition(8316099), ExactPosition(8316277), strand=-1), FeatureLocation(ExactPosition(8314201), ExactPosition(8314338), strand=-1), FeatureLocation(ExactPosition(8313956), ExactPosition(8314098), strand=-1), FeatureLocation(ExactPosition(8313566), ExactPosition(8313720), strand=-1), FeatureLocation(ExactPosition(8312675), ExactPosition(8312757), strand=-1), FeatureLocation(ExactPosition(8312405), ExactPosition(8312583), strand=-1), FeatureLocation(ExactPosition(8311373), ExactPosition(8311480), strand=-1), FeatureLocation(ExactPosition(8311164), ExactPosition(8311267), strand=-1), FeatureLocation(ExactPosition(8309390), ExactPosition(8309485), strand=-1), FeatureLocation(ExactPosition(8309190), ExactPosition(8309314), strand=-1), FeatureLocation(ExactPosition(8308916), ExactPosition(8309008), strand=-1)], 'join'), type='CDS', location_operator='join'),\n",
       " SeqFeature(FeatureLocation(ExactPosition(8382676), ExactPosition(8395579), strand=1), type='gene'),\n",
       " SeqFeature(CompoundLocation([FeatureLocation(ExactPosition(8382676), ExactPosition(8382756), strand=1), FeatureLocation(ExactPosition(8383643), ExactPosition(8383809), strand=1), FeatureLocation(ExactPosition(8386747), ExactPosition(8386846), strand=1), FeatureLocation(ExactPosition(8389687), ExactPosition(8389900), strand=1), FeatureLocation(ExactPosition(8391565), ExactPosition(8391709), strand=1), FeatureLocation(ExactPosition(8392368), ExactPosition(8392515), strand=1), FeatureLocation(ExactPosition(8393411), ExactPosition(8393487), strand=1), FeatureLocation(ExactPosition(8393647), ExactPosition(8393967), strand=1), FeatureLocation(ExactPosition(8394733), ExactPosition(8394856), strand=1), FeatureLocation(ExactPosition(8395489), ExactPosition(8395579), strand=1)], 'join'), type='mRNA', location_operator='join'),\n",
       " SeqFeature(CompoundLocation([FeatureLocation(ExactPosition(8382676), ExactPosition(8382756), strand=1), FeatureLocation(ExactPosition(8383643), ExactPosition(8383809), strand=1), FeatureLocation(ExactPosition(8386747), ExactPosition(8386846), strand=1), FeatureLocation(ExactPosition(8389687), ExactPosition(8389900), strand=1), FeatureLocation(ExactPosition(8391565), ExactPosition(8391709), strand=1), FeatureLocation(ExactPosition(8392368), ExactPosition(8392515), strand=1), FeatureLocation(ExactPosition(8393411), ExactPosition(8393487), strand=1), FeatureLocation(ExactPosition(8393647), ExactPosition(8393967), strand=1), FeatureLocation(ExactPosition(8394733), ExactPosition(8394856), strand=1), FeatureLocation(ExactPosition(8395489), ExactPosition(8395579), strand=1)], 'join'), type='CDS', location_operator='join'),\n",
       " SeqFeature(FeatureLocation(ExactPosition(8401460), ExactPosition(8441568), strand=-1), type='gene'),\n",
       " SeqFeature(CompoundLocation([FeatureLocation(ExactPosition(8441483), ExactPosition(8441568), strand=-1), FeatureLocation(ExactPosition(8434031), ExactPosition(8434174), strand=-1), FeatureLocation(ExactPosition(8427581), ExactPosition(8427683), strand=-1), FeatureLocation(ExactPosition(8427354), ExactPosition(8427500), strand=-1), FeatureLocation(ExactPosition(8426814), ExactPosition(8426905), strand=-1), FeatureLocation(ExactPosition(8423288), ExactPosition(8423381), strand=-1), FeatureLocation(ExactPosition(8420405), ExactPosition(8420573), strand=-1), FeatureLocation(ExactPosition(8420173), ExactPosition(8420303), strand=-1), FeatureLocation(ExactPosition(8419374), ExactPosition(8419440), strand=-1), FeatureLocation(ExactPosition(8418532), ExactPosition(8418735), strand=-1), FeatureLocation(ExactPosition(8417795), ExactPosition(8417880), strand=-1), FeatureLocation(ExactPosition(8410116), ExactPosition(8410214), strand=-1), FeatureLocation(ExactPosition(8407333), ExactPosition(8407484), strand=-1), FeatureLocation(ExactPosition(8407010), ExactPosition(8407219), strand=-1), FeatureLocation(ExactPosition(8406439), ExactPosition(8406537), strand=-1), FeatureLocation(ExactPosition(8406256), ExactPosition(8406342), strand=-1), FeatureLocation(ExactPosition(8405808), ExactPosition(8405890), strand=-1), FeatureLocation(ExactPosition(8404394), ExactPosition(8404541), strand=-1), FeatureLocation(ExactPosition(8402829), ExactPosition(8403061), strand=-1), FeatureLocation(ExactPosition(8401460), ExactPosition(8401550), strand=-1)], 'join'), type='mRNA', location_operator='join'),\n",
       " SeqFeature(CompoundLocation([FeatureLocation(ExactPosition(8441483), ExactPosition(8441568), strand=-1), FeatureLocation(ExactPosition(8434031), ExactPosition(8434174), strand=-1), FeatureLocation(ExactPosition(8427581), ExactPosition(8427683), strand=-1), FeatureLocation(ExactPosition(8427354), ExactPosition(8427500), strand=-1), FeatureLocation(ExactPosition(8426814), ExactPosition(8426905), strand=-1), FeatureLocation(ExactPosition(8423288), ExactPosition(8423381), strand=-1), FeatureLocation(ExactPosition(8420405), ExactPosition(8420573), strand=-1), FeatureLocation(ExactPosition(8420173), ExactPosition(8420303), strand=-1), FeatureLocation(ExactPosition(8419374), ExactPosition(8419440), strand=-1), FeatureLocation(ExactPosition(8418532), ExactPosition(8418735), strand=-1), FeatureLocation(ExactPosition(8417795), ExactPosition(8417880), strand=-1), FeatureLocation(ExactPosition(8410116), ExactPosition(8410214), strand=-1), FeatureLocation(ExactPosition(8407333), ExactPosition(8407484), strand=-1), FeatureLocation(ExactPosition(8407010), ExactPosition(8407219), strand=-1), FeatureLocation(ExactPosition(8406439), ExactPosition(8406537), strand=-1), FeatureLocation(ExactPosition(8406256), ExactPosition(8406342), strand=-1), FeatureLocation(ExactPosition(8405808), ExactPosition(8405890), strand=-1), FeatureLocation(ExactPosition(8404394), ExactPosition(8404541), strand=-1), FeatureLocation(ExactPosition(8402829), ExactPosition(8403061), strand=-1), FeatureLocation(ExactPosition(8401460), ExactPosition(8401550), strand=-1)], 'join'), type='CDS', location_operator='join'),\n",
       " SeqFeature(FeatureLocation(ExactPosition(8462420), ExactPosition(8552372), strand=-1), type='gene'),\n",
       " SeqFeature(CompoundLocation([FeatureLocation(ExactPosition(8552115), ExactPosition(8552372), strand=-1), FeatureLocation(ExactPosition(8541889), ExactPosition(8542125), strand=-1), FeatureLocation(ExactPosition(8527668), ExactPosition(8527699), strand=-1), FeatureLocation(ExactPosition(8526943), ExactPosition(8527067), strand=-1), FeatureLocation(ExactPosition(8520773), ExactPosition(8520920), strand=-1), FeatureLocation(ExactPosition(8519426), ExactPosition(8519606), strand=-1), FeatureLocation(ExactPosition(8518808), ExactPosition(8519064), strand=-1), FeatureLocation(ExactPosition(8514579), ExactPosition(8514648), strand=-1), FeatureLocation(ExactPosition(8512345), ExactPosition(8512443), strand=-1), FeatureLocation(ExactPosition(8508132), ExactPosition(8508263), strand=-1), FeatureLocation(ExactPosition(8505178), ExactPosition(8505413), strand=-1), FeatureLocation(ExactPosition(8504381), ExactPosition(8504481), strand=-1), FeatureLocation(ExactPosition(8502888), ExactPosition(8503028), strand=-1), FeatureLocation(ExactPosition(8500909), ExactPosition(8501018), strand=-1), FeatureLocation(ExactPosition(8499635), ExactPosition(8499819), strand=-1), FeatureLocation(ExactPosition(8496980), ExactPosition(8497092), strand=-1), FeatureLocation(ExactPosition(8496338), ExactPosition(8496544), strand=-1), FeatureLocation(ExactPosition(8494183), ExactPosition(8494268), strand=-1), FeatureLocation(ExactPosition(8493681), ExactPosition(8493853), strand=-1), FeatureLocation(ExactPosition(8492668), ExactPosition(8492820), strand=-1), FeatureLocation(ExactPosition(8492354), ExactPosition(8492505), strand=-1), FeatureLocation(ExactPosition(8491341), ExactPosition(8491493), strand=-1), FeatureLocation(ExactPosition(8489640), ExactPosition(8489769), strand=-1), FeatureLocation(ExactPosition(8488464), ExactPosition(8488623), strand=-1), FeatureLocation(ExactPosition(8487347), ExactPosition(8487495), strand=-1), FeatureLocation(ExactPosition(8486176), ExactPosition(8486276), strand=-1), FeatureLocation(ExactPosition(8485979), ExactPosition(8486020), strand=-1), FeatureLocation(ExactPosition(8485716), ExactPosition(8485886), strand=-1), FeatureLocation(ExactPosition(8483920), ExactPosition(8484072), strand=-1), FeatureLocation(ExactPosition(8482727), ExactPosition(8482900), strand=-1), FeatureLocation(ExactPosition(8481576), ExactPosition(8481737), strand=-1), FeatureLocation(ExactPosition(8480627), ExactPosition(8480758), strand=-1), FeatureLocation(ExactPosition(8480367), ExactPosition(8480497), strand=-1), FeatureLocation(ExactPosition(8479657), ExactPosition(8479793), strand=-1), FeatureLocation(ExactPosition(8478288), ExactPosition(8478427), strand=-1), FeatureLocation(ExactPosition(8478131), ExactPosition(8478186), strand=-1), FeatureLocation(ExactPosition(8475637), ExactPosition(8475752), strand=-1), FeatureLocation(ExactPosition(8471930), ExactPosition(8472061), strand=-1), FeatureLocation(ExactPosition(8469674), ExactPosition(8469725), strand=-1), FeatureLocation(ExactPosition(8468282), ExactPosition(8468451), strand=-1), FeatureLocation(ExactPosition(8466194), ExactPosition(8466333), strand=-1), FeatureLocation(ExactPosition(8463380), ExactPosition(8463498), strand=-1), FeatureLocation(ExactPosition(8462420), ExactPosition(8462597), strand=-1)], 'join'), type='mRNA', location_operator='join'),\n",
       " SeqFeature(CompoundLocation([FeatureLocation(ExactPosition(8552115), ExactPosition(8552372), strand=-1), FeatureLocation(ExactPosition(8541889), ExactPosition(8542125), strand=-1), FeatureLocation(ExactPosition(8527668), ExactPosition(8527699), strand=-1), FeatureLocation(ExactPosition(8526943), ExactPosition(8527067), strand=-1), FeatureLocation(ExactPosition(8520773), ExactPosition(8520920), strand=-1), FeatureLocation(ExactPosition(8519426), ExactPosition(8519606), strand=-1), FeatureLocation(ExactPosition(8518808), ExactPosition(8519064), strand=-1), FeatureLocation(ExactPosition(8514579), ExactPosition(8514648), strand=-1), FeatureLocation(ExactPosition(8512345), ExactPosition(8512443), strand=-1), FeatureLocation(ExactPosition(8508132), ExactPosition(8508263), strand=-1), FeatureLocation(ExactPosition(8505178), ExactPosition(8505413), strand=-1), FeatureLocation(ExactPosition(8504381), ExactPosition(8504481), strand=-1), FeatureLocation(ExactPosition(8502888), ExactPosition(8503028), strand=-1), FeatureLocation(ExactPosition(8500909), ExactPosition(8501018), strand=-1), FeatureLocation(ExactPosition(8499635), ExactPosition(8499819), strand=-1), FeatureLocation(ExactPosition(8496980), ExactPosition(8497092), strand=-1), FeatureLocation(ExactPosition(8496338), ExactPosition(8496544), strand=-1), FeatureLocation(ExactPosition(8494183), ExactPosition(8494268), strand=-1), FeatureLocation(ExactPosition(8493681), ExactPosition(8493853), strand=-1), FeatureLocation(ExactPosition(8492668), ExactPosition(8492820), strand=-1), FeatureLocation(ExactPosition(8492354), ExactPosition(8492505), strand=-1), FeatureLocation(ExactPosition(8491341), ExactPosition(8491493), strand=-1), FeatureLocation(ExactPosition(8489640), ExactPosition(8489769), strand=-1), FeatureLocation(ExactPosition(8488464), ExactPosition(8488623), strand=-1), FeatureLocation(ExactPosition(8487347), ExactPosition(8487495), strand=-1), FeatureLocation(ExactPosition(8486176), ExactPosition(8486276), strand=-1), FeatureLocation(ExactPosition(8485979), ExactPosition(8486020), strand=-1), FeatureLocation(ExactPosition(8485716), ExactPosition(8485886), strand=-1), FeatureLocation(ExactPosition(8483920), ExactPosition(8484072), strand=-1), FeatureLocation(ExactPosition(8482727), ExactPosition(8482900), strand=-1), FeatureLocation(ExactPosition(8481576), ExactPosition(8481737), strand=-1), FeatureLocation(ExactPosition(8480627), ExactPosition(8480758), strand=-1), FeatureLocation(ExactPosition(8480367), ExactPosition(8480497), strand=-1), FeatureLocation(ExactPosition(8479657), ExactPosition(8479793), strand=-1), FeatureLocation(ExactPosition(8478288), ExactPosition(8478427), strand=-1), FeatureLocation(ExactPosition(8478131), ExactPosition(8478186), strand=-1), FeatureLocation(ExactPosition(8475637), ExactPosition(8475752), strand=-1), FeatureLocation(ExactPosition(8471930), ExactPosition(8472061), strand=-1), FeatureLocation(ExactPosition(8469674), ExactPosition(8469725), strand=-1), FeatureLocation(ExactPosition(8468282), ExactPosition(8468451), strand=-1), FeatureLocation(ExactPosition(8466194), ExactPosition(8466333), strand=-1), FeatureLocation(ExactPosition(8463380), ExactPosition(8463498), strand=-1), FeatureLocation(ExactPosition(8462420), ExactPosition(8462597), strand=-1)], 'join'), type='CDS', location_operator='join'),\n",
       " SeqFeature(FeatureLocation(ExactPosition(8699299), ExactPosition(9095323), strand=1), type='gene'),\n",
       " SeqFeature(CompoundLocation([FeatureLocation(ExactPosition(8699299), ExactPosition(8699500), strand=1), FeatureLocation(ExactPosition(8699671), ExactPosition(8699794), strand=1), FeatureLocation(ExactPosition(8706093), ExactPosition(8706198), strand=1), FeatureLocation(ExactPosition(8712869), ExactPosition(8712971), strand=1), FeatureLocation(ExactPosition(8725735), ExactPosition(8725897), strand=1), FeatureLocation(ExactPosition(8729757), ExactPosition(8729891), strand=1), FeatureLocation(ExactPosition(8734142), ExactPosition(8734261), strand=1), FeatureLocation(ExactPosition(8735363), ExactPosition(8735513), strand=1), FeatureLocation(ExactPosition(8737388), ExactPosition(8737536), strand=1), FeatureLocation(ExactPosition(8744128), ExactPosition(8744229), strand=1), FeatureLocation(ExactPosition(8745305), ExactPosition(8745409), strand=1), FeatureLocation(ExactPosition(8745555), ExactPosition(8745605), strand=1), FeatureLocation(ExactPosition(8748108), ExactPosition(8748184), strand=1), FeatureLocation(ExactPosition(8751416), ExactPosition(8751489), strand=1), FeatureLocation(ExactPosition(8753745), ExactPosition(8753888), strand=1), FeatureLocation(ExactPosition(8754327), ExactPosition(8754419), strand=1), FeatureLocation(ExactPosition(8754820), ExactPosition(8754971), strand=1), FeatureLocation(ExactPosition(8755668), ExactPosition(8755817), strand=1), FeatureLocation(ExactPosition(8760021), ExactPosition(8760256), strand=1), FeatureLocation(ExactPosition(8760778), ExactPosition(8760878), strand=1), FeatureLocation(ExactPosition(8761262), ExactPosition(8761384), strand=1), FeatureLocation(ExactPosition(8762449), ExactPosition(8762608), strand=1), FeatureLocation(ExactPosition(8762922), ExactPosition(8763084), strand=1), FeatureLocation(ExactPosition(8763666), ExactPosition(8763877), strand=1), FeatureLocation(ExactPosition(8764292), ExactPosition(8764569), strand=1), FeatureLocation(ExactPosition(8766538), ExactPosition(8766745), strand=1), FeatureLocation(ExactPosition(8767828), ExactPosition(8767917), strand=1), FeatureLocation(ExactPosition(8769791), ExactPosition(8769874), strand=1), FeatureLocation(ExactPosition(8769982), ExactPosition(8770073), strand=1), FeatureLocation(ExactPosition(8771911), ExactPosition(8772040), strand=1), FeatureLocation(ExactPosition(8772819), ExactPosition(8772861), strand=1), FeatureLocation(ExactPosition(8773717), ExactPosition(8773938), strand=1), FeatureLocation(ExactPosition(8775319), ExactPosition(8775419), strand=1), FeatureLocation(ExactPosition(8776226), ExactPosition(8776370), strand=1), FeatureLocation(ExactPosition(8776465), ExactPosition(8776580), strand=1), FeatureLocation(ExactPosition(8777878), ExactPosition(8777945), strand=1), FeatureLocation(ExactPosition(8779353), ExactPosition(8779526), strand=1), FeatureLocation(ExactPosition(8780401), ExactPosition(8780504), strand=1), FeatureLocation(ExactPosition(8780688), ExactPosition(8780756), strand=1), FeatureLocation(ExactPosition(9083300), ExactPosition(9083451), strand=1), FeatureLocation(ExactPosition(9095215), ExactPosition(9095323), strand=1)], 'join'), type='mRNA', location_operator='join'),\n",
       " SeqFeature(CompoundLocation([FeatureLocation(ExactPosition(8699299), ExactPosition(8699500), strand=1), FeatureLocation(ExactPosition(8699671), ExactPosition(8699794), strand=1), FeatureLocation(ExactPosition(8706093), ExactPosition(8706198), strand=1), FeatureLocation(ExactPosition(8712869), ExactPosition(8712971), strand=1), FeatureLocation(ExactPosition(8725735), ExactPosition(8725897), strand=1), FeatureLocation(ExactPosition(8729757), ExactPosition(8729891), strand=1), FeatureLocation(ExactPosition(8734142), ExactPosition(8734261), strand=1), FeatureLocation(ExactPosition(8735363), ExactPosition(8735513), strand=1), FeatureLocation(ExactPosition(8737388), ExactPosition(8737536), strand=1), FeatureLocation(ExactPosition(8744128), ExactPosition(8744229), strand=1), FeatureLocation(ExactPosition(8745305), ExactPosition(8745409), strand=1), FeatureLocation(ExactPosition(8745555), ExactPosition(8745605), strand=1), FeatureLocation(ExactPosition(8748108), ExactPosition(8748184), strand=1), FeatureLocation(ExactPosition(8751416), ExactPosition(8751489), strand=1), FeatureLocation(ExactPosition(8753745), ExactPosition(8753888), strand=1), FeatureLocation(ExactPosition(8754327), ExactPosition(8754419), strand=1), FeatureLocation(ExactPosition(8754820), ExactPosition(8754971), strand=1), FeatureLocation(ExactPosition(8755668), ExactPosition(8755817), strand=1), FeatureLocation(ExactPosition(8760021), ExactPosition(8760256), strand=1), FeatureLocation(ExactPosition(8760778), ExactPosition(8760878), strand=1), FeatureLocation(ExactPosition(8761262), ExactPosition(8761384), strand=1), FeatureLocation(ExactPosition(8762449), ExactPosition(8762608), strand=1), FeatureLocation(ExactPosition(8762922), ExactPosition(8763084), strand=1), FeatureLocation(ExactPosition(8763666), ExactPosition(8763877), strand=1), FeatureLocation(ExactPosition(8764292), ExactPosition(8764569), strand=1), FeatureLocation(ExactPosition(8766538), ExactPosition(8766745), strand=1), FeatureLocation(ExactPosition(8767828), ExactPosition(8767917), strand=1), FeatureLocation(ExactPosition(8769791), ExactPosition(8769874), strand=1), FeatureLocation(ExactPosition(8769982), ExactPosition(8770073), strand=1), FeatureLocation(ExactPosition(8771911), ExactPosition(8772040), strand=1), FeatureLocation(ExactPosition(8772819), ExactPosition(8772861), strand=1), FeatureLocation(ExactPosition(8773717), ExactPosition(8773938), strand=1), FeatureLocation(ExactPosition(8775319), ExactPosition(8775419), strand=1), FeatureLocation(ExactPosition(8776226), ExactPosition(8776370), strand=1), FeatureLocation(ExactPosition(8776465), ExactPosition(8776580), strand=1), FeatureLocation(ExactPosition(8777878), ExactPosition(8777945), strand=1), FeatureLocation(ExactPosition(8779353), ExactPosition(8779526), strand=1), FeatureLocation(ExactPosition(8780401), ExactPosition(8780504), strand=1), FeatureLocation(ExactPosition(8780688), ExactPosition(8780756), strand=1), FeatureLocation(ExactPosition(9083300), ExactPosition(9083451), strand=1), FeatureLocation(ExactPosition(9095215), ExactPosition(9095323), strand=1)], 'join'), type='CDS', location_operator='join'),\n",
       " SeqFeature(FeatureLocation(ExactPosition(9208048), ExactPosition(9264304), strand=1), type='gene'),\n",
       " SeqFeature(CompoundLocation([FeatureLocation(ExactPosition(9208048), ExactPosition(9208223), strand=1), FeatureLocation(ExactPosition(9223002), ExactPosition(9223242), strand=1), FeatureLocation(ExactPosition(9246039), ExactPosition(9246191), strand=1), FeatureLocation(ExactPosition(9247714), ExactPosition(9247884), strand=1), FeatureLocation(ExactPosition(9252258), ExactPosition(9252409), strand=1), FeatureLocation(ExactPosition(9254482), ExactPosition(9254658), strand=1), FeatureLocation(ExactPosition(9255761), ExactPosition(9255890), strand=1), FeatureLocation(ExactPosition(9257756), ExactPosition(9257886), strand=1), FeatureLocation(ExactPosition(9258908), ExactPosition(9259110), strand=1), FeatureLocation(ExactPosition(9259900), ExactPosition(9260129), strand=1), FeatureLocation(ExactPosition(9260225), ExactPosition(9260322), strand=1), FeatureLocation(ExactPosition(9260735), ExactPosition(9260830), strand=1), FeatureLocation(ExactPosition(9261768), ExactPosition(9261828), strand=1), FeatureLocation(ExactPosition(9262282), ExactPosition(9262452), strand=1), FeatureLocation(ExactPosition(9262672), ExactPosition(9262815), strand=1), FeatureLocation(ExactPosition(9264172), ExactPosition(9264304), strand=1)], 'join'), type='mRNA', location_operator='join'),\n",
       " SeqFeature(CompoundLocation([FeatureLocation(ExactPosition(9208048), ExactPosition(9208223), strand=1), FeatureLocation(ExactPosition(9223002), ExactPosition(9223242), strand=1), FeatureLocation(ExactPosition(9246039), ExactPosition(9246191), strand=1), FeatureLocation(ExactPosition(9247714), ExactPosition(9247884), strand=1), FeatureLocation(ExactPosition(9252258), ExactPosition(9252409), strand=1), FeatureLocation(ExactPosition(9254482), ExactPosition(9254658), strand=1), FeatureLocation(ExactPosition(9255761), ExactPosition(9255890), strand=1), FeatureLocation(ExactPosition(9257756), ExactPosition(9257886), strand=1), FeatureLocation(ExactPosition(9258908), ExactPosition(9259110), strand=1), FeatureLocation(ExactPosition(9259900), ExactPosition(9260129), strand=1), FeatureLocation(ExactPosition(9260225), ExactPosition(9260322), strand=1), FeatureLocation(ExactPosition(9260735), ExactPosition(9260830), strand=1), FeatureLocation(ExactPosition(9261768), ExactPosition(9261828), strand=1), FeatureLocation(ExactPosition(9262282), ExactPosition(9262452), strand=1), FeatureLocation(ExactPosition(9262672), ExactPosition(9262815), strand=1), FeatureLocation(ExactPosition(9264172), ExactPosition(9264304), strand=1)], 'join'), type='CDS', location_operator='join'),\n",
       " SeqFeature(FeatureLocation(ExactPosition(9267718), ExactPosition(9323757), strand=-1), type='gene'),\n",
       " SeqFeature(CompoundLocation([FeatureLocation(ExactPosition(9323633), ExactPosition(9323757), strand=-1), FeatureLocation(ExactPosition(9297548), ExactPosition(9297654), strand=-1), FeatureLocation(ExactPosition(9297157), ExactPosition(9297299), strand=-1), FeatureLocation(ExactPosition(9294670), ExactPosition(9294845), strand=-1), FeatureLocation(ExactPosition(9293231), ExactPosition(9293417), strand=-1), FeatureLocation(ExactPosition(9290723), ExactPosition(9290864), strand=-1), FeatureLocation(ExactPosition(9290337), ExactPosition(9290485), strand=-1), FeatureLocation(ExactPosition(9288516), ExactPosition(9288893), strand=-1), FeatureLocation(ExactPosition(9287516), ExactPosition(9288388), strand=-1), FeatureLocation(ExactPosition(9285789), ExactPosition(9285925), strand=-1), FeatureLocation(ExactPosition(9284084), ExactPosition(9284288), strand=-1), FeatureLocation(ExactPosition(9283227), ExactPosition(9283354), strand=-1), FeatureLocation(ExactPosition(9281943), ExactPosition(9282103), strand=-1), FeatureLocation(ExactPosition(9276027), ExactPosition(9276321), strand=-1), FeatureLocation(ExactPosition(9274257), ExactPosition(9274347), strand=-1), FeatureLocation(ExactPosition(9273361), ExactPosition(9273581), strand=-1), FeatureLocation(ExactPosition(9272600), ExactPosition(9272775), strand=-1), FeatureLocation(ExactPosition(9272038), ExactPosition(9272180), strand=-1), FeatureLocation(ExactPosition(9267718), ExactPosition(9267868), strand=-1)], 'join'), type='mRNA', location_operator='join'),\n",
       " SeqFeature(CompoundLocation([FeatureLocation(ExactPosition(9323633), ExactPosition(9323757), strand=-1), FeatureLocation(ExactPosition(9297548), ExactPosition(9297654), strand=-1), FeatureLocation(ExactPosition(9297157), ExactPosition(9297299), strand=-1), FeatureLocation(ExactPosition(9294670), ExactPosition(9294845), strand=-1), FeatureLocation(ExactPosition(9293231), ExactPosition(9293417), strand=-1), FeatureLocation(ExactPosition(9290723), ExactPosition(9290864), strand=-1), FeatureLocation(ExactPosition(9290337), ExactPosition(9290485), strand=-1), FeatureLocation(ExactPosition(9288516), ExactPosition(9288893), strand=-1), FeatureLocation(ExactPosition(9287516), ExactPosition(9288388), strand=-1), FeatureLocation(ExactPosition(9285789), ExactPosition(9285925), strand=-1), FeatureLocation(ExactPosition(9284084), ExactPosition(9284288), strand=-1), FeatureLocation(ExactPosition(9283227), ExactPosition(9283354), strand=-1), FeatureLocation(ExactPosition(9281943), ExactPosition(9282103), strand=-1), FeatureLocation(ExactPosition(9276027), ExactPosition(9276321), strand=-1), FeatureLocation(ExactPosition(9274257), ExactPosition(9274347), strand=-1), FeatureLocation(ExactPosition(9273361), ExactPosition(9273581), strand=-1), FeatureLocation(ExactPosition(9272600), ExactPosition(9272775), strand=-1), FeatureLocation(ExactPosition(9272038), ExactPosition(9272180), strand=-1), FeatureLocation(ExactPosition(9267718), ExactPosition(9267868), strand=-1)], 'join'), type='CDS', location_operator='join'),\n",
       " SeqFeature(FeatureLocation(ExactPosition(9337479), ExactPosition(9337917), strand=1), type='gene'),\n",
       " SeqFeature(FeatureLocation(ExactPosition(9337479), ExactPosition(9337917), strand=1), type='mRNA'),\n",
       " SeqFeature(FeatureLocation(ExactPosition(9337479), ExactPosition(9337917), strand=1), type='CDS'),\n",
       " SeqFeature(FeatureLocation(ExactPosition(9373326), ExactPosition(9386668), strand=1), type='gene'),\n",
       " SeqFeature(CompoundLocation([FeatureLocation(ExactPosition(9373326), ExactPosition(9373427), strand=1), FeatureLocation(ExactPosition(9386559), ExactPosition(9386668), strand=1)], 'join'), type='mRNA', location_operator='join'),\n",
       " SeqFeature(CompoundLocation([FeatureLocation(ExactPosition(9373326), ExactPosition(9373427), strand=1), FeatureLocation(ExactPosition(9386559), ExactPosition(9386668), strand=1)], 'join'), type='CDS', location_operator='join'),\n",
       " SeqFeature(FeatureLocation(BeforePosition(9420326), ExactPosition(9420617), strand=1), type='gene'),\n",
       " SeqFeature(FeatureLocation(BeforePosition(9420329), ExactPosition(9420617), strand=1), type='mRNA'),\n",
       " SeqFeature(FeatureLocation(BeforePosition(9420329), ExactPosition(9420617), strand=1), type='CDS'),\n",
       " SeqFeature(FeatureLocation(ExactPosition(9438527), ExactPosition(9438842), strand=-1), type='gene'),\n",
       " SeqFeature(FeatureLocation(ExactPosition(9438527), ExactPosition(9438842), strand=-1), type='mRNA'),\n",
       " SeqFeature(FeatureLocation(ExactPosition(9438527), ExactPosition(9438842), strand=-1), type='CDS'),\n",
       " SeqFeature(FeatureLocation(ExactPosition(9486395), ExactPosition(9556762), strand=1), type='gene'),\n",
       " SeqFeature(CompoundLocation([FeatureLocation(ExactPosition(9486395), ExactPosition(9486477), strand=1), FeatureLocation(ExactPosition(9493295), ExactPosition(9493444), strand=1), FeatureLocation(ExactPosition(9504220), ExactPosition(9504334), strand=1), FeatureLocation(ExactPosition(9507658), ExactPosition(9507751), strand=1), FeatureLocation(ExactPosition(9508847), ExactPosition(9508935), strand=1), FeatureLocation(ExactPosition(9510481), ExactPosition(9510537), strand=1), FeatureLocation(ExactPosition(9513068), ExactPosition(9513146), strand=1), FeatureLocation(ExactPosition(9515066), ExactPosition(9515182), strand=1), FeatureLocation(ExactPosition(9520312), ExactPosition(9520794), strand=1), FeatureLocation(ExactPosition(9531327), ExactPosition(9531477), strand=1), FeatureLocation(ExactPosition(9534430), ExactPosition(9535075), strand=1), FeatureLocation(ExactPosition(9539424), ExactPosition(9539667), strand=1), FeatureLocation(ExactPosition(9542079), ExactPosition(9542270), strand=1), FeatureLocation(ExactPosition(9546479), ExactPosition(9546560), strand=1), FeatureLocation(ExactPosition(9548537), ExactPosition(9548616), strand=1), FeatureLocation(ExactPosition(9549422), ExactPosition(9549662), strand=1), FeatureLocation(ExactPosition(9550646), ExactPosition(9550807), strand=1), FeatureLocation(ExactPosition(9551842), ExactPosition(9551912), strand=1), FeatureLocation(ExactPosition(9555195), ExactPosition(9555279), strand=1), FeatureLocation(ExactPosition(9556613), ExactPosition(9556762), strand=1)], 'join'), type='mRNA', location_operator='join'),\n",
       " SeqFeature(CompoundLocation([FeatureLocation(ExactPosition(9486395), ExactPosition(9486477), strand=1), FeatureLocation(ExactPosition(9493295), ExactPosition(9493444), strand=1), FeatureLocation(ExactPosition(9504220), ExactPosition(9504334), strand=1), FeatureLocation(ExactPosition(9507658), ExactPosition(9507751), strand=1), FeatureLocation(ExactPosition(9508847), ExactPosition(9508935), strand=1), FeatureLocation(ExactPosition(9510481), ExactPosition(9510537), strand=1), FeatureLocation(ExactPosition(9513068), ExactPosition(9513146), strand=1), FeatureLocation(ExactPosition(9515066), ExactPosition(9515182), strand=1), FeatureLocation(ExactPosition(9520312), ExactPosition(9520794), strand=1), FeatureLocation(ExactPosition(9531327), ExactPosition(9531477), strand=1), FeatureLocation(ExactPosition(9534430), ExactPosition(9535075), strand=1), FeatureLocation(ExactPosition(9539424), ExactPosition(9539667), strand=1), FeatureLocation(ExactPosition(9542079), ExactPosition(9542270), strand=1), FeatureLocation(ExactPosition(9546479), ExactPosition(9546560), strand=1), FeatureLocation(ExactPosition(9548537), ExactPosition(9548616), strand=1), FeatureLocation(ExactPosition(9549422), ExactPosition(9549662), strand=1), FeatureLocation(ExactPosition(9550646), ExactPosition(9550807), strand=1), FeatureLocation(ExactPosition(9551842), ExactPosition(9551912), strand=1), FeatureLocation(ExactPosition(9555195), ExactPosition(9555279), strand=1), FeatureLocation(ExactPosition(9556613), ExactPosition(9556762), strand=1)], 'join'), type='CDS', location_operator='join'),\n",
       " SeqFeature(FeatureLocation(ExactPosition(9568364), ExactPosition(9687917), strand=-1), type='gene'),\n",
       " SeqFeature(CompoundLocation([FeatureLocation(ExactPosition(9687809), ExactPosition(9687917), strand=-1), FeatureLocation(ExactPosition(9687137), ExactPosition(9687218), strand=-1), FeatureLocation(ExactPosition(9665610), ExactPosition(9665871), strand=-1), FeatureLocation(ExactPosition(9653235), ExactPosition(9653378), strand=-1), FeatureLocation(ExactPosition(9653000), ExactPosition(9653122), strand=-1), FeatureLocation(ExactPosition(9643784), ExactPosition(9643821), strand=-1), FeatureLocation(ExactPosition(9642862), ExactPosition(9643005), strand=-1), FeatureLocation(ExactPosition(9641118), ExactPosition(9641235), strand=-1), FeatureLocation(ExactPosition(9624758), ExactPosition(9624826), strand=-1), FeatureLocation(ExactPosition(9622098), ExactPosition(9622276), strand=-1), FeatureLocation(ExactPosition(9611311), ExactPosition(9611454), strand=-1), FeatureLocation(ExactPosition(9606028), ExactPosition(9606112), strand=-1), FeatureLocation(ExactPosition(9585133), ExactPosition(9585223), strand=-1), FeatureLocation(ExactPosition(9578402), ExactPosition(9578461), strand=-1), FeatureLocation(ExactPosition(9575936), ExactPosition(9576097), strand=-1), FeatureLocation(ExactPosition(9573261), ExactPosition(9573481), strand=-1), FeatureLocation(ExactPosition(9572573), ExactPosition(9572695), strand=-1), FeatureLocation(ExactPosition(9570270), ExactPosition(9570371), strand=-1), FeatureLocation(ExactPosition(9568364), ExactPosition(9568445), strand=-1)], 'join'), type='mRNA', location_operator='join'),\n",
       " SeqFeature(CompoundLocation([FeatureLocation(ExactPosition(9687809), ExactPosition(9687917), strand=-1), FeatureLocation(ExactPosition(9687137), ExactPosition(9687218), strand=-1), FeatureLocation(ExactPosition(9665610), ExactPosition(9665871), strand=-1), FeatureLocation(ExactPosition(9653235), ExactPosition(9653378), strand=-1), FeatureLocation(ExactPosition(9653000), ExactPosition(9653122), strand=-1), FeatureLocation(ExactPosition(9643784), ExactPosition(9643821), strand=-1), FeatureLocation(ExactPosition(9642862), ExactPosition(9643005), strand=-1), FeatureLocation(ExactPosition(9641118), ExactPosition(9641235), strand=-1), FeatureLocation(ExactPosition(9624758), ExactPosition(9624826), strand=-1), FeatureLocation(ExactPosition(9622098), ExactPosition(9622276), strand=-1), FeatureLocation(ExactPosition(9611311), ExactPosition(9611454), strand=-1), FeatureLocation(ExactPosition(9606028), ExactPosition(9606112), strand=-1), FeatureLocation(ExactPosition(9585133), ExactPosition(9585223), strand=-1), FeatureLocation(ExactPosition(9578402), ExactPosition(9578461), strand=-1), FeatureLocation(ExactPosition(9575936), ExactPosition(9576097), strand=-1), FeatureLocation(ExactPosition(9573261), ExactPosition(9573481), strand=-1), FeatureLocation(ExactPosition(9572573), ExactPosition(9572695), strand=-1), FeatureLocation(ExactPosition(9570270), ExactPosition(9570371), strand=-1), FeatureLocation(ExactPosition(9568364), ExactPosition(9568445), strand=-1)], 'join'), type='CDS', location_operator='join'),\n",
       " SeqFeature(FeatureLocation(ExactPosition(9789754), ExactPosition(9813749), strand=-1), type='gene'),\n",
       " SeqFeature(CompoundLocation([FeatureLocation(ExactPosition(9813583), ExactPosition(9813749), strand=-1), FeatureLocation(ExactPosition(9793872), ExactPosition(9795147), strand=-1), FeatureLocation(ExactPosition(9793281), ExactPosition(9793404), strand=-1), FeatureLocation(ExactPosition(9791760), ExactPosition(9791971), strand=-1), FeatureLocation(ExactPosition(9789754), ExactPosition(9789833), strand=-1)], 'join'), type='mRNA', location_operator='join'),\n",
       " SeqFeature(CompoundLocation([FeatureLocation(ExactPosition(9813583), ExactPosition(9813749), strand=-1), FeatureLocation(ExactPosition(9793872), ExactPosition(9795147), strand=-1), FeatureLocation(ExactPosition(9793281), ExactPosition(9793404), strand=-1), FeatureLocation(ExactPosition(9791760), ExactPosition(9791971), strand=-1), FeatureLocation(ExactPosition(9789754), ExactPosition(9789833), strand=-1)], 'join'), type='CDS', location_operator='join'),\n",
       " SeqFeature(FeatureLocation(ExactPosition(9815987), ExactPosition(9818215), strand=1), type='gene'),\n",
       " SeqFeature(CompoundLocation([FeatureLocation(ExactPosition(9815987), ExactPosition(9816249), strand=1), FeatureLocation(ExactPosition(9817736), ExactPosition(9818215), strand=1)], 'join'), type='mRNA', location_operator='join'),\n",
       " SeqFeature(CompoundLocation([FeatureLocation(ExactPosition(9815987), ExactPosition(9816249), strand=1), FeatureLocation(ExactPosition(9817736), ExactPosition(9818215), strand=1)], 'join'), type='CDS', location_operator='join'),\n",
       " SeqFeature(FeatureLocation(ExactPosition(9832766), ExactPosition(9893265), strand=1), type='gene'),\n",
       " SeqFeature(CompoundLocation([FeatureLocation(ExactPosition(9832766), ExactPosition(9832877), strand=1), FeatureLocation(ExactPosition(9855242), ExactPosition(9855508), strand=1), FeatureLocation(ExactPosition(9856809), ExactPosition(9856970), strand=1), FeatureLocation(ExactPosition(9865889), ExactPosition(9865956), strand=1), FeatureLocation(ExactPosition(9868451), ExactPosition(9868631), strand=1), FeatureLocation(ExactPosition(9873312), ExactPosition(9873438), strand=1), FeatureLocation(ExactPosition(9876367), ExactPosition(9876483), strand=1), FeatureLocation(ExactPosition(9877330), ExactPosition(9877478), strand=1), FeatureLocation(ExactPosition(9879644), ExactPosition(9879742), strand=1), FeatureLocation(ExactPosition(9882746), ExactPosition(9882859), strand=1), FeatureLocation(ExactPosition(9888880), ExactPosition(9889042), strand=1), FeatureLocation(ExactPosition(9891342), ExactPosition(9891480), strand=1), FeatureLocation(ExactPosition(9893088), ExactPosition(9893265), strand=1)], 'join'), type='mRNA', location_operator='join'),\n",
       " SeqFeature(CompoundLocation([FeatureLocation(ExactPosition(9832766), ExactPosition(9832877), strand=1), FeatureLocation(ExactPosition(9855242), ExactPosition(9855508), strand=1), FeatureLocation(ExactPosition(9856809), ExactPosition(9856970), strand=1), FeatureLocation(ExactPosition(9865889), ExactPosition(9865956), strand=1), FeatureLocation(ExactPosition(9868451), ExactPosition(9868631), strand=1), FeatureLocation(ExactPosition(9873312), ExactPosition(9873438), strand=1), FeatureLocation(ExactPosition(9876367), ExactPosition(9876483), strand=1), FeatureLocation(ExactPosition(9877330), ExactPosition(9877478), strand=1), FeatureLocation(ExactPosition(9879644), ExactPosition(9879742), strand=1), FeatureLocation(ExactPosition(9882746), ExactPosition(9882859), strand=1), FeatureLocation(ExactPosition(9888880), ExactPosition(9889042), strand=1), FeatureLocation(ExactPosition(9891342), ExactPosition(9891480), strand=1), FeatureLocation(ExactPosition(9893088), ExactPosition(9893265), strand=1)], 'join'), type='CDS', location_operator='join'),\n",
       " SeqFeature(FeatureLocation(ExactPosition(9899859), ExactPosition(9904523), strand=1), type='gene'),\n",
       " SeqFeature(CompoundLocation([FeatureLocation(ExactPosition(9899859), ExactPosition(9899903), strand=1), FeatureLocation(ExactPosition(9902266), ExactPosition(9903236), strand=1), FeatureLocation(ExactPosition(9904079), ExactPosition(9904523), strand=1)], 'join'), type='mRNA', location_operator='join'),\n",
       " SeqFeature(CompoundLocation([FeatureLocation(ExactPosition(9899859), ExactPosition(9899903), strand=1), FeatureLocation(ExactPosition(9902266), ExactPosition(9903236), strand=1), FeatureLocation(ExactPosition(9904079), ExactPosition(9904523), strand=1)], 'join'), type='CDS', location_operator='join'),\n",
       " SeqFeature(FeatureLocation(ExactPosition(9967085), ExactPosition(9967412), strand=1), type='gene'),\n",
       " SeqFeature(FeatureLocation(ExactPosition(9967085), ExactPosition(9967412), strand=1), type='mRNA'),\n",
       " SeqFeature(FeatureLocation(ExactPosition(9967085), ExactPosition(9967412), strand=1), type='CDS'),\n",
       " SeqFeature(FeatureLocation(ExactPosition(9983897), ExactPosition(10009897), strand=1), type='gene'),\n",
       " SeqFeature(CompoundLocation([FeatureLocation(ExactPosition(9983897), ExactPosition(9983975), strand=1), FeatureLocation(ExactPosition(9984166), ExactPosition(9984207), strand=1), FeatureLocation(ExactPosition(9984627), ExactPosition(9984700), strand=1), FeatureLocation(ExactPosition(9985316), ExactPosition(9985367), strand=1), FeatureLocation(ExactPosition(9988669), ExactPosition(9988851), strand=1), FeatureLocation(ExactPosition(9990232), ExactPosition(9990332), strand=1), FeatureLocation(ExactPosition(9991454), ExactPosition(9991606), strand=1), FeatureLocation(ExactPosition(9995376), ExactPosition(9995455), strand=1), FeatureLocation(ExactPosition(9996546), ExactPosition(9996582), strand=1), FeatureLocation(ExactPosition(9998509), ExactPosition(9998560), strand=1), FeatureLocation(ExactPosition(10002516), ExactPosition(10002684), strand=1), FeatureLocation(ExactPosition(10003319), ExactPosition(10003424), strand=1), FeatureLocation(ExactPosition(10003504), ExactPosition(10003613), strand=1), FeatureLocation(ExactPosition(10004077), ExactPosition(10004214), strand=1), FeatureLocation(ExactPosition(10005604), ExactPosition(10005768), strand=1), FeatureLocation(ExactPosition(10005876), ExactPosition(10005989), strand=1), FeatureLocation(ExactPosition(10006105), ExactPosition(10006213), strand=1), FeatureLocation(ExactPosition(10006944), ExactPosition(10007015), strand=1), FeatureLocation(ExactPosition(10008505), ExactPosition(10008583), strand=1), FeatureLocation(ExactPosition(10009696), ExactPosition(10009897), strand=1)], 'join'), type='mRNA', location_operator='join'),\n",
       " SeqFeature(CompoundLocation([FeatureLocation(ExactPosition(9983897), ExactPosition(9983975), strand=1), FeatureLocation(ExactPosition(9984166), ExactPosition(9984207), strand=1), FeatureLocation(ExactPosition(9984627), ExactPosition(9984700), strand=1), FeatureLocation(ExactPosition(9985316), ExactPosition(9985367), strand=1), FeatureLocation(ExactPosition(9988669), ExactPosition(9988851), strand=1), FeatureLocation(ExactPosition(9990232), ExactPosition(9990332), strand=1), FeatureLocation(ExactPosition(9991454), ExactPosition(9991606), strand=1), FeatureLocation(ExactPosition(9995376), ExactPosition(9995455), strand=1), FeatureLocation(ExactPosition(9996546), ExactPosition(9996582), strand=1), FeatureLocation(ExactPosition(9998509), ExactPosition(9998560), strand=1), FeatureLocation(ExactPosition(10002516), ExactPosition(10002684), strand=1), FeatureLocation(ExactPosition(10003319), ExactPosition(10003424), strand=1), FeatureLocation(ExactPosition(10003504), ExactPosition(10003613), strand=1), FeatureLocation(ExactPosition(10004077), ExactPosition(10004214), strand=1), FeatureLocation(ExactPosition(10005604), ExactPosition(10005768), strand=1), FeatureLocation(ExactPosition(10005876), ExactPosition(10005989), strand=1), FeatureLocation(ExactPosition(10006105), ExactPosition(10006213), strand=1), FeatureLocation(ExactPosition(10006944), ExactPosition(10007015), strand=1), FeatureLocation(ExactPosition(10008505), ExactPosition(10008583), strand=1), FeatureLocation(ExactPosition(10009696), ExactPosition(10009897), strand=1)], 'join'), type='CDS', location_operator='join'),\n",
       " SeqFeature(FeatureLocation(ExactPosition(10016492), ExactPosition(10022954), strand=1), type='gene'),\n",
       " SeqFeature(CompoundLocation([FeatureLocation(ExactPosition(10016492), ExactPosition(10016612), strand=1), FeatureLocation(ExactPosition(10016964), ExactPosition(10017115), strand=1), FeatureLocation(ExactPosition(10017930), ExactPosition(10017994), strand=1), FeatureLocation(ExactPosition(10018601), ExactPosition(10018674), strand=1), FeatureLocation(ExactPosition(10019152), ExactPosition(10019321), strand=1), FeatureLocation(ExactPosition(10019402), ExactPosition(10019486), strand=1), FeatureLocation(ExactPosition(10021858), ExactPosition(10022034), strand=1), FeatureLocation(ExactPosition(10022526), ExactPosition(10022656), strand=1), FeatureLocation(ExactPosition(10022832), ExactPosition(10022954), strand=1)], 'join'), type='mRNA', location_operator='join'),\n",
       " SeqFeature(CompoundLocation([FeatureLocation(ExactPosition(10016492), ExactPosition(10016612), strand=1), FeatureLocation(ExactPosition(10016964), ExactPosition(10017115), strand=1), FeatureLocation(ExactPosition(10017930), ExactPosition(10017994), strand=1), FeatureLocation(ExactPosition(10018601), ExactPosition(10018674), strand=1), FeatureLocation(ExactPosition(10019152), ExactPosition(10019321), strand=1), FeatureLocation(ExactPosition(10019402), ExactPosition(10019486), strand=1), FeatureLocation(ExactPosition(10021858), ExactPosition(10022034), strand=1), FeatureLocation(ExactPosition(10022526), ExactPosition(10022656), strand=1), FeatureLocation(ExactPosition(10022832), ExactPosition(10022954), strand=1)], 'join'), type='CDS', location_operator='join'),\n",
       " SeqFeature(FeatureLocation(ExactPosition(10120845), ExactPosition(10187128), strand=1), type='gene'),\n",
       " SeqFeature(CompoundLocation([FeatureLocation(ExactPosition(10120845), ExactPosition(10121091), strand=1), FeatureLocation(ExactPosition(10129426), ExactPosition(10129721), strand=1), FeatureLocation(ExactPosition(10144309), ExactPosition(10144429), strand=1), FeatureLocation(ExactPosition(10153804), ExactPosition(10153972), strand=1), FeatureLocation(ExactPosition(10156879), ExactPosition(10157073), strand=1), FeatureLocation(ExactPosition(10158927), ExactPosition(10159181), strand=1), FeatureLocation(ExactPosition(10164913), ExactPosition(10165050), strand=1), FeatureLocation(ExactPosition(10176331), ExactPosition(10176453), strand=1), FeatureLocation(ExactPosition(10176541), ExactPosition(10176659), strand=1), FeatureLocation(ExactPosition(10182977), ExactPosition(10183229), strand=1), FeatureLocation(ExactPosition(10186592), ExactPosition(10187128), strand=1)], 'join'), type='mRNA', location_operator='join'),\n",
       " SeqFeature(CompoundLocation([FeatureLocation(ExactPosition(10120845), ExactPosition(10121091), strand=1), FeatureLocation(ExactPosition(10129426), ExactPosition(10129721), strand=1), FeatureLocation(ExactPosition(10144309), ExactPosition(10144429), strand=1), FeatureLocation(ExactPosition(10153804), ExactPosition(10153972), strand=1), FeatureLocation(ExactPosition(10156879), ExactPosition(10157073), strand=1), FeatureLocation(ExactPosition(10158927), ExactPosition(10159181), strand=1), FeatureLocation(ExactPosition(10164913), ExactPosition(10165050), strand=1), FeatureLocation(ExactPosition(10176331), ExactPosition(10176453), strand=1), FeatureLocation(ExactPosition(10176541), ExactPosition(10176659), strand=1), FeatureLocation(ExactPosition(10182977), ExactPosition(10183229), strand=1), FeatureLocation(ExactPosition(10186592), ExactPosition(10187128), strand=1)], 'join'), type='CDS', location_operator='join'),\n",
       " SeqFeature(FeatureLocation(ExactPosition(10229108), ExactPosition(10243015), strand=-1), type='gene'),\n",
       " SeqFeature(CompoundLocation([FeatureLocation(ExactPosition(10242945), ExactPosition(10243015), strand=-1), FeatureLocation(ExactPosition(10237418), ExactPosition(10237487), strand=-1), FeatureLocation(ExactPosition(10236985), ExactPosition(10237111), strand=-1), FeatureLocation(ExactPosition(10236596), ExactPosition(10236743), strand=-1), FeatureLocation(ExactPosition(10230248), ExactPosition(10230338), strand=-1), FeatureLocation(ExactPosition(10230100), ExactPosition(10230132), strand=-1), FeatureLocation(ExactPosition(10229108), ExactPosition(10229300), strand=-1)], 'join'), type='mRNA', location_operator='join'),\n",
       " SeqFeature(CompoundLocation([FeatureLocation(ExactPosition(10242945), ExactPosition(10243015), strand=-1), FeatureLocation(ExactPosition(10237418), ExactPosition(10237487), strand=-1), FeatureLocation(ExactPosition(10236985), ExactPosition(10237111), strand=-1), FeatureLocation(ExactPosition(10236596), ExactPosition(10236743), strand=-1), FeatureLocation(ExactPosition(10230248), ExactPosition(10230338), strand=-1), FeatureLocation(ExactPosition(10230100), ExactPosition(10230132), strand=-1), FeatureLocation(ExactPosition(10229108), ExactPosition(10229300), strand=-1)], 'join'), type='CDS', location_operator='join'),\n",
       " SeqFeature(FeatureLocation(ExactPosition(10306098), ExactPosition(10333422), strand=-1), type='gene'),\n",
       " SeqFeature(CompoundLocation([FeatureLocation(ExactPosition(10333229), ExactPosition(10333422), strand=-1), FeatureLocation(ExactPosition(10330641), ExactPosition(10330736), strand=-1), FeatureLocation(ExactPosition(10330188), ExactPosition(10330320), strand=-1), FeatureLocation(ExactPosition(10329685), ExactPosition(10329832), strand=-1), FeatureLocation(ExactPosition(10328834), ExactPosition(10328889), strand=-1), FeatureLocation(ExactPosition(10328226), ExactPosition(10328357), strand=-1), FeatureLocation(ExactPosition(10325365), ExactPosition(10325607), strand=-1), FeatureLocation(ExactPosition(10324483), ExactPosition(10324695), strand=-1), FeatureLocation(ExactPosition(10322458), ExactPosition(10322629), strand=-1), FeatureLocation(ExactPosition(10322119), ExactPosition(10322218), strand=-1), FeatureLocation(ExactPosition(10321915), ExactPosition(10321973), strand=-1), FeatureLocation(ExactPosition(10317392), ExactPosition(10317567), strand=-1), FeatureLocation(ExactPosition(10316708), ExactPosition(10316827), strand=-1), FeatureLocation(ExactPosition(10316307), ExactPosition(10316406), strand=-1), FeatureLocation(ExactPosition(10315120), ExactPosition(10315240), strand=-1), FeatureLocation(ExactPosition(10314690), ExactPosition(10314795), strand=-1), FeatureLocation(ExactPosition(10313362), ExactPosition(10313531), strand=-1), FeatureLocation(ExactPosition(10311183), ExactPosition(10311379), strand=-1), FeatureLocation(ExactPosition(10309825), ExactPosition(10309995), strand=-1), FeatureLocation(ExactPosition(10309344), ExactPosition(10309476), strand=-1), FeatureLocation(ExactPosition(10308506), ExactPosition(10308614), strand=-1), FeatureLocation(ExactPosition(10307353), ExactPosition(10307476), strand=-1), FeatureLocation(ExactPosition(10307081), ExactPosition(10307281), strand=-1), FeatureLocation(ExactPosition(10306342), ExactPosition(10306476), strand=-1), FeatureLocation(ExactPosition(10306098), ExactPosition(10306190), strand=-1)], 'join'), type='mRNA', location_operator='join'),\n",
       " SeqFeature(CompoundLocation([FeatureLocation(ExactPosition(10333229), ExactPosition(10333422), strand=-1), FeatureLocation(ExactPosition(10330641), ExactPosition(10330736), strand=-1), FeatureLocation(ExactPosition(10330188), ExactPosition(10330320), strand=-1), FeatureLocation(ExactPosition(10329685), ExactPosition(10329832), strand=-1), FeatureLocation(ExactPosition(10328834), ExactPosition(10328889), strand=-1), FeatureLocation(ExactPosition(10328226), ExactPosition(10328357), strand=-1), FeatureLocation(ExactPosition(10325365), ExactPosition(10325607), strand=-1), FeatureLocation(ExactPosition(10324483), ExactPosition(10324695), strand=-1), FeatureLocation(ExactPosition(10322458), ExactPosition(10322629), strand=-1), FeatureLocation(ExactPosition(10322119), ExactPosition(10322218), strand=-1), FeatureLocation(ExactPosition(10321915), ExactPosition(10321973), strand=-1), FeatureLocation(ExactPosition(10317392), ExactPosition(10317567), strand=-1), FeatureLocation(ExactPosition(10316708), ExactPosition(10316827), strand=-1), FeatureLocation(ExactPosition(10316307), ExactPosition(10316406), strand=-1), FeatureLocation(ExactPosition(10315120), ExactPosition(10315240), strand=-1), FeatureLocation(ExactPosition(10314690), ExactPosition(10314795), strand=-1), FeatureLocation(ExactPosition(10313362), ExactPosition(10313531), strand=-1), FeatureLocation(ExactPosition(10311183), ExactPosition(10311379), strand=-1), FeatureLocation(ExactPosition(10309825), ExactPosition(10309995), strand=-1), FeatureLocation(ExactPosition(10309344), ExactPosition(10309476), strand=-1), FeatureLocation(ExactPosition(10308506), ExactPosition(10308614), strand=-1), FeatureLocation(ExactPosition(10307353), ExactPosition(10307476), strand=-1), FeatureLocation(ExactPosition(10307081), ExactPosition(10307281), strand=-1), FeatureLocation(ExactPosition(10306342), ExactPosition(10306476), strand=-1), FeatureLocation(ExactPosition(10306098), ExactPosition(10306190), strand=-1)], 'join'), type='CDS', location_operator='join'),\n",
       " SeqFeature(FeatureLocation(ExactPosition(10349128), ExactPosition(10356354), strand=-1), type='gene'),\n",
       " SeqFeature(CompoundLocation([FeatureLocation(ExactPosition(10356213), ExactPosition(10356354), strand=-1), FeatureLocation(ExactPosition(10355526), ExactPosition(10355759), strand=-1), FeatureLocation(ExactPosition(10355178), ExactPosition(10355327), strand=-1), FeatureLocation(ExactPosition(10354815), ExactPosition(10354944), strand=-1), FeatureLocation(ExactPosition(10354537), ExactPosition(10354711), strand=-1), FeatureLocation(ExactPosition(10354094), ExactPosition(10354268), strand=-1), FeatureLocation(ExactPosition(10353548), ExactPosition(10353725), strand=-1), FeatureLocation(ExactPosition(10353268), ExactPosition(10353424), strand=-1), FeatureLocation(ExactPosition(10351750), ExactPosition(10352039), strand=-1), FeatureLocation(ExactPosition(10351493), ExactPosition(10351633), strand=-1), FeatureLocation(ExactPosition(10351061), ExactPosition(10351212), strand=-1), FeatureLocation(ExactPosition(10350858), ExactPosition(10350962), strand=-1), FeatureLocation(ExactPosition(10349128), ExactPosition(10349247), strand=-1)], 'join'), type='mRNA', location_operator='join'),\n",
       " SeqFeature(CompoundLocation([FeatureLocation(ExactPosition(10356213), ExactPosition(10356354), strand=-1), FeatureLocation(ExactPosition(10355526), ExactPosition(10355759), strand=-1), FeatureLocation(ExactPosition(10355178), ExactPosition(10355327), strand=-1), FeatureLocation(ExactPosition(10354815), ExactPosition(10354944), strand=-1), FeatureLocation(ExactPosition(10354537), ExactPosition(10354711), strand=-1), FeatureLocation(ExactPosition(10354094), ExactPosition(10354268), strand=-1), FeatureLocation(ExactPosition(10353548), ExactPosition(10353725), strand=-1), FeatureLocation(ExactPosition(10353268), ExactPosition(10353424), strand=-1), FeatureLocation(ExactPosition(10351750), ExactPosition(10352039), strand=-1), FeatureLocation(ExactPosition(10351493), ExactPosition(10351633), strand=-1), FeatureLocation(ExactPosition(10351061), ExactPosition(10351212), strand=-1), FeatureLocation(ExactPosition(10350858), ExactPosition(10350962), strand=-1), FeatureLocation(ExactPosition(10349128), ExactPosition(10349247), strand=-1)], 'join'), type='CDS', location_operator='join'),\n",
       " SeqFeature(FeatureLocation(ExactPosition(10399284), ExactPosition(10418156), strand=1), type='gene'),\n",
       " SeqFeature(CompoundLocation([FeatureLocation(ExactPosition(10399284), ExactPosition(10399485), strand=1), FeatureLocation(ExactPosition(10400576), ExactPosition(10400814), strand=1), FeatureLocation(ExactPosition(10401725), ExactPosition(10401803), strand=1), FeatureLocation(ExactPosition(10401983), ExactPosition(10402289), strand=1), FeatureLocation(ExactPosition(10402373), ExactPosition(10402523), strand=1), FeatureLocation(ExactPosition(10403950), ExactPosition(10404097), strand=1), FeatureLocation(ExactPosition(10406600), ExactPosition(10406844), strand=1), FeatureLocation(ExactPosition(10406934), ExactPosition(10407112), strand=1), FeatureLocation(ExactPosition(10407960), ExactPosition(10408077), strand=1), FeatureLocation(ExactPosition(10408900), ExactPosition(10408984), strand=1), FeatureLocation(ExactPosition(10409043), ExactPosition(10409160), strand=1), FeatureLocation(ExactPosition(10409240), ExactPosition(10409317), strand=1), FeatureLocation(ExactPosition(10409392), ExactPosition(10409553), strand=1), FeatureLocation(ExactPosition(10409878), ExactPosition(10410108), strand=1), FeatureLocation(ExactPosition(10411148), ExactPosition(10411242), strand=1), FeatureLocation(ExactPosition(10411344), ExactPosition(10411439), strand=1), FeatureLocation(ExactPosition(10413543), ExactPosition(10413809), strand=1), FeatureLocation(ExactPosition(10414768), ExactPosition(10414880), strand=1), FeatureLocation(ExactPosition(10414963), ExactPosition(10415338), strand=1), FeatureLocation(ExactPosition(10416291), ExactPosition(10416434), strand=1), FeatureLocation(ExactPosition(10416517), ExactPosition(10416660), strand=1), FeatureLocation(ExactPosition(10416788), ExactPosition(10416892), strand=1), FeatureLocation(ExactPosition(10417306), ExactPosition(10417384), strand=1), FeatureLocation(ExactPosition(10417538), ExactPosition(10417622), strand=1), FeatureLocation(ExactPosition(10417706), ExactPosition(10417772), strand=1), FeatureLocation(ExactPosition(10417852), ExactPosition(10417934), strand=1), FeatureLocation(ExactPosition(10418028), ExactPosition(10418156), strand=1)], 'join'), type='mRNA', location_operator='join'),\n",
       " SeqFeature(CompoundLocation([FeatureLocation(ExactPosition(10399284), ExactPosition(10399485), strand=1), FeatureLocation(ExactPosition(10400576), ExactPosition(10400814), strand=1), FeatureLocation(ExactPosition(10401725), ExactPosition(10401803), strand=1), FeatureLocation(ExactPosition(10401983), ExactPosition(10402289), strand=1), FeatureLocation(ExactPosition(10402373), ExactPosition(10402523), strand=1), FeatureLocation(ExactPosition(10403950), ExactPosition(10404097), strand=1), FeatureLocation(ExactPosition(10406600), ExactPosition(10406844), strand=1), FeatureLocation(ExactPosition(10406934), ExactPosition(10407112), strand=1), FeatureLocation(ExactPosition(10407960), ExactPosition(10408077), strand=1), FeatureLocation(ExactPosition(10408900), ExactPosition(10408984), strand=1), FeatureLocation(ExactPosition(10409043), ExactPosition(10409160), strand=1), FeatureLocation(ExactPosition(10409240), ExactPosition(10409317), strand=1), FeatureLocation(ExactPosition(10409392), ExactPosition(10409553), strand=1), FeatureLocation(ExactPosition(10409878), ExactPosition(10410108), strand=1), FeatureLocation(ExactPosition(10411148), ExactPosition(10411242), strand=1), FeatureLocation(ExactPosition(10411344), ExactPosition(10411439), strand=1), FeatureLocation(ExactPosition(10413543), ExactPosition(10413809), strand=1), FeatureLocation(ExactPosition(10414768), ExactPosition(10414880), strand=1), FeatureLocation(ExactPosition(10414963), ExactPosition(10415338), strand=1), FeatureLocation(ExactPosition(10416291), ExactPosition(10416434), strand=1), FeatureLocation(ExactPosition(10416517), ExactPosition(10416660), strand=1), FeatureLocation(ExactPosition(10416788), ExactPosition(10416892), strand=1), FeatureLocation(ExactPosition(10417306), ExactPosition(10417384), strand=1), FeatureLocation(ExactPosition(10417538), ExactPosition(10417622), strand=1), FeatureLocation(ExactPosition(10417706), ExactPosition(10417772), strand=1), FeatureLocation(ExactPosition(10417852), ExactPosition(10417934), strand=1), FeatureLocation(ExactPosition(10418028), ExactPosition(10418156), strand=1)], 'join'), type='CDS', location_operator='join'),\n",
       " SeqFeature(FeatureLocation(ExactPosition(10419150), ExactPosition(10426313), strand=-1), type='gene'),\n",
       " SeqFeature(CompoundLocation([FeatureLocation(ExactPosition(10426189), ExactPosition(10426313), strand=-1), FeatureLocation(ExactPosition(10425980), ExactPosition(10426105), strand=-1), FeatureLocation(ExactPosition(10424969), ExactPosition(10425107), strand=-1), FeatureLocation(ExactPosition(10424671), ExactPosition(10424802), strand=-1), FeatureLocation(ExactPosition(10424401), ExactPosition(10424556), strand=-1), FeatureLocation(ExactPosition(10423657), ExactPosition(10423805), strand=-1), FeatureLocation(ExactPosition(10423489), ExactPosition(10423573), strand=-1), FeatureLocation(ExactPosition(10423167), ExactPosition(10423267), strand=-1), FeatureLocation(ExactPosition(10421883), ExactPosition(10422046), strand=-1), FeatureLocation(ExactPosition(10421029), ExactPosition(10421202), strand=-1), FeatureLocation(ExactPosition(10420781), ExactPosition(10420868), strand=-1), FeatureLocation(ExactPosition(10420517), ExactPosition(10420702), strand=-1), FeatureLocation(ExactPosition(10419751), ExactPosition(10419845), strand=-1), FeatureLocation(ExactPosition(10419483), ExactPosition(10419659), strand=-1), FeatureLocation(ExactPosition(10419150), ExactPosition(10419382), strand=-1)], 'join'), type='mRNA', location_operator='join'),\n",
       " SeqFeature(CompoundLocation([FeatureLocation(ExactPosition(10426189), ExactPosition(10426313), strand=-1), FeatureLocation(ExactPosition(10425980), ExactPosition(10426105), strand=-1), FeatureLocation(ExactPosition(10424969), ExactPosition(10425107), strand=-1), FeatureLocation(ExactPosition(10424671), ExactPosition(10424802), strand=-1), FeatureLocation(ExactPosition(10424401), ExactPosition(10424556), strand=-1), FeatureLocation(ExactPosition(10423657), ExactPosition(10423805), strand=-1), FeatureLocation(ExactPosition(10423489), ExactPosition(10423573), strand=-1), FeatureLocation(ExactPosition(10423167), ExactPosition(10423267), strand=-1), FeatureLocation(ExactPosition(10421883), ExactPosition(10422046), strand=-1), FeatureLocation(ExactPosition(10421029), ExactPosition(10421202), strand=-1), FeatureLocation(ExactPosition(10420781), ExactPosition(10420868), strand=-1), FeatureLocation(ExactPosition(10420517), ExactPosition(10420702), strand=-1), FeatureLocation(ExactPosition(10419751), ExactPosition(10419845), strand=-1), FeatureLocation(ExactPosition(10419483), ExactPosition(10419659), strand=-1), FeatureLocation(ExactPosition(10419150), ExactPosition(10419382), strand=-1)], 'join'), type='CDS', location_operator='join'),\n",
       " SeqFeature(FeatureLocation(ExactPosition(10453057), ExactPosition(10476490), strand=1), type='gene'),\n",
       " SeqFeature(CompoundLocation([FeatureLocation(ExactPosition(10453057), ExactPosition(10453113), strand=1), FeatureLocation(ExactPosition(10462256), ExactPosition(10462385), strand=1), FeatureLocation(ExactPosition(10462921), ExactPosition(10463077), strand=1), FeatureLocation(ExactPosition(10464214), ExactPosition(10464278), strand=1), FeatureLocation(ExactPosition(10464360), ExactPosition(10464424), strand=1), FeatureLocation(ExactPosition(10465735), ExactPosition(10465827), strand=1), FeatureLocation(ExactPosition(10469566), ExactPosition(10469743), strand=1), FeatureLocation(ExactPosition(10469832), ExactPosition(10469892), strand=1), FeatureLocation(ExactPosition(10471953), ExactPosition(10472118), strand=1), FeatureLocation(ExactPosition(10472221), ExactPosition(10472289), strand=1), FeatureLocation(ExactPosition(10475716), ExactPosition(10475759), strand=1), FeatureLocation(ExactPosition(10475859), ExactPosition(10475923), strand=1), FeatureLocation(ExactPosition(10476015), ExactPosition(10476092), strand=1), FeatureLocation(ExactPosition(10476367), ExactPosition(10476490), strand=1)], 'join'), type='mRNA', location_operator='join'),\n",
       " SeqFeature(CompoundLocation([FeatureLocation(ExactPosition(10453057), ExactPosition(10453113), strand=1), FeatureLocation(ExactPosition(10462256), ExactPosition(10462385), strand=1), FeatureLocation(ExactPosition(10462921), ExactPosition(10463077), strand=1), FeatureLocation(ExactPosition(10464214), ExactPosition(10464278), strand=1), FeatureLocation(ExactPosition(10464360), ExactPosition(10464424), strand=1), FeatureLocation(ExactPosition(10465735), ExactPosition(10465827), strand=1), FeatureLocation(ExactPosition(10469566), ExactPosition(10469743), strand=1), FeatureLocation(ExactPosition(10469832), ExactPosition(10469892), strand=1), FeatureLocation(ExactPosition(10471953), ExactPosition(10472118), strand=1), FeatureLocation(ExactPosition(10472221), ExactPosition(10472289), strand=1), FeatureLocation(ExactPosition(10475716), ExactPosition(10475759), strand=1), FeatureLocation(ExactPosition(10475859), ExactPosition(10475923), strand=1), FeatureLocation(ExactPosition(10476015), ExactPosition(10476092), strand=1), FeatureLocation(ExactPosition(10476367), ExactPosition(10476490), strand=1)], 'join'), type='CDS', location_operator='join'),\n",
       " SeqFeature(FeatureLocation(ExactPosition(10476963), ExactPosition(10482767), strand=-1), type='gene'),\n",
       " SeqFeature(CompoundLocation([FeatureLocation(ExactPosition(10482360), ExactPosition(10482767), strand=-1), FeatureLocation(ExactPosition(10482156), ExactPosition(10482268), strand=-1), FeatureLocation(ExactPosition(10481495), ExactPosition(10481546), strand=-1), FeatureLocation(ExactPosition(10481319), ExactPosition(10481406), strand=-1), FeatureLocation(ExactPosition(10480932), ExactPosition(10481088), strand=-1), FeatureLocation(ExactPosition(10480539), ExactPosition(10480631), strand=-1), FeatureLocation(ExactPosition(10479875), ExactPosition(10479960), strand=-1), FeatureLocation(ExactPosition(10479313), ExactPosition(10479405), strand=-1), FeatureLocation(ExactPosition(10479153), ExactPosition(10479229), strand=-1), FeatureLocation(ExactPosition(10478929), ExactPosition(10479072), strand=-1), FeatureLocation(ExactPosition(10478241), ExactPosition(10478317), strand=-1), FeatureLocation(ExactPosition(10477525), ExactPosition(10477615), strand=-1), FeatureLocation(ExactPosition(10477263), ExactPosition(10477368), strand=-1), FeatureLocation(ExactPosition(10476963), ExactPosition(10477047), strand=-1)], 'join'), type='mRNA', location_operator='join'),\n",
       " SeqFeature(CompoundLocation([FeatureLocation(ExactPosition(10482360), ExactPosition(10482767), strand=-1), FeatureLocation(ExactPosition(10482156), ExactPosition(10482268), strand=-1), FeatureLocation(ExactPosition(10481495), ExactPosition(10481546), strand=-1), FeatureLocation(ExactPosition(10481319), ExactPosition(10481406), strand=-1), FeatureLocation(ExactPosition(10480932), ExactPosition(10481088), strand=-1), FeatureLocation(ExactPosition(10480539), ExactPosition(10480631), strand=-1), FeatureLocation(ExactPosition(10479875), ExactPosition(10479960), strand=-1), FeatureLocation(ExactPosition(10479313), ExactPosition(10479405), strand=-1), FeatureLocation(ExactPosition(10479153), ExactPosition(10479229), strand=-1), FeatureLocation(ExactPosition(10478929), ExactPosition(10479072), strand=-1), FeatureLocation(ExactPosition(10478241), ExactPosition(10478317), strand=-1), FeatureLocation(ExactPosition(10477525), ExactPosition(10477615), strand=-1), FeatureLocation(ExactPosition(10477263), ExactPosition(10477368), strand=-1), FeatureLocation(ExactPosition(10476963), ExactPosition(10477047), strand=-1)], 'join'), type='CDS', location_operator='join'),\n",
       " SeqFeature(FeatureLocation(ExactPosition(10483183), ExactPosition(10485238), strand=1), type='gene'),\n",
       " SeqFeature(CompoundLocation([FeatureLocation(ExactPosition(10483183), ExactPosition(10483925), strand=1), FeatureLocation(ExactPosition(10485122), ExactPosition(10485238), strand=1)], 'join'), type='mRNA', location_operator='join'),\n",
       " SeqFeature(CompoundLocation([FeatureLocation(ExactPosition(10483183), ExactPosition(10483925), strand=1), FeatureLocation(ExactPosition(10485122), ExactPosition(10485238), strand=1)], 'join'), type='CDS', location_operator='join'),\n",
       " SeqFeature(FeatureLocation(ExactPosition(10488079), ExactPosition(10489097), strand=1), type='gene'),\n",
       " SeqFeature(CompoundLocation([FeatureLocation(ExactPosition(10488079), ExactPosition(10488134), strand=1), FeatureLocation(ExactPosition(10488510), ExactPosition(10489097), strand=1)], 'join'), type='mRNA', location_operator='join'),\n",
       " SeqFeature(CompoundLocation([FeatureLocation(ExactPosition(10488079), ExactPosition(10488134), strand=1), FeatureLocation(ExactPosition(10488510), ExactPosition(10489097), strand=1)], 'join'), type='CDS', location_operator='join'),\n",
       " SeqFeature(FeatureLocation(ExactPosition(10490679), ExactPosition(10492050), strand=-1), type='gene'),\n",
       " SeqFeature(FeatureLocation(ExactPosition(10490679), ExactPosition(10492050), strand=-1), type='mRNA'),\n",
       " SeqFeature(FeatureLocation(ExactPosition(10490679), ExactPosition(10492050), strand=-1), type='CDS'),\n",
       " SeqFeature(FeatureLocation(ExactPosition(10495453), ExactPosition(10511775), strand=-1), type='gene'),\n",
       " SeqFeature(CompoundLocation([FeatureLocation(ExactPosition(10511620), ExactPosition(10511775), strand=-1), FeatureLocation(ExactPosition(10495453), ExactPosition(10497383), strand=-1)], 'join'), type='mRNA', location_operator='join'),\n",
       " SeqFeature(CompoundLocation([FeatureLocation(ExactPosition(10511620), ExactPosition(10511775), strand=-1), FeatureLocation(ExactPosition(10495453), ExactPosition(10497383), strand=-1)], 'join'), type='CDS', location_operator='join'),\n",
       " SeqFeature(FeatureLocation(ExactPosition(10512249), ExactPosition(10522525), strand=1), type='gene'),\n",
       " SeqFeature(CompoundLocation([FeatureLocation(ExactPosition(10512249), ExactPosition(10512377), strand=1), FeatureLocation(ExactPosition(10514028), ExactPosition(10514165), strand=1), FeatureLocation(ExactPosition(10517159), ExactPosition(10517385), strand=1), FeatureLocation(ExactPosition(10521425), ExactPosition(10521586), strand=1), FeatureLocation(ExactPosition(10522103), ExactPosition(10522298), strand=1), FeatureLocation(ExactPosition(10522442), ExactPosition(10522525), strand=1)], 'join'), type='mRNA', location_operator='join'),\n",
       " SeqFeature(CompoundLocation([FeatureLocation(ExactPosition(10512249), ExactPosition(10512377), strand=1), FeatureLocation(ExactPosition(10514028), ExactPosition(10514165), strand=1), FeatureLocation(ExactPosition(10517159), ExactPosition(10517385), strand=1), FeatureLocation(ExactPosition(10521425), ExactPosition(10521586), strand=1), FeatureLocation(ExactPosition(10522103), ExactPosition(10522298), strand=1), FeatureLocation(ExactPosition(10522442), ExactPosition(10522525), strand=1)], 'join'), type='CDS', location_operator='join'),\n",
       " SeqFeature(FeatureLocation(ExactPosition(10524484), ExactPosition(10530233), strand=-1), type='gene'),\n",
       " SeqFeature(CompoundLocation([FeatureLocation(ExactPosition(10529970), ExactPosition(10530233), strand=-1), FeatureLocation(ExactPosition(10529434), ExactPosition(10529585), strand=-1), FeatureLocation(ExactPosition(10524484), ExactPosition(10525159), strand=-1)], 'join'), type='mRNA', location_operator='join'),\n",
       " SeqFeature(CompoundLocation([FeatureLocation(ExactPosition(10529970), ExactPosition(10530233), strand=-1), FeatureLocation(ExactPosition(10529434), ExactPosition(10529585), strand=-1), FeatureLocation(ExactPosition(10524484), ExactPosition(10525159), strand=-1)], 'join'), type='CDS', location_operator='join'),\n",
       " SeqFeature(FeatureLocation(ExactPosition(10536454), ExactPosition(10546711), strand=1), type='gene'),\n",
       " SeqFeature(CompoundLocation([FeatureLocation(ExactPosition(10536454), ExactPosition(10536514), strand=1), FeatureLocation(ExactPosition(10537965), ExactPosition(10538017), strand=1), FeatureLocation(ExactPosition(10538113), ExactPosition(10538257), strand=1), FeatureLocation(ExactPosition(10538340), ExactPosition(10538455), strand=1), FeatureLocation(ExactPosition(10538619), ExactPosition(10538756), strand=1), FeatureLocation(ExactPosition(10539255), ExactPosition(10539436), strand=1), FeatureLocation(ExactPosition(10546671), ExactPosition(10546711), strand=1)], 'join'), type='mRNA', location_operator='join'),\n",
       " SeqFeature(CompoundLocation([FeatureLocation(ExactPosition(10536454), ExactPosition(10536514), strand=1), FeatureLocation(ExactPosition(10537965), ExactPosition(10538017), strand=1), FeatureLocation(ExactPosition(10538113), ExactPosition(10538257), strand=1), FeatureLocation(ExactPosition(10538340), ExactPosition(10538455), strand=1), FeatureLocation(ExactPosition(10538619), ExactPosition(10538756), strand=1), FeatureLocation(ExactPosition(10539255), ExactPosition(10539436), strand=1), FeatureLocation(ExactPosition(10546671), ExactPosition(10546711), strand=1)], 'join'), type='CDS', location_operator='join'),\n",
       " SeqFeature(FeatureLocation(ExactPosition(10547159), ExactPosition(10568788), strand=-1), type='gene'),\n",
       " SeqFeature(CompoundLocation([FeatureLocation(ExactPosition(10568713), ExactPosition(10568788), strand=-1), FeatureLocation(ExactPosition(10558325), ExactPosition(10558394), strand=-1), FeatureLocation(ExactPosition(10558067), ExactPosition(10558121), strand=-1), FeatureLocation(ExactPosition(10548544), ExactPosition(10548616), strand=-1), FeatureLocation(ExactPosition(10547397), ExactPosition(10547453), strand=-1), FeatureLocation(ExactPosition(10547159), ExactPosition(10547298), strand=-1)], 'join'), type='mRNA', location_operator='join'),\n",
       " SeqFeature(CompoundLocation([FeatureLocation(ExactPosition(10568713), ExactPosition(10568788), strand=-1), FeatureLocation(ExactPosition(10558325), ExactPosition(10558394), strand=-1), FeatureLocation(ExactPosition(10558067), ExactPosition(10558121), strand=-1), FeatureLocation(ExactPosition(10548544), ExactPosition(10548616), strand=-1), FeatureLocation(ExactPosition(10547397), ExactPosition(10547453), strand=-1), FeatureLocation(ExactPosition(10547159), ExactPosition(10547298), strand=-1)], 'join'), type='CDS', location_operator='join')]"
      ]
     },
     "execution_count": 30,
     "metadata": {},
     "output_type": "execute_result"
    }
   ],
   "source": [
    "p53.features"
   ]
  },
  {
   "cell_type": "markdown",
   "metadata": {
    "slideshow": {
     "slide_type": "slide"
    }
   },
   "source": [
    "# Extracting subsequences"
   ]
  },
  {
   "cell_type": "code",
   "execution_count": 31,
   "metadata": {},
   "outputs": [
    {
     "name": "stdout",
     "output_type": "stream",
     "text": [
      "type: CDS\n",
      "location: join{[62289:62343](-), [46544:46649](-), [43511:43673](-), [33520:33649](-), [31983:32169](-), [30375:30644](-), [28385:28528](-), [25029:25275](-), [22983:23199](-), [22343:22474](-), [20333:20411](-), [7559:7763](-)}\n",
      "qualifiers:\n",
      "    Key: codon_start, Value: ['1']\n",
      "    Key: inference, Value: ['COORDINATES: Similar to AA sequence:UniProtKB:P59862']\n",
      "    Key: locus_tag, Value: ['LTLLF_151105']\n",
      "    Key: note, Value: ['Derived by automated computational analysis using gene prediction method: Glean and BGI proprietary modifications; BGI Gene ID: Vole_GLEAN_10028642; Expectation value: 0.0']\n",
      "    Key: product, Value: ['Cadherin-like protein 26']\n",
      "    Key: protein_id, Value: ['KAH0511053.1']\n",
      "    Key: translation, Value: ['MAIRGCTWLLLLLLPLLQGQNHQPLRRSKRRWVLTTLELEEEDPGPFPKLVGELFNNMSNNVSLMYLLRGPGVDEFPEIGLFSIEDHQSGKVYVHRAVDREVTPSFLTAPWFTLIVRATDCGEPSLSSTATIHISVEEGNNHMPTFVEDHYEIQISEGEVAWGVLDLPVQDGDSPFTPAWRAQFHILDGNEEEHFDIMTDPETNRAVLNVIKPLDYETQAAHSLSIVVENQEPLFSCEEGQAQPSTKAMASTTVSVQVVDTNDPPAFHPRSFIVSKEDGAGPGIWLGDFNATDPDRVTSQIRYKLVHDPADWVTVDEETGAVTTKRQIDRESPHVNGSFYTILVHAVDSGLPPLTGTGTLMLFLSDINDNAPTLQSHSRHLEICESAGNQPLLLEAEDGDLDPYSNPFTFDLDSAQRDVDGTWMLRTKQGEGRSAELVMLRSLPPGEYLVPLFIGDRQGLTQRQTVHVRVCSCPSGSKCETLSNTGLLLWVLSPVCAALLVLAAALLSLLRCRFEFGPKRLGGVIPSDNGHQTLIVYNEESQALSAQMQPTGGGQMPALSFSAAAAYAKPDVKKLHAIDVQDSGTGYPPHVYREEGESEGAETLSSLTFLEQDLPPELLDYLSLKSTPSEAMCSASRVPS']\n",
      "\n"
     ]
    }
   ],
   "source": [
    "cdsfeature = p53.features[3]\n",
    "print(cdsfeature)"
   ]
  },
  {
   "cell_type": "markdown",
   "metadata": {
    "slideshow": {
     "slide_type": "slide"
    }
   },
   "source": [
    "The subsequence the feature refers to can be extracted from the original full sequence using the feature."
   ]
  },
  {
   "cell_type": "code",
   "execution_count": 32,
   "metadata": {
    "slideshow": {
     "slide_type": "-"
    }
   },
   "outputs": [
    {
     "data": {
      "text/plain": [
       "SeqRecord(seq=Seq('ATGGCCATAAGAGGCTGCACCTGGTTGCTGCTACTGCTGCTGCCGCTCCTGCAG...TAA'), id='<unknown id>', name='<unknown name>', description='<unknown description>', dbxrefs=[])"
      ]
     },
     "execution_count": 32,
     "metadata": {},
     "output_type": "execute_result"
    }
   ],
   "source": [
    "coding = cdsfeature.extract(p53) #pass the full record (p53) to the feature\n",
    "coding"
   ]
  },
  {
   "cell_type": "code",
   "execution_count": 64,
   "metadata": {
    "slideshow": {
     "slide_type": "slide"
    }
   },
   "outputs": [
    {
     "data": {
      "text/html": [
       "<div id=\"qualifiers\" style=\"width: 500px\"></div>\n",
       "<script>\n",
       "$('head').append('<link rel=\"stylesheet\" href=\"http://bits.csb.pitt.edu/asker.js/themes/asker.default.css\" />');\n",
       "\n",
       "    var divid = '#qualifiers';\n",
       "\tjQuery(divid).asker({\n",
       "\t    id: divid,\n",
       "\t    question: \"What is the type of cdsfeature.qualifiers?\",\n",
       "\t\tanswers: ['str',\"int\",\"set\",\"list\",\"dict\"],\n",
       "        server: \"http://bits.csb.pitt.edu/asker.js/example/asker.cgi\",\n",
       "\t\tcharter: chartmaker})\n",
       "    \n",
       "$(\".jp-InputArea .o:contains(html)\").closest('.jp-InputArea').hide();\n",
       "\n",
       "\n",
       "</script>\n"
      ],
      "text/plain": [
       "<IPython.core.display.HTML object>"
      ]
     },
     "metadata": {},
     "output_type": "display_data"
    }
   ],
   "source": [
    "%%html\n",
    "<div id=\"qualifiers\" style=\"width: 500px\"></div>\n",
    "<script>\n",
    "$('head').append('<link rel=\"stylesheet\" href=\"http://bits.csb.pitt.edu/asker.js/themes/asker.default.css\" />');\n",
    "\n",
    "    var divid = '#qualifiers';\n",
    "\tjQuery(divid).asker({\n",
    "\t    id: divid,\n",
    "\t    question: \"What is the type of cdsfeature.qualifiers?\",\n",
    "\t\tanswers: ['str',\"int\",\"set\",\"list\",\"dict\"],\n",
    "        server: \"http://bits.csb.pitt.edu/asker.js/example/asker.cgi\",\n",
    "\t\tcharter: chartmaker})\n",
    "    \n",
    "$(\".jp-InputArea .o:contains(html)\").closest('.jp-InputArea').hide();\n",
    "\n",
    "\n",
    "</script>"
   ]
  },
  {
   "cell_type": "markdown",
   "metadata": {
    "slideshow": {
     "slide_type": "slide"
    }
   },
   "source": [
    "# BLAST!\n",
    "\n",
    "Biopython let's you use [NCBI's BLAST](http://blast.ncbi.nlm.nih.gov/Blast.cgi) to search for similar sequences with `qblast` which has three required arguments:\n",
    " * **program**: blastn, blastp, blastx, tblastn, tblastx\n",
    " * **database**: see website\n",
    " * **sequence**: a sequence object"
   ]
  },
  {
   "cell_type": "code",
   "execution_count": 35,
   "metadata": {},
   "outputs": [],
   "source": [
    "from Bio.Blast import NCBIWWW\n",
    "result = NCBIWWW.qblast(\"blastn\",\"nt\",coding.seq,hitlist_size=250)\n",
    "#result is a file-like object with xml in it - it can take a while to get results"
   ]
  },
  {
   "cell_type": "code",
   "execution_count": 36,
   "metadata": {},
   "outputs": [],
   "source": [
    "from Bio.Blast import NCBIXML #for parsing xmls\n",
    "blast_records = NCBIXML.read(result)"
   ]
  },
  {
   "cell_type": "code",
   "execution_count": 37,
   "metadata": {},
   "outputs": [
    {
     "name": "stdout",
     "output_type": "stream",
     "text": [
      "250 250\n"
     ]
    }
   ],
   "source": [
    "print(len(blast_records.alignments),len(blast_records.descriptions))"
   ]
  },
  {
   "cell_type": "code",
   "execution_count": 38,
   "metadata": {
    "slideshow": {
     "slide_type": "slide"
    }
   },
   "outputs": [
    {
     "name": "stdout",
     "output_type": "stream",
     "text": [
      "3\n"
     ]
    }
   ],
   "source": [
    "alignment = blast_records.alignments[0]\n",
    "print(len(alignment.hsps))"
   ]
  },
  {
   "cell_type": "code",
   "execution_count": 40,
   "metadata": {},
   "outputs": [
    {
     "name": "stdout",
     "output_type": "stream",
     "text": [
      "****Alignment****\n",
      "sequence: gi|1490716901|ref|XM_026787265.1| PREDICTED: Microtus ochrogaster cadherin 26 (Cdh26), mRNA\n",
      "length: 3083\n",
      "e value: 0.0\n",
      "ACTGCTCCTTGGTTCACTCTGATAGTCAGAGCGACGGATTGTGGAGAGCCATCCCTGTCATCCACAGCCACCATT...\n",
      "|||||||||||||||||||||||||||||||||||||||||||||||||||||||||||||||||||||||||||...\n",
      "ACTGCTCCTTGGTTCACTCTGATAGTCAGAGCGACGGATTGTGGAGAGCCATCCCTGTCATCCACAGCCACCATT...\n"
     ]
    }
   ],
   "source": [
    "hsp = alignment.hsps[0] #high scoring segment pairs\n",
    "print('****Alignment****')\n",
    "print('sequence:', alignment.title)\n",
    "print('length:', alignment.length)\n",
    "print('e value:', hsp.expect)\n",
    "print(hsp.query[0:75] + '...')  # what we searched with\n",
    "print(hsp.match[0:75] + '...')\n",
    "print(hsp.sbjct[0:75] + '...')  # what we matched to"
   ]
  },
  {
   "cell_type": "code",
   "execution_count": 41,
   "metadata": {
    "slideshow": {
     "slide_type": "slide"
    }
   },
   "outputs": [
    {
     "name": "stdout",
     "output_type": "stream",
     "text": [
      "****Alignment****\n",
      "sequence: gi|1909942461|dbj|AP023480.1| Homo sapiens DNA, chromosome 20, nearly complete genome\n",
      "length: 62398354\n",
      "e value: 1.1612e-43\n",
      "TCAAGCCTTTGGATTATGAAACTCAAGCAGCCCACAGCCTCAGCATTGTTGTGGAGAATCAGGAGCCGCTCTTCT...\n",
      "|| |||||||||||||||| ||||   |||| || ||||||| |||||| ||||||||| |||||  |||| |||...\n",
      "TCCAGCCTTTGGATTATGAGACTCGCCCAGCGCAAAGCCTCATCATTGTCGTGGAGAATGAGGAGAGGCTCGTCT...\n"
     ]
    }
   ],
   "source": [
    "alignment = blast_records.alignments[-1] # get last alignment\n",
    "hsp = alignment.hsps[0]\n",
    "print('****Alignment****')\n",
    "print('sequence:', alignment.title)\n",
    "print('length:', alignment.length)\n",
    "print('e value:', hsp.expect)\n",
    "print(hsp.query[0:75] + '...')  # what we searched with\n",
    "print(hsp.match[0:75] + '...')\n",
    "print(hsp.sbjct[0:75] + '...')  # what we matched to\n"
   ]
  },
  {
   "cell_type": "markdown",
   "metadata": {
    "slideshow": {
     "slide_type": "slide"
    }
   },
   "source": [
    "# Creating alignments\n",
    "\n",
    "Biopython uses `clustal` to perform multiple alignments\n",
    "\n",
    "The interface is very simple - you construct the `clustal` commandline and must read the result files"
   ]
  },
  {
   "cell_type": "code",
   "execution_count": 51,
   "metadata": {},
   "outputs": [],
   "source": [
    "from Bio.Align.Applications import ClustalwCommandline\n",
    "cline = ClustalwCommandline('clustalw', infile='../files/hydra.fasta',outfile='alignment.aln')"
   ]
  },
  {
   "cell_type": "code",
   "execution_count": 52,
   "metadata": {},
   "outputs": [
    {
     "name": "stdout",
     "output_type": "stream",
     "text": [
      "clustalw -infile=../files/hydra.fasta -outfile=alignment.aln\n"
     ]
    }
   ],
   "source": [
    "print(cline)"
   ]
  },
  {
   "cell_type": "code",
   "execution_count": 54,
   "metadata": {},
   "outputs": [],
   "source": [
    "output = cline() #this calls the above, may take a while"
   ]
  },
  {
   "cell_type": "code",
   "execution_count": 55,
   "metadata": {},
   "outputs": [
    {
     "name": "stdout",
     "output_type": "stream",
     "text": [
      "CLUSTAL 2.1 multiple sequence alignment\r\n",
      "\r\n",
      "\r\n",
      "gi|164609123|gb|ABY62783.1|/1-      ------------MLNIAILCLSCYINYVSCLSLTSPAIIEEVVGRSVTIT\r\n",
      "model1_F.pdb                        ------------------------------LSLTSPAIIEEVVGRSVTIT\r\n",
      "gi|225423262|gb|ACN91137.1|/1-      ------------MLNIAILSLSCYINYVSCLSLTSPAIIEEVVGRSVTIT\r\n",
      "gi|302171750|gb|ADK97776.1|/1-      ------------MLNIAILSLSCYINYVSCLSLTSPAIIEEVVGRSVTIT\r\n",
      "gi|302171774|gb|ADK97788.1|/1-      ------------MLNIAILCLSCYINYVSCLSLTSSAIIEEVVNRSVTIT\r\n",
      "gi|225423244|gb|ACN91128.1|/1-      ------------MLNIAILCLSCYINYVSCLSLTSSAIIEEVVNRSVTIT\r\n",
      "gi|225423272|gb|ACN91142.1|/1-      ------------MLNIAILLLSCYINYVSSLSLTSPAIIEEVVNRSVTIT\r\n"
     ]
    }
   ],
   "source": [
    "!head alignment.aln"
   ]
  },
  {
   "cell_type": "markdown",
   "metadata": {
    "slideshow": {
     "slide_type": "slide"
    }
   },
   "source": [
    "# Alignments\n",
    "\n",
    "`AlignIO` is used to read alignment files (must provide format)"
   ]
  },
  {
   "cell_type": "code",
   "execution_count": 56,
   "metadata": {},
   "outputs": [],
   "source": [
    "from Bio import AlignIO\n",
    "align = AlignIO.read('alignment.aln','clustal')"
   ]
  },
  {
   "cell_type": "code",
   "execution_count": 57,
   "metadata": {},
   "outputs": [
    {
     "data": {
      "text/plain": [
       "<<class 'Bio.Align.MultipleSeqAlignment'> instance (40 records of length 691) at 11ce929a0>"
      ]
     },
     "execution_count": 57,
     "metadata": {},
     "output_type": "execute_result"
    }
   ],
   "source": [
    "align"
   ]
  },
  {
   "cell_type": "code",
   "execution_count": 58,
   "metadata": {},
   "outputs": [
    {
     "name": "stdout",
     "output_type": "stream",
     "text": [
      "Alignment with 40 rows and 691 columns\n",
      "------------MLNIAILCLSCYINYVSCLSLTSPAIIEEVVG...QKK gi|164609123|gb|ABY62783.1|/1-\n",
      "------------------------------LSLTSPAIIEEVVG...--- model1_F.pdb\n",
      "------------MLNIAILSLSCYINYVSCLSLTSPAIIEEVVG...QKK gi|225423262|gb|ACN91137.1|/1-\n",
      "------------MLNIAILSLSCYINYVSCLSLTSPAIIEEVVG...QKK gi|302171750|gb|ADK97776.1|/1-\n",
      "------------MLNIAILCLSCYINYVSCLSLTSSAIIEEVVN...QKK gi|302171774|gb|ADK97788.1|/1-\n",
      "------------MLNIAILCLSCYINYVSCLSLTSSAIIEEVVN...QKK gi|225423244|gb|ACN91128.1|/1-\n",
      "------------MLNIAILLLSCYINYVSSLSLTSPAIIEEVVN...QKK gi|225423272|gb|ACN91142.1|/1-\n",
      "------------MLNIAILCLSYYVNYVSCLSLTSPAIIEEVVG...QKK gi|302171742|gb|ADK97772.1|/1-\n",
      "------------MLNIAILCLSYYVNYVSCLSLTSPAIIEEVVG...QKK gi|225423264|gb|ACN91138.1|/1-\n",
      "------------MLNIAILSLSCYINYVSCLSLTSPAIIEEVVG...QKK gi|302171780|gb|ADK97791.1|/1-\n",
      "------------MLNIAILCLSCYINYVSCVSLTSPAIIEEVVG...QKK gi|302171756|gb|ADK97779.1|/1-\n",
      "------------MLNVVILCLSCYINYVSCLSLTSPAIIEEVVG...QKK gi|225423288|gb|ACN91150.1|/1-\n",
      "MKLVIVIPNDENLLNIAILCLSCYLNYVSCLSLTSPAIIEKVVG...QKK gi|225423270|gb|ACN91141.1|/1-\n",
      "------------MLNIAILCLSCYINYVSCVSVTSPPIIEEVVG...QKK gi|302171766|gb|ADK97784.1|/1-\n",
      "------------MLNIAILCLSCYINYVSCVSVTSPPIIEEVVG...QKK gi|225423256|gb|ACN91134.1|/1-\n",
      "------------MLNIAILCLSCYINYVSCVSVTSPPIIEEVVG...QKK gi|302171748|gb|ADK97775.1|/1-\n",
      "------------MLNIAILCLSCYINYVSCLSLTSSAIIEEVVG...QKK gi|302171772|gb|ADK97787.1|/1-\n",
      "------------MLNIAILCLSCYINYVSCLSVTSPAIIEEVVG...QKK gi|225423294|gb|ACN91153.1|/1-\n",
      "...\n",
      "------------MLNIAILSLSCYINYVSCLSLTSPAIIEKVVG...QKK gi|302171764|gb|ADK97783.1|/1-\n"
     ]
    }
   ],
   "source": [
    "print(align)"
   ]
  },
  {
   "cell_type": "markdown",
   "metadata": {
    "slideshow": {
     "slide_type": "slide"
    }
   },
   "source": [
    "# Slicing Alignments\n",
    "\n",
    "Alignments are sliced just like `numpy` arrays"
   ]
  },
  {
   "cell_type": "code",
   "execution_count": 59,
   "metadata": {},
   "outputs": [
    {
     "data": {
      "text/plain": [
       "SeqRecord(seq=Seq('------------MLNIAILCLSCYINYVSCLSLTSPAIIEEVVGRSVTITYVTD...QKK'), id='gi|164609123|gb|ABY62783.1|/1-', name='<unknown name>', description='gi|164609123|gb|ABY62783.1|/1-', dbxrefs=[])"
      ]
     },
     "execution_count": 59,
     "metadata": {},
     "output_type": "execute_result"
    }
   ],
   "source": [
    "align[0] #first row"
   ]
  },
  {
   "cell_type": "code",
   "execution_count": 60,
   "metadata": {},
   "outputs": [
    {
     "data": {
      "text/plain": [
       "'------------M-----------------M---------'"
      ]
     },
     "execution_count": 60,
     "metadata": {},
     "output_type": "execute_result"
    }
   ],
   "source": [
    "align[:,0] #first column"
   ]
  },
  {
   "cell_type": "code",
   "execution_count": 61,
   "metadata": {},
   "outputs": [
    {
     "name": "stdout",
     "output_type": "stream",
     "text": [
      "Alignment with 40 rows and 3 columns\n",
      "--- gi|164609123|gb|ABY62783.1|/1-\n",
      "--- model1_F.pdb\n",
      "--- gi|225423262|gb|ACN91137.1|/1-\n",
      "--- gi|302171750|gb|ADK97776.1|/1-\n",
      "--- gi|302171774|gb|ADK97788.1|/1-\n",
      "--- gi|225423244|gb|ACN91128.1|/1-\n",
      "--- gi|225423272|gb|ACN91142.1|/1-\n",
      "--- gi|302171742|gb|ADK97772.1|/1-\n",
      "--- gi|225423264|gb|ACN91138.1|/1-\n",
      "--- gi|302171780|gb|ADK97791.1|/1-\n",
      "--- gi|302171756|gb|ADK97779.1|/1-\n",
      "--- gi|225423288|gb|ACN91150.1|/1-\n",
      "MKL gi|225423270|gb|ACN91141.1|/1-\n",
      "--- gi|302171766|gb|ADK97784.1|/1-\n",
      "--- gi|225423256|gb|ACN91134.1|/1-\n",
      "--- gi|302171748|gb|ADK97775.1|/1-\n",
      "--- gi|302171772|gb|ADK97787.1|/1-\n",
      "--- gi|225423294|gb|ACN91153.1|/1-\n",
      "...\n",
      "--- gi|302171764|gb|ADK97783.1|/1-\n"
     ]
    }
   ],
   "source": [
    "print(align[:,0:3] )"
   ]
  },
  {
   "cell_type": "markdown",
   "metadata": {
    "slideshow": {
     "slide_type": "slide"
    }
   },
   "source": [
    "# And now for a brief foray into marine microbiology...\n",
    "\n",
    "https://asinansaglam.github.io/python_bio_2022/files/hydra.fasta"
   ]
  },
  {
   "cell_type": "markdown",
   "metadata": {
    "slideshow": {
     "slide_type": "slide"
    }
   },
   "source": [
    "<img src=\"imgs/sequence_project/sequence_project.001.png\" width=\"100%\">"
   ]
  },
  {
   "cell_type": "markdown",
   "metadata": {
    "slideshow": {
     "slide_type": "slide"
    }
   },
   "source": [
    "<img src=\"imgs/sequence_project/sequence_project.002.png\" width=\"100%\">"
   ]
  },
  {
   "cell_type": "markdown",
   "metadata": {
    "slideshow": {
     "slide_type": "slide"
    }
   },
   "source": [
    "<img src=\"imgs/sequence_project/sequence_project.003.png\" width=\"100%\">"
   ]
  },
  {
   "cell_type": "markdown",
   "metadata": {
    "slideshow": {
     "slide_type": "slide"
    }
   },
   "source": [
    "<img src=\"imgs/sequence_project/sequence_project.004.png\" width=\"100%\">"
   ]
  },
  {
   "cell_type": "markdown",
   "metadata": {
    "slideshow": {
     "slide_type": "slide"
    }
   },
   "source": [
    "<img src=\"imgs/sequence_project/sequence_project.005.png\"  width=\"100%\">"
   ]
  },
  {
   "cell_type": "markdown",
   "metadata": {
    "slideshow": {
     "slide_type": "slide"
    }
   },
   "source": [
    "<img src=\"imgs/sequence_project/sequence_project.006.png\"  width=\"100%\">"
   ]
  },
  {
   "cell_type": "markdown",
   "metadata": {
    "slideshow": {
     "slide_type": "slide"
    }
   },
   "source": [
    "<img src=\"imgs/sequence_project/sequence_project.007.png\" width=\"100%\">"
   ]
  },
  {
   "cell_type": "markdown",
   "metadata": {
    "slideshow": {
     "slide_type": "slide"
    }
   },
   "source": [
    "<img src=\"imgs/sequence_project/sequence_project.008.png\" width=\"100%\">"
   ]
  },
  {
   "cell_type": "markdown",
   "metadata": {
    "slideshow": {
     "slide_type": "slide"
    }
   },
   "source": [
    "# Project\n",
    "\n",
    "We have a gene (alr2), but what part of the gene is responsible for allorecognition?\n",
    "\n",
    "Given 179 sequences, how might we find out?\n",
    "\n",
    "https://asinansaglam.github.io/python_bio_2022/files/hydra179.aln"
   ]
  },
  {
   "cell_type": "markdown",
   "metadata": {
    "slideshow": {
     "slide_type": "fragment"
    }
   },
   "source": [
    "Find the part of the sequence that changes the most.\n",
    " * Count number of distinct residues at each position. Plot.\n",
    " * Count number of distinct *subsequences* of length 10 at each position. Plot."
   ]
  },
  {
   "cell_type": "markdown",
   "metadata": {
    "slideshow": {
     "slide_type": "subslide"
    }
   },
   "source": [
    "<img src=\"imgs/sequence_project/sequence_project.011.png\">"
   ]
  },
  {
   "cell_type": "code",
   "execution_count": null,
   "metadata": {
    "slideshow": {
     "slide_type": "notes"
    }
   },
   "outputs": [],
   "source": [
    "import matplotlib.pyplot as plt\n",
    "\n",
    "def countatpos(seqs,pos):\n",
    "        vals = set()\n",
    "        for s in seqs:\n",
    "                vals.add(s[pos:pos+10])\n",
    "        return len(vals)\n",
    "\n",
    "f = open(\"alr_align\");\n",
    "\n",
    "seqs = f.readlines()\n",
    "\n",
    "xaxis = list()\n",
    "yaxis = list()\n",
    "for i in xrange(len(seqs[0])):\n",
    "        xaxis.append(i)\n",
    "        yaxis.append(countatpos(seqs,i))\n",
    "print(zip(xaxis,yaxis))\n",
    "plt.bar(xaxis,yaxis)\n",
    "plt.show()"
   ]
  }
 ],
 "metadata": {
  "celltoolbar": "Slideshow",
  "kernelspec": {
   "display_name": "Python 3",
   "language": "python",
   "name": "python3"
  },
  "language_info": {
   "codemirror_mode": {
    "name": "ipython",
    "version": 3
   },
   "file_extension": ".py",
   "mimetype": "text/x-python",
   "name": "python",
   "nbconvert_exporter": "python",
   "pygments_lexer": "ipython3",
   "version": "3.8.2"
  }
 },
 "nbformat": 4,
 "nbformat_minor": 1
}
