{
 "cells": [
  {
   "cell_type": "markdown",
   "metadata": {
    "slideshow": {
     "slide_type": "slide"
    }
   },
   "source": [
    "# mdanalysis\n",
    "\n",
    "## 10/7/2021\n",
    "\n",
    "<a href=\"?print-pdf\">print view</a>"
   ]
  },
  {
   "cell_type": "code",
   "execution_count": 2,
   "metadata": {},
   "outputs": [
    {
     "data": {
      "text/html": [
       "<script src=\"http://bits.csb.pitt.edu/asker.js/lib/asker.js\"></script>\n",
       "<script>\n",
       "\n",
       "$3Dmolpromise = new Promise((resolve, reject) => { \n",
       "    require(['https://3dmol.org/build/3Dmol-nojquery.js'], function(){       \n",
       "            resolve();});\n",
       "});\n",
       "\n",
       "require(['https://cdnjs.cloudflare.com/ajax/libs/Chart.js/2.2.2/Chart.js'], function(Ch){\n",
       " Chart = Ch;\n",
       "});\n",
       "\n",
       "$('head').append('<link rel=\"stylesheet\" href=\"http://bits.csb.pitt.edu/asker.js/themes/asker.default.css\" />');\n",
       "\n",
       "\n",
       "//the callback is provided a canvas object and data \n",
       "var chartmaker = function(canvas, labels, data) {\n",
       "  var ctx = $(canvas).get(0).getContext(\"2d\");\n",
       "     var dataset = {labels: labels,                     \n",
       "    datasets:[{\n",
       "     data: data,\n",
       "     backgroundColor: \"rgba(150,64,150,0.5)\",\n",
       "         fillColor: \"rgba(150,64,150,0.8)\",    \n",
       "  }]};\n",
       "  var myBarChart = new Chart(ctx,{type:'bar',data:dataset,options:{legend: {display:false},\n",
       "        scales: {\n",
       "            yAxes: [{\n",
       "                ticks: {\n",
       "                    min: 0,\n",
       "                }\n",
       "            }]}}});\n",
       "};\n",
       "\n",
       "$(\".jp-InputArea .o:contains(html)\").closest('.jp-InputArea').hide();\n",
       "\n",
       "\n",
       "\n",
       "</script>\n",
       "\n"
      ],
      "text/plain": [
       "<IPython.core.display.HTML object>"
      ]
     },
     "metadata": {},
     "output_type": "display_data"
    }
   ],
   "source": [
    "%%html\n",
    "<script src=\"http://bits.csb.pitt.edu/asker.js/lib/asker.js\"></script>\n",
    "<script>\n",
    "\n",
    "$3Dmolpromise = new Promise((resolve, reject) => { \n",
    "    require(['https://3dmol.org/build/3Dmol-nojquery.js'], function(){       \n",
    "            resolve();});\n",
    "});\n",
    "\n",
    "require(['https://cdnjs.cloudflare.com/ajax/libs/Chart.js/2.2.2/Chart.js'], function(Ch){\n",
    " Chart = Ch;\n",
    "});\n",
    "\n",
    "$('head').append('<link rel=\"stylesheet\" href=\"http://bits.csb.pitt.edu/asker.js/themes/asker.default.css\" />');\n",
    "\n",
    "\n",
    "//the callback is provided a canvas object and data \n",
    "var chartmaker = function(canvas, labels, data) {\n",
    "  var ctx = $(canvas).get(0).getContext(\"2d\");\n",
    "     var dataset = {labels: labels,                     \n",
    "    datasets:[{\n",
    "     data: data,\n",
    "     backgroundColor: \"rgba(150,64,150,0.5)\",\n",
    "         fillColor: \"rgba(150,64,150,0.8)\",    \n",
    "  }]};\n",
    "  var myBarChart = new Chart(ctx,{type:'bar',data:dataset,options:{legend: {display:false},\n",
    "        scales: {\n",
    "            yAxes: [{\n",
    "                ticks: {\n",
    "                    min: 0,\n",
    "                }\n",
    "            }]}}});\n",
    "};\n",
    "\n",
    "$(\".jp-InputArea .o:contains(html)\").closest('.jp-InputArea').hide();\n",
    "\n",
    "\n",
    "\n",
    "</script>\n",
    "\n"
   ]
  },
  {
   "cell_type": "markdown",
   "metadata": {
    "slideshow": {
     "slide_type": "slide"
    }
   },
   "source": [
    "# Molecular Dynamics"
   ]
  },
  {
   "cell_type": "markdown",
   "metadata": {},
   "source": [
    "The simulation of the physical motions of atoms using classical physics (Newton's equations of motion).\n",
    "\n",
    "* Forces determined by a *force field*\n",
    "* Biological force fields are primarily calibrated for proteins\n",
    "* Simulation done in a small box (usually only a few proteins)\n",
    "* Result is an approximation \n"
   ]
  },
  {
   "cell_type": "markdown",
   "metadata": {
    "slideshow": {
     "slide_type": "slide"
    }
   },
   "source": [
    "<video width=\"784\" height=\"656\" controls>\n",
    "  <source src=\"https://asinansaglam.github.io/python_bio_2022/files/eye6.mp4\" type=\"video/mp4\">\n",
    "  <source src=\"https://asinansaglam.github.io/python_bio_2022/files/eye6.webm\" type=\"video/webm\">\n",
    "  <object data=\"https://asinansaglam.github.io/python_bio_2022/files/eye6.mp4\" width=\"784\" height=\"656\">\n",
    "  </object>\n",
    "</video> "
   ]
  },
  {
   "cell_type": "code",
   "execution_count": 3,
   "metadata": {
    "slideshow": {
     "slide_type": "slide"
    }
   },
   "outputs": [
    {
     "data": {
      "text/html": [
       "<div id=\"md1\" style=\"width: 500px\"></div>\n",
       "<script>\n",
       "$('head').append('<link rel=\"stylesheet\" href=\"http://bits.csb.pitt.edu/asker.js/themes/asker.default.css\" />');\n",
       "\n",
       "    var divid = '#md1';\n",
       "\tjQuery(divid).asker({\n",
       "\t    id: divid,\n",
       "\t    question: \"Assuming sufficient simulation time, which of the following processes can <b>not</b> be observed in a molecular dynamics simulation?\",\n",
       "\t\tanswers: [\"The disassociation of two proteins\",'The folding of a protein','The construction of RNA by RNA polymerase',\n",
       "                 'The conformational sampling of residue side chains or short loop regions '],\n",
       "        server: \"http://bits.csb.pitt.edu/asker.js/example/asker.cgi\",\n",
       "\t\tcharter: chartmaker})\n",
       "    \n",
       "$(\".jp-InputArea .o:contains(html)\").closest('.jp-InputArea').hide();\n",
       "\n",
       "\n",
       "</script>\n"
      ],
      "text/plain": [
       "<IPython.core.display.HTML object>"
      ]
     },
     "metadata": {},
     "output_type": "display_data"
    }
   ],
   "source": [
    "%%html\n",
    "<div id=\"md1\" style=\"width: 500px\"></div>\n",
    "<script>\n",
    "$('head').append('<link rel=\"stylesheet\" href=\"http://bits.csb.pitt.edu/asker.js/themes/asker.default.css\" />');\n",
    "\n",
    "    var divid = '#md1';\n",
    "\tjQuery(divid).asker({\n",
    "\t    id: divid,\n",
    "\t    question: \"Assuming sufficient simulation time, which of the following processes can <b>not</b> be observed in a molecular dynamics simulation?\",\n",
    "\t\tanswers: [\"The disassociation of two proteins\",'The folding of a protein','The construction of RNA by RNA polymerase',\n",
    "                 'The conformational sampling of residue side chains or short loop regions '],\n",
    "        server: \"http://bits.csb.pitt.edu/asker.js/example/asker.cgi\",\n",
    "\t\tcharter: chartmaker})\n",
    "    \n",
    "$(\".jp-InputArea .o:contains(html)\").closest('.jp-InputArea').hide();\n",
    "\n",
    "\n",
    "</script>"
   ]
  },
  {
   "cell_type": "markdown",
   "metadata": {
    "slideshow": {
     "slide_type": "slide"
    }
   },
   "source": [
    "# Why Simulate?"
   ]
  },
  {
   "cell_type": "markdown",
   "metadata": {},
   "source": [
    "* assess stability of model\n",
    "* observe dynamics of interactions\n",
    "* observe effects of mutations\n",
    "* compute properties of the ensemble\n",
    "* ...\n",
    "\n",
    "A typically simulation ranges from 10ns to 100ns, so we are limited in the sorts of processes that can be observed."
   ]
  },
  {
   "cell_type": "markdown",
   "metadata": {
    "slideshow": {
     "slide_type": "slide"
    }
   },
   "source": [
    "# MD Packages"
   ]
  },
  {
   "cell_type": "markdown",
   "metadata": {},
   "source": [
    "Amber [http://ambermd.org](http://ambermd.org)\n",
    "\n",
    "* Fastest GPU implementation (in my experience)\n",
    "\n",
    "Gromacs [http://www.gromacs.org](http://www.gromacs.org)\n",
    "\n",
    "* Open-source (LGPL)\n",
    "\n",
    "NAMD [http://www.ks.uiuc.edu/Research/namd/](http://www.ks.uiuc.edu/Research/namd/)\n",
    "\n",
    "* Highly optimized for cluster computing\n",
    "* Integrated with VMD\n",
    "\n",
    "LAMMPS [http://lammps.sandia.gov](http://lammps.sandia.gov)\n",
    "\n",
    "* Open-source (GPL)\n"
   ]
  },
  {
   "cell_type": "markdown",
   "metadata": {
    "slideshow": {
     "slide_type": "slide"
    }
   },
   "source": [
    "# Forcefields"
   ]
  },
  {
   "cell_type": "markdown",
   "metadata": {},
   "source": [
    "The forcefield determines what forces are applied to each atom.  For example, electrostatic interactions and torsion angle potentials.  Examples of force field *families*:\n",
    "\n",
    "* CHARMM\n",
    "* Gromacs\n",
    "* OPLS\n",
    "* Amber\n",
    "\n",
    "$$V(r^N)=\\sum_\\text{bonds} k_b (l-l_0)^2 + \\sum_\\text{angles} k_a (\\theta - \\theta_0)^2 $$\n",
    "$$+ \\sum_\\text{torsions} \\frac{1}{2} V_n [1+\\cos(n \\omega- \\gamma)] \n",
    "+\\sum_{j=1} ^{N-1} \\sum_{i=j+1} ^N \\biggl\\{\\epsilon_{i,j}\\biggl[\\left(\\frac{r_{0ij}}{r_{ij}} \\right)^{12} - 2\\left(\\frac{r_{0ij}}{r_{ij}} \\right)^{6} \\biggr]+ \\frac{q_iq_j}{4\\pi \\epsilon_0 r_{ij}}\\biggr\\}\n",
    "$$\n"
   ]
  },
  {
   "cell_type": "markdown",
   "metadata": {
    "slideshow": {
     "slide_type": "slide"
    }
   },
   "source": [
    "# Timestep\n",
    "\n",
    "Every timestep of the simulation (1 or 2 femtoseconds) all the forces exerted on every atom are calculated and the positions and velocities are updated appropriately according to Newton's laws of motion."
   ]
  },
  {
   "cell_type": "code",
   "execution_count": 4,
   "metadata": {},
   "outputs": [
    {
     "data": {
      "text/html": [
       "<div id=\"md2\" style=\"width: 500px\"></div>\n",
       "<script>\n",
       "$('head').append('<link rel=\"stylesheet\" href=\"http://bits.csb.pitt.edu/asker.js/themes/asker.default.css\" />');\n",
       "\n",
       "    var divid = '#md2';\n",
       "\tjQuery(divid).asker({\n",
       "\t    id: divid,\n",
       "\t    question: \"How many seconds is a femtosecond?\",\n",
       "\t\tanswers: [\"10^-18\",\"10^-15\",\"10^-12\",\"10^-9\",\"10^-6\"],\n",
       "        server: \"http://bits.csb.pitt.edu/asker.js/example/asker.cgi\",\n",
       "\t\tcharter: chartmaker})\n",
       "    \n",
       "$(\".jp-InputArea .o:contains(html)\").closest('.jp-InputArea').hide();\n",
       "\n",
       "\n",
       "</script>\n"
      ],
      "text/plain": [
       "<IPython.core.display.HTML object>"
      ]
     },
     "metadata": {},
     "output_type": "display_data"
    }
   ],
   "source": [
    "%%html\n",
    "<div id=\"md2\" style=\"width: 500px\"></div>\n",
    "<script>\n",
    "$('head').append('<link rel=\"stylesheet\" href=\"http://bits.csb.pitt.edu/asker.js/themes/asker.default.css\" />');\n",
    "\n",
    "    var divid = '#md2';\n",
    "\tjQuery(divid).asker({\n",
    "\t    id: divid,\n",
    "\t    question: \"How many seconds is a femtosecond?\",\n",
    "\t\tanswers: [\"10^-18\",\"10^-15\",\"10^-12\",\"10^-9\",\"10^-6\"],\n",
    "        server: \"http://bits.csb.pitt.edu/asker.js/example/asker.cgi\",\n",
    "\t\tcharter: chartmaker})\n",
    "    \n",
    "$(\".jp-InputArea .o:contains(html)\").closest('.jp-InputArea').hide();\n",
    "\n",
    "\n",
    "</script>"
   ]
  },
  {
   "cell_type": "markdown",
   "metadata": {
    "slideshow": {
     "slide_type": "slide"
    }
   },
   "source": [
    "# File Formats"
   ]
  },
  {
   "cell_type": "markdown",
   "metadata": {},
   "source": [
    "Different packages use different file formats and have different approaches to setting up and running a simulation.  Typically, to start a simulation you need\n",
    "\n",
    "* a configuration file that specifies how the simulation should be run\n",
    "* a topology of your system\n",
    "* initial coordinates of your system (may include velocities)\n",
    "\n",
    "The output of the simulation is a *trajectory* file."
   ]
  },
  {
   "cell_type": "code",
   "execution_count": 5,
   "metadata": {},
   "outputs": [
    {
     "name": "stdout",
     "output_type": "stream",
     "text": [
      "--2021-10-06 21:34:07--  https://asinansaglam.github.io/python_bio_2022/files/shmt2.prmtop\n",
      "Resolving mscbio2025.csb.pitt.edu (mscbio2025.csb.pitt.edu)... 136.142.4.139\n",
      "Connecting to mscbio2025.csb.pitt.edu (mscbio2025.csb.pitt.edu)|136.142.4.139|:80... connected.\n",
      "HTTP request sent, awaiting response... 200 OK\n",
      "Length: 17559824 (17M)\n",
      "Saving to: ‘shmt2.prmtop’\n",
      "\n",
      "shmt2.prmtop        100%[===================>]  16.75M  27.9MB/s    in 0.6s    \n",
      "\n",
      "2021-10-06 21:34:08 (27.9 MB/s) - ‘shmt2.prmtop’ saved [17559824/17559824]\n",
      "\n",
      "--2021-10-06 21:34:08--  https://asinansaglam.github.io/python_bio_2022/files/shmt2.dcd\n",
      "Resolving mscbio2025.csb.pitt.edu (mscbio2025.csb.pitt.edu)... 136.142.4.139\n",
      "Connecting to mscbio2025.csb.pitt.edu (mscbio2025.csb.pitt.edu)|136.142.4.139|:80... connected.\n",
      "HTTP request sent, awaiting response... 200 OK\n",
      "Length: 102836596 (98M)\n",
      "Saving to: ‘shmt2.dcd’\n",
      "\n",
      "shmt2.dcd           100%[===================>]  98.07M  49.0MB/s    in 2.0s    \n",
      "\n",
      "2021-10-06 21:34:10 (49.0 MB/s) - ‘shmt2.dcd’ saved [102836596/102836596]\n",
      "\n",
      "--2021-10-06 21:34:10--  https://asinansaglam.github.io/python_bio_2022/files/shmt2.inpcrd\n",
      "Resolving mscbio2025.csb.pitt.edu (mscbio2025.csb.pitt.edu)... 136.142.4.139\n",
      "Connecting to mscbio2025.csb.pitt.edu (mscbio2025.csb.pitt.edu)|136.142.4.139|:80... connected.\n",
      "HTTP request sent, awaiting response... 200 OK\n",
      "Length: 3127961 (3.0M)\n",
      "Saving to: ‘shmt2.inpcrd’\n",
      "\n",
      "shmt2.inpcrd        100%[===================>]   2.98M  16.3MB/s    in 0.2s    \n",
      "\n",
      "2021-10-06 21:34:10 (16.3 MB/s) - ‘shmt2.inpcrd’ saved [3127961/3127961]\n",
      "\n"
     ]
    }
   ],
   "source": [
    "!wget https://asinansaglam.github.io/python_bio_2022/files/shmt2.prmtop\n",
    "!wget https://asinansaglam.github.io/python_bio_2022/files/shmt2.dcd\n",
    "!wget https://asinansaglam.github.io/python_bio_2022/files/shmt2.inpcrd"
   ]
  },
  {
   "cell_type": "markdown",
   "metadata": {
    "slideshow": {
     "slide_type": "slide"
    }
   },
   "source": [
    "# Configuration File"
   ]
  },
  {
   "cell_type": "markdown",
   "metadata": {},
   "source": [
    "These are usually plain text and extremely obtuse without reading the documentation.\n",
    "\n",
    "Amber: \n",
    "<pre>    md of hsp27 implicit\n",
    "     &cntrl\n",
    "      imin = 0, ntb = 0,\n",
    "      igb = 1, ntpr = 100, ntwx = 5000, ntwr = 5000, ntpr = 5000,\n",
    "      ntt = 3, gamma_ln = 1.0,\n",
    "      tempi = 300.0, temp0 = 300.0\n",
    "      nstlim = 50000000, dt = 0.002,\n",
    "      ntc = 2, \n",
    "      cut = 999\n",
    "     /\n",
    "     </pre>\n",
    "     \n",
    "   "
   ]
  },
  {
   "cell_type": "markdown",
   "metadata": {
    "slideshow": {
     "slide_type": "slide"
    }
   },
   "source": [
    "# Topology"
   ]
  },
  {
   "cell_type": "markdown",
   "metadata": {},
   "source": [
    "The topology stores connectivity and atom type information about a model, but no coordinates.\n",
    "\n",
    "* .prmtop - Amber\n",
    "* .psf - NAMD\n",
    "* .top - Gromacs\n",
    "\n",
    "Typically you will create a topology from a PDB using the tools provided with the simulation package.  For example, you might use <tt>tleap</tt> in Amber to solvate the protein and create initial coordinates and a topology that includes information about your chosen forcefield."
   ]
  },
  {
   "cell_type": "code",
   "execution_count": 6,
   "metadata": {},
   "outputs": [
    {
     "name": "stdout",
     "output_type": "stream",
     "text": [
      "%VERSION  VERSION_STAMP = V0001.000  DATE = 09/02/15  08:40:14                  \r\n",
      "%FLAG TITLE                                                                     \r\n",
      "%FORMAT(20a4)                                                                   \r\n",
      "default_name                                                                    \r\n",
      "%FLAG POINTERS                                                                  \r\n",
      "%FORMAT(10I8)                                                                   \r\n",
      "   85695      17   78475    7362   16384    9960   33288   31170       0       0\r\n",
      "  174624   24681    7362    9960   31170      67     152     191      36       1\r\n",
      "       0       0       0       0       0       0       0       2      26       0\r\n",
      "       0\r\n",
      "%FLAG ATOM_NAME                                                                 \r\n",
      "%FORMAT(20a4)                                                                   \r\n",
      "N   H1  H2  H3  CA  HA  CB  HB2 HB3 CG  CD1 HD1 NE1 HE1 CE2 CZ2 HZ2 CH2 HH2 CZ3 \r\n",
      "HZ3 CE3 HE3 CD2 C   O   N   H   CA  HA  CB  HB  CG2 HG21HG22HG23OG1 HG1 C   O   \r\n",
      "N   H   CA  HA2 HA3 C   O   N   H   CA  HA  CB  HB2 HB3 CG  HG2 HG3 CD  OE1 NE2 \r\n"
     ]
    }
   ],
   "source": [
    "!head -15 shmt2.prmtop"
   ]
  },
  {
   "cell_type": "markdown",
   "metadata": {
    "slideshow": {
     "slide_type": "slide"
    }
   },
   "source": [
    "# Coordinates"
   ]
  },
  {
   "cell_type": "markdown",
   "metadata": {},
   "source": [
    "A coordinate file provides the (x,y,z) coordinates of each atom in your system.  \n",
    "\n",
    "For most coordinate formats, the file is useless without the topology.\n",
    "\n",
    "Some formats also include velocities and/or energies and can be used to *restart* the simulation.\n",
    "\n",
    "* .pdb - Gromacs, NAMD\n",
    "* .inpcrd - Amber\n",
    "* .rst - Amber Restart"
   ]
  },
  {
   "cell_type": "code",
   "execution_count": 7,
   "metadata": {},
   "outputs": [
    {
     "name": "stdout",
     "output_type": "stream",
     "text": [
      "default_name\r\n",
      " 85695\r\n",
      "  56.0088807  71.7060934  26.6369124  55.9058245  72.6656576  26.9347665\r\n",
      "  55.3430908  71.5216067  25.9001704  56.9898190  71.5152073  26.4905496\r\n",
      "  55.5961623  70.8150285  27.7784433  54.7545753  70.2022149  27.4555036\r\n",
      "  56.7364989  69.8797176  28.2523746  57.1310507  69.3326367  27.3961441\r\n",
      "  57.5399895  70.4472121  28.7218987  56.2765422  68.8069283  29.2961567\r\n",
      "  55.8725428  67.5289634  29.0305627  55.8943751  67.2239618  27.9843327\r\n",
      "  55.5106592  66.8784844  30.1940309  55.1697749  65.9298887  30.2577772\r\n",
      "  55.6890532  67.7312641  31.2490638  55.4724345  67.5312695  32.6151225\r\n"
     ]
    }
   ],
   "source": [
    "!head shmt2.inpcrd"
   ]
  },
  {
   "cell_type": "markdown",
   "metadata": {
    "slideshow": {
     "slide_type": "slide"
    }
   },
   "source": [
    "# Trajectory"
   ]
  },
  {
   "cell_type": "markdown",
   "metadata": {},
   "source": [
    "The trajectory is the result of the simulation.  These files store the coordinates of every atom of the simulation for every output timestep of the simulation.\n",
    "\n",
    "These files can be huge, so the minimum amount of information is usually stored (i.e. just coordinates) and the file is useless without the topology.\n",
    "\n",
    "* .trj, .trr - Gromacs full trajectory\n",
    "* .xtc - Gromacs compressed trajectory\n",
    "* .dcd - NAMD\n",
    "* .mdcrd, .nc - Amber"
   ]
  },
  {
   "cell_type": "code",
   "execution_count": 8,
   "metadata": {},
   "outputs": [
    {
     "name": "stdout",
     "output_type": "stream",
     "text": [
      "T\u0000\u0000\u0000CORDd\u0000\u0000\u0000\u0001\u0000\u0000\u0000\u0001\u0000\u0000\u0000\u0000\u0000\u0000\u0000\u0000\u0000\u0000\u0000\u0000\u0000\u0000\u0000\u0000\u0000\u0000\u0000\u0000\u0000\u0000\u0000\u0000\u0000\u0000\u0000o\u0012�:\u0000\u0000\u0000\u0000\u0000\u0000\u0000\u0000\u0000\u0000\u0000\u0000\u0000\u0000\u0000\u0000\u0000\u0000\u0000\u0000\u0000\u0000\u0000\u0000\u0000\u0000\u0000\u0000\u0000\u0000\u0000\u0000\u0000\u0000\u0000\u0000#\u0000\u0000\u0000T\u0000\u0000\u0000T\u0000\u0000\u0000\u0001\u0000\u0000\u0000Cpptraj generated dcd file.\u0000\u0000\u0000\u0000\u0000\u0000\u0000\u0000\u0000\u0000\u0000\u0000\u0000\u0000\u0000\u0000\u0000\u0000\u0000\u0000\u0000\u0000\u0000\u0000\u0000\u0000\u0000\u0000\u0000\u0000\u0000\u0000\u0000\u0000\u0000\u0000\u0000\u0000\u0000\u0000\u0000\u0000\u0000\u0000\u0000\u0000\u0000\u0000\u0000\u0000\u0000\u0000\u0000T\u0000\u0000\u0000\u0004\u0000\u0000\u0000�N\u0001\u0000\u0004\u0000\u0000\u0000�:\u0005\u0000��B�\\�B\u0018ԇB�хB���Bhd�B\u0001��BT��B\u0013��B���B�:�BCS�B\r\n",
      "L�B&��B�̈́B�Y�B$2�B�5�B\u001d",
      "كBn\u0002�B�\u0011�Bw݅B�׆B�̅B\u0005\u000b",
      "�B���B0��B��B\u000f[Bʍ�B��zB/�vB\u0007\u001f|B\u001b@yB�9|B�\u000e�B)�yBCHxB\u0003�|B�_{B��|B��~BڅzB��{B��|B�vtBL�rB�QqBp�rB�zkBN�iB(�jBŮlB�ffB=:lB�\u000b",
      "lB�lpB.�hB\r\n",
      "�jB\u0006\f",
      "dBX�aB�\tcBV\u001ahB�OcBW�jB��nBE#hB��dB/�kB�eiB�\u0012nB�\bpB�bnB�7qB7JuB\u000e�xB<�uB\u001f�eB�BgB\r\n",
      "�aB��`B\u001c",
      "\u0012_BF\\^B0qYB��WB\u0018�VBI�YB�?[BN�bBػfBU�aB-J_B��dBB)iB��bB��cB��^B|�dBf�cB\u000e\u001e",
      "kB�IlB70lB�\u000fmB��aBѱ]B\u0000lbB\u0006pcB�idB�nhB._B��\\B[�^Brh`B��XB1�WB+�VBq�UB��VBA\r\n",
      "aB[�aB�lbB�zaB�CeB�fdB��bB��bB�!eB\u0006$]BƢZB�E[B\u0017`kB�#nB�SmB��jB� sB�#uB��tB�GyB\b�sB[�rB-�nB+\u0006uB��xB-�qB9�nB\u0014ksBI�vBP�tBg�vB\u0001�qBƑyB�ozB�s|B��nB��kB�\u0002nB5EqB*XuB\u001e",
      "�pB\u001e",
      "�oB��qB%�oB��iB�ghB��fBK\u0012jB\u0003BfB�RkB��gB�pB�xsB��qB�\u0011pB�wB0ayB��xBu�yB�oxBc;xB��B�m�Bs$�B�aoBD�mB�zoBŐpBKwmB��nBa\u0013pB�ltBJ'oBR�nB��pB[�jBY�oBl�vBo\bxBG�xB�lxB�mgB�dB+\u0019eB��gB�O_B`�]Bt\u0016^B_�_Bm5`B\u0014�XB�VBʈYB�_QB\u001c",
      "3OB�_OB8)JB��FB��HB\u0019�DB�\u0000MB��KBoCRB'WUB��SBE0\\B��WB\u0006P^B2�aB�*\\B\u0015�WB{�^Bs\u0003cB�]B�\u0006]B�[^B>�^B�\u0013WBl�TB�;TB�\\Bk�XB�`B\u0019\u0006dB�LaB#V`B��fB\u000b",
      "<hB{�fBıkBi�kB��pB-�pB�\"tBfvqBepkB`�gB�bnB��kB-*]B�ZBhl\\B�\f",
      "_BO�XB�\u001e",
      "YBgBYBz\u0011YB��UB�\u0015^B9�aB�G]B�pYB9�`B~�]B\u0006�^B4\u0000`B�hbB~=[B\u0007�RBu�OB[�QBU�TB�hLB\u0005)IB�{LB�;PB\r\n",
      "XIB\u000f0KB�\f",
      "GB�)MB�KB��GBQ�PB�5QB[�SB\u0004\u001aKB~�FB�\u0004OB��RB�fNB��JB�\u001d",
      "SB\u0010�VB\t)SB�(SB�DOB\u0000OTB6�VB��UB�*VB�^\\Bg�]B��_B�x^B��ZBNeaB\u0011�dB�\u001c",
      "fBz�gB�iNBEzLB0�PB��RB\u000b",
      "5PB\u001e",
      "�PB}�TBJsXB)hTB�WTB�3XBw�PB-zSB�\bUB~�PBh�JB4\u0002HB\u00000HB��JB;�BBnmBB�\u001d",
      "BB�zEB\u0012�AB��<B��=B8s9B\u001a�;B0:;B��>B|�6BG�3B\b�6B�6B\u000e�9B��6BPK3B�P>B��9B3�?B�MBB�4<B\u001f\b8B�p>B�J>B��BB�P;B\u000f^6B��=B\u000fr<B�V8BR\u0013AB�EDB�\u0001BB�\u000fAB>\u0003HB\r",
      "�IB��IB|(JBg�FB\u0014VJB�ZOB#�PB��QB\r\n",
      "�NB/{QB\f",
      "�KB�;IB��IB��FB�?KB\u001f�LB�PHB�@>B��:B�'>B��@B\u001d",
      "G:Bjr:B��;B8\u000e<B��8B�lAB}1AB7BDB�kCBN|@B\u0010�HB_nJB�^KB\b24B��0B\u0011�2Bˀ5B\r\n",
      "�-Bu�*B*�,B��/BM�(B��,B�.2BT�+B�\u0004'B�^/B�2B�J.B��)B�T1Bz\u00000B2�/B��7B�\u00119B��8B�I:By/9B\b?9B\u000f\u001e",
      "@B�?BB+1CB̃AB��=Bi>DB�\u0000HB�\r",
      "IB|�JB1�/B �-B-e3B%�4B,�4B�d4B�\u000f9B�#1B\u0002�/B�\u001d",
      "0B-�1B��-B��*B\u0000(+B)U.BF�)B�h&BB�'B5�#B�a\"B�� B|1'B?\u001b\"B��#B��\u001e",
      "B�8!B�[2B�C4B��3B�c2B��7BI�;B\\\u00158B��8B�\u00025B�!=B��<B@�=B�\u000fBB�jCB|�DB\u0010�5Bb�2Bd|8B��;B�S6B}\u001d",
      "4B\u0003�2B 5B��1B�&-B5�-B��*Boa'B=�-B�\r\n",
      "*B�j)B�q+BN�%B\"�(B�k:BH)9BT�?B �@B�\u0017CBx�BB��HB��HBN�LB4^LBI*LB\u00151QB�PJB��LBöFB4,MB�NB+�JB��PB\u001c",
      "�AB&�?B�BB��DBg�@B��<B�hAB�gEB��?B�t?BP.DBCpCB�)HB�9IB�GJBP�IB�|PB�(QB��QB;oSBL�UB\u0001rGB�\u000eIB:\u001fDB\u0014�BB&�BB�cFB��AB��=Bz�@B��EB��FB�CB9�JB�_MBF\u001fLB�H>BS\u000b",
      ":B��>BE�BB`G:Bߖ6B��9B�l:BG�<B�}4BN�0B�94BB�0B@O7B�\u0018;B\u001e",
      "y?B�\u00017B�x3BL\b7B\u001f�:B��2B��.B�\u001b3BT(3B��7B0A;BH�8B\f",
      "n<B\u000eJ4B��4B%//B��+B��.B8�*B7Y6BE�2B�4:B\u000f�=B�,:B\u0003�9B2\u0016@B}�BB��@B!\u0014AB5\u0014>B�\u001b6B\"�4B�\f",
      "4B\u001d",
      "a5BU�0B�`-B�.B.�,B��+B��2B�k1B?;4B��8B<\u00172B�0.B׺5BT�8B��1B\u0013\u00170BG�.B�C4B�\u00196Bb\u001a7B�.0B-�/B&�,BS�1B0\u000b",
      "5BtP/B\u0010\\+B\bd*B�X)B�,1BE]3B��.BJ�7B\u00148<BV�4B�A1B)M6B�\u001f7B�]1B)!1B�w2B�~-BUT;B\u0012P>B˹<B��9B\u0013�AB��BB3�@Bv�DBH�>B��>B,,FBK�JB�#EB�6ABT�HB5�LB\u001f�FBX3CBe�IB�EBrCBBk�CBN)GB�\u001bBB6�@B\u0001�IB��MB\u001e",
      "�IB��IB�WJB�\tOBŉFB��BB\u000b",
      "oGB�\u000eIBp\r",
      "BBKS?B<\u000eCB3d?BQ\u001aBB)M>B�!:B��7B�X8B�bKBuwNBd�JB�_HB\u0000>NBI�NB3�KB��GBB�LB3�MB��SB��WB5�SB�|PB��XB��ZB\u0006\u0005WBƏSB��UBs\u0019[B��]BM�]B,\"`B��`B\u001bdZBlsXB��XB�XTB~:ZB&!\\B\u0011�`B:�YB\u0014\u000fVB��\\B��`Bw�ZB��\\B\u000b",
      "�YB��_B��aB�c_Bna^B��[B�\u0005[B��WB\u001d",
      "�]B��\\Bo�dB��hB5�eB<nbB\t�jBA�mB,aiB��lBI�gB\u000e6dB}�`B��kBU�pBK�hB'YeBZ�jBO�kB6�eB\u001bvdB�1gB��`B2c_B��\\B��^B�\u0016YB��[B��aBh fBH=_B\u0010�`B�ToB�\u0011rB��pB�,nB��uB\u001d",
      "cvB�3uBQKrB��sBOpzB��{B֙}B�Y�B�\u001c",
      "}BϵzBQ\u001e",
      "BE$zB\u0003�vB\r\n",
      "�~B���B\u001e",
      "�|B�mzB�\u0015�B��yB��zB\u0016|vB\u0006�tB\u0014�uBv*�B�w�B\u001b\u001b�BeA}B�̀Be˂Bg&}B��{B�\u0017zB\u001f7~B�szB�G~B23�B�܂BV\u0007�B;\u001c",
      "�B��B�ށB��B\u0007\u000e�B[;�B\u0014��B�R�B\u0006_�B�?�B�߂B���B�$�B���B���B쪆B��B�كB�ÁB]��B�\u000b",
      "�B�/�B��B�ȆB\r",
      "J�B|<�B^��B�\u0019�B\u000e\u0018�B/��BF��B~&�BQ�B�V�B)kyBP.xBʯwB^�wB��wB�>�B\u0012!�B1�B�\f",
      "�Bό�By\u000b",
      "�B���B� �Bf��B�\u001e",
      "�B)��B���B�\u0002�B&��B\u0007��B�\u0013�B�ɄBG�B\u0017'�B���B�q�B^a�B?��B��~B��~B\u0006ŀB,3yB�8wB�\u0004xB\u0002RzB��sB��xB�|uBtBrBF-vB\r",
      "�sBu�zB�V{B8\u000e~B�\u000f~Bɬ�B��|B��B`�vB��yB��qBv�mB�ZmB\u0007�nB�3hB��dBE�gB��hB\r\n"
     ]
    }
   ],
   "source": [
    "!head shmt2.dcd"
   ]
  },
  {
   "cell_type": "code",
   "execution_count": 9,
   "metadata": {
    "slideshow": {
     "slide_type": "slide"
    }
   },
   "outputs": [
    {
     "data": {
      "text/html": [
       "<div id=\"mdsz\" style=\"width: 500px\"></div>\n",
       "<script>\n",
       "$('head').append('<link rel=\"stylesheet\" href=\"http://bits.csb.pitt.edu/asker.js/themes/asker.default.css\" />');\n",
       "\n",
       "    var divid = '#mdsz';\n",
       "\tjQuery(divid).asker({\n",
       "\t    id: divid,\n",
       "\t    question: \"If a trajectory file stores nothing but the single precision (4 byte) coordinates of 1000 frames of a simulation of a 500 atom system, how big is the trajectory file?\",\n",
       "\t\tanswers: [\"0.5 MB\", \"1.5 MB\",\"5.72 MB\",\"6.0 MB\",'16 MB',\"48 MB\"],\n",
       "        server: \"http://bits.csb.pitt.edu/asker.js/example/asker.cgi\",\n",
       "\t\tcharter: chartmaker})\n",
       "    \n",
       " $(\".input .o:contains(html)\").closest('.input').hide();\n",
       "\n",
       "\n",
       "</script>\n"
      ],
      "text/plain": [
       "<IPython.core.display.HTML object>"
      ]
     },
     "metadata": {},
     "output_type": "display_data"
    }
   ],
   "source": [
    "%%html\n",
    "<div id=\"mdsz\" style=\"width: 500px\"></div>\n",
    "<script>\n",
    "$('head').append('<link rel=\"stylesheet\" href=\"http://bits.csb.pitt.edu/asker.js/themes/asker.default.css\" />');\n",
    "\n",
    "    var divid = '#mdsz';\n",
    "\tjQuery(divid).asker({\n",
    "\t    id: divid,\n",
    "\t    question: \"If a trajectory file stores nothing but the single precision (4 byte) coordinates of 1000 frames of a simulation of a 500 atom system, how big is the trajectory file?\",\n",
    "\t\tanswers: [\"0.5 MB\", \"1.5 MB\",\"5.72 MB\",\"6.0 MB\",'16 MB',\"48 MB\"],\n",
    "        server: \"http://bits.csb.pitt.edu/asker.js/example/asker.cgi\",\n",
    "\t\tcharter: chartmaker})\n",
    "    \n",
    " $(\".input .o:contains(html)\").closest('.input').hide();\n",
    "\n",
    "\n",
    "</script>"
   ]
  },
  {
   "cell_type": "markdown",
   "metadata": {
    "slideshow": {
     "slide_type": "slide"
    }
   },
   "source": [
    "# mdanalysis"
   ]
  },
  {
   "cell_type": "markdown",
   "metadata": {},
   "source": [
    "[https://code.google.com/p/mdanalysis/](https://code.google.com/p/mdanalysis/)\n",
    "\n",
    "\"MDAnalysis is an object-oriented python toolkit to analyze molecular dynamics trajectories generated by CHARMM, Gromacs, NAMD, LAMMPS, or Amber.\""
   ]
  },
  {
   "cell_type": "code",
   "execution_count": 11,
   "metadata": {},
   "outputs": [],
   "source": [
    "import MDAnalysis\n",
    "\n",
    "universe = MDAnalysis.Universe('shmt2.prmtop', 'shmt2.dcd')\n"
   ]
  },
  {
   "cell_type": "markdown",
   "metadata": {},
   "source": [
    "MDAnalysis starts with a topology and a trajectory.  "
   ]
  },
  {
   "cell_type": "markdown",
   "metadata": {
    "slideshow": {
     "slide_type": "slide"
    }
   },
   "source": [
    "# Atom Groups"
   ]
  },
  {
   "cell_type": "code",
   "execution_count": 12,
   "metadata": {},
   "outputs": [
    {
     "data": {
      "text/plain": [
       "<AtomGroup with 85695 atoms>"
      ]
     },
     "execution_count": 12,
     "metadata": {},
     "output_type": "execute_result"
    }
   ],
   "source": [
    "universe.atoms"
   ]
  },
  {
   "cell_type": "markdown",
   "metadata": {},
   "source": [
    "You can select a specific group of atoms (very similar to ProDy) using atom selections."
   ]
  },
  {
   "cell_type": "code",
   "execution_count": 13,
   "metadata": {},
   "outputs": [
    {
     "data": {
      "text/plain": [
       "<AtomGroup with 14432 atoms>"
      ]
     },
     "execution_count": 13,
     "metadata": {},
     "output_type": "execute_result"
    }
   ],
   "source": [
    " universe.select_atoms(\"protein\")"
   ]
  },
  {
   "cell_type": "markdown",
   "metadata": {
    "slideshow": {
     "slide_type": "slide"
    }
   },
   "source": [
    "Selections can work directly on AtomGroups"
   ]
  },
  {
   "cell_type": "code",
   "execution_count": 15,
   "metadata": {},
   "outputs": [
    {
     "data": {
      "text/plain": [
       "<AtomGroup with 644 atoms>"
      ]
     },
     "execution_count": 15,
     "metadata": {},
     "output_type": "execute_result"
    }
   ],
   "source": [
    " universe.select_atoms(\"resname PRO\")"
   ]
  },
  {
   "cell_type": "code",
   "execution_count": 17,
   "metadata": {
    "slideshow": {
     "slide_type": "-"
    }
   },
   "outputs": [
    {
     "data": {
      "text/plain": [
       "<AtomGroup with 245 atoms>"
      ]
     },
     "execution_count": 17,
     "metadata": {},
     "output_type": "execute_result"
    }
   ],
   "source": [
    " universe.select_atoms(\"byres around 5 resid 370\")"
   ]
  },
  {
   "cell_type": "code",
   "execution_count": 18,
   "metadata": {},
   "outputs": [
    {
     "data": {
      "text/plain": [
       "<AtomGroup with 209 atoms>"
      ]
     },
     "execution_count": 18,
     "metadata": {},
     "output_type": "execute_result"
    }
   ],
   "source": [
    "prot = universe.select_atoms(\"protein\")\n",
    "prot.select_atoms(\"byres around 5 resid 370\") #select whole residues within 5 of residue 100"
   ]
  },
  {
   "cell_type": "markdown",
   "metadata": {
    "slideshow": {
     "slide_type": "slide"
    }
   },
   "source": [
    "Like ProDy, can iterate over atoms"
   ]
  },
  {
   "cell_type": "code",
   "execution_count": 19,
   "metadata": {},
   "outputs": [
    {
     "name": "stdout",
     "output_type": "stream",
     "text": [
      "<Atom 1: N of type N3 of resname TRP, resid 1 and segid SYSTEM>\n",
      "<Atom 2: H1 of type H of resname TRP, resid 1 and segid SYSTEM>\n",
      "<Atom 3: H2 of type H of resname TRP, resid 1 and segid SYSTEM>\n"
     ]
    }
   ],
   "source": [
    "for a in prot.atoms[:3]:\n",
    "    print(a)"
   ]
  },
  {
   "cell_type": "markdown",
   "metadata": {},
   "source": [
    "Note that atoms retain information about residues (but generally not chains)"
   ]
  },
  {
   "cell_type": "code",
   "execution_count": 20,
   "metadata": {},
   "outputs": [
    {
     "name": "stdout",
     "output_type": "stream",
     "text": [
      "1 TRP 1\n"
     ]
    }
   ],
   "source": [
    "print(a.resid,a.resname,a.resnum)"
   ]
  },
  {
   "cell_type": "markdown",
   "metadata": {
    "slideshow": {
     "slide_type": "slide"
    }
   },
   "source": [
    "## Residues\n",
    "\n",
    "AtomGroups can also be traversed and viewed at a residue level"
   ]
  },
  {
   "cell_type": "code",
   "execution_count": null,
   "metadata": {},
   "outputs": [],
   "source": [
    "prot.residues"
   ]
  },
  {
   "cell_type": "code",
   "execution_count": 22,
   "metadata": {},
   "outputs": [
    {
     "data": {
      "text/html": [
       "<div id=\"mdres\" style=\"width: 500px\"></div>\n",
       "<script>\n",
       "$('head').append('<link rel=\"stylesheet\" href=\"http://bits.csb.pitt.edu/asker.js/themes/asker.default.css\" />');\n",
       "\n",
       "    var divid = '#mdres';\n",
       "\tjQuery(divid).asker({\n",
       "\t    id: divid,\n",
       "\t    question: \"How many residues are there in our shmt2 protein?\",\n",
       "\t\tanswers: [ \"22\",\"924\",\"1024\",\"24681\",\"85695\"],\n",
       "        server: \"http://bits.csb.pitt.edu/asker.js/example/asker.cgi\",\n",
       "\t\tcharter: chartmaker})\n",
       "    \n",
       "$(\".jp-InputArea .o:contains(html)\").closest('.jp-InputArea').hide();\n",
       "\n",
       "\n",
       "</script>\n"
      ],
      "text/plain": [
       "<IPython.core.display.HTML object>"
      ]
     },
     "metadata": {},
     "output_type": "display_data"
    }
   ],
   "source": [
    "%%html\n",
    "<div id=\"mdres\" style=\"width: 500px\"></div>\n",
    "<script>\n",
    "$('head').append('<link rel=\"stylesheet\" href=\"http://bits.csb.pitt.edu/asker.js/themes/asker.default.css\" />');\n",
    "\n",
    "    var divid = '#mdres';\n",
    "\tjQuery(divid).asker({\n",
    "\t    id: divid,\n",
    "\t    question: \"How many residues are there in our shmt2 protein?\",\n",
    "\t\tanswers: [ \"22\",\"924\",\"1024\",\"24681\",\"85695\"],\n",
    "        server: \"http://bits.csb.pitt.edu/asker.js/example/asker.cgi\",\n",
    "\t\tcharter: chartmaker})\n",
    "    \n",
    "$(\".jp-InputArea .o:contains(html)\").closest('.jp-InputArea').hide();\n",
    "\n",
    "\n",
    "</script>"
   ]
  },
  {
   "cell_type": "markdown",
   "metadata": {
    "slideshow": {
     "slide_type": "slide"
    }
   },
   "source": [
    "# Trajectories"
   ]
  },
  {
   "cell_type": "code",
   "execution_count": 23,
   "metadata": {},
   "outputs": [
    {
     "data": {
      "text/plain": [
       "<DCDReader shmt2.dcd with 100 frames of 85695 atoms>"
      ]
     },
     "execution_count": 23,
     "metadata": {},
     "output_type": "execute_result"
    }
   ],
   "source": [
    "universe.trajectory"
   ]
  },
  {
   "cell_type": "markdown",
   "metadata": {},
   "source": [
    "The coordinates of atoms are determined by the current position in the trajectory (`trajectory.frame`)\n",
    "\n",
    "**The coordinates of selections refer to whatever the current trajectory frame is**\n",
    "\n",
    "The current frame is set by iterating over the trajectory or indexing into it."
   ]
  },
  {
   "cell_type": "code",
   "execution_count": 24,
   "metadata": {},
   "outputs": [
    {
     "name": "stdout",
     "output_type": "stream",
     "text": [
      "0 0 4.8888212322065376e-05 [63.06938232 61.67971211 47.8073606 ]\n",
      "1 1 9.777642464413075e-05 [63.0723881  61.69172611 47.80475064]\n",
      "2 2 0.00014666463696619611 [63.05890957 61.67358912 47.8136455 ]\n",
      "3 3 0.0001955528492882615 [63.08430546 61.67402582 47.80758225]\n",
      "4 4 0.0002444410616103269 [63.07228252 61.68630054 47.7999566 ]\n"
     ]
    }
   ],
   "source": [
    "for ts in universe.trajectory[:5]:\n",
    "    print(ts.frame, universe.trajectory.frame, ts.time, prot.center_of_mass())"
   ]
  },
  {
   "cell_type": "markdown",
   "metadata": {
    "slideshow": {
     "slide_type": "slide"
    }
   },
   "source": [
    "# Analysis"
   ]
  },
  {
   "cell_type": "markdown",
   "metadata": {},
   "source": [
    "A number of packages have been contributed to MDAnalysis to perform common tasks."
   ]
  },
  {
   "cell_type": "code",
   "execution_count": 25,
   "metadata": {},
   "outputs": [],
   "source": [
    "import MDAnalysis.analysis"
   ]
  },
  {
   "cell_type": "markdown",
   "metadata": {},
   "source": [
    "`PACKAGE CONTENTS\n",
    "    align - aligning structures\n",
    "    contacts - native contact analysis\n",
    "    density - compute water densities\n",
    "    distances - for computing distances\n",
    "    gnm \n",
    "    hbonds - hydrogen bond analysis\n",
    "    helanal - analysis of helices\n",
    "    hole - for analyzing pores\n",
    "    leaflet\n",
    "    nuclinfo - analysis of nucleic acids\n",
    "    psa - path simularity\n",
    "    rms\n",
    "    waterdynamics - water analysis\n",
    "    x3dna - a different nucleic analysis\n",
    "    `"
   ]
  },
  {
   "cell_type": "markdown",
   "metadata": {
    "slideshow": {
     "slide_type": "slide"
    }
   },
   "source": [
    "# Alignment"
   ]
  },
  {
   "cell_type": "code",
   "execution_count": 26,
   "metadata": {},
   "outputs": [],
   "source": [
    "from MDAnalysis.analysis.align import *"
   ]
  },
  {
   "cell_type": "markdown",
   "metadata": {},
   "source": [
    "Can align a single structure with `alignto`\n",
    "\n",
    "Use `AlignTraj` to align and write out a full trajectory (trajectories are not kept in memory)"
   ]
  },
  {
   "cell_type": "code",
   "execution_count": 27,
   "metadata": {
    "slideshow": {
     "slide_type": "-"
    }
   },
   "outputs": [
    {
     "data": {
      "text/plain": [
       "<MDAnalysis.analysis.align.AlignTraj at 0x7fc46a3aa460>"
      ]
     },
     "execution_count": 27,
     "metadata": {},
     "output_type": "execute_result"
    }
   ],
   "source": [
    "universe.trajectory[0]\n",
    "#if we align to ourselves, will fit to current frame\n",
    "alignment = AlignTraj(universe, universe, select='protein',filename='rmsfit.dcd')\n",
    "alignment.run()"
   ]
  },
  {
   "cell_type": "markdown",
   "metadata": {
    "slideshow": {
     "slide_type": "slide"
    }
   },
   "source": [
    "# MDAnalysis.rms"
   ]
  },
  {
   "cell_type": "code",
   "execution_count": 28,
   "metadata": {},
   "outputs": [],
   "source": [
    "from MDAnalysis.analysis.rms import *  #this pulls in an rmsd function"
   ]
  },
  {
   "cell_type": "markdown",
   "metadata": {},
   "source": [
    "Root mean squared deviation (RMSD)\n",
    "$$\\sqrt{\\frac{\\sum_i^n(x_i^a-x_i^b)^2+(y_i^a-y_i^b)^2+(z_i^a-z_i^b)^2}{n}}$$"
   ]
  },
  {
   "cell_type": "code",
   "execution_count": 29,
   "metadata": {
    "slideshow": {
     "slide_type": "slide"
    }
   },
   "outputs": [
    {
     "data": {
      "text/plain": [
       "array([[67.44726 , 79.259   , 22.918747],\n",
       "       [68.181496, 78.82586 , 22.377106],\n",
       "       [67.914246, 80.0178  , 23.394417],\n",
       "       ...,\n",
       "       [54.802658, 77.382744, 36.064526],\n",
       "       [55.336662, 76.558395, 36.86686 ],\n",
       "       [55.43933 , 77.794464, 35.015507]], dtype=float32)"
      ]
     },
     "execution_count": 29,
     "metadata": {},
     "output_type": "execute_result"
    }
   ],
   "source": [
    "universe.trajectory[0] #sets the current frame to the start\n",
    "refcoord = prot.positions # once stored, _coordinates_ do NOT change with trajectory\n",
    "refcoord"
   ]
  },
  {
   "cell_type": "code",
   "execution_count": 30,
   "metadata": {},
   "outputs": [
    {
     "name": "stdout",
     "output_type": "stream",
     "text": [
      "2.3666243947311068\n"
     ]
    }
   ],
   "source": [
    "universe.trajectory[-1] #last frame\n",
    "print(rmsd(refcoord,prot.positions))"
   ]
  },
  {
   "cell_type": "markdown",
   "metadata": {
    "slideshow": {
     "slide_type": "slide"
    }
   },
   "source": [
    "Plot both the all-protein and calpha only (`name CA`) rmsd with the first frame."
   ]
  },
  {
   "cell_type": "code",
   "execution_count": 31,
   "metadata": {
    "slideshow": {
     "slide_type": "-"
    }
   },
   "outputs": [],
   "source": [
    "universe.trajectory[0]\n",
    "protref = prot.positions\n",
    "caref = prot.select_atoms('name CA').positions"
   ]
  },
  {
   "cell_type": "code",
   "execution_count": 32,
   "metadata": {
    "slideshow": {
     "slide_type": "-"
    }
   },
   "outputs": [],
   "source": [
    "protrmsd = []\n",
    "carmsd = []\n",
    "for ts in universe.trajectory:\n",
    "    protrmsd.append(rmsd(protref,prot.positions))\n",
    "    carmsd.append(rmsd(caref,prot.select_atoms('name CA').positions))"
   ]
  },
  {
   "cell_type": "code",
   "execution_count": 33,
   "metadata": {
    "slideshow": {
     "slide_type": "skip"
    }
   },
   "outputs": [],
   "source": [
    "import matplotlib.pylab as plt\n",
    "%matplotlib inline"
   ]
  },
  {
   "cell_type": "code",
   "execution_count": 34,
   "metadata": {
    "slideshow": {
     "slide_type": "-"
    }
   },
   "outputs": [
    {
     "data": {
      "image/png": "[encoded data removed]",
      "text/plain": [
       "<Figure size 432x288 with 1 Axes>"
      ]
     },
     "metadata": {
      "needs_background": "light"
     },
     "output_type": "display_data"
    }
   ],
   "source": [
    "n = universe.trajectory.n_frames\n",
    "plt.plot(range(n),protrmsd,range(n),carmsd)\n",
    "plt.xlabel(\"Frame #\")\n",
    "plt.ylabel('RMSD')\n",
    "plt.legend(['Protein','CA'],loc='lower right');"
   ]
  },
  {
   "cell_type": "code",
   "execution_count": 35,
   "metadata": {
    "slideshow": {
     "slide_type": "slide"
    }
   },
   "outputs": [
    {
     "data": {
      "text/html": [
       "<div id=\"mdtri\" style=\"width: 500px\"></div>\n",
       "<script>\n",
       "$('head').append('<link rel=\"stylesheet\" href=\"http://bits.csb.pitt.edu/asker.js/themes/asker.default.css\" />');\n",
       "\n",
       "    var divid = '#mdtri';\n",
       "\tjQuery(divid).asker({\n",
       "\t    id: divid,\n",
       "\t    question: \"If frame 40 is ~2 RMSD from the start and frame 80 is ~2 RMSD from the start. What can be said about the RMSD between frames 40 and 80?\",\n",
       "\t\tanswers: ['It is ~0', 'It is < ~2','It is < ~4','Nothing'],\n",
       "        server: \"http://bits.csb.pitt.edu/asker.js/example/asker.cgi\",\n",
       "\t\tcharter: chartmaker})\n",
       "    \n",
       "$(\".jp-InputArea .o:contains(html)\").closest('.jp-InputArea').hide();\n",
       "\n",
       "\n",
       "</script>\n"
      ],
      "text/plain": [
       "<IPython.core.display.HTML object>"
      ]
     },
     "metadata": {},
     "output_type": "display_data"
    }
   ],
   "source": [
    "%%html\n",
    "<div id=\"mdtri\" style=\"width: 500px\"></div>\n",
    "<script>\n",
    "$('head').append('<link rel=\"stylesheet\" href=\"http://bits.csb.pitt.edu/asker.js/themes/asker.default.css\" />');\n",
    "\n",
    "    var divid = '#mdtri';\n",
    "\tjQuery(divid).asker({\n",
    "\t    id: divid,\n",
    "\t    question: \"If frame 40 is ~2 RMSD from the start and frame 80 is ~2 RMSD from the start. What can be said about the RMSD between frames 40 and 80?\",\n",
    "\t\tanswers: ['It is ~0', 'It is < ~2','It is < ~4','Nothing'],\n",
    "        server: \"http://bits.csb.pitt.edu/asker.js/example/asker.cgi\",\n",
    "\t\tcharter: chartmaker})\n",
    "    \n",
    "$(\".jp-InputArea .o:contains(html)\").closest('.jp-InputArea').hide();\n",
    "\n",
    "\n",
    "</script>"
   ]
  },
  {
   "cell_type": "markdown",
   "metadata": {
    "slideshow": {
     "slide_type": "slide"
    }
   },
   "source": [
    "# Project\n",
    "\n",
    "* Compute RMSDs\n",
    " * between frame 0 and frame 40\n",
    " * between frame 40 and frame 80\n",
    " * between frame 0 and frame 80\n",
    "* Compute all RMSDs (put in a list)\n",
    " * to starting frame\n",
    " * to ending frame\n",
    "* Plot start/end RMSDs\n",
    "* Align protein to only resids 760-924, redo above"
   ]
  },
  {
   "cell_type": "code",
   "execution_count": null,
   "metadata": {},
   "outputs": [],
   "source": [
    "!wget https://asinansaglam.github.io/python_bio_2022/files/shmt2.prmtop\n",
    "!wget https://asinansaglam.github.io/python_bio_2022/files/shmt2.dcd"
   ]
  },
  {
   "cell_type": "code",
   "execution_count": 36,
   "metadata": {
    "slideshow": {
     "slide_type": "notes"
    }
   },
   "outputs": [],
   "source": [
    "import MDAnalysis\n",
    "from MDAnalysis.analysis.rms import *  #this pulls in an rmsd function\n",
    "\n",
    "universe = MDAnalysis.Universe('shmt2.prmtop', 'shmt2.dcd')\n",
    "prot = universe.select_atoms('protein')\n",
    "\n",
    "startref = prot.positions\n",
    "universe.trajectory[-1]\n",
    "endref = prot.positions  \n",
    "\n",
    "startrmsd = []\n",
    "endrmsd = []\n",
    "for ts in universe.trajectory:\n",
    "    startrmsd.append(rmsd(startref,prot.positions))\n",
    "    endrmsd.append(rmsd(endref,prot.positions))"
   ]
  }
 ],
 "metadata": {
  "celltoolbar": "Slideshow",
  "kernelspec": {
   "display_name": "Python 3",
   "language": "python",
   "name": "python3"
  },
  "language_info": {
   "codemirror_mode": {
    "name": "ipython",
    "version": 3
   },
   "file_extension": ".py",
   "mimetype": "text/x-python",
   "name": "python",
   "nbconvert_exporter": "python",
   "pygments_lexer": "ipython3",
   "version": "3.8.9"
  },
  "widgets": {
   "state": {},
   "version": "1.1.1"
  }
 },
 "nbformat": 4,
 "nbformat_minor": 1
}
