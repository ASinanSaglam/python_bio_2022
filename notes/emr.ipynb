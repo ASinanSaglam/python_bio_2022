{
 "cells": [
  {
   "cell_type": "markdown",
   "metadata": {
    "slideshow": {
     "slide_type": "slide"
    }
   },
   "source": [
    "# Electronic Medical Records with Pandas\n",
    "## 11/9/2021\n",
    "<a href=\"?print-pdf\">print view</a>\n",
    "\n",
    "<img src=\"https://media4.s-nbcnews.com/j/newscms/2016_36/1685951/ss-160826-twip-05_8cf6d4cb83758449fd400c7c3d71aa1f.nbcnews-ux-2880-1000.jpg\" width=\"400\">"
   ]
  },
  {
   "cell_type": "code",
   "execution_count": 1,
   "metadata": {},
   "outputs": [
    {
     "data": {
      "text/html": [
       "<script src=\"http://bits.csb.pitt.edu/asker.js/lib/asker.js\"></script>\n",
       "<style>\n",
       ".reveal .highlight pre { font-size: 100%}\n",
       ".reveal .slides>section>section.present { max-height: 100%; overflow-y: auto;}\n",
       "</style>\n",
       "\n",
       "<script>\n",
       "$3Dmolpromise = new Promise((resolve, reject) => { \n",
       "    require(['https://3dmol.org/build/3Dmol-nojquery.js'], function(){       \n",
       "            resolve();});\n",
       "});\n",
       "\n",
       "require(['https://cdnjs.cloudflare.com/ajax/libs/Chart.js/2.2.2/Chart.js'], function(Ch){\n",
       " Chart = Ch;\n",
       "});\n",
       "\n",
       "$('head').append('<link rel=\"stylesheet\" href=\"http://bits.csb.pitt.edu/asker.js/themes/asker.default.css\" />');\n",
       "\n",
       "\n",
       "//the callback is provided a canvas object and data \n",
       "var chartmaker = function(canvas, labels, data) {\n",
       "  var ctx = $(canvas).get(0).getContext(\"2d\");\n",
       "     var dataset = {labels: labels,                     \n",
       "    datasets:[{\n",
       "     data: data,\n",
       "     backgroundColor: \"rgba(150,64,150,0.5)\",\n",
       "         fillColor: \"rgba(150,64,150,0.8)\",    \n",
       "  }]};\n",
       "  var myBarChart = new Chart(ctx,{type:'bar',data:dataset,options:{legend: {display:false},\n",
       "        scales: {\n",
       "            yAxes: [{\n",
       "                ticks: {\n",
       "                    min: 0,\n",
       "                }\n",
       "            }]}}});\n",
       "};\n",
       "\n",
       "$(\".jp-InputArea .o:contains(html)\").closest('.jp-InputArea').hide();\n",
       "\n",
       "\n",
       "</script>\n"
      ],
      "text/plain": [
       "<IPython.core.display.HTML object>"
      ]
     },
     "metadata": {},
     "output_type": "display_data"
    }
   ],
   "source": [
    "%%html\n",
    "<script src=\"http://bits.csb.pitt.edu/asker.js/lib/asker.js\"></script>\n",
    "<style>\n",
    ".reveal .highlight pre { font-size: 100%}\n",
    ".reveal .slides>section>section.present { max-height: 100%; overflow-y: auto;}\n",
    "</style>\n",
    "\n",
    "<script>\n",
    "$3Dmolpromise = new Promise((resolve, reject) => { \n",
    "    require(['https://3dmol.org/build/3Dmol-nojquery.js'], function(){       \n",
    "            resolve();});\n",
    "});\n",
    "\n",
    "require(['https://cdnjs.cloudflare.com/ajax/libs/Chart.js/2.2.2/Chart.js'], function(Ch){\n",
    " Chart = Ch;\n",
    "});\n",
    "\n",
    "$('head').append('<link rel=\"stylesheet\" href=\"http://bits.csb.pitt.edu/asker.js/themes/asker.default.css\" />');\n",
    "\n",
    "\n",
    "//the callback is provided a canvas object and data \n",
    "var chartmaker = function(canvas, labels, data) {\n",
    "  var ctx = $(canvas).get(0).getContext(\"2d\");\n",
    "     var dataset = {labels: labels,                     \n",
    "    datasets:[{\n",
    "     data: data,\n",
    "     backgroundColor: \"rgba(150,64,150,0.5)\",\n",
    "         fillColor: \"rgba(150,64,150,0.8)\",    \n",
    "  }]};\n",
    "  var myBarChart = new Chart(ctx,{type:'bar',data:dataset,options:{legend: {display:false},\n",
    "        scales: {\n",
    "            yAxes: [{\n",
    "                ticks: {\n",
    "                    min: 0,\n",
    "                }\n",
    "            }]}}});\n",
    "};\n",
    "\n",
    "$(\".jp-InputArea .o:contains(html)\").closest('.jp-InputArea').hide();\n",
    "\n",
    "\n",
    "</script>\n"
   ]
  },
  {
   "cell_type": "markdown",
   "metadata": {
    "slideshow": {
     "slide_type": "slide"
    }
   },
   "source": [
    "http://www.npr.org/sections/health-shots/2015/10/30/452853785/medical-students-crunch-big-data-to-spot-health-trends"
   ]
  },
  {
   "cell_type": "markdown",
   "metadata": {
    "slideshow": {
     "slide_type": "slide"
    }
   },
   "source": [
    "# The Data\n",
    "\n",
    "Download this:\n",
    "https://asinansaglam.github.io/python_bio_2022/files/Hospital_Inpatient_Discharges__SPARCS_De-Identified___2014.csv\n",
    "\n",
    "Go here:\n",
    "http://education.med.nyu.edu/ace/sparcs/\n"
   ]
  },
  {
   "cell_type": "code",
   "execution_count": 2,
   "metadata": {
    "slideshow": {
     "slide_type": "skip"
    }
   },
   "outputs": [
    {
     "name": "stdout",
     "output_type": "stream",
     "text": [
      "--2021-11-09 08:10:38--  https://asinansaglam.github.io/python_bio_2022/files/Hospital_Inpatient_Discharges__SPARCS_De-Identified___2014.csv\n",
      "Resolving mscbio2025.csb.pitt.edu (mscbio2025.csb.pitt.edu)... 136.142.4.139\n",
      "Connecting to mscbio2025.csb.pitt.edu (mscbio2025.csb.pitt.edu)|136.142.4.139|:80... connected.\n",
      "HTTP request sent, awaiting response... 200 OK\n",
      "Length: 952014348 (908M) [text/csv]\n",
      "Saving to: ‘Hospital_Inpatient_Discharges__SPARCS_De-Identified___2014.csv’\n",
      "\n",
      "Hospital_Inpatient_ 100%[===================>] 907.91M  89.8MB/s    in 10s     \n",
      "\n",
      "2021-11-09 08:10:48 (89.7 MB/s) - ‘Hospital_Inpatient_Discharges__SPARCS_De-Identified___2014.csv’ saved [952014348/952014348]\n",
      "\n"
     ]
    }
   ],
   "source": [
    "!wget https://asinansaglam.github.io/python_bio_2022/files/Hospital_Inpatient_Discharges__SPARCS_De-Identified___2014.csv"
   ]
  },
  {
   "cell_type": "code",
   "execution_count": 57,
   "metadata": {
    "slideshow": {
     "slide_type": "slide"
    }
   },
   "outputs": [
    {
     "name": "stdout",
     "output_type": "stream",
     "text": [
      "37\n",
      "38\n",
      "37\n",
      "38\n",
      "38\n",
      "40\n",
      "37\n",
      "37\n",
      "38\n",
      "37\n",
      "37\n"
     ]
    }
   ],
   "source": [
    "f = open('Hospital_Inpatient_Discharges__SPARCS_De-Identified___2014.csv')\n",
    "i = 0\n",
    "for line in f:\n",
    "    row = line.split(',')\n",
    "    print(len(row))\n",
    "    i += 1\n",
    "    if i > 10:\n",
    "        break"
   ]
  },
  {
   "cell_type": "markdown",
   "metadata": {},
   "source": [
    "What's wrong? Why (look at the data)?  How do we fix it?"
   ]
  },
  {
   "cell_type": "markdown",
   "metadata": {
    "slideshow": {
     "slide_type": "slide"
    }
   },
   "source": [
    "# Possible Fix\n",
    "Use the python [csv](https://docs.python.org/2/library/csv.html) module to read the file."
   ]
  },
  {
   "cell_type": "code",
   "execution_count": 58,
   "metadata": {},
   "outputs": [
    {
     "name": "stdout",
     "output_type": "stream",
     "text": [
      "37\n",
      "37\n",
      "37\n",
      "37\n",
      "37\n",
      "37\n",
      "37\n",
      "37\n",
      "37\n",
      "37\n",
      "37\n"
     ]
    }
   ],
   "source": [
    "import csv\n",
    "f = open('Hospital_Inpatient_Discharges__SPARCS_De-Identified___2014.csv')\n",
    "reader = csv.reader(f)\n",
    "i = 0\n",
    "for row in reader:\n",
    "    print(len(row))\n",
    "    i += 1\n",
    "    if i > 10:\n",
    "        break"
   ]
  },
  {
   "cell_type": "markdown",
   "metadata": {},
   "source": [
    "*or...*"
   ]
  },
  {
   "cell_type": "markdown",
   "metadata": {
    "slideshow": {
     "slide_type": "slide"
    }
   },
   "source": [
    "# `pandas`\n",
    "\n",
    "http://pandas.pydata.org/index.html\n",
    "\n",
    "pandas is a Python package providing fast, flexible, and expressive data structures designed to make working with “relational” or “labeled” data both easy and intuitive.\n",
    "\n",
    "Basically, if you have a big spreadsheet of data with **mixed types**.\n"
   ]
  },
  {
   "cell_type": "code",
   "execution_count": 59,
   "metadata": {
    "slideshow": {
     "slide_type": "slide"
    }
   },
   "outputs": [
    {
     "name": "stderr",
     "output_type": "stream",
     "text": [
      "/usr/local/lib/python3.8/dist-packages/IPython/core/interactiveshell.py:3441: DtypeWarning: Columns (10) have mixed types.Specify dtype option on import or set low_memory=False.\n",
      "  exec(code_obj, self.user_global_ns, self.user_ns)\n"
     ]
    }
   ],
   "source": [
    "#usecols only extracts those columns - much faster\n",
    "import pandas as pd\n",
    "data = pd.read_csv('Hospital_Inpatient_Discharges__SPARCS_De-Identified___2014.csv',usecols=[3,7,10,14,15,16,17,29,30,35])"
   ]
  },
  {
   "cell_type": "markdown",
   "metadata": {},
   "source": [
    "**Note:** This is a *large* dataset so I am preemptively selecting a subset of columns.  Try to avoid loading this data more than once as it may take up all your memory and you'll have to restart the python kernel"
   ]
  },
  {
   "cell_type": "code",
   "execution_count": 60,
   "metadata": {},
   "outputs": [
    {
     "data": {
      "text/html": [
       "<div>\n",
       "<style scoped>\n",
       "    .dataframe tbody tr th:only-of-type {\n",
       "        vertical-align: middle;\n",
       "    }\n",
       "\n",
       "    .dataframe tbody tr th {\n",
       "        vertical-align: top;\n",
       "    }\n",
       "\n",
       "    .dataframe thead th {\n",
       "        text-align: right;\n",
       "    }\n",
       "</style>\n",
       "<table border=\"1\" class=\"dataframe\">\n",
       "  <thead>\n",
       "    <tr style=\"text-align: right;\">\n",
       "      <th></th>\n",
       "      <th>Facility ID</th>\n",
       "      <th>Gender</th>\n",
       "      <th>Length of Stay</th>\n",
       "      <th>CCS Diagnosis Code</th>\n",
       "      <th>CCS Diagnosis Description</th>\n",
       "      <th>CCS Procedure Code</th>\n",
       "      <th>CCS Procedure Description</th>\n",
       "      <th>Attending Provider License Number</th>\n",
       "      <th>Operating Provider License Number</th>\n",
       "      <th>Total Charges</th>\n",
       "    </tr>\n",
       "  </thead>\n",
       "  <tbody>\n",
       "    <tr>\n",
       "      <th>0</th>\n",
       "      <td>37.0</td>\n",
       "      <td>F</td>\n",
       "      <td>8</td>\n",
       "      <td>197</td>\n",
       "      <td>Skin and subcutaneous tissue infections</td>\n",
       "      <td>0</td>\n",
       "      <td>NO PROC</td>\n",
       "      <td>90335341.0</td>\n",
       "      <td>NaN</td>\n",
       "      <td>$9546.85</td>\n",
       "    </tr>\n",
       "    <tr>\n",
       "      <th>1</th>\n",
       "      <td>37.0</td>\n",
       "      <td>F</td>\n",
       "      <td>3</td>\n",
       "      <td>146</td>\n",
       "      <td>Diverticulosis and diverticulitis</td>\n",
       "      <td>0</td>\n",
       "      <td>NO PROC</td>\n",
       "      <td>90335341.0</td>\n",
       "      <td>NaN</td>\n",
       "      <td>$11462.75</td>\n",
       "    </tr>\n",
       "    <tr>\n",
       "      <th>2</th>\n",
       "      <td>37.0</td>\n",
       "      <td>M</td>\n",
       "      <td>1</td>\n",
       "      <td>50</td>\n",
       "      <td>Diabetes mellitus with complications</td>\n",
       "      <td>202</td>\n",
       "      <td>ELECTROCARDIOGRAM</td>\n",
       "      <td>90335341.0</td>\n",
       "      <td>167816.0</td>\n",
       "      <td>$1609.40</td>\n",
       "    </tr>\n",
       "    <tr>\n",
       "      <th>3</th>\n",
       "      <td>37.0</td>\n",
       "      <td>F</td>\n",
       "      <td>1</td>\n",
       "      <td>154</td>\n",
       "      <td>Noninfectious gastroenteritis</td>\n",
       "      <td>202</td>\n",
       "      <td>ELECTROCARDIOGRAM</td>\n",
       "      <td>90335341.0</td>\n",
       "      <td>167816.0</td>\n",
       "      <td>$2638.75</td>\n",
       "    </tr>\n",
       "    <tr>\n",
       "      <th>4</th>\n",
       "      <td>37.0</td>\n",
       "      <td>F</td>\n",
       "      <td>3</td>\n",
       "      <td>124</td>\n",
       "      <td>Acute and chronic tonsillitis</td>\n",
       "      <td>0</td>\n",
       "      <td>NO PROC</td>\n",
       "      <td>90335341.0</td>\n",
       "      <td>NaN</td>\n",
       "      <td>$3538.25</td>\n",
       "    </tr>\n",
       "    <tr>\n",
       "      <th>...</th>\n",
       "      <td>...</td>\n",
       "      <td>...</td>\n",
       "      <td>...</td>\n",
       "      <td>...</td>\n",
       "      <td>...</td>\n",
       "      <td>...</td>\n",
       "      <td>...</td>\n",
       "      <td>...</td>\n",
       "      <td>...</td>\n",
       "      <td>...</td>\n",
       "    </tr>\n",
       "    <tr>\n",
       "      <th>2367278</th>\n",
       "      <td>943.0</td>\n",
       "      <td>F</td>\n",
       "      <td>1</td>\n",
       "      <td>245</td>\n",
       "      <td>Syncope</td>\n",
       "      <td>0</td>\n",
       "      <td>NO PROC</td>\n",
       "      <td>156102.0</td>\n",
       "      <td>NaN</td>\n",
       "      <td>$10074.00</td>\n",
       "    </tr>\n",
       "    <tr>\n",
       "      <th>2367279</th>\n",
       "      <td>943.0</td>\n",
       "      <td>M</td>\n",
       "      <td>1</td>\n",
       "      <td>149</td>\n",
       "      <td>Biliary tract disease</td>\n",
       "      <td>0</td>\n",
       "      <td>NO PROC</td>\n",
       "      <td>267443.0</td>\n",
       "      <td>NaN</td>\n",
       "      <td>$21252.00</td>\n",
       "    </tr>\n",
       "    <tr>\n",
       "      <th>2367280</th>\n",
       "      <td>943.0</td>\n",
       "      <td>F</td>\n",
       "      <td>1</td>\n",
       "      <td>102</td>\n",
       "      <td>Nonspecific chest pain</td>\n",
       "      <td>0</td>\n",
       "      <td>NO PROC</td>\n",
       "      <td>267443.0</td>\n",
       "      <td>NaN</td>\n",
       "      <td>$11673.00</td>\n",
       "    </tr>\n",
       "    <tr>\n",
       "      <th>2367281</th>\n",
       "      <td>943.0</td>\n",
       "      <td>F</td>\n",
       "      <td>1</td>\n",
       "      <td>660</td>\n",
       "      <td>Alcohol-related disorders</td>\n",
       "      <td>171</td>\n",
       "      <td>SUTURE SKIN/SUBCUT TISS</td>\n",
       "      <td>267443.0</td>\n",
       "      <td>249597.0</td>\n",
       "      <td>$16722.00</td>\n",
       "    </tr>\n",
       "    <tr>\n",
       "      <th>2367282</th>\n",
       "      <td>943.0</td>\n",
       "      <td>M</td>\n",
       "      <td>1</td>\n",
       "      <td>2</td>\n",
       "      <td>Septicemia (except in labor)</td>\n",
       "      <td>0</td>\n",
       "      <td>NO PROC</td>\n",
       "      <td>251080.0</td>\n",
       "      <td>NaN</td>\n",
       "      <td>$11637.00</td>\n",
       "    </tr>\n",
       "  </tbody>\n",
       "</table>\n",
       "<p>2367283 rows × 10 columns</p>\n",
       "</div>"
      ],
      "text/plain": [
       "         Facility ID Gender Length of Stay  CCS Diagnosis Code  \\\n",
       "0               37.0      F              8                 197   \n",
       "1               37.0      F              3                 146   \n",
       "2               37.0      M              1                  50   \n",
       "3               37.0      F              1                 154   \n",
       "4               37.0      F              3                 124   \n",
       "...              ...    ...            ...                 ...   \n",
       "2367278        943.0      F              1                 245   \n",
       "2367279        943.0      M              1                 149   \n",
       "2367280        943.0      F              1                 102   \n",
       "2367281        943.0      F              1                 660   \n",
       "2367282        943.0      M              1                   2   \n",
       "\n",
       "                       CCS Diagnosis Description  CCS Procedure Code  \\\n",
       "0        Skin and subcutaneous tissue infections                   0   \n",
       "1              Diverticulosis and diverticulitis                   0   \n",
       "2           Diabetes mellitus with complications                 202   \n",
       "3                  Noninfectious gastroenteritis                 202   \n",
       "4                  Acute and chronic tonsillitis                   0   \n",
       "...                                          ...                 ...   \n",
       "2367278                                  Syncope                   0   \n",
       "2367279                    Biliary tract disease                   0   \n",
       "2367280                   Nonspecific chest pain                   0   \n",
       "2367281                Alcohol-related disorders                 171   \n",
       "2367282             Septicemia (except in labor)                   0   \n",
       "\n",
       "        CCS Procedure Description  Attending Provider License Number  \\\n",
       "0                         NO PROC                         90335341.0   \n",
       "1                         NO PROC                         90335341.0   \n",
       "2               ELECTROCARDIOGRAM                         90335341.0   \n",
       "3               ELECTROCARDIOGRAM                         90335341.0   \n",
       "4                         NO PROC                         90335341.0   \n",
       "...                           ...                                ...   \n",
       "2367278                   NO PROC                           156102.0   \n",
       "2367279                   NO PROC                           267443.0   \n",
       "2367280                   NO PROC                           267443.0   \n",
       "2367281   SUTURE SKIN/SUBCUT TISS                           267443.0   \n",
       "2367282                   NO PROC                           251080.0   \n",
       "\n",
       "         Operating Provider License Number Total Charges  \n",
       "0                                      NaN      $9546.85  \n",
       "1                                      NaN     $11462.75  \n",
       "2                                 167816.0      $1609.40  \n",
       "3                                 167816.0      $2638.75  \n",
       "4                                      NaN      $3538.25  \n",
       "...                                    ...           ...  \n",
       "2367278                                NaN     $10074.00  \n",
       "2367279                                NaN     $21252.00  \n",
       "2367280                                NaN     $11673.00  \n",
       "2367281                           249597.0     $16722.00  \n",
       "2367282                                NaN     $11637.00  \n",
       "\n",
       "[2367283 rows x 10 columns]"
      ]
     },
     "execution_count": 60,
     "metadata": {},
     "output_type": "execute_result"
    }
   ],
   "source": [
    "data"
   ]
  },
  {
   "cell_type": "code",
   "execution_count": 61,
   "metadata": {
    "slideshow": {
     "slide_type": "slide"
    }
   },
   "outputs": [
    {
     "data": {
      "text/html": [
       "<div id=\"pandasnp\" style=\"width: 500px\"></div>\n",
       "<script>\n",
       "$('head').append('<link rel=\"stylesheet\" href=\"http://bits.csb.pitt.edu/asker.js/themes/asker.default.css\" />');\n",
       "\n",
       "    var divid = '#pandasnp';\n",
       "\tjQuery(divid).asker({\n",
       "\t    id: divid,\n",
       "\t    question: \"What is something you would NOT do with pandas?\",\n",
       "\t\tanswers: [\"Sort values\",'Compute statistics','Advanced slicing','PCA'],\n",
       "        server: \"http://bits.csb.pitt.edu/asker.js/example/asker.cgi\",\n",
       "\t\tcharter: chartmaker})\n",
       "    \n",
       "$(\".jp-InputArea .o:contains(html)\").closest('.jp-InputArea').hide();\n",
       "\n",
       "\n",
       "</script>\n"
      ],
      "text/plain": [
       "<IPython.core.display.HTML object>"
      ]
     },
     "metadata": {},
     "output_type": "display_data"
    }
   ],
   "source": [
    "%%html\n",
    "<div id=\"pandasnp\" style=\"width: 500px\"></div>\n",
    "<script>\n",
    "$('head').append('<link rel=\"stylesheet\" href=\"http://bits.csb.pitt.edu/asker.js/themes/asker.default.css\" />');\n",
    "\n",
    "    var divid = '#pandasnp';\n",
    "\tjQuery(divid).asker({\n",
    "\t    id: divid,\n",
    "\t    question: \"What is something you would NOT do with pandas?\",\n",
    "\t\tanswers: [\"Sort values\",'Compute statistics','Advanced slicing','PCA'],\n",
    "        server: \"http://bits.csb.pitt.edu/asker.js/example/asker.cgi\",\n",
    "\t\tcharter: chartmaker})\n",
    "    \n",
    "$(\".jp-InputArea .o:contains(html)\").closest('.jp-InputArea').hide();\n",
    "\n",
    "\n",
    "</script>"
   ]
  },
  {
   "cell_type": "code",
   "execution_count": 62,
   "metadata": {
    "slideshow": {
     "slide_type": "slide"
    }
   },
   "outputs": [
    {
     "data": {
      "text/plain": [
       "array([[37.0, 'F', '8', ..., 90335341.0, nan, '$9546.85'],\n",
       "       [37.0, 'F', '3', ..., 90335341.0, nan, '$11462.75'],\n",
       "       [37.0, 'M', '1', ..., 90335341.0, 167816.0, '$1609.40'],\n",
       "       ...,\n",
       "       [943.0, 'F', '1', ..., 267443.0, nan, '$11673.00'],\n",
       "       [943.0, 'F', '1', ..., 267443.0, 249597.0, '$16722.00'],\n",
       "       [943.0, 'M', '1', ..., 251080.0, nan, '$11637.00']], dtype=object)"
      ]
     },
     "execution_count": 62,
     "metadata": {},
     "output_type": "execute_result"
    }
   ],
   "source": [
    "data.to_numpy()"
   ]
  },
  {
   "cell_type": "markdown",
   "metadata": {
    "slideshow": {
     "slide_type": "slide"
    }
   },
   "source": [
    "# Data Access\n",
    "\n",
    "Columns (and rows) have names that you can use to access them."
   ]
  },
  {
   "cell_type": "code",
   "execution_count": 63,
   "metadata": {},
   "outputs": [
    {
     "data": {
      "text/plain": [
       "Index(['Facility ID', 'Gender', 'Length of Stay', 'CCS Diagnosis Code',\n",
       "       'CCS Diagnosis Description', 'CCS Procedure Code',\n",
       "       'CCS Procedure Description', 'Attending Provider License Number',\n",
       "       'Operating Provider License Number', 'Total Charges'],\n",
       "      dtype='object')"
      ]
     },
     "execution_count": 63,
     "metadata": {},
     "output_type": "execute_result"
    }
   ],
   "source": [
    "data.columns"
   ]
  },
  {
   "cell_type": "code",
   "execution_count": 64,
   "metadata": {},
   "outputs": [
    {
     "data": {
      "text/plain": [
       "0          F\n",
       "1          F\n",
       "2          M\n",
       "3          F\n",
       "4          F\n",
       "          ..\n",
       "2367278    F\n",
       "2367279    M\n",
       "2367280    F\n",
       "2367281    F\n",
       "2367282    M\n",
       "Name: Gender, Length: 2367283, dtype: object"
      ]
     },
     "execution_count": 64,
     "metadata": {},
     "output_type": "execute_result"
    }
   ],
   "source": [
    "data.Gender  #get's gender column"
   ]
  },
  {
   "cell_type": "markdown",
   "metadata": {
    "slideshow": {
     "slide_type": "slide"
    }
   },
   "source": [
    "# Data Access"
   ]
  },
  {
   "cell_type": "code",
   "execution_count": 65,
   "metadata": {},
   "outputs": [
    {
     "data": {
      "text/plain": [
       "0    197\n",
       "1    146\n",
       "2     50\n",
       "Name: CCS Diagnosis Code, dtype: int64"
      ]
     },
     "execution_count": 65,
     "metadata": {},
     "output_type": "execute_result"
    }
   ],
   "source": [
    "data[\"CCS Diagnosis Code\"][:3] # can't use dot syntax if column name has spaces"
   ]
  },
  {
   "cell_type": "markdown",
   "metadata": {},
   "source": [
    "`[]` slices by rows, but *indexes* by column name - must provide range or it interprets the index as a column label."
   ]
  },
  {
   "cell_type": "code",
   "execution_count": 66,
   "metadata": {},
   "outputs": [
    {
     "data": {
      "text/html": [
       "<div>\n",
       "<style scoped>\n",
       "    .dataframe tbody tr th:only-of-type {\n",
       "        vertical-align: middle;\n",
       "    }\n",
       "\n",
       "    .dataframe tbody tr th {\n",
       "        vertical-align: top;\n",
       "    }\n",
       "\n",
       "    .dataframe thead th {\n",
       "        text-align: right;\n",
       "    }\n",
       "</style>\n",
       "<table border=\"1\" class=\"dataframe\">\n",
       "  <thead>\n",
       "    <tr style=\"text-align: right;\">\n",
       "      <th></th>\n",
       "      <th>Facility ID</th>\n",
       "      <th>Gender</th>\n",
       "      <th>Length of Stay</th>\n",
       "      <th>CCS Diagnosis Code</th>\n",
       "      <th>CCS Diagnosis Description</th>\n",
       "      <th>CCS Procedure Code</th>\n",
       "      <th>CCS Procedure Description</th>\n",
       "      <th>Attending Provider License Number</th>\n",
       "      <th>Operating Provider License Number</th>\n",
       "      <th>Total Charges</th>\n",
       "    </tr>\n",
       "  </thead>\n",
       "  <tbody>\n",
       "    <tr>\n",
       "      <th>0</th>\n",
       "      <td>37.0</td>\n",
       "      <td>F</td>\n",
       "      <td>8</td>\n",
       "      <td>197</td>\n",
       "      <td>Skin and subcutaneous tissue infections</td>\n",
       "      <td>0</td>\n",
       "      <td>NO PROC</td>\n",
       "      <td>90335341.0</td>\n",
       "      <td>NaN</td>\n",
       "      <td>$9546.85</td>\n",
       "    </tr>\n",
       "  </tbody>\n",
       "</table>\n",
       "</div>"
      ],
      "text/plain": [
       "   Facility ID Gender Length of Stay  CCS Diagnosis Code  \\\n",
       "0         37.0      F              8                 197   \n",
       "\n",
       "                 CCS Diagnosis Description  CCS Procedure Code  \\\n",
       "0  Skin and subcutaneous tissue infections                   0   \n",
       "\n",
       "  CCS Procedure Description  Attending Provider License Number  \\\n",
       "0                   NO PROC                         90335341.0   \n",
       "\n",
       "   Operating Provider License Number Total Charges  \n",
       "0                                NaN      $9546.85  "
      ]
     },
     "execution_count": 66,
     "metadata": {},
     "output_type": "execute_result"
    }
   ],
   "source": [
    "data[:1]"
   ]
  },
  {
   "cell_type": "code",
   "execution_count": 67,
   "metadata": {
    "slideshow": {
     "slide_type": "slide"
    }
   },
   "outputs": [
    {
     "ename": "KeyError",
     "evalue": "0",
     "output_type": "error",
     "traceback": [
      "\u001b[0;31m---------------------------------------------------------------------------\u001b[0m",
      "\u001b[0;31mKeyError\u001b[0m                                  Traceback (most recent call last)",
      "\u001b[0;32m~/.local/lib/python3.8/site-packages/pandas/core/indexes/base.py\u001b[0m in \u001b[0;36mget_loc\u001b[0;34m(self, key, method, tolerance)\u001b[0m\n\u001b[1;32m   3360\u001b[0m             \u001b[0;32mtry\u001b[0m\u001b[0;34m:\u001b[0m\u001b[0;34m\u001b[0m\u001b[0;34m\u001b[0m\u001b[0m\n\u001b[0;32m-> 3361\u001b[0;31m                 \u001b[0;32mreturn\u001b[0m \u001b[0mself\u001b[0m\u001b[0;34m.\u001b[0m\u001b[0m_engine\u001b[0m\u001b[0;34m.\u001b[0m\u001b[0mget_loc\u001b[0m\u001b[0;34m(\u001b[0m\u001b[0mcasted_key\u001b[0m\u001b[0;34m)\u001b[0m\u001b[0;34m\u001b[0m\u001b[0;34m\u001b[0m\u001b[0m\n\u001b[0m\u001b[1;32m   3362\u001b[0m             \u001b[0;32mexcept\u001b[0m \u001b[0mKeyError\u001b[0m \u001b[0;32mas\u001b[0m \u001b[0merr\u001b[0m\u001b[0;34m:\u001b[0m\u001b[0;34m\u001b[0m\u001b[0;34m\u001b[0m\u001b[0m\n",
      "\u001b[0;32m~/.local/lib/python3.8/site-packages/pandas/_libs/index.pyx\u001b[0m in \u001b[0;36mpandas._libs.index.IndexEngine.get_loc\u001b[0;34m()\u001b[0m\n",
      "\u001b[0;32m~/.local/lib/python3.8/site-packages/pandas/_libs/index.pyx\u001b[0m in \u001b[0;36mpandas._libs.index.IndexEngine.get_loc\u001b[0;34m()\u001b[0m\n",
      "\u001b[0;32mpandas/_libs/hashtable_class_helper.pxi\u001b[0m in \u001b[0;36mpandas._libs.hashtable.PyObjectHashTable.get_item\u001b[0;34m()\u001b[0m\n",
      "\u001b[0;32mpandas/_libs/hashtable_class_helper.pxi\u001b[0m in \u001b[0;36mpandas._libs.hashtable.PyObjectHashTable.get_item\u001b[0;34m()\u001b[0m\n",
      "\u001b[0;31mKeyError\u001b[0m: 0",
      "\nThe above exception was the direct cause of the following exception:\n",
      "\u001b[0;31mKeyError\u001b[0m                                  Traceback (most recent call last)",
      "\u001b[0;32m/tmp/ipykernel_3730157/504633736.py\u001b[0m in \u001b[0;36m<module>\u001b[0;34m\u001b[0m\n\u001b[0;32m----> 1\u001b[0;31m \u001b[0mdata\u001b[0m\u001b[0;34m[\u001b[0m\u001b[0;36m0\u001b[0m\u001b[0;34m]\u001b[0m\u001b[0;34m\u001b[0m\u001b[0;34m\u001b[0m\u001b[0m\n\u001b[0m",
      "\u001b[0;32m~/.local/lib/python3.8/site-packages/pandas/core/frame.py\u001b[0m in \u001b[0;36m__getitem__\u001b[0;34m(self, key)\u001b[0m\n\u001b[1;32m   3456\u001b[0m             \u001b[0;32mif\u001b[0m \u001b[0mself\u001b[0m\u001b[0;34m.\u001b[0m\u001b[0mcolumns\u001b[0m\u001b[0;34m.\u001b[0m\u001b[0mnlevels\u001b[0m \u001b[0;34m>\u001b[0m \u001b[0;36m1\u001b[0m\u001b[0;34m:\u001b[0m\u001b[0;34m\u001b[0m\u001b[0;34m\u001b[0m\u001b[0m\n\u001b[1;32m   3457\u001b[0m                 \u001b[0;32mreturn\u001b[0m \u001b[0mself\u001b[0m\u001b[0;34m.\u001b[0m\u001b[0m_getitem_multilevel\u001b[0m\u001b[0;34m(\u001b[0m\u001b[0mkey\u001b[0m\u001b[0;34m)\u001b[0m\u001b[0;34m\u001b[0m\u001b[0;34m\u001b[0m\u001b[0m\n\u001b[0;32m-> 3458\u001b[0;31m             \u001b[0mindexer\u001b[0m \u001b[0;34m=\u001b[0m \u001b[0mself\u001b[0m\u001b[0;34m.\u001b[0m\u001b[0mcolumns\u001b[0m\u001b[0;34m.\u001b[0m\u001b[0mget_loc\u001b[0m\u001b[0;34m(\u001b[0m\u001b[0mkey\u001b[0m\u001b[0;34m)\u001b[0m\u001b[0;34m\u001b[0m\u001b[0;34m\u001b[0m\u001b[0m\n\u001b[0m\u001b[1;32m   3459\u001b[0m             \u001b[0;32mif\u001b[0m \u001b[0mis_integer\u001b[0m\u001b[0;34m(\u001b[0m\u001b[0mindexer\u001b[0m\u001b[0;34m)\u001b[0m\u001b[0;34m:\u001b[0m\u001b[0;34m\u001b[0m\u001b[0;34m\u001b[0m\u001b[0m\n\u001b[1;32m   3460\u001b[0m                 \u001b[0mindexer\u001b[0m \u001b[0;34m=\u001b[0m \u001b[0;34m[\u001b[0m\u001b[0mindexer\u001b[0m\u001b[0;34m]\u001b[0m\u001b[0;34m\u001b[0m\u001b[0;34m\u001b[0m\u001b[0m\n",
      "\u001b[0;32m~/.local/lib/python3.8/site-packages/pandas/core/indexes/base.py\u001b[0m in \u001b[0;36mget_loc\u001b[0;34m(self, key, method, tolerance)\u001b[0m\n\u001b[1;32m   3361\u001b[0m                 \u001b[0;32mreturn\u001b[0m \u001b[0mself\u001b[0m\u001b[0;34m.\u001b[0m\u001b[0m_engine\u001b[0m\u001b[0;34m.\u001b[0m\u001b[0mget_loc\u001b[0m\u001b[0;34m(\u001b[0m\u001b[0mcasted_key\u001b[0m\u001b[0;34m)\u001b[0m\u001b[0;34m\u001b[0m\u001b[0;34m\u001b[0m\u001b[0m\n\u001b[1;32m   3362\u001b[0m             \u001b[0;32mexcept\u001b[0m \u001b[0mKeyError\u001b[0m \u001b[0;32mas\u001b[0m \u001b[0merr\u001b[0m\u001b[0;34m:\u001b[0m\u001b[0;34m\u001b[0m\u001b[0;34m\u001b[0m\u001b[0m\n\u001b[0;32m-> 3363\u001b[0;31m                 \u001b[0;32mraise\u001b[0m \u001b[0mKeyError\u001b[0m\u001b[0;34m(\u001b[0m\u001b[0mkey\u001b[0m\u001b[0;34m)\u001b[0m \u001b[0;32mfrom\u001b[0m \u001b[0merr\u001b[0m\u001b[0;34m\u001b[0m\u001b[0;34m\u001b[0m\u001b[0m\n\u001b[0m\u001b[1;32m   3364\u001b[0m \u001b[0;34m\u001b[0m\u001b[0m\n\u001b[1;32m   3365\u001b[0m         \u001b[0;32mif\u001b[0m \u001b[0mis_scalar\u001b[0m\u001b[0;34m(\u001b[0m\u001b[0mkey\u001b[0m\u001b[0;34m)\u001b[0m \u001b[0;32mand\u001b[0m \u001b[0misna\u001b[0m\u001b[0;34m(\u001b[0m\u001b[0mkey\u001b[0m\u001b[0;34m)\u001b[0m \u001b[0;32mand\u001b[0m \u001b[0;32mnot\u001b[0m \u001b[0mself\u001b[0m\u001b[0;34m.\u001b[0m\u001b[0mhasnans\u001b[0m\u001b[0;34m:\u001b[0m\u001b[0;34m\u001b[0m\u001b[0;34m\u001b[0m\u001b[0m\n",
      "\u001b[0;31mKeyError\u001b[0m: 0"
     ]
    }
   ],
   "source": [
    "data[0] "
   ]
  },
  {
   "cell_type": "markdown",
   "metadata": {
    "slideshow": {
     "slide_type": "slide"
    }
   },
   "source": [
    "# `iloc`: Position indexing\n",
    "\n",
    "If you want to reference a pandas data frame with position based indexing, use .iloc - work's just like `numpy`"
   ]
  },
  {
   "cell_type": "code",
   "execution_count": 68,
   "metadata": {},
   "outputs": [
    {
     "data": {
      "text/plain": [
       "'F'"
      ]
     },
     "execution_count": 68,
     "metadata": {},
     "output_type": "execute_result"
    }
   ],
   "source": [
    "data.iloc[3,1]"
   ]
  },
  {
   "cell_type": "code",
   "execution_count": 69,
   "metadata": {},
   "outputs": [
    {
     "data": {
      "text/plain": [
       "Facility ID                                                             37.0\n",
       "Gender                                                                     F\n",
       "Length of Stay                                                             8\n",
       "CCS Diagnosis Code                                                       197\n",
       "CCS Diagnosis Description            Skin and subcutaneous tissue infections\n",
       "CCS Procedure Code                                                         0\n",
       "CCS Procedure Description                                            NO PROC\n",
       "Attending Provider License Number                                 90335341.0\n",
       "Operating Provider License Number                                        NaN\n",
       "Total Charges                                                       $9546.85\n",
       "Name: 0, dtype: object"
      ]
     },
     "execution_count": 69,
     "metadata": {},
     "output_type": "execute_result"
    }
   ],
   "source": [
    "data.iloc[0,:]"
   ]
  },
  {
   "cell_type": "markdown",
   "metadata": {},
   "source": [
    "Pandas uses NaN to indicate missing data"
   ]
  },
  {
   "cell_type": "code",
   "execution_count": 70,
   "metadata": {
    "slideshow": {
     "slide_type": "slide"
    }
   },
   "outputs": [
    {
     "data": {
      "text/html": [
       "<div id=\"pdiloc\" style=\"width: 500px\"></div>\n",
       "<script>\n",
       "$('head').append('<link rel=\"stylesheet\" href=\"http://bits.csb.pitt.edu/asker.js/themes/asker.default.css\" />');\n",
       "\n",
       "    var divid = '#pdiloc';\n",
       "\tjQuery(divid).asker({\n",
       "\t    id: divid,\n",
       "\t    question: \"What does data.iloc[0] return?\",\n",
       "\t\tanswers: [\"First row\",'First column','37','Facility ID','Error'],\n",
       "        server: \"http://bits.csb.pitt.edu/asker.js/example/asker.cgi\",\n",
       "\t\tcharter: chartmaker})\n",
       "    \n",
       "$(\".jp-InputArea .o:contains(html)\").closest('.jp-InputArea').hide();\n",
       "\n",
       "\n",
       "</script>\n"
      ],
      "text/plain": [
       "<IPython.core.display.HTML object>"
      ]
     },
     "metadata": {},
     "output_type": "display_data"
    }
   ],
   "source": [
    "%%html\n",
    "<div id=\"pdiloc\" style=\"width: 500px\"></div>\n",
    "<script>\n",
    "$('head').append('<link rel=\"stylesheet\" href=\"http://bits.csb.pitt.edu/asker.js/themes/asker.default.css\" />');\n",
    "\n",
    "    var divid = '#pdiloc';\n",
    "\tjQuery(divid).asker({\n",
    "\t    id: divid,\n",
    "\t    question: \"What does data.iloc[0] return?\",\n",
    "\t\tanswers: [\"First row\",'First column','37','Facility ID','Error'],\n",
    "        server: \"http://bits.csb.pitt.edu/asker.js/example/asker.cgi\",\n",
    "\t\tcharter: chartmaker})\n",
    "    \n",
    "$(\".jp-InputArea .o:contains(html)\").closest('.jp-InputArea').hide();\n",
    "\n",
    "\n",
    "</script>"
   ]
  },
  {
   "cell_type": "code",
   "execution_count": 71,
   "metadata": {
    "slideshow": {
     "slide_type": "subslide"
    }
   },
   "outputs": [
    {
     "data": {
      "text/plain": [
       "Facility ID                                                             37.0\n",
       "Gender                                                                     F\n",
       "Length of Stay                                                             8\n",
       "CCS Diagnosis Code                                                       197\n",
       "CCS Diagnosis Description            Skin and subcutaneous tissue infections\n",
       "CCS Procedure Code                                                         0\n",
       "CCS Procedure Description                                            NO PROC\n",
       "Attending Provider License Number                                 90335341.0\n",
       "Operating Provider License Number                                        NaN\n",
       "Total Charges                                                       $9546.85\n",
       "Name: 0, dtype: object"
      ]
     },
     "execution_count": 71,
     "metadata": {},
     "output_type": "execute_result"
    }
   ],
   "source": [
    "data.iloc[0]"
   ]
  },
  {
   "cell_type": "markdown",
   "metadata": {
    "slideshow": {
     "slide_type": "slide"
    }
   },
   "source": [
    "# `.loc`: Label indexing\n",
    "\n",
    "You can also index by the label names.  Note the rows are being indexed by their named index."
   ]
  },
  {
   "cell_type": "code",
   "execution_count": 72,
   "metadata": {},
   "outputs": [
    {
     "data": {
      "text/plain": [
       "0    F\n",
       "1    F\n",
       "2    M\n",
       "3    F\n",
       "Name: Gender, dtype: object"
      ]
     },
     "execution_count": 72,
     "metadata": {},
     "output_type": "execute_result"
    }
   ],
   "source": [
    "data.loc[:3,'Gender']"
   ]
  },
  {
   "cell_type": "code",
   "execution_count": 73,
   "metadata": {},
   "outputs": [
    {
     "data": {
      "text/html": [
       "<div>\n",
       "<style scoped>\n",
       "    .dataframe tbody tr th:only-of-type {\n",
       "        vertical-align: middle;\n",
       "    }\n",
       "\n",
       "    .dataframe tbody tr th {\n",
       "        vertical-align: top;\n",
       "    }\n",
       "\n",
       "    .dataframe thead th {\n",
       "        text-align: right;\n",
       "    }\n",
       "</style>\n",
       "<table border=\"1\" class=\"dataframe\">\n",
       "  <thead>\n",
       "    <tr style=\"text-align: right;\">\n",
       "      <th></th>\n",
       "      <th>CCS Diagnosis Description</th>\n",
       "      <th>CCS Diagnosis Code</th>\n",
       "    </tr>\n",
       "  </thead>\n",
       "  <tbody>\n",
       "    <tr>\n",
       "      <th>0</th>\n",
       "      <td>Skin and subcutaneous tissue infections</td>\n",
       "      <td>197</td>\n",
       "    </tr>\n",
       "    <tr>\n",
       "      <th>3</th>\n",
       "      <td>Noninfectious gastroenteritis</td>\n",
       "      <td>154</td>\n",
       "    </tr>\n",
       "    <tr>\n",
       "      <th>5</th>\n",
       "      <td>Influenza</td>\n",
       "      <td>123</td>\n",
       "    </tr>\n",
       "  </tbody>\n",
       "</table>\n",
       "</div>"
      ],
      "text/plain": [
       "                 CCS Diagnosis Description  CCS Diagnosis Code\n",
       "0  Skin and subcutaneous tissue infections                 197\n",
       "3            Noninfectious gastroenteritis                 154\n",
       "5                                Influenza                 123"
      ]
     },
     "execution_count": 73,
     "metadata": {},
     "output_type": "execute_result"
    }
   ],
   "source": [
    "data.loc[[0,3,5],['CCS Diagnosis Description','CCS Diagnosis Code']]"
   ]
  },
  {
   "cell_type": "code",
   "execution_count": 74,
   "metadata": {
    "slideshow": {
     "slide_type": "slide"
    }
   },
   "outputs": [
    {
     "data": {
      "text/html": [
       "<div>\n",
       "<style scoped>\n",
       "    .dataframe tbody tr th:only-of-type {\n",
       "        vertical-align: middle;\n",
       "    }\n",
       "\n",
       "    .dataframe tbody tr th {\n",
       "        vertical-align: top;\n",
       "    }\n",
       "\n",
       "    .dataframe thead th {\n",
       "        text-align: right;\n",
       "    }\n",
       "</style>\n",
       "<table border=\"1\" class=\"dataframe\">\n",
       "  <thead>\n",
       "    <tr style=\"text-align: right;\">\n",
       "      <th></th>\n",
       "      <th>Facility ID</th>\n",
       "      <th>Gender</th>\n",
       "      <th>Length of Stay</th>\n",
       "      <th>CCS Diagnosis Code</th>\n",
       "      <th>CCS Diagnosis Description</th>\n",
       "      <th>CCS Procedure Code</th>\n",
       "      <th>CCS Procedure Description</th>\n",
       "      <th>Attending Provider License Number</th>\n",
       "      <th>Operating Provider License Number</th>\n",
       "      <th>Total Charges</th>\n",
       "    </tr>\n",
       "  </thead>\n",
       "  <tbody>\n",
       "    <tr>\n",
       "      <th>10</th>\n",
       "      <td>37.0</td>\n",
       "      <td>F</td>\n",
       "      <td>3</td>\n",
       "      <td>123</td>\n",
       "      <td>Influenza</td>\n",
       "      <td>0</td>\n",
       "      <td>NO PROC</td>\n",
       "      <td>90335341.0</td>\n",
       "      <td>NaN</td>\n",
       "      <td>$4566.15</td>\n",
       "    </tr>\n",
       "    <tr>\n",
       "      <th>11</th>\n",
       "      <td>37.0</td>\n",
       "      <td>M</td>\n",
       "      <td>7</td>\n",
       "      <td>122</td>\n",
       "      <td>Pneumonia (except that caused by tuberculosis ...</td>\n",
       "      <td>202</td>\n",
       "      <td>ELECTROCARDIOGRAM</td>\n",
       "      <td>90335341.0</td>\n",
       "      <td>167816.0</td>\n",
       "      <td>$9822.90</td>\n",
       "    </tr>\n",
       "    <tr>\n",
       "      <th>12</th>\n",
       "      <td>37.0</td>\n",
       "      <td>M</td>\n",
       "      <td>3</td>\n",
       "      <td>122</td>\n",
       "      <td>Pneumonia (except that caused by tuberculosis ...</td>\n",
       "      <td>0</td>\n",
       "      <td>NO PROC</td>\n",
       "      <td>90335341.0</td>\n",
       "      <td>NaN</td>\n",
       "      <td>$5063.05</td>\n",
       "    </tr>\n",
       "    <tr>\n",
       "      <th>13</th>\n",
       "      <td>37.0</td>\n",
       "      <td>M</td>\n",
       "      <td>2</td>\n",
       "      <td>155</td>\n",
       "      <td>Other gastrointestinal disorders</td>\n",
       "      <td>0</td>\n",
       "      <td>NO PROC</td>\n",
       "      <td>90335341.0</td>\n",
       "      <td>NaN</td>\n",
       "      <td>$3125.75</td>\n",
       "    </tr>\n",
       "    <tr>\n",
       "      <th>14</th>\n",
       "      <td>37.0</td>\n",
       "      <td>F</td>\n",
       "      <td>3</td>\n",
       "      <td>122</td>\n",
       "      <td>Pneumonia (except that caused by tuberculosis ...</td>\n",
       "      <td>0</td>\n",
       "      <td>NO PROC</td>\n",
       "      <td>90335341.0</td>\n",
       "      <td>NaN</td>\n",
       "      <td>$5055.45</td>\n",
       "    </tr>\n",
       "    <tr>\n",
       "      <th>15</th>\n",
       "      <td>37.0</td>\n",
       "      <td>F</td>\n",
       "      <td>6</td>\n",
       "      <td>127</td>\n",
       "      <td>Chronic obstructive pulmonary disease and bron...</td>\n",
       "      <td>0</td>\n",
       "      <td>NO PROC</td>\n",
       "      <td>90335341.0</td>\n",
       "      <td>NaN</td>\n",
       "      <td>$9734.05</td>\n",
       "    </tr>\n",
       "    <tr>\n",
       "      <th>16</th>\n",
       "      <td>37.0</td>\n",
       "      <td>F</td>\n",
       "      <td>4</td>\n",
       "      <td>127</td>\n",
       "      <td>Chronic obstructive pulmonary disease and bron...</td>\n",
       "      <td>0</td>\n",
       "      <td>NO PROC</td>\n",
       "      <td>90335341.0</td>\n",
       "      <td>NaN</td>\n",
       "      <td>$7168.05</td>\n",
       "    </tr>\n",
       "    <tr>\n",
       "      <th>17</th>\n",
       "      <td>37.0</td>\n",
       "      <td>F</td>\n",
       "      <td>2</td>\n",
       "      <td>197</td>\n",
       "      <td>Skin and subcutaneous tissue infections</td>\n",
       "      <td>0</td>\n",
       "      <td>NO PROC</td>\n",
       "      <td>90301264.0</td>\n",
       "      <td>NaN</td>\n",
       "      <td>$2812.85</td>\n",
       "    </tr>\n",
       "    <tr>\n",
       "      <th>18</th>\n",
       "      <td>37.0</td>\n",
       "      <td>M</td>\n",
       "      <td>3</td>\n",
       "      <td>58</td>\n",
       "      <td>Other nutritional; endocrine; and metabolic di...</td>\n",
       "      <td>0</td>\n",
       "      <td>NO PROC</td>\n",
       "      <td>90335341.0</td>\n",
       "      <td>NaN</td>\n",
       "      <td>$3377.50</td>\n",
       "    </tr>\n",
       "    <tr>\n",
       "      <th>19</th>\n",
       "      <td>37.0</td>\n",
       "      <td>F</td>\n",
       "      <td>2</td>\n",
       "      <td>125</td>\n",
       "      <td>Acute bronchitis</td>\n",
       "      <td>0</td>\n",
       "      <td>NO PROC</td>\n",
       "      <td>90335341.0</td>\n",
       "      <td>NaN</td>\n",
       "      <td>$3214.25</td>\n",
       "    </tr>\n",
       "  </tbody>\n",
       "</table>\n",
       "</div>"
      ],
      "text/plain": [
       "    Facility ID Gender Length of Stay  CCS Diagnosis Code  \\\n",
       "10         37.0      F              3                 123   \n",
       "11         37.0      M              7                 122   \n",
       "12         37.0      M              3                 122   \n",
       "13         37.0      M              2                 155   \n",
       "14         37.0      F              3                 122   \n",
       "15         37.0      F              6                 127   \n",
       "16         37.0      F              4                 127   \n",
       "17         37.0      F              2                 197   \n",
       "18         37.0      M              3                  58   \n",
       "19         37.0      F              2                 125   \n",
       "\n",
       "                            CCS Diagnosis Description  CCS Procedure Code  \\\n",
       "10                                          Influenza                   0   \n",
       "11  Pneumonia (except that caused by tuberculosis ...                 202   \n",
       "12  Pneumonia (except that caused by tuberculosis ...                   0   \n",
       "13                   Other gastrointestinal disorders                   0   \n",
       "14  Pneumonia (except that caused by tuberculosis ...                   0   \n",
       "15  Chronic obstructive pulmonary disease and bron...                   0   \n",
       "16  Chronic obstructive pulmonary disease and bron...                   0   \n",
       "17            Skin and subcutaneous tissue infections                   0   \n",
       "18  Other nutritional; endocrine; and metabolic di...                   0   \n",
       "19                                   Acute bronchitis                   0   \n",
       "\n",
       "   CCS Procedure Description  Attending Provider License Number  \\\n",
       "10                   NO PROC                         90335341.0   \n",
       "11         ELECTROCARDIOGRAM                         90335341.0   \n",
       "12                   NO PROC                         90335341.0   \n",
       "13                   NO PROC                         90335341.0   \n",
       "14                   NO PROC                         90335341.0   \n",
       "15                   NO PROC                         90335341.0   \n",
       "16                   NO PROC                         90335341.0   \n",
       "17                   NO PROC                         90301264.0   \n",
       "18                   NO PROC                         90335341.0   \n",
       "19                   NO PROC                         90335341.0   \n",
       "\n",
       "    Operating Provider License Number Total Charges  \n",
       "10                                NaN      $4566.15  \n",
       "11                           167816.0      $9822.90  \n",
       "12                                NaN      $5063.05  \n",
       "13                                NaN      $3125.75  \n",
       "14                                NaN      $5055.45  \n",
       "15                                NaN      $9734.05  \n",
       "16                                NaN      $7168.05  \n",
       "17                                NaN      $2812.85  \n",
       "18                                NaN      $3377.50  \n",
       "19                                NaN      $3214.25  "
      ]
     },
     "execution_count": 74,
     "metadata": {},
     "output_type": "execute_result"
    }
   ],
   "source": [
    "data[10:20]"
   ]
  },
  {
   "cell_type": "code",
   "execution_count": 75,
   "metadata": {
    "slideshow": {
     "slide_type": "slide"
    }
   },
   "outputs": [
    {
     "ename": "KeyError",
     "evalue": "\"None of [Int64Index([0, 3, 5], dtype='int64')] are in the [index]\"",
     "output_type": "error",
     "traceback": [
      "\u001b[0;31m---------------------------------------------------------------------------\u001b[0m",
      "\u001b[0;31mKeyError\u001b[0m                                  Traceback (most recent call last)",
      "\u001b[0;32m/tmp/ipykernel_3730157/1424135435.py\u001b[0m in \u001b[0;36m<module>\u001b[0;34m\u001b[0m\n\u001b[0;32m----> 1\u001b[0;31m \u001b[0mdata\u001b[0m\u001b[0;34m[\u001b[0m\u001b[0;36m10\u001b[0m\u001b[0;34m:\u001b[0m\u001b[0;36m20\u001b[0m\u001b[0;34m]\u001b[0m\u001b[0;34m.\u001b[0m\u001b[0mloc\u001b[0m\u001b[0;34m[\u001b[0m\u001b[0;34m[\u001b[0m\u001b[0;36m0\u001b[0m\u001b[0;34m,\u001b[0m\u001b[0;36m3\u001b[0m\u001b[0;34m,\u001b[0m\u001b[0;36m5\u001b[0m\u001b[0;34m]\u001b[0m\u001b[0;34m]\u001b[0m\u001b[0;34m\u001b[0m\u001b[0;34m\u001b[0m\u001b[0m\n\u001b[0m",
      "\u001b[0;32m~/.local/lib/python3.8/site-packages/pandas/core/indexing.py\u001b[0m in \u001b[0;36m__getitem__\u001b[0;34m(self, key)\u001b[0m\n\u001b[1;32m    929\u001b[0m \u001b[0;34m\u001b[0m\u001b[0m\n\u001b[1;32m    930\u001b[0m             \u001b[0mmaybe_callable\u001b[0m \u001b[0;34m=\u001b[0m \u001b[0mcom\u001b[0m\u001b[0;34m.\u001b[0m\u001b[0mapply_if_callable\u001b[0m\u001b[0;34m(\u001b[0m\u001b[0mkey\u001b[0m\u001b[0;34m,\u001b[0m \u001b[0mself\u001b[0m\u001b[0;34m.\u001b[0m\u001b[0mobj\u001b[0m\u001b[0;34m)\u001b[0m\u001b[0;34m\u001b[0m\u001b[0;34m\u001b[0m\u001b[0m\n\u001b[0;32m--> 931\u001b[0;31m             \u001b[0;32mreturn\u001b[0m \u001b[0mself\u001b[0m\u001b[0;34m.\u001b[0m\u001b[0m_getitem_axis\u001b[0m\u001b[0;34m(\u001b[0m\u001b[0mmaybe_callable\u001b[0m\u001b[0;34m,\u001b[0m \u001b[0maxis\u001b[0m\u001b[0;34m=\u001b[0m\u001b[0maxis\u001b[0m\u001b[0;34m)\u001b[0m\u001b[0;34m\u001b[0m\u001b[0;34m\u001b[0m\u001b[0m\n\u001b[0m\u001b[1;32m    932\u001b[0m \u001b[0;34m\u001b[0m\u001b[0m\n\u001b[1;32m    933\u001b[0m     \u001b[0;32mdef\u001b[0m \u001b[0m_is_scalar_access\u001b[0m\u001b[0;34m(\u001b[0m\u001b[0mself\u001b[0m\u001b[0;34m,\u001b[0m \u001b[0mkey\u001b[0m\u001b[0;34m:\u001b[0m \u001b[0mtuple\u001b[0m\u001b[0;34m)\u001b[0m\u001b[0;34m:\u001b[0m\u001b[0;34m\u001b[0m\u001b[0;34m\u001b[0m\u001b[0m\n",
      "\u001b[0;32m~/.local/lib/python3.8/site-packages/pandas/core/indexing.py\u001b[0m in \u001b[0;36m_getitem_axis\u001b[0;34m(self, key, axis)\u001b[0m\n\u001b[1;32m   1151\u001b[0m                     \u001b[0;32mraise\u001b[0m \u001b[0mValueError\u001b[0m\u001b[0;34m(\u001b[0m\u001b[0;34m\"Cannot index with multidimensional key\"\u001b[0m\u001b[0;34m)\u001b[0m\u001b[0;34m\u001b[0m\u001b[0;34m\u001b[0m\u001b[0m\n\u001b[1;32m   1152\u001b[0m \u001b[0;34m\u001b[0m\u001b[0m\n\u001b[0;32m-> 1153\u001b[0;31m                 \u001b[0;32mreturn\u001b[0m \u001b[0mself\u001b[0m\u001b[0;34m.\u001b[0m\u001b[0m_getitem_iterable\u001b[0m\u001b[0;34m(\u001b[0m\u001b[0mkey\u001b[0m\u001b[0;34m,\u001b[0m \u001b[0maxis\u001b[0m\u001b[0;34m=\u001b[0m\u001b[0maxis\u001b[0m\u001b[0;34m)\u001b[0m\u001b[0;34m\u001b[0m\u001b[0;34m\u001b[0m\u001b[0m\n\u001b[0m\u001b[1;32m   1154\u001b[0m \u001b[0;34m\u001b[0m\u001b[0m\n\u001b[1;32m   1155\u001b[0m             \u001b[0;31m# nested tuple slicing\u001b[0m\u001b[0;34m\u001b[0m\u001b[0;34m\u001b[0m\u001b[0;34m\u001b[0m\u001b[0m\n",
      "\u001b[0;32m~/.local/lib/python3.8/site-packages/pandas/core/indexing.py\u001b[0m in \u001b[0;36m_getitem_iterable\u001b[0;34m(self, key, axis)\u001b[0m\n\u001b[1;32m   1091\u001b[0m \u001b[0;34m\u001b[0m\u001b[0m\n\u001b[1;32m   1092\u001b[0m         \u001b[0;31m# A collection of keys\u001b[0m\u001b[0;34m\u001b[0m\u001b[0;34m\u001b[0m\u001b[0;34m\u001b[0m\u001b[0m\n\u001b[0;32m-> 1093\u001b[0;31m         \u001b[0mkeyarr\u001b[0m\u001b[0;34m,\u001b[0m \u001b[0mindexer\u001b[0m \u001b[0;34m=\u001b[0m \u001b[0mself\u001b[0m\u001b[0;34m.\u001b[0m\u001b[0m_get_listlike_indexer\u001b[0m\u001b[0;34m(\u001b[0m\u001b[0mkey\u001b[0m\u001b[0;34m,\u001b[0m \u001b[0maxis\u001b[0m\u001b[0;34m)\u001b[0m\u001b[0;34m\u001b[0m\u001b[0;34m\u001b[0m\u001b[0m\n\u001b[0m\u001b[1;32m   1094\u001b[0m         return self.obj._reindex_with_indexers(\n\u001b[1;32m   1095\u001b[0m             \u001b[0;34m{\u001b[0m\u001b[0maxis\u001b[0m\u001b[0;34m:\u001b[0m \u001b[0;34m[\u001b[0m\u001b[0mkeyarr\u001b[0m\u001b[0;34m,\u001b[0m \u001b[0mindexer\u001b[0m\u001b[0;34m]\u001b[0m\u001b[0;34m}\u001b[0m\u001b[0;34m,\u001b[0m \u001b[0mcopy\u001b[0m\u001b[0;34m=\u001b[0m\u001b[0;32mTrue\u001b[0m\u001b[0;34m,\u001b[0m \u001b[0mallow_dups\u001b[0m\u001b[0;34m=\u001b[0m\u001b[0;32mTrue\u001b[0m\u001b[0;34m\u001b[0m\u001b[0;34m\u001b[0m\u001b[0m\n",
      "\u001b[0;32m~/.local/lib/python3.8/site-packages/pandas/core/indexing.py\u001b[0m in \u001b[0;36m_get_listlike_indexer\u001b[0;34m(self, key, axis)\u001b[0m\n\u001b[1;32m   1312\u001b[0m             \u001b[0mkeyarr\u001b[0m\u001b[0;34m,\u001b[0m \u001b[0mindexer\u001b[0m\u001b[0;34m,\u001b[0m \u001b[0mnew_indexer\u001b[0m \u001b[0;34m=\u001b[0m \u001b[0max\u001b[0m\u001b[0;34m.\u001b[0m\u001b[0m_reindex_non_unique\u001b[0m\u001b[0;34m(\u001b[0m\u001b[0mkeyarr\u001b[0m\u001b[0;34m)\u001b[0m\u001b[0;34m\u001b[0m\u001b[0;34m\u001b[0m\u001b[0m\n\u001b[1;32m   1313\u001b[0m \u001b[0;34m\u001b[0m\u001b[0m\n\u001b[0;32m-> 1314\u001b[0;31m         \u001b[0mself\u001b[0m\u001b[0;34m.\u001b[0m\u001b[0m_validate_read_indexer\u001b[0m\u001b[0;34m(\u001b[0m\u001b[0mkeyarr\u001b[0m\u001b[0;34m,\u001b[0m \u001b[0mindexer\u001b[0m\u001b[0;34m,\u001b[0m \u001b[0maxis\u001b[0m\u001b[0;34m)\u001b[0m\u001b[0;34m\u001b[0m\u001b[0;34m\u001b[0m\u001b[0m\n\u001b[0m\u001b[1;32m   1315\u001b[0m \u001b[0;34m\u001b[0m\u001b[0m\n\u001b[1;32m   1316\u001b[0m         if needs_i8_conversion(ax.dtype) or isinstance(\n",
      "\u001b[0;32m~/.local/lib/python3.8/site-packages/pandas/core/indexing.py\u001b[0m in \u001b[0;36m_validate_read_indexer\u001b[0;34m(self, key, indexer, axis)\u001b[0m\n\u001b[1;32m   1372\u001b[0m                 \u001b[0;32mif\u001b[0m \u001b[0muse_interval_msg\u001b[0m\u001b[0;34m:\u001b[0m\u001b[0;34m\u001b[0m\u001b[0;34m\u001b[0m\u001b[0m\n\u001b[1;32m   1373\u001b[0m                     \u001b[0mkey\u001b[0m \u001b[0;34m=\u001b[0m \u001b[0mlist\u001b[0m\u001b[0;34m(\u001b[0m\u001b[0mkey\u001b[0m\u001b[0;34m)\u001b[0m\u001b[0;34m\u001b[0m\u001b[0;34m\u001b[0m\u001b[0m\n\u001b[0;32m-> 1374\u001b[0;31m                 \u001b[0;32mraise\u001b[0m \u001b[0mKeyError\u001b[0m\u001b[0;34m(\u001b[0m\u001b[0;34mf\"None of [{key}] are in the [{axis_name}]\"\u001b[0m\u001b[0;34m)\u001b[0m\u001b[0;34m\u001b[0m\u001b[0;34m\u001b[0m\u001b[0m\n\u001b[0m\u001b[1;32m   1375\u001b[0m \u001b[0;34m\u001b[0m\u001b[0m\n\u001b[1;32m   1376\u001b[0m             \u001b[0mnot_found\u001b[0m \u001b[0;34m=\u001b[0m \u001b[0mlist\u001b[0m\u001b[0;34m(\u001b[0m\u001b[0mensure_index\u001b[0m\u001b[0;34m(\u001b[0m\u001b[0mkey\u001b[0m\u001b[0;34m)\u001b[0m\u001b[0;34m[\u001b[0m\u001b[0mmissing_mask\u001b[0m\u001b[0;34m.\u001b[0m\u001b[0mnonzero\u001b[0m\u001b[0;34m(\u001b[0m\u001b[0;34m)\u001b[0m\u001b[0;34m[\u001b[0m\u001b[0;36m0\u001b[0m\u001b[0;34m]\u001b[0m\u001b[0;34m]\u001b[0m\u001b[0;34m.\u001b[0m\u001b[0munique\u001b[0m\u001b[0;34m(\u001b[0m\u001b[0;34m)\u001b[0m\u001b[0;34m)\u001b[0m\u001b[0;34m\u001b[0m\u001b[0;34m\u001b[0m\u001b[0m\n",
      "\u001b[0;31mKeyError\u001b[0m: \"None of [Int64Index([0, 3, 5], dtype='int64')] are in the [index]\""
     ]
    }
   ],
   "source": [
    "data[10:20].loc[[0,3,5]]"
   ]
  },
  {
   "cell_type": "code",
   "execution_count": 76,
   "metadata": {
    "slideshow": {
     "slide_type": "slide"
    }
   },
   "outputs": [
    {
     "data": {
      "text/html": [
       "<div>\n",
       "<style scoped>\n",
       "    .dataframe tbody tr th:only-of-type {\n",
       "        vertical-align: middle;\n",
       "    }\n",
       "\n",
       "    .dataframe tbody tr th {\n",
       "        vertical-align: top;\n",
       "    }\n",
       "\n",
       "    .dataframe thead th {\n",
       "        text-align: right;\n",
       "    }\n",
       "</style>\n",
       "<table border=\"1\" class=\"dataframe\">\n",
       "  <thead>\n",
       "    <tr style=\"text-align: right;\">\n",
       "      <th></th>\n",
       "      <th>Facility ID</th>\n",
       "      <th>Gender</th>\n",
       "      <th>Length of Stay</th>\n",
       "      <th>CCS Diagnosis Code</th>\n",
       "      <th>CCS Diagnosis Description</th>\n",
       "      <th>CCS Procedure Code</th>\n",
       "      <th>CCS Procedure Description</th>\n",
       "      <th>Attending Provider License Number</th>\n",
       "      <th>Operating Provider License Number</th>\n",
       "      <th>Total Charges</th>\n",
       "    </tr>\n",
       "  </thead>\n",
       "  <tbody>\n",
       "    <tr>\n",
       "      <th>10</th>\n",
       "      <td>37.0</td>\n",
       "      <td>F</td>\n",
       "      <td>3</td>\n",
       "      <td>123</td>\n",
       "      <td>Influenza</td>\n",
       "      <td>0</td>\n",
       "      <td>NO PROC</td>\n",
       "      <td>90335341.0</td>\n",
       "      <td>NaN</td>\n",
       "      <td>$4566.15</td>\n",
       "    </tr>\n",
       "    <tr>\n",
       "      <th>13</th>\n",
       "      <td>37.0</td>\n",
       "      <td>M</td>\n",
       "      <td>2</td>\n",
       "      <td>155</td>\n",
       "      <td>Other gastrointestinal disorders</td>\n",
       "      <td>0</td>\n",
       "      <td>NO PROC</td>\n",
       "      <td>90335341.0</td>\n",
       "      <td>NaN</td>\n",
       "      <td>$3125.75</td>\n",
       "    </tr>\n",
       "    <tr>\n",
       "      <th>15</th>\n",
       "      <td>37.0</td>\n",
       "      <td>F</td>\n",
       "      <td>6</td>\n",
       "      <td>127</td>\n",
       "      <td>Chronic obstructive pulmonary disease and bron...</td>\n",
       "      <td>0</td>\n",
       "      <td>NO PROC</td>\n",
       "      <td>90335341.0</td>\n",
       "      <td>NaN</td>\n",
       "      <td>$9734.05</td>\n",
       "    </tr>\n",
       "  </tbody>\n",
       "</table>\n",
       "</div>"
      ],
      "text/plain": [
       "    Facility ID Gender Length of Stay  CCS Diagnosis Code  \\\n",
       "10         37.0      F              3                 123   \n",
       "13         37.0      M              2                 155   \n",
       "15         37.0      F              6                 127   \n",
       "\n",
       "                            CCS Diagnosis Description  CCS Procedure Code  \\\n",
       "10                                          Influenza                   0   \n",
       "13                   Other gastrointestinal disorders                   0   \n",
       "15  Chronic obstructive pulmonary disease and bron...                   0   \n",
       "\n",
       "   CCS Procedure Description  Attending Provider License Number  \\\n",
       "10                   NO PROC                         90335341.0   \n",
       "13                   NO PROC                         90335341.0   \n",
       "15                   NO PROC                         90335341.0   \n",
       "\n",
       "    Operating Provider License Number Total Charges  \n",
       "10                                NaN      $4566.15  \n",
       "13                                NaN      $3125.75  \n",
       "15                                NaN      $9734.05  "
      ]
     },
     "execution_count": 76,
     "metadata": {},
     "output_type": "execute_result"
    }
   ],
   "source": [
    "data[10:20].iloc[[0,3,5]]"
   ]
  },
  {
   "cell_type": "markdown",
   "metadata": {
    "slideshow": {
     "slide_type": "slide"
    }
   },
   "source": [
    "# Boolean Indexing\n",
    "\n",
    "Just like `numpy` we can index by a boolean array or an array of indices."
   ]
  },
  {
   "cell_type": "code",
   "execution_count": 77,
   "metadata": {},
   "outputs": [
    {
     "data": {
      "text/html": [
       "<div>\n",
       "<style scoped>\n",
       "    .dataframe tbody tr th:only-of-type {\n",
       "        vertical-align: middle;\n",
       "    }\n",
       "\n",
       "    .dataframe tbody tr th {\n",
       "        vertical-align: top;\n",
       "    }\n",
       "\n",
       "    .dataframe thead th {\n",
       "        text-align: right;\n",
       "    }\n",
       "</style>\n",
       "<table border=\"1\" class=\"dataframe\">\n",
       "  <thead>\n",
       "    <tr style=\"text-align: right;\">\n",
       "      <th></th>\n",
       "      <th>Facility ID</th>\n",
       "      <th>Gender</th>\n",
       "      <th>Length of Stay</th>\n",
       "      <th>CCS Diagnosis Code</th>\n",
       "      <th>CCS Diagnosis Description</th>\n",
       "      <th>CCS Procedure Code</th>\n",
       "      <th>CCS Procedure Description</th>\n",
       "      <th>Attending Provider License Number</th>\n",
       "      <th>Operating Provider License Number</th>\n",
       "      <th>Total Charges</th>\n",
       "    </tr>\n",
       "  </thead>\n",
       "  <tbody>\n",
       "    <tr>\n",
       "      <th>2</th>\n",
       "      <td>37.0</td>\n",
       "      <td>M</td>\n",
       "      <td>1</td>\n",
       "      <td>50</td>\n",
       "      <td>Diabetes mellitus with complications</td>\n",
       "      <td>202</td>\n",
       "      <td>ELECTROCARDIOGRAM</td>\n",
       "      <td>90335341.0</td>\n",
       "      <td>167816.0</td>\n",
       "      <td>$1609.40</td>\n",
       "    </tr>\n",
       "    <tr>\n",
       "      <th>6</th>\n",
       "      <td>37.0</td>\n",
       "      <td>M</td>\n",
       "      <td>5</td>\n",
       "      <td>122</td>\n",
       "      <td>Pneumonia (except that caused by tuberculosis ...</td>\n",
       "      <td>0</td>\n",
       "      <td>NO PROC</td>\n",
       "      <td>90335341.0</td>\n",
       "      <td>NaN</td>\n",
       "      <td>$6148.10</td>\n",
       "    </tr>\n",
       "    <tr>\n",
       "      <th>7</th>\n",
       "      <td>37.0</td>\n",
       "      <td>M</td>\n",
       "      <td>3</td>\n",
       "      <td>123</td>\n",
       "      <td>Influenza</td>\n",
       "      <td>0</td>\n",
       "      <td>NO PROC</td>\n",
       "      <td>90335341.0</td>\n",
       "      <td>NaN</td>\n",
       "      <td>$4204.15</td>\n",
       "    </tr>\n",
       "  </tbody>\n",
       "</table>\n",
       "</div>"
      ],
      "text/plain": [
       "   Facility ID Gender Length of Stay  CCS Diagnosis Code  \\\n",
       "2         37.0      M              1                  50   \n",
       "6         37.0      M              5                 122   \n",
       "7         37.0      M              3                 123   \n",
       "\n",
       "                           CCS Diagnosis Description  CCS Procedure Code  \\\n",
       "2               Diabetes mellitus with complications                 202   \n",
       "6  Pneumonia (except that caused by tuberculosis ...                   0   \n",
       "7                                          Influenza                   0   \n",
       "\n",
       "  CCS Procedure Description  Attending Provider License Number  \\\n",
       "2         ELECTROCARDIOGRAM                         90335341.0   \n",
       "6                   NO PROC                         90335341.0   \n",
       "7                   NO PROC                         90335341.0   \n",
       "\n",
       "   Operating Provider License Number Total Charges  \n",
       "2                           167816.0      $1609.40  \n",
       "6                                NaN      $6148.10  \n",
       "7                                NaN      $4204.15  "
      ]
     },
     "execution_count": 77,
     "metadata": {},
     "output_type": "execute_result"
    }
   ],
   "source": [
    "data[data.Gender == 'M'][:3]"
   ]
  },
  {
   "cell_type": "code",
   "execution_count": 78,
   "metadata": {},
   "outputs": [
    {
     "data": {
      "text/html": [
       "<div>\n",
       "<style scoped>\n",
       "    .dataframe tbody tr th:only-of-type {\n",
       "        vertical-align: middle;\n",
       "    }\n",
       "\n",
       "    .dataframe tbody tr th {\n",
       "        vertical-align: top;\n",
       "    }\n",
       "\n",
       "    .dataframe thead th {\n",
       "        text-align: right;\n",
       "    }\n",
       "</style>\n",
       "<table border=\"1\" class=\"dataframe\">\n",
       "  <thead>\n",
       "    <tr style=\"text-align: right;\">\n",
       "      <th></th>\n",
       "      <th>Facility ID</th>\n",
       "      <th>CCS Diagnosis Code</th>\n",
       "      <th>CCS Procedure Code</th>\n",
       "    </tr>\n",
       "  </thead>\n",
       "  <tbody>\n",
       "    <tr>\n",
       "      <th>0</th>\n",
       "      <td>37.0</td>\n",
       "      <td>197</td>\n",
       "      <td>0</td>\n",
       "    </tr>\n",
       "    <tr>\n",
       "      <th>1</th>\n",
       "      <td>37.0</td>\n",
       "      <td>146</td>\n",
       "      <td>0</td>\n",
       "    </tr>\n",
       "    <tr>\n",
       "      <th>2</th>\n",
       "      <td>37.0</td>\n",
       "      <td>50</td>\n",
       "      <td>202</td>\n",
       "    </tr>\n",
       "  </tbody>\n",
       "</table>\n",
       "</div>"
      ],
      "text/plain": [
       "   Facility ID  CCS Diagnosis Code  CCS Procedure Code\n",
       "0         37.0                 197                   0\n",
       "1         37.0                 146                   0\n",
       "2         37.0                  50                 202"
      ]
     },
     "execution_count": 78,
     "metadata": {},
     "output_type": "execute_result"
    }
   ],
   "source": [
    "data.iloc[:,[0,3,5]][:3]"
   ]
  },
  {
   "cell_type": "markdown",
   "metadata": {
    "slideshow": {
     "slide_type": "slide"
    }
   },
   "source": [
    "# Sorting"
   ]
  },
  {
   "cell_type": "code",
   "execution_count": 79,
   "metadata": {},
   "outputs": [
    {
     "data": {
      "text/html": [
       "<div>\n",
       "<style scoped>\n",
       "    .dataframe tbody tr th:only-of-type {\n",
       "        vertical-align: middle;\n",
       "    }\n",
       "\n",
       "    .dataframe tbody tr th {\n",
       "        vertical-align: top;\n",
       "    }\n",
       "\n",
       "    .dataframe thead th {\n",
       "        text-align: right;\n",
       "    }\n",
       "</style>\n",
       "<table border=\"1\" class=\"dataframe\">\n",
       "  <thead>\n",
       "    <tr style=\"text-align: right;\">\n",
       "      <th></th>\n",
       "      <th>Facility ID</th>\n",
       "      <th>Gender</th>\n",
       "      <th>Length of Stay</th>\n",
       "      <th>CCS Diagnosis Code</th>\n",
       "      <th>CCS Diagnosis Description</th>\n",
       "      <th>CCS Procedure Code</th>\n",
       "      <th>CCS Procedure Description</th>\n",
       "      <th>Attending Provider License Number</th>\n",
       "      <th>Operating Provider License Number</th>\n",
       "      <th>Total Charges</th>\n",
       "    </tr>\n",
       "  </thead>\n",
       "  <tbody>\n",
       "    <tr>\n",
       "      <th>1426998</th>\n",
       "      <td>1439.0</td>\n",
       "      <td>M</td>\n",
       "      <td>1</td>\n",
       "      <td>108</td>\n",
       "      <td>Congestive heart failure; nonhypertensive</td>\n",
       "      <td>0</td>\n",
       "      <td>NO PROC</td>\n",
       "      <td>251948.0</td>\n",
       "      <td>NaN</td>\n",
       "      <td>$0.50</td>\n",
       "    </tr>\n",
       "    <tr>\n",
       "      <th>780065</th>\n",
       "      <td>989.0</td>\n",
       "      <td>M</td>\n",
       "      <td>2</td>\n",
       "      <td>657</td>\n",
       "      <td>Mood disorders</td>\n",
       "      <td>218</td>\n",
       "      <td>PSYCHO/PSYCHI EVAL/THER</td>\n",
       "      <td>199003.0</td>\n",
       "      <td>154247.0</td>\n",
       "      <td>$1.00</td>\n",
       "    </tr>\n",
       "    <tr>\n",
       "      <th>781531</th>\n",
       "      <td>989.0</td>\n",
       "      <td>F</td>\n",
       "      <td>1</td>\n",
       "      <td>661</td>\n",
       "      <td>Substance-related disorders</td>\n",
       "      <td>0</td>\n",
       "      <td>NO PROC</td>\n",
       "      <td>145418.0</td>\n",
       "      <td>NaN</td>\n",
       "      <td>$1.00</td>\n",
       "    </tr>\n",
       "  </tbody>\n",
       "</table>\n",
       "</div>"
      ],
      "text/plain": [
       "         Facility ID Gender Length of Stay  CCS Diagnosis Code  \\\n",
       "1426998       1439.0      M              1                 108   \n",
       "780065         989.0      M              2                 657   \n",
       "781531         989.0      F              1                 661   \n",
       "\n",
       "                         CCS Diagnosis Description  CCS Procedure Code  \\\n",
       "1426998  Congestive heart failure; nonhypertensive                   0   \n",
       "780065                              Mood disorders                 218   \n",
       "781531                 Substance-related disorders                   0   \n",
       "\n",
       "        CCS Procedure Description  Attending Provider License Number  \\\n",
       "1426998                   NO PROC                           251948.0   \n",
       "780065    PSYCHO/PSYCHI EVAL/THER                           199003.0   \n",
       "781531                    NO PROC                           145418.0   \n",
       "\n",
       "         Operating Provider License Number Total Charges  \n",
       "1426998                                NaN         $0.50  \n",
       "780065                            154247.0         $1.00  \n",
       "781531                                 NaN         $1.00  "
      ]
     },
     "execution_count": 79,
     "metadata": {},
     "output_type": "execute_result"
    }
   ],
   "source": [
    "data.sort_values(by=\"Total Charges\").head(3)"
   ]
  },
  {
   "cell_type": "code",
   "execution_count": 80,
   "metadata": {
    "slideshow": {
     "slide_type": "slide"
    }
   },
   "outputs": [
    {
     "data": {
      "text/html": [
       "<div>\n",
       "<style scoped>\n",
       "    .dataframe tbody tr th:only-of-type {\n",
       "        vertical-align: middle;\n",
       "    }\n",
       "\n",
       "    .dataframe tbody tr th {\n",
       "        vertical-align: top;\n",
       "    }\n",
       "\n",
       "    .dataframe thead th {\n",
       "        text-align: right;\n",
       "    }\n",
       "</style>\n",
       "<table border=\"1\" class=\"dataframe\">\n",
       "  <thead>\n",
       "    <tr style=\"text-align: right;\">\n",
       "      <th></th>\n",
       "      <th>Facility ID</th>\n",
       "      <th>Gender</th>\n",
       "      <th>Length of Stay</th>\n",
       "      <th>CCS Diagnosis Code</th>\n",
       "      <th>CCS Diagnosis Description</th>\n",
       "      <th>CCS Procedure Code</th>\n",
       "      <th>CCS Procedure Description</th>\n",
       "      <th>Attending Provider License Number</th>\n",
       "      <th>Operating Provider License Number</th>\n",
       "      <th>Total Charges</th>\n",
       "    </tr>\n",
       "  </thead>\n",
       "  <tbody>\n",
       "    <tr>\n",
       "      <th>77722</th>\n",
       "      <td>213.0</td>\n",
       "      <td>F</td>\n",
       "      <td>10</td>\n",
       "      <td>100</td>\n",
       "      <td>Acute myocardial infarction</td>\n",
       "      <td>44</td>\n",
       "      <td>COR ARTERY BYP GRF-CABG</td>\n",
       "      <td>224769.0</td>\n",
       "      <td>224769.0</td>\n",
       "      <td>$99999.65</td>\n",
       "    </tr>\n",
       "    <tr>\n",
       "      <th>451015</th>\n",
       "      <td>635.0</td>\n",
       "      <td>F</td>\n",
       "      <td>1</td>\n",
       "      <td>115</td>\n",
       "      <td>Aortic; peripheral; and visceral artery aneurysms</td>\n",
       "      <td>52</td>\n",
       "      <td>AORTIC RESECTION; REPL</td>\n",
       "      <td>232988.0</td>\n",
       "      <td>232988.0</td>\n",
       "      <td>$99999.46</td>\n",
       "    </tr>\n",
       "    <tr>\n",
       "      <th>1579047</th>\n",
       "      <td>1456.0</td>\n",
       "      <td>M</td>\n",
       "      <td>12</td>\n",
       "      <td>2</td>\n",
       "      <td>Septicemia (except in labor)</td>\n",
       "      <td>157</td>\n",
       "      <td>AMPUTATE LOWER EXTRMITY</td>\n",
       "      <td>258717.0</td>\n",
       "      <td>265448.0</td>\n",
       "      <td>$99998.45</td>\n",
       "    </tr>\n",
       "  </tbody>\n",
       "</table>\n",
       "</div>"
      ],
      "text/plain": [
       "         Facility ID Gender Length of Stay  CCS Diagnosis Code  \\\n",
       "77722          213.0      F             10                 100   \n",
       "451015         635.0      F              1                 115   \n",
       "1579047       1456.0      M             12                   2   \n",
       "\n",
       "                                 CCS Diagnosis Description  \\\n",
       "77722                          Acute myocardial infarction   \n",
       "451015   Aortic; peripheral; and visceral artery aneurysms   \n",
       "1579047                       Septicemia (except in labor)   \n",
       "\n",
       "         CCS Procedure Code CCS Procedure Description  \\\n",
       "77722                    44   COR ARTERY BYP GRF-CABG   \n",
       "451015                   52    AORTIC RESECTION; REPL   \n",
       "1579047                 157   AMPUTATE LOWER EXTRMITY   \n",
       "\n",
       "         Attending Provider License Number  Operating Provider License Number  \\\n",
       "77722                             224769.0                           224769.0   \n",
       "451015                            232988.0                           232988.0   \n",
       "1579047                           258717.0                           265448.0   \n",
       "\n",
       "        Total Charges  \n",
       "77722       $99999.65  \n",
       "451015      $99999.46  \n",
       "1579047     $99998.45  "
      ]
     },
     "execution_count": 80,
     "metadata": {},
     "output_type": "execute_result"
    }
   ],
   "source": [
    "data.sort_values(by=\"Total Charges\",ascending=False).head(3)"
   ]
  },
  {
   "cell_type": "code",
   "execution_count": 81,
   "metadata": {
    "slideshow": {
     "slide_type": "slide"
    }
   },
   "outputs": [
    {
     "data": {
      "text/html": [
       "<div id=\"mostexp\" style=\"width: 500px\"></div>\n",
       "<script>\n",
       "$('head').append('<link rel=\"stylesheet\" href=\"http://bits.csb.pitt.edu/asker.js/themes/asker.default.css\" />');\n",
       "\n",
       "    var divid = '#mostexp';\n",
       "\tjQuery(divid).asker({\n",
       "\t    id: divid,\n",
       "\t    question: \"Is $99999.65 the most expensive record?\",\n",
       "\t\tanswers: [\"Yes\",'Yes','No','No'],\n",
       "        extra: [\"It's at the top of the sorted records, don't make me second-guess myself.\",\"I'm not very familiar with the American health care system so this already seems like an insanely high cost\",\"And I can tell you why not\",\"Because you wouldn't ask if Yes was the answer\"],\n",
       "        server: \"http://bits.csb.pitt.edu/asker.js/example/asker.cgi\",\n",
       "\t\tcharter: chartmaker})\n",
       "    \n",
       "$(\".jp-InputArea .o:contains(html)\").closest('.jp-InputArea').hide();\n",
       "\n",
       "\n",
       "</script>\n"
      ],
      "text/plain": [
       "<IPython.core.display.HTML object>"
      ]
     },
     "metadata": {},
     "output_type": "display_data"
    }
   ],
   "source": [
    "%%html\n",
    "<div id=\"mostexp\" style=\"width: 500px\"></div>\n",
    "<script>\n",
    "$('head').append('<link rel=\"stylesheet\" href=\"http://bits.csb.pitt.edu/asker.js/themes/asker.default.css\" />');\n",
    "\n",
    "    var divid = '#mostexp';\n",
    "\tjQuery(divid).asker({\n",
    "\t    id: divid,\n",
    "\t    question: \"Is $99999.65 the most expensive record?\",\n",
    "\t\tanswers: [\"Yes\",'Yes','No','No'],\n",
    "        extra: [\"It's at the top of the sorted records, don't make me second-guess myself.\",\"I'm not very familiar with the American health care system so this already seems like an insanely high cost\",\"And I can tell you why not\",\"Because you wouldn't ask if Yes was the answer\"],\n",
    "        server: \"http://bits.csb.pitt.edu/asker.js/example/asker.cgi\",\n",
    "\t\tcharter: chartmaker})\n",
    "    \n",
    "$(\".jp-InputArea .o:contains(html)\").closest('.jp-InputArea').hide();\n",
    "\n",
    "\n",
    "</script>"
   ]
  },
  {
   "cell_type": "markdown",
   "metadata": {
    "slideshow": {
     "slide_type": "slide"
    }
   },
   "source": [
    "# String Methods\n",
    "\n",
    "Can apply standard string functions to all cells. This returns the changed value; it does not mutate in place."
   ]
  },
  {
   "cell_type": "code",
   "execution_count": 82,
   "metadata": {},
   "outputs": [],
   "source": [
    "data['Total Charges'] = data['Total Charges'].str.lstrip('$').astype(float)"
   ]
  },
  {
   "cell_type": "markdown",
   "metadata": {},
   "source": [
    "The above *overwrites* the previous Total Charges column to be a floating point number instead of a string with a dollar sign."
   ]
  },
  {
   "cell_type": "markdown",
   "metadata": {
    "slideshow": {
     "slide_type": "slide"
    }
   },
   "source": [
    "# Correct sorting"
   ]
  },
  {
   "cell_type": "code",
   "execution_count": 83,
   "metadata": {},
   "outputs": [
    {
     "data": {
      "text/html": [
       "<div>\n",
       "<style scoped>\n",
       "    .dataframe tbody tr th:only-of-type {\n",
       "        vertical-align: middle;\n",
       "    }\n",
       "\n",
       "    .dataframe tbody tr th {\n",
       "        vertical-align: top;\n",
       "    }\n",
       "\n",
       "    .dataframe thead th {\n",
       "        text-align: right;\n",
       "    }\n",
       "</style>\n",
       "<table border=\"1\" class=\"dataframe\">\n",
       "  <thead>\n",
       "    <tr style=\"text-align: right;\">\n",
       "      <th></th>\n",
       "      <th>Facility ID</th>\n",
       "      <th>Gender</th>\n",
       "      <th>Length of Stay</th>\n",
       "      <th>CCS Diagnosis Code</th>\n",
       "      <th>CCS Diagnosis Description</th>\n",
       "      <th>CCS Procedure Code</th>\n",
       "      <th>CCS Procedure Description</th>\n",
       "      <th>Attending Provider License Number</th>\n",
       "      <th>Operating Provider License Number</th>\n",
       "      <th>Total Charges</th>\n",
       "    </tr>\n",
       "  </thead>\n",
       "  <tbody>\n",
       "    <tr>\n",
       "      <th>967254</th>\n",
       "      <td>1169.0</td>\n",
       "      <td>M</td>\n",
       "      <td>120 +</td>\n",
       "      <td>63</td>\n",
       "      <td>Diseases of white blood cells</td>\n",
       "      <td>64</td>\n",
       "      <td>BONE MARROW TRANSPLANT</td>\n",
       "      <td>198304.0</td>\n",
       "      <td>229870.0</td>\n",
       "      <td>8593455.88</td>\n",
       "    </tr>\n",
       "    <tr>\n",
       "      <th>1560003</th>\n",
       "      <td>1456.0</td>\n",
       "      <td>F</td>\n",
       "      <td>120 +</td>\n",
       "      <td>143</td>\n",
       "      <td>Abdominal hernia</td>\n",
       "      <td>86</td>\n",
       "      <td>OTHER HERNIA REPAIR</td>\n",
       "      <td>165181.0</td>\n",
       "      <td>165181.0</td>\n",
       "      <td>6272871.31</td>\n",
       "    </tr>\n",
       "    <tr>\n",
       "      <th>957685</th>\n",
       "      <td>1169.0</td>\n",
       "      <td>F</td>\n",
       "      <td>120 +</td>\n",
       "      <td>6</td>\n",
       "      <td>Hepatitis</td>\n",
       "      <td>176</td>\n",
       "      <td>OT ORGAN TRANSPLANTATN</td>\n",
       "      <td>236414.0</td>\n",
       "      <td>183253.0</td>\n",
       "      <td>5745201.42</td>\n",
       "    </tr>\n",
       "  </tbody>\n",
       "</table>\n",
       "</div>"
      ],
      "text/plain": [
       "         Facility ID Gender Length of Stay  CCS Diagnosis Code  \\\n",
       "967254        1169.0      M          120 +                  63   \n",
       "1560003       1456.0      F          120 +                 143   \n",
       "957685        1169.0      F          120 +                   6   \n",
       "\n",
       "             CCS Diagnosis Description  CCS Procedure Code  \\\n",
       "967254   Diseases of white blood cells                  64   \n",
       "1560003               Abdominal hernia                  86   \n",
       "957685                       Hepatitis                 176   \n",
       "\n",
       "        CCS Procedure Description  Attending Provider License Number  \\\n",
       "967254     BONE MARROW TRANSPLANT                           198304.0   \n",
       "1560003       OTHER HERNIA REPAIR                           165181.0   \n",
       "957685     OT ORGAN TRANSPLANTATN                           236414.0   \n",
       "\n",
       "         Operating Provider License Number  Total Charges  \n",
       "967254                            229870.0     8593455.88  \n",
       "1560003                           165181.0     6272871.31  \n",
       "957685                            183253.0     5745201.42  "
      ]
     },
     "execution_count": 83,
     "metadata": {},
     "output_type": "execute_result"
    }
   ],
   "source": [
    "data.sort_values(by=\"Total Charges\",ascending=False).head(3)"
   ]
  },
  {
   "cell_type": "markdown",
   "metadata": {
    "slideshow": {
     "slide_type": "slide"
    }
   },
   "source": [
    "# Creating New Columns"
   ]
  },
  {
   "cell_type": "code",
   "execution_count": 84,
   "metadata": {},
   "outputs": [],
   "source": [
    "data['Length of Stay'] = pd.to_numeric(data['Length of Stay'],errors='coerce')\n",
    "data['Length of Stay'].fillna(120,inplace=True)"
   ]
  },
  {
   "cell_type": "code",
   "execution_count": 85,
   "metadata": {},
   "outputs": [],
   "source": [
    "data['Charge per day'] = data['Total Charges']/data['Length of Stay']"
   ]
  },
  {
   "cell_type": "code",
   "execution_count": 86,
   "metadata": {},
   "outputs": [
    {
     "data": {
      "text/html": [
       "<div>\n",
       "<style scoped>\n",
       "    .dataframe tbody tr th:only-of-type {\n",
       "        vertical-align: middle;\n",
       "    }\n",
       "\n",
       "    .dataframe tbody tr th {\n",
       "        vertical-align: top;\n",
       "    }\n",
       "\n",
       "    .dataframe thead th {\n",
       "        text-align: right;\n",
       "    }\n",
       "</style>\n",
       "<table border=\"1\" class=\"dataframe\">\n",
       "  <thead>\n",
       "    <tr style=\"text-align: right;\">\n",
       "      <th></th>\n",
       "      <th>Facility ID</th>\n",
       "      <th>Gender</th>\n",
       "      <th>Length of Stay</th>\n",
       "      <th>CCS Diagnosis Code</th>\n",
       "      <th>CCS Diagnosis Description</th>\n",
       "      <th>CCS Procedure Code</th>\n",
       "      <th>CCS Procedure Description</th>\n",
       "      <th>Attending Provider License Number</th>\n",
       "      <th>Operating Provider License Number</th>\n",
       "      <th>Total Charges</th>\n",
       "      <th>Charge per day</th>\n",
       "    </tr>\n",
       "  </thead>\n",
       "  <tbody>\n",
       "    <tr>\n",
       "      <th>0</th>\n",
       "      <td>37.0</td>\n",
       "      <td>F</td>\n",
       "      <td>8.0</td>\n",
       "      <td>197</td>\n",
       "      <td>Skin and subcutaneous tissue infections</td>\n",
       "      <td>0</td>\n",
       "      <td>NO PROC</td>\n",
       "      <td>90335341.0</td>\n",
       "      <td>NaN</td>\n",
       "      <td>9546.85</td>\n",
       "      <td>1193.356250</td>\n",
       "    </tr>\n",
       "    <tr>\n",
       "      <th>1</th>\n",
       "      <td>37.0</td>\n",
       "      <td>F</td>\n",
       "      <td>3.0</td>\n",
       "      <td>146</td>\n",
       "      <td>Diverticulosis and diverticulitis</td>\n",
       "      <td>0</td>\n",
       "      <td>NO PROC</td>\n",
       "      <td>90335341.0</td>\n",
       "      <td>NaN</td>\n",
       "      <td>11462.75</td>\n",
       "      <td>3820.916667</td>\n",
       "    </tr>\n",
       "    <tr>\n",
       "      <th>2</th>\n",
       "      <td>37.0</td>\n",
       "      <td>M</td>\n",
       "      <td>1.0</td>\n",
       "      <td>50</td>\n",
       "      <td>Diabetes mellitus with complications</td>\n",
       "      <td>202</td>\n",
       "      <td>ELECTROCARDIOGRAM</td>\n",
       "      <td>90335341.0</td>\n",
       "      <td>167816.0</td>\n",
       "      <td>1609.40</td>\n",
       "      <td>1609.400000</td>\n",
       "    </tr>\n",
       "    <tr>\n",
       "      <th>3</th>\n",
       "      <td>37.0</td>\n",
       "      <td>F</td>\n",
       "      <td>1.0</td>\n",
       "      <td>154</td>\n",
       "      <td>Noninfectious gastroenteritis</td>\n",
       "      <td>202</td>\n",
       "      <td>ELECTROCARDIOGRAM</td>\n",
       "      <td>90335341.0</td>\n",
       "      <td>167816.0</td>\n",
       "      <td>2638.75</td>\n",
       "      <td>2638.750000</td>\n",
       "    </tr>\n",
       "    <tr>\n",
       "      <th>4</th>\n",
       "      <td>37.0</td>\n",
       "      <td>F</td>\n",
       "      <td>3.0</td>\n",
       "      <td>124</td>\n",
       "      <td>Acute and chronic tonsillitis</td>\n",
       "      <td>0</td>\n",
       "      <td>NO PROC</td>\n",
       "      <td>90335341.0</td>\n",
       "      <td>NaN</td>\n",
       "      <td>3538.25</td>\n",
       "      <td>1179.416667</td>\n",
       "    </tr>\n",
       "    <tr>\n",
       "      <th>...</th>\n",
       "      <td>...</td>\n",
       "      <td>...</td>\n",
       "      <td>...</td>\n",
       "      <td>...</td>\n",
       "      <td>...</td>\n",
       "      <td>...</td>\n",
       "      <td>...</td>\n",
       "      <td>...</td>\n",
       "      <td>...</td>\n",
       "      <td>...</td>\n",
       "      <td>...</td>\n",
       "    </tr>\n",
       "    <tr>\n",
       "      <th>2367278</th>\n",
       "      <td>943.0</td>\n",
       "      <td>F</td>\n",
       "      <td>1.0</td>\n",
       "      <td>245</td>\n",
       "      <td>Syncope</td>\n",
       "      <td>0</td>\n",
       "      <td>NO PROC</td>\n",
       "      <td>156102.0</td>\n",
       "      <td>NaN</td>\n",
       "      <td>10074.00</td>\n",
       "      <td>10074.000000</td>\n",
       "    </tr>\n",
       "    <tr>\n",
       "      <th>2367279</th>\n",
       "      <td>943.0</td>\n",
       "      <td>M</td>\n",
       "      <td>1.0</td>\n",
       "      <td>149</td>\n",
       "      <td>Biliary tract disease</td>\n",
       "      <td>0</td>\n",
       "      <td>NO PROC</td>\n",
       "      <td>267443.0</td>\n",
       "      <td>NaN</td>\n",
       "      <td>21252.00</td>\n",
       "      <td>21252.000000</td>\n",
       "    </tr>\n",
       "    <tr>\n",
       "      <th>2367280</th>\n",
       "      <td>943.0</td>\n",
       "      <td>F</td>\n",
       "      <td>1.0</td>\n",
       "      <td>102</td>\n",
       "      <td>Nonspecific chest pain</td>\n",
       "      <td>0</td>\n",
       "      <td>NO PROC</td>\n",
       "      <td>267443.0</td>\n",
       "      <td>NaN</td>\n",
       "      <td>11673.00</td>\n",
       "      <td>11673.000000</td>\n",
       "    </tr>\n",
       "    <tr>\n",
       "      <th>2367281</th>\n",
       "      <td>943.0</td>\n",
       "      <td>F</td>\n",
       "      <td>1.0</td>\n",
       "      <td>660</td>\n",
       "      <td>Alcohol-related disorders</td>\n",
       "      <td>171</td>\n",
       "      <td>SUTURE SKIN/SUBCUT TISS</td>\n",
       "      <td>267443.0</td>\n",
       "      <td>249597.0</td>\n",
       "      <td>16722.00</td>\n",
       "      <td>16722.000000</td>\n",
       "    </tr>\n",
       "    <tr>\n",
       "      <th>2367282</th>\n",
       "      <td>943.0</td>\n",
       "      <td>M</td>\n",
       "      <td>1.0</td>\n",
       "      <td>2</td>\n",
       "      <td>Septicemia (except in labor)</td>\n",
       "      <td>0</td>\n",
       "      <td>NO PROC</td>\n",
       "      <td>251080.0</td>\n",
       "      <td>NaN</td>\n",
       "      <td>11637.00</td>\n",
       "      <td>11637.000000</td>\n",
       "    </tr>\n",
       "  </tbody>\n",
       "</table>\n",
       "<p>2367283 rows × 11 columns</p>\n",
       "</div>"
      ],
      "text/plain": [
       "         Facility ID Gender  Length of Stay  CCS Diagnosis Code  \\\n",
       "0               37.0      F             8.0                 197   \n",
       "1               37.0      F             3.0                 146   \n",
       "2               37.0      M             1.0                  50   \n",
       "3               37.0      F             1.0                 154   \n",
       "4               37.0      F             3.0                 124   \n",
       "...              ...    ...             ...                 ...   \n",
       "2367278        943.0      F             1.0                 245   \n",
       "2367279        943.0      M             1.0                 149   \n",
       "2367280        943.0      F             1.0                 102   \n",
       "2367281        943.0      F             1.0                 660   \n",
       "2367282        943.0      M             1.0                   2   \n",
       "\n",
       "                       CCS Diagnosis Description  CCS Procedure Code  \\\n",
       "0        Skin and subcutaneous tissue infections                   0   \n",
       "1              Diverticulosis and diverticulitis                   0   \n",
       "2           Diabetes mellitus with complications                 202   \n",
       "3                  Noninfectious gastroenteritis                 202   \n",
       "4                  Acute and chronic tonsillitis                   0   \n",
       "...                                          ...                 ...   \n",
       "2367278                                  Syncope                   0   \n",
       "2367279                    Biliary tract disease                   0   \n",
       "2367280                   Nonspecific chest pain                   0   \n",
       "2367281                Alcohol-related disorders                 171   \n",
       "2367282             Septicemia (except in labor)                   0   \n",
       "\n",
       "        CCS Procedure Description  Attending Provider License Number  \\\n",
       "0                         NO PROC                         90335341.0   \n",
       "1                         NO PROC                         90335341.0   \n",
       "2               ELECTROCARDIOGRAM                         90335341.0   \n",
       "3               ELECTROCARDIOGRAM                         90335341.0   \n",
       "4                         NO PROC                         90335341.0   \n",
       "...                           ...                                ...   \n",
       "2367278                   NO PROC                           156102.0   \n",
       "2367279                   NO PROC                           267443.0   \n",
       "2367280                   NO PROC                           267443.0   \n",
       "2367281   SUTURE SKIN/SUBCUT TISS                           267443.0   \n",
       "2367282                   NO PROC                           251080.0   \n",
       "\n",
       "         Operating Provider License Number  Total Charges  Charge per day  \n",
       "0                                      NaN        9546.85     1193.356250  \n",
       "1                                      NaN       11462.75     3820.916667  \n",
       "2                                 167816.0        1609.40     1609.400000  \n",
       "3                                 167816.0        2638.75     2638.750000  \n",
       "4                                      NaN        3538.25     1179.416667  \n",
       "...                                    ...            ...             ...  \n",
       "2367278                                NaN       10074.00    10074.000000  \n",
       "2367279                                NaN       21252.00    21252.000000  \n",
       "2367280                                NaN       11673.00    11673.000000  \n",
       "2367281                           249597.0       16722.00    16722.000000  \n",
       "2367282                                NaN       11637.00    11637.000000  \n",
       "\n",
       "[2367283 rows x 11 columns]"
      ]
     },
     "execution_count": 86,
     "metadata": {},
     "output_type": "execute_result"
    }
   ],
   "source": [
    "data"
   ]
  },
  {
   "cell_type": "code",
   "execution_count": 87,
   "metadata": {
    "slideshow": {
     "slide_type": "slide"
    }
   },
   "outputs": [
    {
     "data": {
      "text/plain": [
       "nan"
      ]
     },
     "execution_count": 87,
     "metadata": {},
     "output_type": "execute_result"
    }
   ],
   "source": [
    "pd.to_numeric('120 +',errors='coerce')"
   ]
  },
  {
   "cell_type": "code",
   "execution_count": 88,
   "metadata": {},
   "outputs": [
    {
     "data": {
      "text/plain": [
       "'120 +'"
      ]
     },
     "execution_count": 88,
     "metadata": {},
     "output_type": "execute_result"
    }
   ],
   "source": [
    "pd.to_numeric('120 +',errors='ignore')"
   ]
  },
  {
   "cell_type": "code",
   "execution_count": 89,
   "metadata": {},
   "outputs": [
    {
     "ename": "ValueError",
     "evalue": "Unable to parse string \"120 +\" at position 0",
     "output_type": "error",
     "traceback": [
      "\u001b[0;31m---------------------------------------------------------------------------\u001b[0m",
      "\u001b[0;31mValueError\u001b[0m                                Traceback (most recent call last)",
      "\u001b[0;32m~/.local/lib/python3.8/site-packages/pandas/_libs/lib.pyx\u001b[0m in \u001b[0;36mpandas._libs.lib.maybe_convert_numeric\u001b[0;34m()\u001b[0m\n",
      "\u001b[0;31mValueError\u001b[0m: Unable to parse string \"120 +\"",
      "\nDuring handling of the above exception, another exception occurred:\n",
      "\u001b[0;31mValueError\u001b[0m                                Traceback (most recent call last)",
      "\u001b[0;32m/tmp/ipykernel_3730157/2008637986.py\u001b[0m in \u001b[0;36m<module>\u001b[0;34m\u001b[0m\n\u001b[0;32m----> 1\u001b[0;31m \u001b[0mpd\u001b[0m\u001b[0;34m.\u001b[0m\u001b[0mto_numeric\u001b[0m\u001b[0;34m(\u001b[0m\u001b[0;34m'120 +'\u001b[0m\u001b[0;34m)\u001b[0m\u001b[0;34m\u001b[0m\u001b[0;34m\u001b[0m\u001b[0m\n\u001b[0m",
      "\u001b[0;32m~/.local/lib/python3.8/site-packages/pandas/core/tools/numeric.py\u001b[0m in \u001b[0;36mto_numeric\u001b[0;34m(arg, errors, downcast)\u001b[0m\n\u001b[1;32m    181\u001b[0m         \u001b[0mcoerce_numeric\u001b[0m \u001b[0;34m=\u001b[0m \u001b[0merrors\u001b[0m \u001b[0;32mnot\u001b[0m \u001b[0;32min\u001b[0m \u001b[0;34m(\u001b[0m\u001b[0;34m\"ignore\"\u001b[0m\u001b[0;34m,\u001b[0m \u001b[0;34m\"raise\"\u001b[0m\u001b[0;34m)\u001b[0m\u001b[0;34m\u001b[0m\u001b[0;34m\u001b[0m\u001b[0m\n\u001b[1;32m    182\u001b[0m         \u001b[0;32mtry\u001b[0m\u001b[0;34m:\u001b[0m\u001b[0;34m\u001b[0m\u001b[0;34m\u001b[0m\u001b[0m\n\u001b[0;32m--> 183\u001b[0;31m             values, _ = lib.maybe_convert_numeric(\n\u001b[0m\u001b[1;32m    184\u001b[0m                 \u001b[0mvalues\u001b[0m\u001b[0;34m,\u001b[0m \u001b[0mset\u001b[0m\u001b[0;34m(\u001b[0m\u001b[0;34m)\u001b[0m\u001b[0;34m,\u001b[0m \u001b[0mcoerce_numeric\u001b[0m\u001b[0;34m=\u001b[0m\u001b[0mcoerce_numeric\u001b[0m\u001b[0;34m\u001b[0m\u001b[0;34m\u001b[0m\u001b[0m\n\u001b[1;32m    185\u001b[0m             )\n",
      "\u001b[0;32m~/.local/lib/python3.8/site-packages/pandas/_libs/lib.pyx\u001b[0m in \u001b[0;36mpandas._libs.lib.maybe_convert_numeric\u001b[0;34m()\u001b[0m\n",
      "\u001b[0;31mValueError\u001b[0m: Unable to parse string \"120 +\" at position 0"
     ]
    }
   ],
   "source": [
    "pd.to_numeric('120 +')"
   ]
  },
  {
   "cell_type": "markdown",
   "metadata": {
    "slideshow": {
     "slide_type": "slide"
    }
   },
   "source": [
    "# Group by\n",
    "\n",
    "Group records that have the same value for a column"
   ]
  },
  {
   "cell_type": "code",
   "execution_count": 90,
   "metadata": {},
   "outputs": [
    {
     "data": {
      "text/plain": [
       "<pandas.core.groupby.generic.DataFrameGroupBy object at 0x7f7522d00a90>"
      ]
     },
     "execution_count": 90,
     "metadata": {},
     "output_type": "execute_result"
    }
   ],
   "source": [
    "data.groupby('Facility ID')"
   ]
  },
  {
   "cell_type": "markdown",
   "metadata": {},
   "source": [
    "We can then apply an aggregating function to these groups."
   ]
  },
  {
   "cell_type": "code",
   "execution_count": 91,
   "metadata": {},
   "outputs": [
    {
     "data": {
      "text/html": [
       "<div>\n",
       "<style scoped>\n",
       "    .dataframe tbody tr th:only-of-type {\n",
       "        vertical-align: middle;\n",
       "    }\n",
       "\n",
       "    .dataframe tbody tr th {\n",
       "        vertical-align: top;\n",
       "    }\n",
       "\n",
       "    .dataframe thead th {\n",
       "        text-align: right;\n",
       "    }\n",
       "</style>\n",
       "<table border=\"1\" class=\"dataframe\">\n",
       "  <thead>\n",
       "    <tr style=\"text-align: right;\">\n",
       "      <th></th>\n",
       "      <th>Length of Stay</th>\n",
       "      <th>CCS Diagnosis Code</th>\n",
       "      <th>CCS Procedure Code</th>\n",
       "      <th>Attending Provider License Number</th>\n",
       "      <th>Operating Provider License Number</th>\n",
       "      <th>Total Charges</th>\n",
       "      <th>Charge per day</th>\n",
       "    </tr>\n",
       "    <tr>\n",
       "      <th>Facility ID</th>\n",
       "      <th></th>\n",
       "      <th></th>\n",
       "      <th></th>\n",
       "      <th></th>\n",
       "      <th></th>\n",
       "      <th></th>\n",
       "      <th></th>\n",
       "    </tr>\n",
       "  </thead>\n",
       "  <tbody>\n",
       "    <tr>\n",
       "      <th>377.0</th>\n",
       "      <td>2.670732</td>\n",
       "      <td>121.170732</td>\n",
       "      <td>202.439024</td>\n",
       "      <td>4.664694e+07</td>\n",
       "      <td>4.826434e+07</td>\n",
       "      <td>4060.734024</td>\n",
       "      <td>1614.759785</td>\n",
       "    </tr>\n",
       "    <tr>\n",
       "      <th>111.0</th>\n",
       "      <td>3.611111</td>\n",
       "      <td>159.777778</td>\n",
       "      <td>0.000000</td>\n",
       "      <td>1.929986e+05</td>\n",
       "      <td>NaN</td>\n",
       "      <td>4492.587778</td>\n",
       "      <td>1473.003327</td>\n",
       "    </tr>\n",
       "    <tr>\n",
       "      <th>37.0</th>\n",
       "      <td>3.162791</td>\n",
       "      <td>123.906977</td>\n",
       "      <td>54.779070</td>\n",
       "      <td>8.298531e+07</td>\n",
       "      <td>7.666251e+06</td>\n",
       "      <td>4939.879651</td>\n",
       "      <td>1628.579552</td>\n",
       "    </tr>\n",
       "    <tr>\n",
       "      <th>9250.0</th>\n",
       "      <td>2.203456</td>\n",
       "      <td>205.840173</td>\n",
       "      <td>137.955076</td>\n",
       "      <td>1.082429e+07</td>\n",
       "      <td>1.264187e+07</td>\n",
       "      <td>5618.928860</td>\n",
       "      <td>2497.869519</td>\n",
       "    </tr>\n",
       "    <tr>\n",
       "      <th>165.0</th>\n",
       "      <td>4.597884</td>\n",
       "      <td>180.206349</td>\n",
       "      <td>181.920635</td>\n",
       "      <td>2.051072e+05</td>\n",
       "      <td>4.744077e+07</td>\n",
       "      <td>6376.906455</td>\n",
       "      <td>1580.321499</td>\n",
       "    </tr>\n",
       "    <tr>\n",
       "      <th>...</th>\n",
       "      <td>...</td>\n",
       "      <td>...</td>\n",
       "      <td>...</td>\n",
       "      <td>...</td>\n",
       "      <td>...</td>\n",
       "      <td>...</td>\n",
       "      <td>...</td>\n",
       "    </tr>\n",
       "    <tr>\n",
       "      <th>563.0</th>\n",
       "      <td>6.279619</td>\n",
       "      <td>129.367643</td>\n",
       "      <td>78.085210</td>\n",
       "      <td>2.363745e+05</td>\n",
       "      <td>6.581608e+05</td>\n",
       "      <td>89385.986450</td>\n",
       "      <td>20937.033431</td>\n",
       "    </tr>\n",
       "    <tr>\n",
       "      <th>1446.0</th>\n",
       "      <td>5.633545</td>\n",
       "      <td>214.859847</td>\n",
       "      <td>157.190406</td>\n",
       "      <td>3.497396e+05</td>\n",
       "      <td>3.955800e+05</td>\n",
       "      <td>124204.521077</td>\n",
       "      <td>36290.348526</td>\n",
       "    </tr>\n",
       "    <tr>\n",
       "      <th>1139.0</th>\n",
       "      <td>8.937250</td>\n",
       "      <td>205.031446</td>\n",
       "      <td>87.044577</td>\n",
       "      <td>3.341266e+05</td>\n",
       "      <td>3.847957e+05</td>\n",
       "      <td>131992.454991</td>\n",
       "      <td>17629.688410</td>\n",
       "    </tr>\n",
       "    <tr>\n",
       "      <th>1138.0</th>\n",
       "      <td>38.527005</td>\n",
       "      <td>215.072013</td>\n",
       "      <td>213.108020</td>\n",
       "      <td>1.963923e+05</td>\n",
       "      <td>1.966056e+05</td>\n",
       "      <td>175997.805859</td>\n",
       "      <td>4195.405483</td>\n",
       "    </tr>\n",
       "    <tr>\n",
       "      <th>1486.0</th>\n",
       "      <td>61.821429</td>\n",
       "      <td>134.039683</td>\n",
       "      <td>194.801587</td>\n",
       "      <td>1.863599e+05</td>\n",
       "      <td>1.921974e+05</td>\n",
       "      <td>195780.272579</td>\n",
       "      <td>2486.885826</td>\n",
       "    </tr>\n",
       "  </tbody>\n",
       "</table>\n",
       "<p>215 rows × 7 columns</p>\n",
       "</div>"
      ],
      "text/plain": [
       "             Length of Stay  CCS Diagnosis Code  CCS Procedure Code  \\\n",
       "Facility ID                                                           \n",
       "377.0              2.670732          121.170732          202.439024   \n",
       "111.0              3.611111          159.777778            0.000000   \n",
       "37.0               3.162791          123.906977           54.779070   \n",
       "9250.0             2.203456          205.840173          137.955076   \n",
       "165.0              4.597884          180.206349          181.920635   \n",
       "...                     ...                 ...                 ...   \n",
       "563.0              6.279619          129.367643           78.085210   \n",
       "1446.0             5.633545          214.859847          157.190406   \n",
       "1139.0             8.937250          205.031446           87.044577   \n",
       "1138.0            38.527005          215.072013          213.108020   \n",
       "1486.0            61.821429          134.039683          194.801587   \n",
       "\n",
       "             Attending Provider License Number  \\\n",
       "Facility ID                                      \n",
       "377.0                             4.664694e+07   \n",
       "111.0                             1.929986e+05   \n",
       "37.0                              8.298531e+07   \n",
       "9250.0                            1.082429e+07   \n",
       "165.0                             2.051072e+05   \n",
       "...                                        ...   \n",
       "563.0                             2.363745e+05   \n",
       "1446.0                            3.497396e+05   \n",
       "1139.0                            3.341266e+05   \n",
       "1138.0                            1.963923e+05   \n",
       "1486.0                            1.863599e+05   \n",
       "\n",
       "             Operating Provider License Number  Total Charges  Charge per day  \n",
       "Facility ID                                                                    \n",
       "377.0                             4.826434e+07    4060.734024     1614.759785  \n",
       "111.0                                      NaN    4492.587778     1473.003327  \n",
       "37.0                              7.666251e+06    4939.879651     1628.579552  \n",
       "9250.0                            1.264187e+07    5618.928860     2497.869519  \n",
       "165.0                             4.744077e+07    6376.906455     1580.321499  \n",
       "...                                        ...            ...             ...  \n",
       "563.0                             6.581608e+05   89385.986450    20937.033431  \n",
       "1446.0                            3.955800e+05  124204.521077    36290.348526  \n",
       "1139.0                            3.847957e+05  131992.454991    17629.688410  \n",
       "1138.0                            1.966056e+05  175997.805859     4195.405483  \n",
       "1486.0                            1.921974e+05  195780.272579     2486.885826  \n",
       "\n",
       "[215 rows x 7 columns]"
      ]
     },
     "execution_count": 91,
     "metadata": {},
     "output_type": "execute_result"
    }
   ],
   "source": [
    "data.groupby('Facility ID').mean().sort_values(by='Total Charges')"
   ]
  },
  {
   "cell_type": "markdown",
   "metadata": {
    "slideshow": {
     "slide_type": "slide"
    }
   },
   "source": [
    "# Example"
   ]
  },
  {
   "cell_type": "code",
   "execution_count": 92,
   "metadata": {},
   "outputs": [
    {
     "data": {
      "text/html": [
       "<div>\n",
       "<style scoped>\n",
       "    .dataframe tbody tr th:only-of-type {\n",
       "        vertical-align: middle;\n",
       "    }\n",
       "\n",
       "    .dataframe tbody tr th {\n",
       "        vertical-align: top;\n",
       "    }\n",
       "\n",
       "    .dataframe thead th {\n",
       "        text-align: right;\n",
       "    }\n",
       "</style>\n",
       "<table border=\"1\" class=\"dataframe\">\n",
       "  <thead>\n",
       "    <tr style=\"text-align: right;\">\n",
       "      <th></th>\n",
       "      <th>Total Charges</th>\n",
       "    </tr>\n",
       "    <tr>\n",
       "      <th>Gender</th>\n",
       "      <th></th>\n",
       "    </tr>\n",
       "  </thead>\n",
       "  <tbody>\n",
       "    <tr>\n",
       "      <th>U</th>\n",
       "      <td>9858.198939</td>\n",
       "    </tr>\n",
       "    <tr>\n",
       "      <th>F</th>\n",
       "      <td>36867.585805</td>\n",
       "    </tr>\n",
       "    <tr>\n",
       "      <th>M</th>\n",
       "      <td>44419.344760</td>\n",
       "    </tr>\n",
       "  </tbody>\n",
       "</table>\n",
       "</div>"
      ],
      "text/plain": [
       "        Total Charges\n",
       "Gender               \n",
       "U         9858.198939\n",
       "F        36867.585805\n",
       "M        44419.344760"
      ]
     },
     "execution_count": 92,
     "metadata": {},
     "output_type": "execute_result"
    }
   ],
   "source": [
    "data.groupby('Gender').mean().sort_values(by='Total Charges').loc[:,['Total Charges']]"
   ]
  },
  {
   "cell_type": "markdown",
   "metadata": {},
   "source": [
    "The group by column has become an indexing column.  Need to `reset_index` to convert *index* to *columns*."
   ]
  },
  {
   "cell_type": "code",
   "execution_count": 93,
   "metadata": {},
   "outputs": [
    {
     "data": {
      "text/html": [
       "<div>\n",
       "<style scoped>\n",
       "    .dataframe tbody tr th:only-of-type {\n",
       "        vertical-align: middle;\n",
       "    }\n",
       "\n",
       "    .dataframe tbody tr th {\n",
       "        vertical-align: top;\n",
       "    }\n",
       "\n",
       "    .dataframe thead th {\n",
       "        text-align: right;\n",
       "    }\n",
       "</style>\n",
       "<table border=\"1\" class=\"dataframe\">\n",
       "  <thead>\n",
       "    <tr style=\"text-align: right;\">\n",
       "      <th></th>\n",
       "      <th>Gender</th>\n",
       "      <th>Total Charges</th>\n",
       "    </tr>\n",
       "  </thead>\n",
       "  <tbody>\n",
       "    <tr>\n",
       "      <th>0</th>\n",
       "      <td>U</td>\n",
       "      <td>9858.198939</td>\n",
       "    </tr>\n",
       "    <tr>\n",
       "      <th>1</th>\n",
       "      <td>F</td>\n",
       "      <td>36867.585805</td>\n",
       "    </tr>\n",
       "    <tr>\n",
       "      <th>2</th>\n",
       "      <td>M</td>\n",
       "      <td>44419.344760</td>\n",
       "    </tr>\n",
       "  </tbody>\n",
       "</table>\n",
       "</div>"
      ],
      "text/plain": [
       "  Gender  Total Charges\n",
       "0      U    9858.198939\n",
       "1      F   36867.585805\n",
       "2      M   44419.344760"
      ]
     },
     "execution_count": 93,
     "metadata": {},
     "output_type": "execute_result"
    }
   ],
   "source": [
    "data.groupby('Gender').mean().sort_values(by='Total Charges').reset_index().loc[:,['Gender','Total Charges']]"
   ]
  },
  {
   "cell_type": "markdown",
   "metadata": {
    "slideshow": {
     "slide_type": "slide"
    }
   },
   "source": [
    "# Example"
   ]
  },
  {
   "cell_type": "code",
   "execution_count": 94,
   "metadata": {},
   "outputs": [
    {
     "data": {
      "text/plain": [
       "CCS Procedure Description  Gender\n",
       "ABDOMINAL PARACENTESIS     F         56996.536195\n",
       "                           M         58532.559231\n",
       "ABORTION (TERM OF PREG)    F         26512.622947\n",
       "ALCO/DRUG REHAB/DETOX      F         18954.578164\n",
       "                           M         18187.073614\n",
       "                                         ...     \n",
       "UPPER GI X-RAY             M         31221.460246\n",
       "URETERAL CATHETERIZATN     F         36143.329481\n",
       "                           M         34182.121658\n",
       "VARI VEIN STRIP;LOW LMB    F         42519.938571\n",
       "                           M         65763.081875\n",
       "Name: Total Charges, Length: 446, dtype: float64"
      ]
     },
     "execution_count": 94,
     "metadata": {},
     "output_type": "execute_result"
    }
   ],
   "source": [
    "data.groupby(['CCS Procedure Description','Gender'])['Total Charges'].mean()"
   ]
  },
  {
   "cell_type": "markdown",
   "metadata": {
    "slideshow": {
     "slide_type": "slide"
    }
   },
   "source": [
    "**unstack** Pivot a level of the (necessarily hierarchical) index labels."
   ]
  },
  {
   "cell_type": "code",
   "execution_count": 95,
   "metadata": {
    "slideshow": {
     "slide_type": "-"
    }
   },
   "outputs": [
    {
     "data": {
      "text/html": [
       "<div>\n",
       "<style scoped>\n",
       "    .dataframe tbody tr th:only-of-type {\n",
       "        vertical-align: middle;\n",
       "    }\n",
       "\n",
       "    .dataframe tbody tr th {\n",
       "        vertical-align: top;\n",
       "    }\n",
       "\n",
       "    .dataframe thead th {\n",
       "        text-align: right;\n",
       "    }\n",
       "</style>\n",
       "<table border=\"1\" class=\"dataframe\">\n",
       "  <thead>\n",
       "    <tr style=\"text-align: right;\">\n",
       "      <th>Gender</th>\n",
       "      <th>F</th>\n",
       "      <th>M</th>\n",
       "      <th>U</th>\n",
       "    </tr>\n",
       "    <tr>\n",
       "      <th>CCS Procedure Description</th>\n",
       "      <th></th>\n",
       "      <th></th>\n",
       "      <th></th>\n",
       "    </tr>\n",
       "  </thead>\n",
       "  <tbody>\n",
       "    <tr>\n",
       "      <th>ABDOMINAL PARACENTESIS</th>\n",
       "      <td>56996.536195</td>\n",
       "      <td>58532.559231</td>\n",
       "      <td>NaN</td>\n",
       "    </tr>\n",
       "    <tr>\n",
       "      <th>ABORTION (TERM OF PREG)</th>\n",
       "      <td>26512.622947</td>\n",
       "      <td>NaN</td>\n",
       "      <td>NaN</td>\n",
       "    </tr>\n",
       "    <tr>\n",
       "      <th>ALCO/DRUG REHAB/DETOX</th>\n",
       "      <td>18954.578164</td>\n",
       "      <td>18187.073614</td>\n",
       "      <td>NaN</td>\n",
       "    </tr>\n",
       "    <tr>\n",
       "      <th>AMPUTATE LOWER EXTRMITY</th>\n",
       "      <td>100926.639344</td>\n",
       "      <td>92821.328596</td>\n",
       "      <td>NaN</td>\n",
       "    </tr>\n",
       "    <tr>\n",
       "      <th>AORTIC RESECTION; REPL</th>\n",
       "      <td>144019.629159</td>\n",
       "      <td>114210.484050</td>\n",
       "      <td>NaN</td>\n",
       "    </tr>\n",
       "    <tr>\n",
       "      <th>...</th>\n",
       "      <td>...</td>\n",
       "      <td>...</td>\n",
       "      <td>...</td>\n",
       "    </tr>\n",
       "    <tr>\n",
       "      <th>UNGROUPABLE</th>\n",
       "      <td>68101.627500</td>\n",
       "      <td>105811.388636</td>\n",
       "      <td>NaN</td>\n",
       "    </tr>\n",
       "    <tr>\n",
       "      <th>UP GASTRO ENDOSC/BIOPSY</th>\n",
       "      <td>42625.453678</td>\n",
       "      <td>43340.006917</td>\n",
       "      <td>NaN</td>\n",
       "    </tr>\n",
       "    <tr>\n",
       "      <th>UPPER GI X-RAY</th>\n",
       "      <td>28339.654074</td>\n",
       "      <td>31221.460246</td>\n",
       "      <td>NaN</td>\n",
       "    </tr>\n",
       "    <tr>\n",
       "      <th>URETERAL CATHETERIZATN</th>\n",
       "      <td>36143.329481</td>\n",
       "      <td>34182.121658</td>\n",
       "      <td>NaN</td>\n",
       "    </tr>\n",
       "    <tr>\n",
       "      <th>VARI VEIN STRIP;LOW LMB</th>\n",
       "      <td>42519.938571</td>\n",
       "      <td>65763.081875</td>\n",
       "      <td>NaN</td>\n",
       "    </tr>\n",
       "  </tbody>\n",
       "</table>\n",
       "<p>233 rows × 3 columns</p>\n",
       "</div>"
      ],
      "text/plain": [
       "Gender                                 F              M   U\n",
       "CCS Procedure Description                                  \n",
       "ABDOMINAL PARACENTESIS      56996.536195   58532.559231 NaN\n",
       "ABORTION (TERM OF PREG)     26512.622947            NaN NaN\n",
       "ALCO/DRUG REHAB/DETOX       18954.578164   18187.073614 NaN\n",
       "AMPUTATE LOWER EXTRMITY    100926.639344   92821.328596 NaN\n",
       "AORTIC RESECTION; REPL     144019.629159  114210.484050 NaN\n",
       "...                                  ...            ...  ..\n",
       "UNGROUPABLE                 68101.627500  105811.388636 NaN\n",
       "UP GASTRO ENDOSC/BIOPSY     42625.453678   43340.006917 NaN\n",
       "UPPER GI X-RAY              28339.654074   31221.460246 NaN\n",
       "URETERAL CATHETERIZATN      36143.329481   34182.121658 NaN\n",
       "VARI VEIN STRIP;LOW LMB     42519.938571   65763.081875 NaN\n",
       "\n",
       "[233 rows x 3 columns]"
      ]
     },
     "execution_count": 95,
     "metadata": {},
     "output_type": "execute_result"
    }
   ],
   "source": [
    "gendercosts = data.groupby(['CCS Procedure Description','Gender'])['Total Charges'].mean().unstack()\n",
    "gendercosts"
   ]
  },
  {
   "cell_type": "code",
   "execution_count": 96,
   "metadata": {
    "slideshow": {
     "slide_type": "slide"
    }
   },
   "outputs": [
    {
     "data": {
      "text/plain": [
       "CCS Procedure Description\n",
       "ABDOMINAL PARACENTESIS     -1536.023036\n",
       "ABORTION (TERM OF PREG)             NaN\n",
       "ALCO/DRUG REHAB/DETOX        767.504550\n",
       "AMPUTATE LOWER EXTRMITY     8105.310748\n",
       "AORTIC RESECTION; REPL     29809.145110\n",
       "                               ...     \n",
       "UNGROUPABLE               -37709.761136\n",
       "UP GASTRO ENDOSC/BIOPSY     -714.553239\n",
       "UPPER GI X-RAY             -2881.806172\n",
       "URETERAL CATHETERIZATN      1961.207823\n",
       "VARI VEIN STRIP;LOW LMB   -23243.143304\n",
       "Length: 233, dtype: float64"
      ]
     },
     "execution_count": 96,
     "metadata": {},
     "output_type": "execute_result"
    }
   ],
   "source": [
    "genderdiffs = gendercosts.F - gendercosts.M\n",
    "genderdiffs"
   ]
  },
  {
   "cell_type": "code",
   "execution_count": 97,
   "metadata": {
    "slideshow": {
     "slide_type": "slide"
    }
   },
   "outputs": [
    {
     "data": {
      "text/plain": [
       "CCS Procedure Description\n",
       "ABDOMINAL PARACENTESIS     -1536.023036\n",
       "ALCO/DRUG REHAB/DETOX        767.504550\n",
       "AMPUTATE LOWER EXTRMITY     8105.310748\n",
       "AORTIC RESECTION; REPL     29809.145110\n",
       "APPENDECTOMY                 209.527573\n",
       "                               ...     \n",
       "UNGROUPABLE               -37709.761136\n",
       "UP GASTRO ENDOSC/BIOPSY     -714.553239\n",
       "UPPER GI X-RAY             -2881.806172\n",
       "URETERAL CATHETERIZATN      1961.207823\n",
       "VARI VEIN STRIP;LOW LMB   -23243.143304\n",
       "Length: 202, dtype: float64"
      ]
     },
     "execution_count": 97,
     "metadata": {},
     "output_type": "execute_result"
    }
   ],
   "source": [
    "genderdiffs.dropna(inplace=True)  #remove rows with NaN, modify genderdiffs in place\n",
    "genderdiffs"
   ]
  },
  {
   "cell_type": "code",
   "execution_count": 98,
   "metadata": {
    "slideshow": {
     "slide_type": "slide"
    }
   },
   "outputs": [
    {
     "data": {
      "text/plain": [
       "CCS Procedure Description\n",
       "EXTRA CIRC AUX OPEN HRT   -69453.636115\n",
       "DX PRCS ON EYE            -63462.345439\n",
       "SWAN-GANZ CATH MONITOR    -46738.846837\n",
       "PRCS ON SPLEEN            -46219.301962\n",
       "CORNEAL TRANSPLANT        -45028.501148\n",
       "dtype: float64"
      ]
     },
     "execution_count": 98,
     "metadata": {},
     "output_type": "execute_result"
    }
   ],
   "source": [
    "genderdiffs.sort_values().head(5)"
   ]
  },
  {
   "cell_type": "code",
   "execution_count": 99,
   "metadata": {},
   "outputs": [
    {
     "data": {
      "text/plain": [
       "CCS Procedure Description\n",
       "LENS & CATARACT PRCS       35378.240602\n",
       "OT INTRAOCULAR THER PRC    35907.146236\n",
       "BONE MARROW TRANSPLANT     37066.859998\n",
       "DES LES RETINA/CHOROID     52461.621223\n",
       "CORONARY THROMBOLYSIS      87870.550000\n",
       "dtype: float64"
      ]
     },
     "execution_count": 99,
     "metadata": {},
     "output_type": "execute_result"
    }
   ],
   "source": [
    "genderdiffs.sort_values().tail(5)"
   ]
  },
  {
   "cell_type": "markdown",
   "metadata": {
    "slideshow": {
     "slide_type": "slide"
    }
   },
   "source": [
    "# Combining DataFrames\n",
    "\n",
    "`pd.concat`  concatenates rows (i.e., default axis=0) while merging columns with the same name."
   ]
  },
  {
   "cell_type": "code",
   "execution_count": 100,
   "metadata": {},
   "outputs": [],
   "source": [
    "df1 = pd.DataFrame(\n",
    "    {\n",
    "        \"A\": [\"A0\", \"A1\", \"A2\", \"A3\"],\n",
    "        \"B\": [\"B0\", \"B1\", \"B2\", \"B3\"],\n",
    "        \"C\": [\"C0\", \"C1\", \"C2\", \"C3\"],\n",
    "        \"D\": [\"D0\", \"D1\", \"D2\", \"D3\"],\n",
    "    },\n",
    "    index=[0, 1, 2, 3],\n",
    ")\n",
    "\n",
    "df2 = pd.DataFrame(\n",
    "    {\n",
    "        \"B\": [\"B2\", \"B3\", \"B6\", \"B7\"],\n",
    "        \"D\": [\"D2\", \"D3\", \"D6\", \"D7\"],\n",
    "        \"F\": [\"F2\", \"F3\", \"F6\", \"F7\"],\n",
    "    },\n",
    "    index=[2, 3, 6, 7],\n",
    ")\n"
   ]
  },
  {
   "cell_type": "code",
   "execution_count": 101,
   "metadata": {
    "slideshow": {
     "slide_type": "slide"
    }
   },
   "outputs": [
    {
     "data": {
      "text/html": [
       "<div>\n",
       "<style scoped>\n",
       "    .dataframe tbody tr th:only-of-type {\n",
       "        vertical-align: middle;\n",
       "    }\n",
       "\n",
       "    .dataframe tbody tr th {\n",
       "        vertical-align: top;\n",
       "    }\n",
       "\n",
       "    .dataframe thead th {\n",
       "        text-align: right;\n",
       "    }\n",
       "</style>\n",
       "<table border=\"1\" class=\"dataframe\">\n",
       "  <thead>\n",
       "    <tr style=\"text-align: right;\">\n",
       "      <th></th>\n",
       "      <th>A</th>\n",
       "      <th>B</th>\n",
       "      <th>C</th>\n",
       "      <th>D</th>\n",
       "    </tr>\n",
       "  </thead>\n",
       "  <tbody>\n",
       "    <tr>\n",
       "      <th>0</th>\n",
       "      <td>A0</td>\n",
       "      <td>B0</td>\n",
       "      <td>C0</td>\n",
       "      <td>D0</td>\n",
       "    </tr>\n",
       "    <tr>\n",
       "      <th>1</th>\n",
       "      <td>A1</td>\n",
       "      <td>B1</td>\n",
       "      <td>C1</td>\n",
       "      <td>D1</td>\n",
       "    </tr>\n",
       "    <tr>\n",
       "      <th>2</th>\n",
       "      <td>A2</td>\n",
       "      <td>B2</td>\n",
       "      <td>C2</td>\n",
       "      <td>D2</td>\n",
       "    </tr>\n",
       "    <tr>\n",
       "      <th>3</th>\n",
       "      <td>A3</td>\n",
       "      <td>B3</td>\n",
       "      <td>C3</td>\n",
       "      <td>D3</td>\n",
       "    </tr>\n",
       "  </tbody>\n",
       "</table>\n",
       "</div>"
      ],
      "text/plain": [
       "    A   B   C   D\n",
       "0  A0  B0  C0  D0\n",
       "1  A1  B1  C1  D1\n",
       "2  A2  B2  C2  D2\n",
       "3  A3  B3  C3  D3"
      ]
     },
     "execution_count": 101,
     "metadata": {},
     "output_type": "execute_result"
    }
   ],
   "source": [
    "df1"
   ]
  },
  {
   "cell_type": "code",
   "execution_count": 102,
   "metadata": {},
   "outputs": [
    {
     "data": {
      "text/html": [
       "<div>\n",
       "<style scoped>\n",
       "    .dataframe tbody tr th:only-of-type {\n",
       "        vertical-align: middle;\n",
       "    }\n",
       "\n",
       "    .dataframe tbody tr th {\n",
       "        vertical-align: top;\n",
       "    }\n",
       "\n",
       "    .dataframe thead th {\n",
       "        text-align: right;\n",
       "    }\n",
       "</style>\n",
       "<table border=\"1\" class=\"dataframe\">\n",
       "  <thead>\n",
       "    <tr style=\"text-align: right;\">\n",
       "      <th></th>\n",
       "      <th>B</th>\n",
       "      <th>D</th>\n",
       "      <th>F</th>\n",
       "    </tr>\n",
       "  </thead>\n",
       "  <tbody>\n",
       "    <tr>\n",
       "      <th>2</th>\n",
       "      <td>B2</td>\n",
       "      <td>D2</td>\n",
       "      <td>F2</td>\n",
       "    </tr>\n",
       "    <tr>\n",
       "      <th>3</th>\n",
       "      <td>B3</td>\n",
       "      <td>D3</td>\n",
       "      <td>F3</td>\n",
       "    </tr>\n",
       "    <tr>\n",
       "      <th>6</th>\n",
       "      <td>B6</td>\n",
       "      <td>D6</td>\n",
       "      <td>F6</td>\n",
       "    </tr>\n",
       "    <tr>\n",
       "      <th>7</th>\n",
       "      <td>B7</td>\n",
       "      <td>D7</td>\n",
       "      <td>F7</td>\n",
       "    </tr>\n",
       "  </tbody>\n",
       "</table>\n",
       "</div>"
      ],
      "text/plain": [
       "    B   D   F\n",
       "2  B2  D2  F2\n",
       "3  B3  D3  F3\n",
       "6  B6  D6  F6\n",
       "7  B7  D7  F7"
      ]
     },
     "execution_count": 102,
     "metadata": {},
     "output_type": "execute_result"
    }
   ],
   "source": [
    "df2"
   ]
  },
  {
   "cell_type": "code",
   "execution_count": 103,
   "metadata": {
    "slideshow": {
     "slide_type": "slide"
    }
   },
   "outputs": [
    {
     "data": {
      "text/html": [
       "<div>\n",
       "<style scoped>\n",
       "    .dataframe tbody tr th:only-of-type {\n",
       "        vertical-align: middle;\n",
       "    }\n",
       "\n",
       "    .dataframe tbody tr th {\n",
       "        vertical-align: top;\n",
       "    }\n",
       "\n",
       "    .dataframe thead th {\n",
       "        text-align: right;\n",
       "    }\n",
       "</style>\n",
       "<table border=\"1\" class=\"dataframe\">\n",
       "  <thead>\n",
       "    <tr style=\"text-align: right;\">\n",
       "      <th></th>\n",
       "      <th>A</th>\n",
       "      <th>B</th>\n",
       "      <th>C</th>\n",
       "      <th>D</th>\n",
       "      <th>F</th>\n",
       "    </tr>\n",
       "  </thead>\n",
       "  <tbody>\n",
       "    <tr>\n",
       "      <th>0</th>\n",
       "      <td>A0</td>\n",
       "      <td>B0</td>\n",
       "      <td>C0</td>\n",
       "      <td>D0</td>\n",
       "      <td>NaN</td>\n",
       "    </tr>\n",
       "    <tr>\n",
       "      <th>1</th>\n",
       "      <td>A1</td>\n",
       "      <td>B1</td>\n",
       "      <td>C1</td>\n",
       "      <td>D1</td>\n",
       "      <td>NaN</td>\n",
       "    </tr>\n",
       "    <tr>\n",
       "      <th>2</th>\n",
       "      <td>A2</td>\n",
       "      <td>B2</td>\n",
       "      <td>C2</td>\n",
       "      <td>D2</td>\n",
       "      <td>NaN</td>\n",
       "    </tr>\n",
       "    <tr>\n",
       "      <th>3</th>\n",
       "      <td>A3</td>\n",
       "      <td>B3</td>\n",
       "      <td>C3</td>\n",
       "      <td>D3</td>\n",
       "      <td>NaN</td>\n",
       "    </tr>\n",
       "    <tr>\n",
       "      <th>2</th>\n",
       "      <td>NaN</td>\n",
       "      <td>B2</td>\n",
       "      <td>NaN</td>\n",
       "      <td>D2</td>\n",
       "      <td>F2</td>\n",
       "    </tr>\n",
       "    <tr>\n",
       "      <th>3</th>\n",
       "      <td>NaN</td>\n",
       "      <td>B3</td>\n",
       "      <td>NaN</td>\n",
       "      <td>D3</td>\n",
       "      <td>F3</td>\n",
       "    </tr>\n",
       "    <tr>\n",
       "      <th>6</th>\n",
       "      <td>NaN</td>\n",
       "      <td>B6</td>\n",
       "      <td>NaN</td>\n",
       "      <td>D6</td>\n",
       "      <td>F6</td>\n",
       "    </tr>\n",
       "    <tr>\n",
       "      <th>7</th>\n",
       "      <td>NaN</td>\n",
       "      <td>B7</td>\n",
       "      <td>NaN</td>\n",
       "      <td>D7</td>\n",
       "      <td>F7</td>\n",
       "    </tr>\n",
       "  </tbody>\n",
       "</table>\n",
       "</div>"
      ],
      "text/plain": [
       "     A   B    C   D    F\n",
       "0   A0  B0   C0  D0  NaN\n",
       "1   A1  B1   C1  D1  NaN\n",
       "2   A2  B2   C2  D2  NaN\n",
       "3   A3  B3   C3  D3  NaN\n",
       "2  NaN  B2  NaN  D2   F2\n",
       "3  NaN  B3  NaN  D3   F3\n",
       "6  NaN  B6  NaN  D6   F6\n",
       "7  NaN  B7  NaN  D7   F7"
      ]
     },
     "execution_count": 103,
     "metadata": {},
     "output_type": "execute_result"
    }
   ],
   "source": [
    "pd.concat([df1,df2])"
   ]
  },
  {
   "cell_type": "markdown",
   "metadata": {
    "slideshow": {
     "slide_type": "slide"
    }
   },
   "source": [
    "# Join\n",
    "\n",
    "You can **join** two tables **on** a specific column (or columns).  Rows that has the same value (or _key_) in that column will be combined.  \n",
    "\n",
    "  * **inner** join - key must exist in both tables\n",
    "  * **outer** join - key can exist in either table\n",
    "  * **left** join - key must exist in left table\n",
    "  * **right** join - key must exist in right table"
   ]
  },
  {
   "cell_type": "code",
   "execution_count": 104,
   "metadata": {
    "slideshow": {
     "slide_type": "slide"
    }
   },
   "outputs": [],
   "source": [
    "left = pd.DataFrame(\n",
    "    {\n",
    "        \"key\": [\"K0\", \"K1\", \"K2\", \"K3\"],\n",
    "        \"A\": [\"A0\", \"A1\", \"A2\", \"A3\"],\n",
    "        \"B\": [\"B0\", \"B1\", \"B2\", \"B3\"],\n",
    "    }\n",
    ")\n",
    "\n",
    "\n",
    "right = pd.DataFrame(\n",
    "    {\n",
    "        \"key\": [ \"K1\", \"K2\", \"K4\"],\n",
    "        \"C\": [\"C1\", \"C2\", \"C4\"],\n",
    "        \"D\": [\"D1\", \"D2\", \"D4\"],\n",
    "    }\n",
    ")"
   ]
  },
  {
   "cell_type": "code",
   "execution_count": 105,
   "metadata": {},
   "outputs": [
    {
     "data": {
      "text/html": [
       "<div>\n",
       "<style scoped>\n",
       "    .dataframe tbody tr th:only-of-type {\n",
       "        vertical-align: middle;\n",
       "    }\n",
       "\n",
       "    .dataframe tbody tr th {\n",
       "        vertical-align: top;\n",
       "    }\n",
       "\n",
       "    .dataframe thead th {\n",
       "        text-align: right;\n",
       "    }\n",
       "</style>\n",
       "<table border=\"1\" class=\"dataframe\">\n",
       "  <thead>\n",
       "    <tr style=\"text-align: right;\">\n",
       "      <th></th>\n",
       "      <th>key</th>\n",
       "      <th>A</th>\n",
       "      <th>B</th>\n",
       "    </tr>\n",
       "  </thead>\n",
       "  <tbody>\n",
       "    <tr>\n",
       "      <th>0</th>\n",
       "      <td>K0</td>\n",
       "      <td>A0</td>\n",
       "      <td>B0</td>\n",
       "    </tr>\n",
       "    <tr>\n",
       "      <th>1</th>\n",
       "      <td>K1</td>\n",
       "      <td>A1</td>\n",
       "      <td>B1</td>\n",
       "    </tr>\n",
       "    <tr>\n",
       "      <th>2</th>\n",
       "      <td>K2</td>\n",
       "      <td>A2</td>\n",
       "      <td>B2</td>\n",
       "    </tr>\n",
       "    <tr>\n",
       "      <th>3</th>\n",
       "      <td>K3</td>\n",
       "      <td>A3</td>\n",
       "      <td>B3</td>\n",
       "    </tr>\n",
       "  </tbody>\n",
       "</table>\n",
       "</div>"
      ],
      "text/plain": [
       "  key   A   B\n",
       "0  K0  A0  B0\n",
       "1  K1  A1  B1\n",
       "2  K2  A2  B2\n",
       "3  K3  A3  B3"
      ]
     },
     "execution_count": 105,
     "metadata": {},
     "output_type": "execute_result"
    }
   ],
   "source": [
    "left"
   ]
  },
  {
   "cell_type": "code",
   "execution_count": 106,
   "metadata": {},
   "outputs": [
    {
     "data": {
      "text/html": [
       "<div>\n",
       "<style scoped>\n",
       "    .dataframe tbody tr th:only-of-type {\n",
       "        vertical-align: middle;\n",
       "    }\n",
       "\n",
       "    .dataframe tbody tr th {\n",
       "        vertical-align: top;\n",
       "    }\n",
       "\n",
       "    .dataframe thead th {\n",
       "        text-align: right;\n",
       "    }\n",
       "</style>\n",
       "<table border=\"1\" class=\"dataframe\">\n",
       "  <thead>\n",
       "    <tr style=\"text-align: right;\">\n",
       "      <th></th>\n",
       "      <th>key</th>\n",
       "      <th>C</th>\n",
       "      <th>D</th>\n",
       "    </tr>\n",
       "  </thead>\n",
       "  <tbody>\n",
       "    <tr>\n",
       "      <th>0</th>\n",
       "      <td>K1</td>\n",
       "      <td>C1</td>\n",
       "      <td>D1</td>\n",
       "    </tr>\n",
       "    <tr>\n",
       "      <th>1</th>\n",
       "      <td>K2</td>\n",
       "      <td>C2</td>\n",
       "      <td>D2</td>\n",
       "    </tr>\n",
       "    <tr>\n",
       "      <th>2</th>\n",
       "      <td>K4</td>\n",
       "      <td>C4</td>\n",
       "      <td>D4</td>\n",
       "    </tr>\n",
       "  </tbody>\n",
       "</table>\n",
       "</div>"
      ],
      "text/plain": [
       "  key   C   D\n",
       "0  K1  C1  D1\n",
       "1  K2  C2  D2\n",
       "2  K4  C4  D4"
      ]
     },
     "execution_count": 106,
     "metadata": {},
     "output_type": "execute_result"
    }
   ],
   "source": [
    "right"
   ]
  },
  {
   "cell_type": "markdown",
   "metadata": {
    "slideshow": {
     "slide_type": "slide"
    }
   },
   "source": [
    "## Inner Join"
   ]
  },
  {
   "cell_type": "code",
   "execution_count": 107,
   "metadata": {},
   "outputs": [
    {
     "data": {
      "text/html": [
       "<div>\n",
       "<style scoped>\n",
       "    .dataframe tbody tr th:only-of-type {\n",
       "        vertical-align: middle;\n",
       "    }\n",
       "\n",
       "    .dataframe tbody tr th {\n",
       "        vertical-align: top;\n",
       "    }\n",
       "\n",
       "    .dataframe thead th {\n",
       "        text-align: right;\n",
       "    }\n",
       "</style>\n",
       "<table border=\"1\" class=\"dataframe\">\n",
       "  <thead>\n",
       "    <tr style=\"text-align: right;\">\n",
       "      <th></th>\n",
       "      <th>key</th>\n",
       "      <th>A</th>\n",
       "      <th>B</th>\n",
       "      <th>C</th>\n",
       "      <th>D</th>\n",
       "    </tr>\n",
       "  </thead>\n",
       "  <tbody>\n",
       "    <tr>\n",
       "      <th>0</th>\n",
       "      <td>K1</td>\n",
       "      <td>A1</td>\n",
       "      <td>B1</td>\n",
       "      <td>C1</td>\n",
       "      <td>D1</td>\n",
       "    </tr>\n",
       "    <tr>\n",
       "      <th>1</th>\n",
       "      <td>K2</td>\n",
       "      <td>A2</td>\n",
       "      <td>B2</td>\n",
       "      <td>C2</td>\n",
       "      <td>D2</td>\n",
       "    </tr>\n",
       "  </tbody>\n",
       "</table>\n",
       "</div>"
      ],
      "text/plain": [
       "  key   A   B   C   D\n",
       "0  K1  A1  B1  C1  D1\n",
       "1  K2  A2  B2  C2  D2"
      ]
     },
     "execution_count": 107,
     "metadata": {},
     "output_type": "execute_result"
    }
   ],
   "source": [
    "pd.merge(left,right,on='key',how='inner')"
   ]
  },
  {
   "cell_type": "markdown",
   "metadata": {
    "slideshow": {
     "slide_type": "slide"
    }
   },
   "source": [
    "# Outer Join"
   ]
  },
  {
   "cell_type": "code",
   "execution_count": 108,
   "metadata": {},
   "outputs": [
    {
     "data": {
      "text/html": [
       "<div>\n",
       "<style scoped>\n",
       "    .dataframe tbody tr th:only-of-type {\n",
       "        vertical-align: middle;\n",
       "    }\n",
       "\n",
       "    .dataframe tbody tr th {\n",
       "        vertical-align: top;\n",
       "    }\n",
       "\n",
       "    .dataframe thead th {\n",
       "        text-align: right;\n",
       "    }\n",
       "</style>\n",
       "<table border=\"1\" class=\"dataframe\">\n",
       "  <thead>\n",
       "    <tr style=\"text-align: right;\">\n",
       "      <th></th>\n",
       "      <th>key</th>\n",
       "      <th>A</th>\n",
       "      <th>B</th>\n",
       "      <th>C</th>\n",
       "      <th>D</th>\n",
       "    </tr>\n",
       "  </thead>\n",
       "  <tbody>\n",
       "    <tr>\n",
       "      <th>0</th>\n",
       "      <td>K0</td>\n",
       "      <td>A0</td>\n",
       "      <td>B0</td>\n",
       "      <td>NaN</td>\n",
       "      <td>NaN</td>\n",
       "    </tr>\n",
       "    <tr>\n",
       "      <th>1</th>\n",
       "      <td>K1</td>\n",
       "      <td>A1</td>\n",
       "      <td>B1</td>\n",
       "      <td>C1</td>\n",
       "      <td>D1</td>\n",
       "    </tr>\n",
       "    <tr>\n",
       "      <th>2</th>\n",
       "      <td>K2</td>\n",
       "      <td>A2</td>\n",
       "      <td>B2</td>\n",
       "      <td>C2</td>\n",
       "      <td>D2</td>\n",
       "    </tr>\n",
       "    <tr>\n",
       "      <th>3</th>\n",
       "      <td>K3</td>\n",
       "      <td>A3</td>\n",
       "      <td>B3</td>\n",
       "      <td>NaN</td>\n",
       "      <td>NaN</td>\n",
       "    </tr>\n",
       "    <tr>\n",
       "      <th>4</th>\n",
       "      <td>K4</td>\n",
       "      <td>NaN</td>\n",
       "      <td>NaN</td>\n",
       "      <td>C4</td>\n",
       "      <td>D4</td>\n",
       "    </tr>\n",
       "  </tbody>\n",
       "</table>\n",
       "</div>"
      ],
      "text/plain": [
       "  key    A    B    C    D\n",
       "0  K0   A0   B0  NaN  NaN\n",
       "1  K1   A1   B1   C1   D1\n",
       "2  K2   A2   B2   C2   D2\n",
       "3  K3   A3   B3  NaN  NaN\n",
       "4  K4  NaN  NaN   C4   D4"
      ]
     },
     "execution_count": 108,
     "metadata": {},
     "output_type": "execute_result"
    }
   ],
   "source": [
    "pd.merge(left,right,on='key',how='outer')"
   ]
  },
  {
   "cell_type": "markdown",
   "metadata": {
    "slideshow": {
     "slide_type": "slide"
    }
   },
   "source": [
    "# Left Join"
   ]
  },
  {
   "cell_type": "code",
   "execution_count": 109,
   "metadata": {},
   "outputs": [
    {
     "data": {
      "text/html": [
       "<div>\n",
       "<style scoped>\n",
       "    .dataframe tbody tr th:only-of-type {\n",
       "        vertical-align: middle;\n",
       "    }\n",
       "\n",
       "    .dataframe tbody tr th {\n",
       "        vertical-align: top;\n",
       "    }\n",
       "\n",
       "    .dataframe thead th {\n",
       "        text-align: right;\n",
       "    }\n",
       "</style>\n",
       "<table border=\"1\" class=\"dataframe\">\n",
       "  <thead>\n",
       "    <tr style=\"text-align: right;\">\n",
       "      <th></th>\n",
       "      <th>key</th>\n",
       "      <th>A</th>\n",
       "      <th>B</th>\n",
       "      <th>C</th>\n",
       "      <th>D</th>\n",
       "    </tr>\n",
       "  </thead>\n",
       "  <tbody>\n",
       "    <tr>\n",
       "      <th>0</th>\n",
       "      <td>K0</td>\n",
       "      <td>A0</td>\n",
       "      <td>B0</td>\n",
       "      <td>NaN</td>\n",
       "      <td>NaN</td>\n",
       "    </tr>\n",
       "    <tr>\n",
       "      <th>1</th>\n",
       "      <td>K1</td>\n",
       "      <td>A1</td>\n",
       "      <td>B1</td>\n",
       "      <td>C1</td>\n",
       "      <td>D1</td>\n",
       "    </tr>\n",
       "    <tr>\n",
       "      <th>2</th>\n",
       "      <td>K2</td>\n",
       "      <td>A2</td>\n",
       "      <td>B2</td>\n",
       "      <td>C2</td>\n",
       "      <td>D2</td>\n",
       "    </tr>\n",
       "    <tr>\n",
       "      <th>3</th>\n",
       "      <td>K3</td>\n",
       "      <td>A3</td>\n",
       "      <td>B3</td>\n",
       "      <td>NaN</td>\n",
       "      <td>NaN</td>\n",
       "    </tr>\n",
       "  </tbody>\n",
       "</table>\n",
       "</div>"
      ],
      "text/plain": [
       "  key   A   B    C    D\n",
       "0  K0  A0  B0  NaN  NaN\n",
       "1  K1  A1  B1   C1   D1\n",
       "2  K2  A2  B2   C2   D2\n",
       "3  K3  A3  B3  NaN  NaN"
      ]
     },
     "execution_count": 109,
     "metadata": {},
     "output_type": "execute_result"
    }
   ],
   "source": [
    "pd.merge(left,right,on='key',how='left')"
   ]
  },
  {
   "cell_type": "markdown",
   "metadata": {
    "slideshow": {
     "slide_type": "slide"
    }
   },
   "source": [
    "# Questions\n",
    "\n",
    " * How many data records are there?\n",
    " * How many coronary bypasses are there?\n",
    " * What is the average cost? Standard deviation?\n",
    " * What is the most common diagnosis that leads to a coronary bypass?\n",
    " * What percent of people with that diagnosis get a coronary bypass?\n",
    " * What are the facilities whose average cost for this operation is in the top 10%? Bottom 10%?\n",
    " * How correlated is the length of stay to the cost?\n",
    " * Is the percentage of people who go to these facilities with the most common diagnosis and receive a coronary bypass significantly different between these two groups?\n",
    " \n",
    " * What about knee replacements?\n",
    " * How well can a decision tree predict the cost of the operation?  What are the most important features?\n",
    "\n"
   ]
  },
  {
   "cell_type": "markdown",
   "metadata": {
    "slideshow": {
     "slide_type": "skip"
    }
   },
   "source": [
    "[**Answers**](emr_project.ipynb)"
   ]
  }
 ],
 "metadata": {
  "celltoolbar": "Slideshow",
  "kernelspec": {
   "display_name": "Python 3 (ipykernel)",
   "language": "python",
   "name": "python3"
  },
  "language_info": {
   "codemirror_mode": {
    "name": "ipython",
    "version": 3
   },
   "file_extension": ".py",
   "mimetype": "text/x-python",
   "name": "python",
   "nbconvert_exporter": "python",
   "pygments_lexer": "ipython3",
   "version": "3.8.10"
  },
  "widgets": {
   "state": {},
   "version": "1.1.1"
  }
 },
 "nbformat": 4,
 "nbformat_minor": 1
}
