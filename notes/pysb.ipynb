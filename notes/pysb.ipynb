{
 "cells": [
  {
   "cell_type": "markdown",
   "metadata": {
    "slideshow": {
     "slide_type": "slide"
    }
   },
   "source": [
    "# pysb\n",
    "\n",
    "## 9/9/2021\n",
    "\n",
    "Many examples shamelessly stolen from [pysb.org](http://pysb.org/)\n",
    "\n",
    "<a href=\"?print-pdf\">print view</a>"
   ]
  },
  {
   "cell_type": "code",
   "execution_count": 3,
   "metadata": {},
   "outputs": [
    {
     "data": {
      "text/html": [
       "\n",
       "<script src=\"http://bits.csb.pitt.edu/asker.js/lib/asker.js\"></script>\n",
       "\n",
       "<script>\n",
       "\n",
       "require(['https://cdnjs.cloudflare.com/ajax/libs/Chart.js/2.2.2/Chart.js'], function(Ch){\n",
       " Chart = Ch;\n",
       "});\n",
       "\n",
       "$('head').append('<link rel=\"stylesheet\" href=\"http://bits.csb.pitt.edu/asker.js/themes/asker.default.css\" />');\n",
       "\n",
       "\n",
       "//the callback is provided a canvas object and data \n",
       "var chartmaker = function(canvas, labels, data) {\n",
       "  var ctx = $(canvas).get(0).getContext(\"2d\");\n",
       "     var dataset = {labels: labels,                     \n",
       "    datasets:[{\n",
       "     data: data,\n",
       "     backgroundColor: \"rgba(150,64,150,0.5)\",\n",
       "         fillColor: \"rgba(150,64,150,0.8)\",    \n",
       "  }]};\n",
       "  var myBarChart = new Chart(ctx,{type:'bar',data:dataset,options:{legend: {display:false},scales:{yAxes:[{ticks:{min: 0}}]}}});\n",
       "\n",
       "\n",
       "};\n",
       "\n",
       "$(\".jp-InputArea .o:contains(html)\").closest('.jp-InputArea').hide();\n",
       "\n",
       "\n",
       "\n",
       "</script>\n",
       "\n"
      ],
      "text/plain": [
       "<IPython.core.display.HTML object>"
      ]
     },
     "metadata": {},
     "output_type": "display_data"
    }
   ],
   "source": [
    "%%html\n",
    "\n",
    "<script src=\"http://bits.csb.pitt.edu/asker.js/lib/asker.js\"></script>\n",
    "\n",
    "<script>\n",
    "\n",
    "require(['https://cdnjs.cloudflare.com/ajax/libs/Chart.js/2.2.2/Chart.js'], function(Ch){\n",
    " Chart = Ch;\n",
    "});\n",
    "\n",
    "$('head').append('<link rel=\"stylesheet\" href=\"http://bits.csb.pitt.edu/asker.js/themes/asker.default.css\" />');\n",
    "\n",
    "\n",
    "//the callback is provided a canvas object and data \n",
    "var chartmaker = function(canvas, labels, data) {\n",
    "  var ctx = $(canvas).get(0).getContext(\"2d\");\n",
    "     var dataset = {labels: labels,                     \n",
    "    datasets:[{\n",
    "     data: data,\n",
    "     backgroundColor: \"rgba(150,64,150,0.5)\",\n",
    "         fillColor: \"rgba(150,64,150,0.8)\",    \n",
    "  }]};\n",
    "  var myBarChart = new Chart(ctx,{type:'bar',data:dataset,options:{legend: {display:false},scales:{yAxes:[{ticks:{min: 0}}]}}});\n",
    "\n",
    "\n",
    "};\n",
    "\n",
    "$(\".jp-InputArea .o:contains(html)\").closest('.jp-InputArea').hide();\n",
    "\n",
    "\n",
    "\n",
    "</script>\n",
    "\n"
   ]
  },
  {
   "cell_type": "markdown",
   "metadata": {
    "slideshow": {
     "slide_type": "slide"
    }
   },
   "source": [
    "# import\n",
    "\n",
    " * Python comes with a number of packages that provide additional functionality.  \n",
    " * These are called _modules_.  \n",
    " * Any python file is a module.\n",
    " * The code in these modules can be included in your script with the <tt>import</tt> command\n",
    " * Python looks for scripts with the specified name in your <tt>PYTHONPATH</tt> environment variable\n",
    " * All the variables of the module are accessible through the module object\n",
    " * Very common modules: `sys`, `os`, `math`"
   ]
  },
  {
   "cell_type": "code",
   "execution_count": 2,
   "metadata": {
    "slideshow": {
     "slide_type": "slide"
    }
   },
   "outputs": [
    {
     "name": "stdout",
     "output_type": "stream",
     "text": [
      "3.141592653589793\n"
     ]
    }
   ],
   "source": [
    "import math\n",
    "print(math.pi)"
   ]
  },
  {
   "cell_type": "code",
   "execution_count": 3,
   "metadata": {},
   "outputs": [
    {
     "ename": "NameError",
     "evalue": "name 'pi' is not defined",
     "output_type": "error",
     "traceback": [
      "\u001b[0;31m---------------------------------------------------------------------------\u001b[0m",
      "\u001b[0;31mNameError\u001b[0m                                 Traceback (most recent call last)",
      "\u001b[0;32m/tmp/ipykernel_3304745/2493917274.py\u001b[0m in \u001b[0;36m<module>\u001b[0;34m\u001b[0m\n\u001b[0;32m----> 1\u001b[0;31m \u001b[0mprint\u001b[0m\u001b[0;34m(\u001b[0m\u001b[0mpi\u001b[0m\u001b[0;34m)\u001b[0m\u001b[0;34m\u001b[0m\u001b[0;34m\u001b[0m\u001b[0m\n\u001b[0m",
      "\u001b[0;31mNameError\u001b[0m: name 'pi' is not defined"
     ]
    }
   ],
   "source": [
    "print(pi)"
   ]
  },
  {
   "cell_type": "markdown",
   "metadata": {
    "slideshow": {
     "slide_type": "slide"
    }
   },
   "source": [
    "# more import\n",
    "\n",
    "You can import variables directly into your _namespace_"
   ]
  },
  {
   "cell_type": "code",
   "execution_count": 55,
   "metadata": {},
   "outputs": [
    {
     "data": {
      "text/plain": [
       "2.718281828459045"
      ]
     },
     "execution_count": 55,
     "metadata": {},
     "output_type": "execute_result"
    }
   ],
   "source": [
    "from math import e\n",
    "e"
   ]
  },
  {
   "cell_type": "markdown",
   "metadata": {},
   "source": [
    "You can rename the module"
   ]
  },
  {
   "cell_type": "code",
   "execution_count": 56,
   "metadata": {},
   "outputs": [
    {
     "data": {
      "text/plain": [
       "(3.141592653589793, 2.718281828459045)"
      ]
     },
     "execution_count": 56,
     "metadata": {},
     "output_type": "execute_result"
    }
   ],
   "source": [
    "import math as m\n",
    "m.pi, m.e"
   ]
  },
  {
   "cell_type": "markdown",
   "metadata": {
    "slideshow": {
     "slide_type": "slide"
    }
   },
   "source": [
    "# sys\n",
    "\n",
    "The <tt>sys</tt> module contains a number of system-specific functions and objects"
   ]
  },
  {
   "cell_type": "code",
   "execution_count": 57,
   "metadata": {},
   "outputs": [
    {
     "data": {
      "text/plain": [
       "['/usr/local/lib/python3.8/dist-packages/ipykernel_launcher.py',\n",
       " '-f',\n",
       " '/home/dkoes/.local/share/jupyter/runtime/kernel-8e9c7d42-dc95-440e-b380-e8e01c51f791.json']"
      ]
     },
     "execution_count": 57,
     "metadata": {},
     "output_type": "execute_result"
    }
   ],
   "source": [
    "import sys\n",
    "sys.argv  # the arguments passed to the program when it was run"
   ]
  },
  {
   "cell_type": "code",
   "execution_count": 58,
   "metadata": {},
   "outputs": [
    {
     "data": {
      "text/plain": [
       "(<ipykernel.iostream.OutStream at 0x7f183bc1e700>,\n",
       " <ipykernel.iostream.OutStream at 0x7f183bc1e6a0>)"
      ]
     },
     "execution_count": 58,
     "metadata": {},
     "output_type": "execute_result"
    }
   ],
   "source": [
    "sys.stdout,sys.stderr"
   ]
  },
  {
   "cell_type": "code",
   "execution_count": 59,
   "metadata": {},
   "outputs": [
    {
     "name": "stdout",
     "output_type": "stream",
     "text": [
      "hi"
     ]
    },
    {
     "data": {
      "text/plain": [
       "2"
      ]
     },
     "execution_count": 59,
     "metadata": {},
     "output_type": "execute_result"
    }
   ],
   "source": [
    "sys.stdout.write(\"hi\")"
   ]
  },
  {
   "cell_type": "markdown",
   "metadata": {
    "slideshow": {
     "slide_type": "slide"
    }
   },
   "source": [
    "```\n",
    "$ cat args.py \n",
    "#!/usr/bin/python\n",
    "import sys\n",
    "print(len(sys.argv))\n",
    "\n",
    "$ ./args.py hi bye\n",
    "```"
   ]
  },
  {
   "cell_type": "code",
   "execution_count": 60,
   "metadata": {},
   "outputs": [
    {
     "data": {
      "text/html": [
       "<div id=\"args\" style=\"width: 500px\"></div>\n",
       "<script>\n",
       "$('head').append('<link rel=\"stylesheet\" href=\"http://bits.csb.pitt.edu/asker.js/themes/asker.default.css\" />');\n",
       "\n",
       "    var divid = '#args';\n",
       "\tjQuery(divid).asker({\n",
       "\t    id: divid,\n",
       "\t    question: \"What prints out?\",\n",
       "\t\tanswers: [\"0\",\"1\",\"2\",\"3\",\"4\"],\n",
       "        server: \"http://bits.csb.pitt.edu/asker.js/example/asker.cgi\",\n",
       "\t\tcharter: chartmaker})\n",
       "    \n",
       "$(\".jp-InputArea .o:contains(html)\").closest('.jp-InputArea').hide();\n",
       "\n",
       "\n",
       "</script>\n"
      ],
      "text/plain": [
       "<IPython.core.display.HTML object>"
      ]
     },
     "metadata": {},
     "output_type": "display_data"
    }
   ],
   "source": [
    "%%html\n",
    "<div id=\"args\" style=\"width: 500px\"></div>\n",
    "<script>\n",
    "$('head').append('<link rel=\"stylesheet\" href=\"http://bits.csb.pitt.edu/asker.js/themes/asker.default.css\" />');\n",
    "\n",
    "    var divid = '#args';\n",
    "\tjQuery(divid).asker({\n",
    "\t    id: divid,\n",
    "\t    question: \"What prints out?\",\n",
    "\t\tanswers: [\"0\",\"1\",\"2\",\"3\",\"4\"],\n",
    "        server: \"http://bits.csb.pitt.edu/asker.js/example/asker.cgi\",\n",
    "\t\tcharter: chartmaker})\n",
    "    \n",
    "$(\".jp-InputArea .o:contains(html)\").closest('.jp-InputArea').hide();\n",
    "\n",
    "\n",
    "</script>"
   ]
  },
  {
   "cell_type": "markdown",
   "metadata": {
    "slideshow": {
     "slide_type": "slide"
    }
   },
   "source": [
    "## How to we quantify something like this?\n",
    "\n",
    "<img src=\"https://asinansaglam.github.io/python_bio_2022/files/gpcr-mapk-g-protein.png\">"
   ]
  },
  {
   "cell_type": "markdown",
   "metadata": {
    "slideshow": {
     "slide_type": "slide"
    }
   },
   "source": [
    "# Modeling\n",
    "\n",
    "A system consists of various types of species (molecules, Monomers) at different concentrations that may exist in a variety of states (e.g., bound, unbound, phosphorylated, nuclear localized, etc). Reaction rules govern how species concentrations and states vary over time.\n",
    "\n",
    "These rules are commonly represented as networks of ordinary differential equations (mass action kinetics).\n",
    "\n",
    "*In chemistry, the law of mass action is a mathematical model that explains and predicts behaviours of solutions in dynamic equilibrium. Simply put, it states that the rate of a chemical reaction is proportional to the product of the masses of the reactants. Necessarily, this implies that for a chemical reaction mixture that is in equilibrium, the ratio between the concentration of reactants and products is constant.*\n",
    "-- Wikipedia"
   ]
  },
  {
   "cell_type": "markdown",
   "metadata": {
    "collapsed": true,
    "slideshow": {
     "slide_type": "slide"
    }
   },
   "source": [
    "# Example: Ligand Binding\n",
    "\n",
    "### WARNING! Your lecturer is a computer scientist, not a chemist/physicist\n",
    "\n",
    "Consider a ligand, L, and receptor, R, that bind:\n",
    "\n",
    "$$L + R \\rightleftharpoons LR$$\n",
    "\n",
    "This reaction has a forward rate constant, $k_f$ and a reverse rate constant $k_r$.\n",
    "\n",
    "($k_{on}$ and $k_{off}$ are an alternative nomenclature)\n",
    "\n",
    "forward reaction rate $(\\frac{M}{s})$ = $k_f[L][R]$\n",
    "\n",
    "reverse reaction rate $(\\frac{M}{s})$ = $k_r[LR]$"
   ]
  },
  {
   "cell_type": "code",
   "execution_count": 61,
   "metadata": {
    "slideshow": {
     "slide_type": "slide"
    }
   },
   "outputs": [
    {
     "data": {
      "text/html": [
       "<div id=\"sbk\" style=\"width: 500px\"></div>\n",
       "<script>\n",
       "$('head').append('<link rel=\"stylesheet\" href=\"http://bits.csb.pitt.edu/asker.js/themes/asker.default.css\" />');\n",
       "\n",
       "    var divid = '#sbk';\n",
       "\tjQuery(divid).asker({\n",
       "\t    id: divid,\n",
       "\t    question: \"What are the units of k<sub>r</sub>?\",\n",
       "\t\tanswers: ['s<sup>−1</sup>','M<sup>−1</sup>s<sup>−1</sup>','M<sup>−2</sup>s<sup>−1</sup>','M<sup>−2</sup>'],\n",
       "        server: \"http://bits.csb.pitt.edu/asker.js/example/asker.cgi\",\n",
       "\t\tcharter: chartmaker})\n",
       "    \n",
       "$(\".jp-InputArea .o:contains(html)\").closest('.jp-InputArea').hide();\n",
       "\n",
       "</script>\n"
      ],
      "text/plain": [
       "<IPython.core.display.HTML object>"
      ]
     },
     "metadata": {},
     "output_type": "display_data"
    }
   ],
   "source": [
    "%%html\n",
    "<div id=\"sbk\" style=\"width: 500px\"></div>\n",
    "<script>\n",
    "$('head').append('<link rel=\"stylesheet\" href=\"http://bits.csb.pitt.edu/asker.js/themes/asker.default.css\" />');\n",
    "\n",
    "    var divid = '#sbk';\n",
    "\tjQuery(divid).asker({\n",
    "\t    id: divid,\n",
    "\t    question: \"What are the units of k<sub>r</sub>?\",\n",
    "\t\tanswers: ['s<sup>−1</sup>','M<sup>−1</sup>s<sup>−1</sup>','M<sup>−2</sup>s<sup>−1</sup>','M<sup>−2</sup>'],\n",
    "        server: \"http://bits.csb.pitt.edu/asker.js/example/asker.cgi\",\n",
    "\t\tcharter: chartmaker})\n",
    "    \n",
    "$(\".jp-InputArea .o:contains(html)\").closest('.jp-InputArea').hide();\n",
    "\n",
    "</script>"
   ]
  },
  {
   "cell_type": "markdown",
   "metadata": {
    "collapsed": true,
    "slideshow": {
     "slide_type": "slide"
    }
   },
   "source": [
    "# Example: Ligand Binding\n",
    "\n",
    "The rate of change of the various concentration can be represented with these equations:\n",
    "\n",
    "$$\\frac{\\partial [L]}{\\partial t} = -k_f  [L] [R] + k_r [LR]$$\n",
    "\n",
    "$$\\frac{\\partial [R]}{\\partial t} = -k_f  [L] [R] + k_r [LR]$$\n",
    "\n",
    "$$\\frac{\\partial [LR]}{\\partial t} = k_f  [L] [R] - k_r [LR]$$\n",
    "\n",
    "We can use [`scipy.integrate`](http://docs.scipy.org/doc/scipy/reference/integrate.html) to solve these ODEs for a given set of initial conditions.\n"
   ]
  },
  {
   "cell_type": "markdown",
   "metadata": {
    "slideshow": {
     "slide_type": "fragment"
    }
   },
   "source": [
    "But that is a little painful even for this example, and really painful for a complex system with many interacting molecular species."
   ]
  },
  {
   "cell_type": "markdown",
   "metadata": {
    "slideshow": {
     "slide_type": "slide"
    }
   },
   "source": [
    "# Rule Based Modeling\n",
    "\n",
    "Rule-based modeling provides an alternative to creating massive sets of equations.\n",
    "\n",
    "Instead, you create a less massive set of rules that are at a more appropriate level of abstraction.  For example, here is the [BioNetGen](http://bionetgen.org/index.php/Main_Page) rule equivalent for ligand binding:\n",
    "\n",
    "    begin reaction rules\n",
    "        L(r) + R(l) <-> L(r!1).R(l!1) kf, kr\n",
    "    end reaction rules\n",
    "\n",
    "`L` and `R` are the molecules which each have a single component (`l` and `r`).  They participate in a reversible reaction (`<->`) to form a complex (`.`) where `l` and `r` bind (indicated by `!1`).  The reaction has constants `kf` and `kr`.\n",
    "\n",
    "If you'd like to learn more about BioNetGen, we have the world experts here in Jim Faeder's group."
   ]
  },
  {
   "cell_type": "markdown",
   "metadata": {
    "slideshow": {
     "slide_type": "slide"
    }
   },
   "source": [
    "# PySB: Rule Based Modeling in Python\n",
    "\n",
    "In `pysb` models are specified natively in python.  Your model is a python module.\n",
    "\n",
    "The use of native python code to specify modules allows for modularity, function decomposition, and code reuse (e.g., can write a function to define a certain common model motif).\n",
    "\n",
    "By convention, model definition is in a separate file from the code that uses the model (but this isn't what we're doing in the assignment)."
   ]
  },
  {
   "cell_type": "markdown",
   "metadata": {
    "slideshow": {
     "slide_type": "slide"
    }
   },
   "source": [
    "# PySB Self-Exporting\n",
    "\n",
    "PySB *self-exports* variables when you call its function.  This is slightly strange (from a software engineering standpoint) but results in a clearer syntax.\n",
    "\n",
    "To create a model:"
   ]
  },
  {
   "cell_type": "code",
   "execution_count": 62,
   "metadata": {},
   "outputs": [
    {
     "data": {
      "text/plain": [
       "<Model '_interactive_' (monomers: 0, rules: 0, parameters: 0, expressions: 0, compartments: 0) at 0x7f1805f6dd30>"
      ]
     },
     "execution_count": 62,
     "metadata": {},
     "output_type": "execute_result"
    }
   ],
   "source": [
    "from pysb import *  #importing everything\n",
    "Model()"
   ]
  },
  {
   "cell_type": "markdown",
   "metadata": {},
   "source": [
    "**This automatically creates (self-exports) a variable called `model`**"
   ]
  },
  {
   "cell_type": "code",
   "execution_count": 63,
   "metadata": {},
   "outputs": [
    {
     "data": {
      "text/plain": [
       "<Model '_interactive_' (monomers: 0, rules: 0, parameters: 0, expressions: 0, compartments: 0) at 0x7f1805f6dd30>"
      ]
     },
     "execution_count": 63,
     "metadata": {},
     "output_type": "execute_result"
    }
   ],
   "source": [
    "model"
   ]
  },
  {
   "cell_type": "markdown",
   "metadata": {
    "slideshow": {
     "slide_type": "slide"
    }
   },
   "source": [
    "# Monomers\n",
    "\n",
    "\"Monomers are the indivisible elements that will make up the molecules and complexes whose behavior you intend to model.\"\n",
    "\n",
    "`Monomer(`*name*,*sites*,*states*`)`\n",
    " * *name* The name of the monomer. A variable with this name will be created to represent this monomer\n",
    " * *sites* List of named locations on the monomer. Necessary for binding and for representing different states.\n",
    " * *states* Optional. A dictionary mapping sites to a list of possible states (e.g. inactive/active)."
   ]
  },
  {
   "cell_type": "code",
   "execution_count": 64,
   "metadata": {},
   "outputs": [
    {
     "name": "stdout",
     "output_type": "stream",
     "text": [
      "Monomer('L', ['s']) Monomer('R', ['s'])\n"
     ]
    }
   ],
   "source": [
    "Monomer('L', ['s'])\n",
    "Monomer('R', ['s'])\n",
    "print(L,R) #self-exported"
   ]
  },
  {
   "cell_type": "markdown",
   "metadata": {
    "slideshow": {
     "slide_type": "slide"
    }
   },
   "source": [
    "# Parameters\n",
    "\n",
    "Parameters are named numerical constants that can be used as initial concentrations or reaction rates."
   ]
  },
  {
   "cell_type": "code",
   "execution_count": 65,
   "metadata": {},
   "outputs": [
    {
     "data": {
      "text/latex": [
       "$\\displaystyle kr$"
      ],
      "text/plain": [
       "Parameter('kr', 0.001)"
      ]
     },
     "execution_count": 65,
     "metadata": {},
     "output_type": "execute_result"
    }
   ],
   "source": [
    "Parameter('L_0', 100)\n",
    "Parameter('R_0', 200)\n",
    "Parameter('kf', 1e-3)\n",
    "Parameter('kr', 1e-3)"
   ]
  },
  {
   "cell_type": "markdown",
   "metadata": {},
   "source": [
    "Names are exported:"
   ]
  },
  {
   "cell_type": "code",
   "execution_count": 66,
   "metadata": {},
   "outputs": [
    {
     "name": "stdout",
     "output_type": "stream",
     "text": [
      "Parameter('L_0', 100.0) 100.0\n"
     ]
    }
   ],
   "source": [
    "print(L_0,L_0.value)"
   ]
  },
  {
   "cell_type": "markdown",
   "metadata": {
    "slideshow": {
     "slide_type": "slide"
    }
   },
   "source": [
    "# Rules\n",
    "\n",
    "Rules are created by specifying a name for the rule (which becomes the name of the corresponding variable), a RuleExpression, and one or two reaction constants.  \n",
    "\n",
    "The syntax for RuleExpressions is very similar to BioNetGen (in fact, PySB uses BioNetGen under the hood)."
   ]
  },
  {
   "cell_type": "code",
   "execution_count": 67,
   "metadata": {},
   "outputs": [
    {
     "data": {
      "text/plain": [
       "Rule('L_binds_R', L(s=None) + R(s=None) | L(s=1) % R(s=1), kf, kr)"
      ]
     },
     "execution_count": 67,
     "metadata": {},
     "output_type": "execute_result"
    }
   ],
   "source": [
    "Rule('L_binds_R', L(s=None) + R(s=None) | L(s=1) % R(s=1), kf, kr)"
   ]
  },
  {
   "cell_type": "code",
   "execution_count": 68,
   "metadata": {},
   "outputs": [
    {
     "name": "stdout",
     "output_type": "stream",
     "text": [
      "Rule('L_binds_R', L(s=None) + R(s=None) | L(s=1) % R(s=1), kf, kr)\n"
     ]
    }
   ],
   "source": [
    "print(L_binds_R)"
   ]
  },
  {
   "cell_type": "markdown",
   "metadata": {
    "slideshow": {
     "slide_type": "slide"
    }
   },
   "source": [
    "# RuleExpressions\n",
    "\n",
    " * **+** operator to represent complexation (addition)\n",
    " * **|** operator to represent backward/forward reaction (in Python2 this was <>)\n",
    " * **>>** operator to represent forward-only reaction\n",
    " * **%** operator to represent a binding interaction between two species\n",
    " \n",
    " The state of the sites must be specified (can be `None`). To indicate that two sites are bound in a binding interaction assign them the same number."
   ]
  },
  {
   "cell_type": "code",
   "execution_count": 69,
   "metadata": {
    "slideshow": {
     "slide_type": "-"
    }
   },
   "outputs": [
    {
     "name": "stdout",
     "output_type": "stream",
     "text": [
      "Rule('L_binds_R', L(s=None) + R(s=None) | L(s=1) % R(s=1), kf, kr)\n"
     ]
    }
   ],
   "source": [
    "# Rule('L_binds_R', L(s=None) + R(s=None) | L(s=1) % R(s=1), kf, kr)\n",
    "print(L_binds_R)"
   ]
  },
  {
   "cell_type": "markdown",
   "metadata": {
    "slideshow": {
     "slide_type": "slide"
    }
   },
   "source": [
    "# Initial Conditions\n",
    "\n",
    "In order to integrate the ODEs underlying the model, we need to specify any non-zero initial conditions.\n",
    "\n",
    "These need to be set with a Parameter object (not a numerical value)."
   ]
  },
  {
   "cell_type": "code",
   "execution_count": 70,
   "metadata": {},
   "outputs": [
    {
     "data": {
      "text/plain": [
       "Initial(R(s=None), R_0)"
      ]
     },
     "execution_count": 70,
     "metadata": {},
     "output_type": "execute_result"
    }
   ],
   "source": [
    "Initial(L(s=None), L_0)  # L_0 is a parameter\n",
    "Initial(R(s=None), R_0)  # R_0 is a parameter"
   ]
  },
  {
   "cell_type": "markdown",
   "metadata": {
    "slideshow": {
     "slide_type": "slide"
    }
   },
   "source": [
    "# Observables\n",
    "\n",
    "Finally, we specify what species and/or combinations of species we want to monitor the concentrations of by creating `Observable` objects.  These take a name and an expression to observe."
   ]
  },
  {
   "cell_type": "code",
   "execution_count": 71,
   "metadata": {},
   "outputs": [
    {
     "data": {
      "text/latex": [
       "$\\displaystyle LR$"
      ],
      "text/plain": [
       "Observable('LR', L(s=1) % R(s=1))"
      ]
     },
     "execution_count": 71,
     "metadata": {},
     "output_type": "execute_result"
    }
   ],
   "source": [
    "Observable('unboundL', L(s=None))\n",
    "Observable('unboundR', R(s=None))\n",
    "Observable('LR', L(s=1) % R(s=1))"
   ]
  },
  {
   "cell_type": "markdown",
   "metadata": {
    "slideshow": {
     "slide_type": "slide"
    }
   },
   "source": [
    "# The Model\n",
    "\n",
    "All of these expressions automatically add themselves to the current model object."
   ]
  },
  {
   "cell_type": "code",
   "execution_count": 72,
   "metadata": {},
   "outputs": [
    {
     "data": {
      "text/plain": [
       "<Model '_interactive_' (monomers: 2, rules: 1, parameters: 4, expressions: 0, compartments: 0) at 0x7f1805f6dd30>"
      ]
     },
     "execution_count": 72,
     "metadata": {},
     "output_type": "execute_result"
    }
   ],
   "source": [
    "model"
   ]
  },
  {
   "cell_type": "code",
   "execution_count": 73,
   "metadata": {},
   "outputs": [
    {
     "data": {
      "text/plain": [
       "ComponentSet([\n",
       " Parameter('L_0', 100.0),\n",
       " Parameter('R_0', 200.0),\n",
       " Parameter('kf', 0.001),\n",
       " Parameter('kr', 0.001),\n",
       " ])"
      ]
     },
     "execution_count": 73,
     "metadata": {},
     "output_type": "execute_result"
    }
   ],
   "source": [
    "model.parameters"
   ]
  },
  {
   "cell_type": "code",
   "execution_count": 74,
   "metadata": {
    "slideshow": {
     "slide_type": "slide"
    }
   },
   "outputs": [
    {
     "data": {
      "text/latex": [
       "$\\displaystyle LR$"
      ],
      "text/plain": [
       "Observable('LR', L(s=1) % R(s=1))"
      ]
     },
     "execution_count": 74,
     "metadata": {},
     "output_type": "execute_result"
    }
   ],
   "source": [
    "from pysb import *\n",
    "\n",
    "Model()\n",
    "\n",
    "Monomer('L', ['s'])\n",
    "Monomer('R', ['s'])\n",
    "\n",
    "Parameter('L_0', 100)\n",
    "Parameter('R_0', 200)\n",
    "Parameter('kf', 1e-3)\n",
    "Parameter('kr', 1e-3)\n",
    "\n",
    "Initial(L(s=None), L_0)\n",
    "Initial(R(s=None), R_0)\n",
    "\n",
    "Rule('L_binds_R', L(s=None) + R(s=None) | L(s=1) % R(s=1), kf, kr)\n",
    "\n",
    "Observable('unboundL', L(s=None))\n",
    "Observable('unboundR', R(s=None))\n",
    "Observable('LR', L(s=1) % R(s=1))"
   ]
  },
  {
   "cell_type": "markdown",
   "metadata": {
    "slideshow": {
     "slide_type": "slide"
    }
   },
   "source": [
    "# Seeing the Model\n",
    "\n",
    "PySB comes with a script for creating a GraphViz `.dot` file.\n",
    "\n",
    "`python -m pysb.tools.render_reactions lrmodel.py  > lrmodel.dot`\n",
    "\n",
    "`dot -Tpng lrmodel.dot > lrmodel.png`\n",
    "\n",
    "<img src=\"imgs/hello.png\">"
   ]
  },
  {
   "cell_type": "markdown",
   "metadata": {
    "slideshow": {
     "slide_type": "slide"
    }
   },
   "source": [
    "# Using the Model\n",
    "\n",
    "For a given time span we can solve the ODEs to track changes in concentration."
   ]
  },
  {
   "cell_type": "code",
   "execution_count": 75,
   "metadata": {},
   "outputs": [],
   "source": [
    "from pysb.integrate import odesolve\n",
    "import numpy as np\n",
    "import matplotlib.pyplot as plt\n",
    "%matplotlib inline \n",
    "\n",
    "time = np.linspace(0, 40, 100)\n",
    "sol = odesolve(model, time)"
   ]
  },
  {
   "cell_type": "code",
   "execution_count": 76,
   "metadata": {},
   "outputs": [
    {
     "data": {
      "text/plain": [
       "array([ 0.,  5., 10., 15., 20.])"
      ]
     },
     "execution_count": 76,
     "metadata": {},
     "output_type": "execute_result"
    }
   ],
   "source": [
    "np.linspace(start=0,stop=20,num=5)  #generates num evenly spaced points from start to stop"
   ]
  },
  {
   "cell_type": "markdown",
   "metadata": {
    "slideshow": {
     "slide_type": "slide"
    }
   },
   "source": [
    "The returned value from `odesolve` can be indexed by the observables."
   ]
  },
  {
   "cell_type": "code",
   "execution_count": 77,
   "metadata": {},
   "outputs": [
    {
     "data": {
      "text/plain": [
       "array([ 0.        ,  7.61654594, 14.40182471, 20.47986002, 25.95122824,\n",
       "       30.89839963, 35.38952808, 39.4815096 , 43.22220517, 46.65213929,\n",
       "       49.80587027, 52.71305357, 55.39926949, 57.88670512, 60.19471768,\n",
       "       62.34026906, 64.3382599 , 66.20183836, 67.94266504, 69.57112061,\n",
       "       71.09646951, 72.52700243, 73.87016406, 75.13266138, 76.32055215,\n",
       "       77.43931976, 78.49393939, 79.48893343, 80.42842847, 81.31619634,\n",
       "       82.15568519, 82.95006828, 83.70225069, 84.41490605, 85.09050052,\n",
       "       85.7313101 , 86.33943955, 86.91684046, 87.46532227, 87.98656395,\n",
       "       88.48212763, 88.95346687, 89.40193616, 89.82879984, 90.23523942,\n",
       "       90.62235912, 90.99119274, 91.34270913, 91.67781634, 91.99736673,\n",
       "       92.30216148, 92.59295349, 92.87045117, 93.13532197, 93.38819448,\n",
       "       93.62966147, 93.86028251, 94.08058578, 94.2910703 , 94.49220775,\n",
       "       94.68444428, 94.86820255, 95.04388179, 95.2118625 , 95.37250242,\n",
       "       95.52614429, 95.67310975, 95.81370667, 95.94822593, 96.0769441 ,\n",
       "       96.20012417, 96.3180159 , 96.43085728, 96.53887416, 96.64228238,\n",
       "       96.74128633, 96.83608172, 96.92685408, 97.0137807 , 97.09703032,\n",
       "       97.17676376, 97.25313452, 97.32628878, 97.39636634, 97.46350018,\n",
       "       97.52781771, 97.58944004, 97.64848325, 97.70505789, 97.75926967,\n",
       "       97.81121957, 97.86100401, 97.90871521, 97.95444121, 97.99826632,\n",
       "       98.04027094, 98.08053218, 98.11912356, 98.15611555, 98.19157548])"
      ]
     },
     "execution_count": 77,
     "metadata": {},
     "output_type": "execute_result"
    }
   ],
   "source": [
    "sol['LR']"
   ]
  },
  {
   "cell_type": "code",
   "execution_count": 98,
   "metadata": {
    "slideshow": {
     "slide_type": "slide"
    }
   },
   "outputs": [
    {
     "data": {
      "text/html": [
       "<div id=\"sollen\" style=\"width: 500px\"></div>\n",
       "<script>\n",
       "$('head').append('<link rel=\"stylesheet\" href=\"http://bits.csb.pitt.edu/asker.js/themes/asker.default.css\" />');\n",
       "\n",
       "    var divid = '#sollen';\n",
       "\tjQuery(divid).asker({\n",
       "\t    id: divid,\n",
       "\t    question: \"What is the length of this array?\",\n",
       "\t\tanswers: ['39','40','99','100'],\n",
       "        server: \"http://bits.csb.pitt.edu/asker.js/example/asker.cgi\",\n",
       "\t\tcharter: chartmaker})\n",
       "    \n",
       "$(\".jp-InputArea .o:contains(html)\").closest('.jp-InputArea').hide();\n",
       "\n",
       "\n",
       "</script>\n"
      ],
      "text/plain": [
       "<IPython.core.display.HTML object>"
      ]
     },
     "metadata": {},
     "output_type": "display_data"
    }
   ],
   "source": [
    "%%html\n",
    "<div id=\"sollen\" style=\"width: 500px\"></div>\n",
    "<script>\n",
    "$('head').append('<link rel=\"stylesheet\" href=\"http://bits.csb.pitt.edu/asker.js/themes/asker.default.css\" />');\n",
    "\n",
    "    var divid = '#sollen';\n",
    "\tjQuery(divid).asker({\n",
    "\t    id: divid,\n",
    "\t    question: \"What is the length of this array?\",\n",
    "\t\tanswers: ['39','40','99','100'],\n",
    "        server: \"http://bits.csb.pitt.edu/asker.js/example/asker.cgi\",\n",
    "\t\tcharter: chartmaker})\n",
    "    \n",
    "$(\".jp-InputArea .o:contains(html)\").closest('.jp-InputArea').hide();\n",
    "\n",
    "\n",
    "</script>"
   ]
  },
  {
   "cell_type": "markdown",
   "metadata": {
    "slideshow": {
     "slide_type": "slide"
    }
   },
   "source": [
    "# Plotting"
   ]
  },
  {
   "cell_type": "code",
   "execution_count": 79,
   "metadata": {},
   "outputs": [
    {
     "data": {
      "image/png": "[encoded data removed]",
      "text/plain": [
       "<Figure size 432x288 with 1 Axes>"
      ]
     },
     "metadata": {
      "needs_background": "light"
     },
     "output_type": "display_data"
    }
   ],
   "source": [
    "plt.plot(time,sol['LR'], label='LR')\n",
    "plt.plot(time,sol['unboundL'], label='L')\n",
    "plt.plot(time,sol['unboundR'], label='R')\n",
    "plt.xlabel(\"Time (s)\")\n",
    "plt.ylabel(\"Amount\")\n",
    "plt.legend()\n",
    "plt.show()"
   ]
  },
  {
   "cell_type": "markdown",
   "metadata": {
    "slideshow": {
     "slide_type": "slide"
    }
   },
   "source": [
    "# Modifying Parameters\n",
    "\n",
    "The model object is *mutable* - we can easily change parameters and see what happens."
   ]
  },
  {
   "cell_type": "code",
   "execution_count": 80,
   "metadata": {},
   "outputs": [],
   "source": [
    "model.parameters['kf'].value = 0.0001\n",
    "time = np.linspace(0, 200, 100)\n",
    "sol = odesolve(model, time)"
   ]
  },
  {
   "cell_type": "code",
   "execution_count": 99,
   "metadata": {
    "slideshow": {
     "slide_type": "slide"
    }
   },
   "outputs": [
    {
     "data": {
      "text/html": [
       "<div id=\"rateintuit\" style=\"width: 500px\"></div>\n",
       "<script>\n",
       "$('head').append('<link rel=\"stylesheet\" href=\"http://bits.csb.pitt.edu/asker.js/themes/asker.default.css\" />');\n",
       "\n",
       "    var divid = '#rateintuit';\n",
       "\tjQuery(divid).asker({\n",
       "\t    id: divid,\n",
       "\t    question: \"How will the concentration of LR change at time 40 compared to kf = 0.001?\",\n",
       "\t\tanswers: ['Less','Same','More','Error'],\n",
       "        server: \"http://bits.csb.pitt.edu/asker.js/example/asker.cgi\",\n",
       "\t\tcharter: chartmaker})\n",
       "    \n",
       "$(\".jp-InputArea .o:contains(html)\").closest('.jp-InputArea').hide();\n",
       "\n",
       "\n",
       "</script>\n"
      ],
      "text/plain": [
       "<IPython.core.display.HTML object>"
      ]
     },
     "metadata": {},
     "output_type": "display_data"
    }
   ],
   "source": [
    "%%html\n",
    "<div id=\"rateintuit\" style=\"width: 500px\"></div>\n",
    "<script>\n",
    "$('head').append('<link rel=\"stylesheet\" href=\"http://bits.csb.pitt.edu/asker.js/themes/asker.default.css\" />');\n",
    "\n",
    "    var divid = '#rateintuit';\n",
    "\tjQuery(divid).asker({\n",
    "\t    id: divid,\n",
    "\t    question: \"How will the concentration of LR change at time 40 compared to kf = 0.001?\",\n",
    "\t\tanswers: ['Less','Same','More','Error'],\n",
    "        server: \"http://bits.csb.pitt.edu/asker.js/example/asker.cgi\",\n",
    "\t\tcharter: chartmaker})\n",
    "    \n",
    "$(\".jp-InputArea .o:contains(html)\").closest('.jp-InputArea').hide();\n",
    "\n",
    "\n",
    "</script>"
   ]
  },
  {
   "cell_type": "code",
   "execution_count": 82,
   "metadata": {
    "slideshow": {
     "slide_type": "slide"
    }
   },
   "outputs": [
    {
     "data": {
      "image/png": "[encoded data removed]",
      "text/plain": [
       "<Figure size 432x288 with 1 Axes>"
      ]
     },
     "metadata": {
      "needs_background": "light"
     },
     "output_type": "display_data"
    }
   ],
   "source": [
    "plt.plot(time,sol['LR'], label='LR')\n",
    "plt.plot(time,sol['unboundL'], label='L')\n",
    "plt.plot(time,sol['unboundR'], label='R')\n",
    "plt.xlabel(\"Time (s)\"); plt.ylabel(\"Amount\"); plt.legend(); plt.show()"
   ]
  },
  {
   "cell_type": "markdown",
   "metadata": {
    "slideshow": {
     "slide_type": "slide"
    }
   },
   "source": [
    "# Macros\n",
    "\n",
    "The real advantage of PySB is the ability to create reusable macros of common rule patterns.\n",
    "\n",
    "* `equilibrate` -  Generate the reversible equilibrium reaction S1 <-> S2\n",
    "* `bind` - Generate the reversible binding reaction S1 + S2 | S1:S2 \n",
    "* `catalyze` - Generate the two-step catalytic reaction E + S | E:S >> E + P\n",
    "* `catalyze_one_step` - Generate the one-step catalytic reaction E + S >> E + P\n",
    "* `catalyze_one_step_reversible` -     Create fwd and reverse rules for catalysis of the form: E + S -> E + P, P -> S\n",
    "* `synthesize` - Generate a reaction which synthesizes a species\n",
    "* `degrade` - Generate a reaction which degrades a species\n",
    "* `assemble_pore_sequential` - Generate rules to assemble a circular homomeric pore sequentially\n",
    "* `pore_transport` - Generate rules to transport cargo through a circular homomeric pore"
   ]
  },
  {
   "cell_type": "code",
   "execution_count": 83,
   "metadata": {
    "slideshow": {
     "slide_type": "slide"
    }
   },
   "outputs": [
    {
     "name": "stdout",
     "output_type": "stream",
     "text": [
      "Help on function catalyze_state in module pysb.macros:\n",
      "\n",
      "catalyze_state(enzyme, e_site, substrate, s_site, mod_site, state1, state2, klist)\n",
      "    Generate the two-step catalytic reaction E + S | E:S >> E + P. A wrapper\n",
      "    around catalyze() with a signature specifying the state change of the\n",
      "    substrate resulting from catalysis.\n",
      "    \n",
      "    Parameters\n",
      "    ----------\n",
      "    enzyme : Monomer or MonomerPattern\n",
      "        E in the above reaction.\n",
      "    substrate : Monomer or MonomerPattern\n",
      "        S and P in the above reaction. The product species is assumed to be\n",
      "        identical to the substrate species in all respects except the state\n",
      "        of the modification site. The state of the modification site should\n",
      "        not be specified in the MonomerPattern for the substrate.\n",
      "    e_site, s_site : string\n",
      "        The names of the sites on `enzyme` and `substrate` (respectively) where\n",
      "        they bind each other to form the E:S complex.\n",
      "    mod_site : string\n",
      "        The name of the site on the substrate that is modified by catalysis.\n",
      "    state1, state2 : strings\n",
      "        The states of the modification site (mod_site) on the substrate before\n",
      "        (state1) and after (state2) catalysis.\n",
      "    klist : list of 3 Parameters or list of 3 numbers\n",
      "        Forward, reverse and catalytic rate constants (in that order). If\n",
      "        Parameters are passed, they will be used directly in the generated\n",
      "        Rules. If numbers are passed, Parameters will be created with\n",
      "        automatically generated names based on the names and states of enzyme,\n",
      "        substrate and product and these parameters will be included at the end\n",
      "        of the returned component list.\n",
      "    \n",
      "    Returns\n",
      "    -------\n",
      "    components : ComponentSet\n",
      "        The generated components. Contains two Rules (bidirectional complex\n",
      "        formation and unidirectional product dissociation), and optionally three\n",
      "        Parameters if klist was given as plain numbers.\n",
      "    \n",
      "    Notes\n",
      "    -----\n",
      "    When passing a MonomerPattern for `enzyme` or `substrate`, do not include\n",
      "    `e_site` or `s_site` in the respective patterns. In addition, do not\n",
      "    include the state of the modification site on the substrate. The macro\n",
      "    will handle this.\n",
      "    \n",
      "    Examples\n",
      "    --------\n",
      "    Using a single Monomer for substrate and product with a state change::\n",
      "    \n",
      "        Monomer('Kinase', ['b'])\n",
      "        Monomer('Substrate', ['b', 'y'], {'y': ('U', 'P')})\n",
      "        catalyze_state(Kinase, 'b', Substrate, 'b', 'y', 'U', 'P',\n",
      "                 (1e-4, 1e-1, 1))\n",
      "    \n",
      "    Execution::\n",
      "    \n",
      "        >>> Model() # doctest:+ELLIPSIS\n",
      "        <Model '_interactive_' (monomers: 0, rules: 0, parameters: 0, expressions: 0, compartments: 0) at ...>\n",
      "        >>> Monomer('Kinase', ['b'])\n",
      "        Monomer('Kinase', ['b'])\n",
      "        >>> Monomer('Substrate', ['b', 'y'], {'y': ('U', 'P')})\n",
      "        Monomer('Substrate', ['b', 'y'], {'y': ('U', 'P')})\n",
      "        >>> catalyze_state(Kinase, 'b', Substrate, 'b', 'y', 'U', 'P', (1e-4, 1e-1, 1)) # doctest:+NORMALIZE_WHITESPACE\n",
      "        ComponentSet([\n",
      "         Rule('bind_Kinase_SubstrateU_to_KinaseSubstrateU',\n",
      "             Kinase(b=None) + Substrate(b=None, y='U') | Kinase(b=1) % Substrate(b=1, y='U'),\n",
      "             bind_Kinase_SubstrateU_to_KinaseSubstrateU_kf,\n",
      "             bind_Kinase_SubstrateU_to_KinaseSubstrateU_kr),\n",
      "         Parameter('bind_Kinase_SubstrateU_to_KinaseSubstrateU_kf', 0.0001),\n",
      "         Parameter('bind_Kinase_SubstrateU_to_KinaseSubstrateU_kr', 0.1),\n",
      "         Rule('catalyze_KinaseSubstrateU_to_Kinase_SubstrateP',\n",
      "             Kinase(b=1) % Substrate(b=1, y='U') >> Kinase(b=None) + Substrate(b=None, y='P'),\n",
      "             catalyze_KinaseSubstrateU_to_Kinase_SubstrateP_kc),\n",
      "         Parameter('catalyze_KinaseSubstrateU_to_Kinase_SubstrateP_kc', 1.0),\n",
      "         ])\n",
      "\n"
     ]
    }
   ],
   "source": [
    "from pysb.macros import *\n",
    "help(catalyze_state)"
   ]
  },
  {
   "cell_type": "markdown",
   "metadata": {
    "slideshow": {
     "slide_type": "slide"
    }
   },
   "source": [
    "# Example: Kinase Cascade\n",
    "\n",
    "<img src=\"imgs/cascade.jpeg\">\n",
    "\n",
    "[Source](http://www.nature.com/msb/journal/v5/n1/full/msb200874.html)\n",
    "\n",
    "[https://github.com/pysb/pysb/blob/master/pysb/examples/kinase_cascade.py](https://github.com/pysb/pysb/blob/master/pysb/examples/kinase_cascade.py)"
   ]
  },
  {
   "cell_type": "code",
   "execution_count": 84,
   "metadata": {
    "slideshow": {
     "slide_type": "slide"
    }
   },
   "outputs": [
    {
     "data": {
      "text/plain": [
       "Monomer('MKP', ['ppt'])"
      ]
     },
     "execution_count": 84,
     "metadata": {},
     "output_type": "execute_result"
    }
   ],
   "source": [
    "Model()\n",
    "\n",
    "Monomer('Ras', ['k'])\n",
    "Monomer('Raf', ['s', 'k'], {'s': ['u', 'p']})\n",
    "Monomer('MEK', ['s218', 's222', 'k'], {'s218': ['u', 'p'], 's222': ['u', 'p']})\n",
    "Monomer('ERK', ['t185', 'y187'], {'t185': ['u', 'p'], 'y187': ['u', 'p']})\n",
    "Monomer('PP2A', ['ppt']) #phosphatase\n",
    "Monomer('MKP', ['ppt']) ##phosphatase\n"
   ]
  },
  {
   "cell_type": "code",
   "execution_count": 100,
   "metadata": {},
   "outputs": [
    {
     "data": {
      "text/html": [
       "<div id=\"sbsite\" style=\"width: 500px\"></div>\n",
       "<script>\n",
       "$('head').append('<link rel=\"stylesheet\" href=\"http://bits.csb.pitt.edu/asker.js/themes/asker.default.css\" />');\n",
       "\n",
       "    var divid = '#sbsite';\n",
       "\tjQuery(divid).asker({\n",
       "\t    id: divid,\n",
       "\t    question: \"What is the 'k' in <tt>Monomer('Ras', ['k'])</tt>?\",\n",
       "\t\tanswers: ['An okay state, K?','A binding site for GTP','A phosphorylation site','A binding site for Raf','An active state'],\n",
       "        server: \"http://bits.csb.pitt.edu/asker.js/example/asker.cgi\",\n",
       "\t\tcharter: chartmaker})\n",
       "    \n",
       "$(\".jp-InputArea .o:contains(html)\").closest('.jp-InputArea').hide();\n",
       "\n",
       "\n",
       "</script>\n"
      ],
      "text/plain": [
       "<IPython.core.display.HTML object>"
      ]
     },
     "metadata": {},
     "output_type": "display_data"
    }
   ],
   "source": [
    "%%html\n",
    "<div id=\"sbsite\" style=\"width: 500px\"></div>\n",
    "<script>\n",
    "$('head').append('<link rel=\"stylesheet\" href=\"http://bits.csb.pitt.edu/asker.js/themes/asker.default.css\" />');\n",
    "\n",
    "    var divid = '#sbsite';\n",
    "\tjQuery(divid).asker({\n",
    "\t    id: divid,\n",
    "\t    question: \"What is the 'k' in <tt>Monomer('Ras', ['k'])</tt>?\",\n",
    "\t\tanswers: ['An okay state, K?','A binding site for GTP','A phosphorylation site','A binding site for Raf','An active state'],\n",
    "        server: \"http://bits.csb.pitt.edu/asker.js/example/asker.cgi\",\n",
    "\t\tcharter: chartmaker})\n",
    "    \n",
    "$(\".jp-InputArea .o:contains(html)\").closest('.jp-InputArea').hide();\n",
    "\n",
    "\n",
    "</script>"
   ]
  },
  {
   "cell_type": "code",
   "execution_count": 86,
   "metadata": {
    "slideshow": {
     "slide_type": "slide"
    }
   },
   "outputs": [],
   "source": [
    "# Use generic rates for forward/reverse binding and kinase/phosphatase catalysis\n",
    "kf_bind = 1e-5\n",
    "kr_bind = 1e-1\n",
    "kcat_phos = 1e-1\n",
    "kcat_dephos = 3e-3\n",
    "\n",
    "# Build handy rate \"sets\"\n",
    "klist_bind = [kf_bind, kr_bind]\n",
    "klist_phos = klist_bind + [kcat_phos]\n",
    "klist_dephos = klist_bind + [kcat_dephos]"
   ]
  },
  {
   "cell_type": "code",
   "execution_count": 87,
   "metadata": {
    "slideshow": {
     "slide_type": "slide"
    }
   },
   "outputs": [],
   "source": [
    "from pysb.macros import catalyze_state\n",
    "\n",
    "def mapk_single(kinase, pptase, substrate, site):\n",
    "    \"\"\"Kinase phos/dephosphorylation.\"\"\"\n",
    "    ppt_substrate = substrate()\n",
    "    if 'k' in ppt_substrate.monomer.sites:\n",
    "        # Ensure substrates which are themselves kinases don't get\n",
    "        # dephosphorylated while they are bound to *their* substrate.\n",
    "        ppt_substrate = ppt_substrate(k=None)\n",
    "    components = catalyze_state(kinase, 'k',\n",
    "                                substrate, site, site, 'u', 'p',\n",
    "                                klist_phos)\n",
    "    components |= catalyze_state(pptase, 'ppt',\n",
    "                                 ppt_substrate, site, site, 'p', 'u',\n",
    "                                 klist_dephos)\n",
    "    return components"
   ]
  },
  {
   "cell_type": "code",
   "execution_count": 88,
   "metadata": {
    "slideshow": {
     "slide_type": "slide"
    }
   },
   "outputs": [],
   "source": [
    "def mapk_double(kinase, pptase, substrate, site1, site2):\n",
    "    \"\"\"Distributive + ordered double kinase phos/dephosphorylation.\"\"\"\n",
    "    components = mapk_single(kinase, pptase, substrate({site2: 'u'}), site1)\n",
    "    components |= mapk_single(kinase, pptase, substrate({site1: 'p'}), site2)\n",
    "    return components"
   ]
  },
  {
   "cell_type": "code",
   "execution_count": 89,
   "metadata": {
    "slideshow": {
     "slide_type": "slide"
    }
   },
   "outputs": [
    {
     "data": {
      "text/plain": [
       "ComponentSet([\n",
       " Rule('bind_MEKpp_ERKuu_to_MEKppERKu', MEK(s218='p', s222='p', k=None) + ERK(t185='u', y187='u') | MEK(s218='p', s222='p', k=1) % ERK(t185=('u', 1), y187='u'), bind_MEKpp_ERKuu_to_MEKppERKu_kf, bind_MEKpp_ERKuu_to_MEKppERKu_kr),\n",
       " Parameter('bind_MEKpp_ERKuu_to_MEKppERKu_kf', 1e-05),\n",
       " Parameter('bind_MEKpp_ERKuu_to_MEKppERKu_kr', 0.1),\n",
       " Rule('catalyze_MEKppERKu_to_MEKpp_ERKup', MEK(s218='p', s222='p', k=1) % ERK(t185=('u', 1), y187='u') >> MEK(s218='p', s222='p', k=None) + ERK(t185='p', y187='u'), catalyze_MEKppERKu_to_MEKpp_ERKup_kc),\n",
       " Parameter('catalyze_MEKppERKu_to_MEKpp_ERKup_kc', 0.1),\n",
       " Rule('bind_MKP_ERKup_to_MKPERKu', MKP(ppt=None) + ERK(t185='p', y187='u') | MKP(ppt=1) % ERK(t185=('p', 1), y187='u'), bind_MKP_ERKup_to_MKPERKu_kf, bind_MKP_ERKup_to_MKPERKu_kr),\n",
       " Parameter('bind_MKP_ERKup_to_MKPERKu_kf', 1e-05),\n",
       " Parameter('bind_MKP_ERKup_to_MKPERKu_kr', 0.1),\n",
       " Rule('catalyze_MKPERKu_to_MKP_ERKuu', MKP(ppt=1) % ERK(t185=('p', 1), y187='u') >> MKP(ppt=None) + ERK(t185='u', y187='u'), catalyze_MKPERKu_to_MKP_ERKuu_kc),\n",
       " Parameter('catalyze_MKPERKu_to_MKP_ERKuu_kc', 0.003),\n",
       " Rule('bind_MEKpp_ERKpu_to_MEKppERKp', MEK(s218='p', s222='p', k=None) + ERK(t185='p', y187='u') | MEK(s218='p', s222='p', k=1) % ERK(t185='p', y187=('u', 1)), bind_MEKpp_ERKpu_to_MEKppERKp_kf, bind_MEKpp_ERKpu_to_MEKppERKp_kr),\n",
       " Parameter('bind_MEKpp_ERKpu_to_MEKppERKp_kf', 1e-05),\n",
       " Parameter('bind_MEKpp_ERKpu_to_MEKppERKp_kr', 0.1),\n",
       " Rule('catalyze_MEKppERKp_to_MEKpp_ERKpp', MEK(s218='p', s222='p', k=1) % ERK(t185='p', y187=('u', 1)) >> MEK(s218='p', s222='p', k=None) + ERK(t185='p', y187='p'), catalyze_MEKppERKp_to_MEKpp_ERKpp_kc),\n",
       " Parameter('catalyze_MEKppERKp_to_MEKpp_ERKpp_kc', 0.1),\n",
       " Rule('bind_MKP_ERKpp_to_MKPERKp', MKP(ppt=None) + ERK(t185='p', y187='p') | MKP(ppt=1) % ERK(t185='p', y187=('p', 1)), bind_MKP_ERKpp_to_MKPERKp_kf, bind_MKP_ERKpp_to_MKPERKp_kr),\n",
       " Parameter('bind_MKP_ERKpp_to_MKPERKp_kf', 1e-05),\n",
       " Parameter('bind_MKP_ERKpp_to_MKPERKp_kr', 0.1),\n",
       " Rule('catalyze_MKPERKp_to_MKP_ERKpu', MKP(ppt=1) % ERK(t185='p', y187=('p', 1)) >> MKP(ppt=None) + ERK(t185='p', y187='u'), catalyze_MKPERKp_to_MKP_ERKpu_kc),\n",
       " Parameter('catalyze_MKPERKp_to_MKP_ERKpu_kc', 0.003),\n",
       " ])"
      ]
     },
     "execution_count": 89,
     "metadata": {},
     "output_type": "execute_result"
    }
   ],
   "source": [
    "# Ras-Raf-MEK-ERK kinase cascade\n",
    "mapk_single(Ras, PP2A, Raf, 's')\n",
    "mapk_double(Raf(s='p'), PP2A, MEK, 's218', 's222')\n",
    "mapk_double(MEK(s218='p', s222='p'), MKP, ERK, 't185', 'y187')"
   ]
  },
  {
   "cell_type": "code",
   "execution_count": 90,
   "metadata": {
    "slideshow": {
     "slide_type": "slide"
    }
   },
   "outputs": [
    {
     "data": {
      "text/latex": [
       "$\\displaystyle ppERK$"
      ],
      "text/plain": [
       "Observable('ppERK', ERK(t185='p', y187='p'))"
      ]
     },
     "execution_count": 90,
     "metadata": {},
     "output_type": "execute_result"
    }
   ],
   "source": [
    "Initial(Ras(k=None), Parameter('Ras_0', 6e4))\n",
    "Initial(Raf(s='u', k=None), Parameter('Raf_0', 7e4))\n",
    "Initial(MEK(s218='u', s222='u', k=None), Parameter('MEK_0', 3e6))\n",
    "Initial(ERK(t185='u', y187='u'), Parameter('ERK_0', 7e5))\n",
    "Initial(PP2A(ppt=None), Parameter('PP2A_0', 2e5))\n",
    "Initial(MKP(ppt=None), Parameter('MKP_0', 1.7e4))\n",
    "\n",
    "Observable('ppMEK', MEK(s218='p', s222='p'))\n",
    "Observable('ppERK', ERK(t185='p', y187='p'))"
   ]
  },
  {
   "cell_type": "code",
   "execution_count": 91,
   "metadata": {
    "slideshow": {
     "slide_type": "slide"
    }
   },
   "outputs": [],
   "source": [
    "time = np.linspace(0, 500, 100)\n",
    "x = odesolve(model, time)"
   ]
  },
  {
   "cell_type": "code",
   "execution_count": 92,
   "metadata": {},
   "outputs": [
    {
     "data": {
      "image/png": "[encoded data removed]",
      "text/plain": [
       "<Figure size 432x288 with 1 Axes>"
      ]
     },
     "metadata": {
      "needs_background": "light"
     },
     "output_type": "display_data"
    }
   ],
   "source": [
    "plt.plot(time,x['ppMEK'], label='ppMEK')\n",
    "plt.plot(time,x['ppERK'], label='ppERK')\n",
    "plt.xlabel(\"Time (s)\")\n",
    "plt.ylabel(\"Amount\")\n",
    "plt.legend(loc='best')\n",
    "plt.show()"
   ]
  },
  {
   "cell_type": "markdown",
   "metadata": {},
   "source": [
    "https://www.pnas.org/content/93/19/10078.short"
   ]
  },
  {
   "cell_type": "markdown",
   "metadata": {
    "slideshow": {
     "slide_type": "slide"
    }
   },
   "source": [
    "# Project\n",
    "\n",
    " * Modify the model to print out all the phosphorylation states of ERK.\n",
    " * Inhibitors have been developed for every kinase in this cascade.  For simplicity, let's model the effect of an inhibitor for a specific kinase as a different catalytic rate. Plot the amount of ppERK for different catalytic rates for RAS, RAF, and MEK."
   ]
  },
  {
   "cell_type": "code",
   "execution_count": 93,
   "metadata": {
    "slideshow": {
     "slide_type": "subslide"
    }
   },
   "outputs": [
    {
     "data": {
      "text/latex": [
       "$\\displaystyle ppERK$"
      ],
      "text/plain": [
       "Observable('ppERK', ERK(t185='p', y187='p'))"
      ]
     },
     "execution_count": 93,
     "metadata": {},
     "output_type": "execute_result"
    }
   ],
   "source": [
    "from pysb import *\n",
    "from pysb.macros import catalyze_state\n",
    "\n",
    "Model()\n",
    "\n",
    "Monomer('Ras', ['k'])\n",
    "Monomer('Raf', ['s', 'k'], {'s': ['u', 'p']})\n",
    "Monomer('MEK', ['s218', 's222', 'k'], {'s218': ['u', 'p'], 's222': ['u', 'p']})\n",
    "Monomer('ERK', ['t185', 'y187'], {'t185': ['u', 'p'], 'y187': ['u', 'p']})\n",
    "Monomer('PP2A', ['ppt']) #phosphatase\n",
    "Monomer('MKP', ['ppt']) ##phosphatase\n",
    "\n",
    "# Use generic rates for forward/reverse binding and kinase/phosphatase catalysis\n",
    "kf_bind = 1e-5\n",
    "kr_bind = 1e-1\n",
    "kcat_phos = 1e-1\n",
    "kcat_dephos = 3e-3\n",
    "\n",
    "# Build handy rate \"sets\"\n",
    "klist_bind = [kf_bind, kr_bind]\n",
    "klist_phos = klist_bind + [kcat_phos]\n",
    "klist_dephos = klist_bind + [kcat_dephos]\n",
    "\n",
    "\n",
    "def mapk_single(kinase, pptase, substrate, site):\n",
    "    \"\"\"Kinase phos/dephosphorylation.\"\"\"\n",
    "    ppt_substrate = substrate()\n",
    "    if 'k' in ppt_substrate.monomer.sites:\n",
    "        # Ensure substrates which are themselves kinases don't get\n",
    "        # dephosphorylated while they are bound to *their* substrate.\n",
    "        ppt_substrate = ppt_substrate(k=None)\n",
    "    components = catalyze_state(kinase, 'k',\n",
    "                                substrate, site, site, 'u', 'p',\n",
    "                                klist_phos)\n",
    "    components |= catalyze_state(pptase, 'ppt',\n",
    "                                 ppt_substrate, site, site, 'p', 'u',\n",
    "                                 klist_dephos)\n",
    "    return components\n",
    "\n",
    "def mapk_double(kinase, pptase, substrate, site1, site2):\n",
    "    \"\"\"Distributive + ordered double kinase phos/dephosphorylation.\"\"\"\n",
    "    components = mapk_single(kinase, pptase, substrate({site2: 'u'}), site1)\n",
    "    components |= mapk_single(kinase, pptase, substrate({site1: 'p'}), site2)\n",
    "    return components\n",
    "\n",
    "# Ras-Raf-MEK-ERK kinase cascade\n",
    "mapk_single(Ras, PP2A, Raf, 's')\n",
    "mapk_double(Raf(s='p'), PP2A, MEK, 's218', 's222')\n",
    "mapk_double(MEK(s218='p', s222='p'), MKP, ERK, 't185', 'y187')\n",
    "\n",
    "Initial(Ras(k=None), Parameter('Ras_0', 6e4))\n",
    "Initial(Raf(s='u', k=None), Parameter('Raf_0', 7e4))\n",
    "Initial(MEK(s218='u', s222='u', k=None), Parameter('MEK_0', 3e6))\n",
    "Initial(ERK(t185='u', y187='u'), Parameter('ERK_0', 7e5))\n",
    "Initial(PP2A(ppt=None), Parameter('PP2A_0', 2e5))\n",
    "Initial(MKP(ppt=None), Parameter('MKP_0', 1.7e4))\n",
    "\n",
    "Observable('ppMEK', MEK(s218='p', s222='p'))\n",
    "Observable('ppERK', ERK(t185='p', y187='p'))"
   ]
  },
  {
   "cell_type": "code",
   "execution_count": 94,
   "metadata": {
    "slideshow": {
     "slide_type": "subslide"
    }
   },
   "outputs": [
    {
     "data": {
      "text/latex": [
       "$\\displaystyle uERK$"
      ],
      "text/plain": [
       "Observable('uERK', ERK(t185='u', y187='u'))"
      ]
     },
     "execution_count": 94,
     "metadata": {},
     "output_type": "execute_result"
    }
   ],
   "source": [
    "Observable('p1ERK', ERK(t185='p', y187='u'))\n",
    "Observable('p2ERK', ERK(t185='u', y187='p'))\n",
    "Observable('uERK', ERK(t185='u', y187='u'))"
   ]
  },
  {
   "cell_type": "code",
   "execution_count": 95,
   "metadata": {},
   "outputs": [
    {
     "data": {
      "image/png": "[encoded data removed]",
      "text/plain": [
       "<Figure size 432x288 with 1 Axes>"
      ]
     },
     "metadata": {
      "needs_background": "light"
     },
     "output_type": "display_data"
    }
   ],
   "source": [
    "time = np.linspace(0, 500, 100)\n",
    "x = odesolve(model, time)\n",
    "plt.plot(time,x['ppERK'], label='ppERK')\n",
    "plt.plot(time,x['p1ERK'], label='p1ERK')\n",
    "plt.plot(time,x['p2ERK'], label='p2ERK')\n",
    "plt.plot(time,x['uERK'], label='uERK')\n",
    "plt.xlabel(\"Time (s)\")\n",
    "plt.ylabel(\"Amount\")\n",
    "plt.legend(loc='best')\n",
    "plt.show()"
   ]
  },
  {
   "cell_type": "code",
   "execution_count": 96,
   "metadata": {
    "slideshow": {
     "slide_type": "subslide"
    }
   },
   "outputs": [],
   "source": [
    "model.parameters['catalyze_RasRaf_to_Ras_Rafp_kc'].value = 0.01\n",
    "x2 = odesolve(model, time)"
   ]
  },
  {
   "cell_type": "code",
   "execution_count": 97,
   "metadata": {},
   "outputs": [
    {
     "data": {
      "image/png": "[encoded data removed]",
      "text/plain": [
       "<Figure size 432x288 with 1 Axes>"
      ]
     },
     "metadata": {
      "needs_background": "light"
     },
     "output_type": "display_data"
    }
   ],
   "source": [
    "plt.plot(time,x['ppERK'], label='ppERK')\n",
    "plt.plot(time,x2['ppERK'], label='ppERK Inhibited Ras')\n",
    "\n",
    "plt.xlabel(\"Time (s)\")\n",
    "plt.ylabel(\"Amount\")\n",
    "plt.legend(loc='best')\n",
    "plt.show()"
   ]
  },
  {
   "cell_type": "markdown",
   "metadata": {
    "slideshow": {
     "slide_type": "slide"
    }
   },
   "source": [
    "# Assignment 2\n",
    "\n",
    "Get started.  Complete each step in order."
   ]
  },
  {
   "cell_type": "markdown",
   "metadata": {
    "slideshow": {
     "slide_type": "slide"
    }
   },
   "source": [
    "# Rubber Duck Debugging\n",
    "\n",
    "<img src=\"imgs/duck.jpeg\" style=\"float:right\">\n",
    "\n",
    "*In software engineering, rubber duck debugging is a method of debugging code. The name is a reference to a story in the book The Pragmatic Programmer in which a programmer would carry around a rubber duck and debug their code by forcing themselves to explain it, line-by-line, to the duck.  In describing what the code is supposed to do and observing what it actually does, any incongruity between these two becomes apparent.*\n",
    "\n",
    "--Wikipedia"
   ]
  },
  {
   "cell_type": "markdown",
   "metadata": {
    "slideshow": {
     "slide_type": "slide"
    }
   },
   "source": [
    "# Rubber Duck Debugging\n",
    "\n",
    "The rubber duck debugging method is as follows:\n",
    "\n",
    "1. Beg, borrow, steal, buy, fabricate or otherwise obtain a rubber duck (bathtub variety).\n",
    "2. Place rubber duck on desk and inform it you are just going to go over some code with it, if that’s all right.\n",
    "3. Explain to the duck what your code is supposed to do, and then go into detail and explain your code line by line.\n",
    "4. At some point you will tell the duck what you are doing next and then realise that that is not in fact what you are actually doing. The duck will sit there serenely, happy in the knowledge that it has helped you on your way.\n",
    "\n",
    "https://rubberduckdebugging.com"
   ]
  }
 ],
 "metadata": {
  "celltoolbar": "Slideshow",
  "kernelspec": {
   "display_name": "Python 3 (ipykernel)",
   "language": "python",
   "name": "python3"
  },
  "language_info": {
   "codemirror_mode": {
    "name": "ipython",
    "version": 3
   },
   "file_extension": ".py",
   "mimetype": "text/x-python",
   "name": "python",
   "nbconvert_exporter": "python",
   "pygments_lexer": "ipython3",
   "version": "3.8.10"
  }
 },
 "nbformat": 4,
 "nbformat_minor": 1
}
