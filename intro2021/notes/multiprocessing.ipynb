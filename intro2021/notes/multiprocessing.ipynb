{
 "cells": [
  {
   "cell_type": "markdown",
   "metadata": {
    "slideshow": {
     "slide_type": "slide"
    }
   },
   "source": [
    "# multiprocessing"
   ]
  },
  {
   "cell_type": "markdown",
   "metadata": {
    "slideshow": {
     "slide_type": "-"
    }
   },
   "source": [
    "## 11/30/2021\n",
    "<a href=\"?print-pdf\">print view</a>"
   ]
  },
  {
   "cell_type": "code",
   "execution_count": 1,
   "metadata": {},
   "outputs": [
    {
     "data": {
      "text/html": [
       "<script src=\"http://bits.csb.pitt.edu/asker.js/lib/asker.js\"></script>\n",
       "<script>\n",
       "\n",
       "require(['https://cdnjs.cloudflare.com/ajax/libs/Chart.js/2.2.2/Chart.js'], function(Ch){\n",
       " Chart = Ch;\n",
       "});\n",
       "\n",
       "$('head').append('<link rel=\"stylesheet\" href=\"http://bits.csb.pitt.edu/asker.js/themes/asker.default.css\" />');\n",
       "\n",
       "\n",
       "//the callback is provided a canvas object and data \n",
       "var chartmaker = function(canvas, labels, data) {\n",
       "  var ctx = $(canvas).get(0).getContext(\"2d\");\n",
       "     var dataset = {labels: labels,                     \n",
       "    datasets:[{\n",
       "     data: data,\n",
       "     backgroundColor: \"rgba(150,64,150,0.5)\",\n",
       "         fillColor: \"rgba(150,64,150,0.8)\",    \n",
       "  }]};\n",
       "  var myBarChart = new Chart(ctx,{type:'bar',data:dataset,options:{legend: {display:false},\n",
       "        scales: {\n",
       "            yAxes: [{\n",
       "                ticks: {\n",
       "                    min: 0,\n",
       "                }\n",
       "            }]}}});\n",
       "};\n",
       "\n",
       "$(\".jp-InputArea .o:contains(html)\").closest('.jp-InputArea').hide();\n",
       "\n",
       "\n",
       "\n",
       "</script>\n"
      ],
      "text/plain": [
       "<IPython.core.display.HTML object>"
      ]
     },
     "metadata": {},
     "output_type": "display_data"
    }
   ],
   "source": [
    "%%html\n",
    "<script src=\"http://bits.csb.pitt.edu/asker.js/lib/asker.js\"></script>\n",
    "<script>\n",
    "\n",
    "require(['https://cdnjs.cloudflare.com/ajax/libs/Chart.js/2.2.2/Chart.js'], function(Ch){\n",
    " Chart = Ch;\n",
    "});\n",
    "\n",
    "$('head').append('<link rel=\"stylesheet\" href=\"http://bits.csb.pitt.edu/asker.js/themes/asker.default.css\" />');\n",
    "\n",
    "\n",
    "//the callback is provided a canvas object and data \n",
    "var chartmaker = function(canvas, labels, data) {\n",
    "  var ctx = $(canvas).get(0).getContext(\"2d\");\n",
    "     var dataset = {labels: labels,                     \n",
    "    datasets:[{\n",
    "     data: data,\n",
    "     backgroundColor: \"rgba(150,64,150,0.5)\",\n",
    "         fillColor: \"rgba(150,64,150,0.8)\",    \n",
    "  }]};\n",
    "  var myBarChart = new Chart(ctx,{type:'bar',data:dataset,options:{legend: {display:false},\n",
    "        scales: {\n",
    "            yAxes: [{\n",
    "                ticks: {\n",
    "                    min: 0,\n",
    "                }\n",
    "            }]}}});\n",
    "};\n",
    "\n",
    "$(\".jp-InputArea .o:contains(html)\").closest('.jp-InputArea').hide();\n",
    "\n",
    "\n",
    "\n",
    "</script>"
   ]
  },
  {
   "cell_type": "markdown",
   "metadata": {
    "slideshow": {
     "slide_type": "slide"
    }
   },
   "source": [
    "# OMETs\n",
    "\n",
    "Please fill out.\n",
    "\n",
    "https://teaching.pitt.edu/omet/student-information/"
   ]
  },
  {
   "cell_type": "markdown",
   "metadata": {
    "slideshow": {
     "slide_type": "slide"
    }
   },
   "source": [
    "# Parallel Programming"
   ]
  },
  {
   "cell_type": "markdown",
   "metadata": {},
   "source": [
    "There are several parallel programming models enabled by a variety of hardware (**multicore**, cloud computing, supercomputers, GPU).\n",
    "\n",
    "<img src='http://images.anandtech.com/reviews/cpu/intel/SNBE/Core_I7_LGA_2011_Die.jpg' width=\"400\">"
   ]
  },
  {
   "cell_type": "markdown",
   "metadata": {
    "slideshow": {
     "slide_type": "slide"
    }
   },
   "source": [
    "# Threads vs. Processes"
   ]
  },
  {
   "cell_type": "markdown",
   "metadata": {},
   "source": [
    "A **thread** of execution is the smallest sequence of programmed instructions that can be managed independently by an operating system scheduler. \n",
    "\n",
    "A **process** is an instance of a computer program.\n",
    "\n",
    "<center><img src='http://upload.wikimedia.org/wikipedia/commons/a/a5/Multithreaded_process.svg' width=\"400\"></center>"
   ]
  },
  {
   "cell_type": "markdown",
   "metadata": {
    "slideshow": {
     "slide_type": "slide"
    }
   },
   "source": [
    "# Address Spaces"
   ]
  },
  {
   "cell_type": "markdown",
   "metadata": {},
   "source": [
    "A process has its own *address space*.  An address space is a mapping of **virtual memory addresses** to **physical memory addresses** managed by the operating system.\n",
    "\n",
    "Address spaces prevent processes from crashing other applications or the operating system - they can only access their *own* memory.\n",
    "\n",
    "<center><img src='http://upload.wikimedia.org/wikipedia/commons/thumb/3/32/Virtual_address_space_and_physical_address_space_relationship.svg/587px-Virtual_address_space_and_physical_address_space_relationship.svg.png' width=\"350\"></center>"
   ]
  },
  {
   "cell_type": "markdown",
   "metadata": {
    "slideshow": {
     "slide_type": "slide"
    }
   },
   "source": [
    "# Threads vs. Processes"
   ]
  },
  {
   "cell_type": "code",
   "execution_count": null,
   "metadata": {},
   "outputs": [],
   "source": [
    "import threading,time\n",
    "\n",
    "cnt = [0]\n",
    "\n",
    "def incrementCnt(cnt):\n",
    "    for i in range(1000000): # a million times\n",
    "        cnt[0] += 1\n",
    "\n",
    "t1 = threading.Thread(target=incrementCnt,args=(cnt,))\n",
    "t2 = threading.Thread(target=incrementCnt,args=(cnt,))\n",
    "\n",
    "t1.start()\n",
    "t2.start()\n",
    "\n",
    "print(cnt[0])"
   ]
  },
  {
   "cell_type": "markdown",
   "metadata": {},
   "source": [
    "What do we expect to print out?"
   ]
  },
  {
   "cell_type": "code",
   "execution_count": 3,
   "metadata": {
    "slideshow": {
     "slide_type": "slide"
    }
   },
   "outputs": [
    {
     "data": {
      "text/html": [
       "<div id=\"thread1\" style=\"width: 500px\"></div>\n",
       "<script>\n",
       "$('head').append('<link rel=\"stylesheet\" href=\"http://bits.csb.pitt.edu/asker.js/themes/asker.default.css\" />');\n",
       "\n",
       "    var divid = '#thread1';\n",
       "\tjQuery(divid).asker({\n",
       "\t    id: divid,\n",
       "\t    question: \"What will print out?\",\n",
       "\t\tanswers: ['0','2','1000000','2000000',\"I don't know\"],\n",
       "        server: \"http://bits.csb.pitt.edu/asker.js/example/asker.cgi\",\n",
       "\t\tcharter: chartmaker})\n",
       "    \n",
       "$(\".jp-InputArea .o:contains(html)\").closest('.jp-InputArea').hide();\n",
       "\n",
       "\n",
       "</script>\n"
      ],
      "text/plain": [
       "<IPython.core.display.HTML object>"
      ]
     },
     "metadata": {},
     "output_type": "display_data"
    }
   ],
   "source": [
    "%%html\n",
    "<div id=\"thread1\" style=\"width: 500px\"></div>\n",
    "<script>\n",
    "$('head').append('<link rel=\"stylesheet\" href=\"http://bits.csb.pitt.edu/asker.js/themes/asker.default.css\" />');\n",
    "\n",
    "    var divid = '#thread1';\n",
    "\tjQuery(divid).asker({\n",
    "\t    id: divid,\n",
    "\t    question: \"What will print out?\",\n",
    "\t\tanswers: ['0','2','1000000','2000000',\"I don't know\"],\n",
    "        server: \"http://bits.csb.pitt.edu/asker.js/example/asker.cgi\",\n",
    "\t\tcharter: chartmaker})\n",
    "    \n",
    "$(\".jp-InputArea .o:contains(html)\").closest('.jp-InputArea').hide();\n",
    "\n",
    "\n",
    "</script>"
   ]
  },
  {
   "cell_type": "markdown",
   "metadata": {
    "slideshow": {
     "slide_type": "slide"
    }
   },
   "source": [
    "# The Answer"
   ]
  },
  {
   "cell_type": "code",
   "execution_count": 4,
   "metadata": {
    "slideshow": {
     "slide_type": "-"
    }
   },
   "outputs": [
    {
     "name": "stdout",
     "output_type": "stream",
     "text": [
      "[71785]\n",
      "[1273221]\n",
      "[1273221]\n"
     ]
    }
   ],
   "source": [
    "cnt = [0]\n",
    "\n",
    "t1 = threading.Thread(target=incrementCnt,args=(cnt,))\n",
    "t2 = threading.Thread(target=incrementCnt,args=(cnt,))\n",
    "\n",
    "t1.start()\n",
    "t2.start()\n",
    "\n",
    "print(cnt) \n",
    "time.sleep(1)\n",
    "print(cnt)\n",
    "time.sleep(1)\n",
    "print(cnt)"
   ]
  },
  {
   "cell_type": "markdown",
   "metadata": {
    "slideshow": {
     "slide_type": "slide"
    }
   },
   "source": [
    "# Threads vs. Processes"
   ]
  },
  {
   "cell_type": "code",
   "execution_count": 14,
   "metadata": {},
   "outputs": [],
   "source": [
    "import multiprocess,time\n",
    "\n",
    "def incrementCnt(cnt):\n",
    "    for i in range(1000000): # a million times\n",
    "        cnt[0] += 1\n",
    "        \n",
    "cnt = [0]\n",
    "\n",
    "p1 = multiprocess.Process(target=incrementCnt,args=(cnt,))\n",
    "p2 = multiprocess.Process(target=incrementCnt,args=(cnt,))\n",
    "\n",
    "p1.start()\n",
    "p2.start()\n",
    "\n",
    "#what do we expect when we print out cnt[0]?"
   ]
  },
  {
   "cell_type": "code",
   "execution_count": 15,
   "metadata": {
    "slideshow": {
     "slide_type": "-"
    }
   },
   "outputs": [
    {
     "data": {
      "text/html": [
       "<div id=\"proc1\" style=\"width: 500px\"></div>\n",
       "<script>\n",
       "$('head').append('<link rel=\"stylesheet\" href=\"http://bits.csb.pitt.edu/asker.js/themes/asker.default.css\" />');\n",
       "\n",
       "    var divid = '#proc1';\n",
       "\tjQuery(divid).asker({\n",
       "\t    id: divid,\n",
       "\t    question: \"What will print out?\",\n",
       "\t\tanswers: ['0','2','1000000','2000000',\"I don't know\"],\n",
       "        server: \"http://bits.csb.pitt.edu/asker.js/example/asker.cgi\",\n",
       "\t\tcharter: chartmaker})\n",
       "    \n",
       "$(\".jp-InputArea .o:contains(html)\").closest('.jp-InputArea').hide();\n",
       "\n",
       "\n",
       "</script>\n"
      ],
      "text/plain": [
       "<IPython.core.display.HTML object>"
      ]
     },
     "metadata": {},
     "output_type": "display_data"
    }
   ],
   "source": [
    "%%html\n",
    "<div id=\"proc1\" style=\"width: 500px\"></div>\n",
    "<script>\n",
    "$('head').append('<link rel=\"stylesheet\" href=\"http://bits.csb.pitt.edu/asker.js/themes/asker.default.css\" />');\n",
    "\n",
    "    var divid = '#proc1';\n",
    "\tjQuery(divid).asker({\n",
    "\t    id: divid,\n",
    "\t    question: \"What will print out?\",\n",
    "\t\tanswers: ['0','2','1000000','2000000',\"I don't know\"],\n",
    "        server: \"http://bits.csb.pitt.edu/asker.js/example/asker.cgi\",\n",
    "\t\tcharter: chartmaker})\n",
    "    \n",
    "$(\".jp-InputArea .o:contains(html)\").closest('.jp-InputArea').hide();\n",
    "\n",
    "\n",
    "</script>"
   ]
  },
  {
   "cell_type": "markdown",
   "metadata": {
    "slideshow": {
     "slide_type": "slide"
    }
   },
   "source": [
    "# The Answer"
   ]
  },
  {
   "cell_type": "code",
   "execution_count": 16,
   "metadata": {
    "slideshow": {
     "slide_type": "-"
    }
   },
   "outputs": [
    {
     "name": "stdout",
     "output_type": "stream",
     "text": [
      "0\n",
      "0\n"
     ]
    }
   ],
   "source": [
    "cnt = [0]\n",
    "p1 = multiprocess.Process(target=incrementCnt,args=(cnt,))\n",
    "p2 = multiprocess.Process(target=incrementCnt,args=(cnt,))\n",
    "\n",
    "p1.start()\n",
    "p2.start()\n",
    "\n",
    "print(cnt[0])\n",
    "time.sleep(3)\n",
    "print(cnt[0])"
   ]
  },
  {
   "cell_type": "markdown",
   "metadata": {
    "slideshow": {
     "slide_type": "slide"
    }
   },
   "source": [
    "# Threads/Process Objects"
   ]
  },
  {
   "cell_type": "markdown",
   "metadata": {},
   "source": [
    "Thread and Process Objects have the same interface \n",
    " * `start` - start running the `target` function with (optional) `args`\n",
    " * `join` - wait for thread to finish before doing anything else\n",
    " * `is_alive` - returns true if thread is still running"
   ]
  },
  {
   "cell_type": "markdown",
   "metadata": {
    "slideshow": {
     "slide_type": "slide"
    }
   },
   "source": [
    "# Example"
   ]
  },
  {
   "cell_type": "code",
   "execution_count": 17,
   "metadata": {},
   "outputs": [
    {
     "name": "stdout",
     "output_type": "stream",
     "text": [
      "196483 True True\n",
      "1419271 False False\n"
     ]
    }
   ],
   "source": [
    "t1 = threading.Thread(target=incrementCnt,args=(cnt,))\n",
    "t2 = threading.Thread(target=incrementCnt,args=(cnt,))\n",
    "\n",
    "t1.start() #start launches the thread to run target with args\n",
    "t2.start()\n",
    "\n",
    "print(cnt[0],t1.is_alive(),t2.is_alive())\n",
    "\n",
    "t1.join() #join waits for a thread to finish\n",
    "t2.join() #if you don't join a Process, it will become a zombie\n",
    "\n",
    "print(cnt[0],t1.is_alive(),t2.is_alive())"
   ]
  },
  {
   "cell_type": "markdown",
   "metadata": {
    "slideshow": {
     "slide_type": "slide"
    }
   },
   "source": [
    "# Synchronization\n",
    "\n",
    "When two threads update the same resource, their access to that resource needs to be gated.\n",
    "\n",
    "There are a variety of synchronization primitives provided for both threads and processes (although they usually aren't needed for processes):\n",
    "\n",
    "### Lock\n",
    "Can be acquired by exactly one thread (calling acquire twice from the same thread will hang).  Must be released to be acquired by another thread.  Basically, just wrap the *critical section* with an acquire-release pair.\n",
    "\n",
    "### RLock\n",
    "A *recursive* lock. This is a lock that can be acquired multiple times by the same thread (and then must be released exactly the same number times).  This is especially useful for modular programming.  For example, you can acquire/release a lock around a function call without working about what that function is doing with the lock.\n"
   ]
  },
  {
   "cell_type": "markdown",
   "metadata": {
    "slideshow": {
     "slide_type": "slide"
    }
   },
   "source": [
    "# Lock Example"
   ]
  },
  {
   "cell_type": "code",
   "execution_count": 18,
   "metadata": {
    "slideshow": {
     "slide_type": "-"
    }
   },
   "outputs": [
    {
     "name": "stdout",
     "output_type": "stream",
     "text": [
      "2000000\n"
     ]
    }
   ],
   "source": [
    "lock = threading.Lock()\n",
    "\n",
    "def incrementCnt(cnt):\n",
    "    for i in range(1000000): # a million times\n",
    "        lock.acquire()  #only one thread can acquire the lock at a time\n",
    "        cnt[0] += 1 #this is the CRITICAL SECTION\n",
    "        lock.release()\n",
    "\n",
    "cnt = [0]\n",
    "t1 = threading.Thread(target=incrementCnt,args=(cnt,))\n",
    "t2 = threading.Thread(target=incrementCnt,args=(cnt,))\n",
    "\n",
    "t1.start() #start launches the thread to run target with args\n",
    "t2.start()\n",
    "\n",
    "t1.join() \n",
    "t2.join() \n",
    "\n",
    "print(cnt[0])"
   ]
  },
  {
   "cell_type": "markdown",
   "metadata": {
    "slideshow": {
     "slide_type": "slide"
    }
   },
   "source": [
    "# Communication"
   ]
  },
  {
   "cell_type": "markdown",
   "metadata": {},
   "source": [
    "Threads communicate through their shared address space, and use locks to protect sensitive state.  Several classes provide a simplified interface for communication (these are available with processes as well, but the underlying implementation is different). \n",
    "\n",
    "### Queue\n",
    "`Queue.Queue` (`multiprocess.Queue` for processes) provides a simple, thread-safe, first-in-first-out queue.\n",
    "\n",
    "* `put`: put an element on the queue. **This will block if the queue has filled up**\n",
    "* `get`: get an element from the queue. **This will block if the queue is empty**.  \n"
   ]
  },
  {
   "cell_type": "markdown",
   "metadata": {
    "slideshow": {
     "slide_type": "slide"
    }
   },
   "source": [
    "# Communication\n",
    "\n",
    "### Pipe\n",
    "A pipe is a communication channel between processes that can send and receive messages.   *Unlike a queue, it is not okay for multiple threads to write to the same end of the pipe at the same time*.\n",
    "\n",
    "`Pipe()` return a duple of `Connection` objects representing the ends of the pipe.  Each connection object has the following methods:\n",
    "\n",
    "* `send`: sends data to other end of the pipe\n",
    "* `recv`: waits for data from other end of the pipe (unless pipe closed, then `EOFError`)\n",
    "* `close`: close the pipe"
   ]
  },
  {
   "cell_type": "markdown",
   "metadata": {
    "slideshow": {
     "slide_type": "slide"
    }
   },
   "source": [
    "# Communication"
   ]
  },
  {
   "cell_type": "markdown",
   "metadata": {},
   "source": [
    "Since they don't have a shared address space, it is recommended the *processes* use exclusively either `multiprocess.Queue` or `multiprocess.Pipe` to communicate.\n",
    "\n",
    "Use a pipe for communication between two processes (server-client architecture).\n",
    "\n",
    "Use a queue for one-way communication between many threads (producer-consumer architecture)."
   ]
  },
  {
   "cell_type": "markdown",
   "metadata": {
    "slideshow": {
     "slide_type": "slide"
    }
   },
   "source": [
    "# Pipes"
   ]
  },
  {
   "cell_type": "code",
   "execution_count": 25,
   "metadata": {},
   "outputs": [
    {
     "name": "stdout",
     "output_type": "stream",
     "text": [
      "you sent me Hello!\n"
     ]
    }
   ],
   "source": [
    "import multiprocess\n",
    "\n",
    "def chatty(conn): #this takes a Connection object representing one end of a pipe\n",
    "    msg = conn.recv()\n",
    "    conn.send(\"you sent me \"+msg)\n",
    "    \n",
    "(c1,c2) = multiprocess.Pipe()\n",
    "\n",
    "p1 = multiprocess.Process(target=chatty,args=(c2,))\n",
    "p1.start()\n",
    "\n",
    "c1.send(\"Hello!\")\n",
    "result = c1.recv()\n",
    "p1.join()\n",
    "\n",
    "print(result)"
   ]
  },
  {
   "cell_type": "markdown",
   "metadata": {
    "slideshow": {
     "slide_type": "slide"
    }
   },
   "source": [
    "# Pools"
   ]
  },
  {
   "cell_type": "markdown",
   "metadata": {},
   "source": [
    "`multiprocess` supports the concept of a *pool* of workers.  You initialize with the number of processes you want to run in parallel (the default is the number of CPUs on your system) and they are available for doing parallel work:\n",
    "\n",
    "* `map`: the most important function - just like the built-in map, this will map a function to an iterable and return the result, but the *mapping will be done in parallel*.  Blocks until the full result is computed and the result is in the proper order.\n",
    "* `map_async`: map without blocking\n",
    "* `imap`: parallel imap - returns iterable instead of list.  The `next()` method of the returned iterable will block if necessary.\n",
    "* `imap_unordered`: same as imap but returns values in order they are computed\n",
    "* `close`: close the pool to prevent additional jobs from being submitted\n",
    "* `join`: must call `close` first; waits for all jobs to complete"
   ]
  },
  {
   "cell_type": "markdown",
   "metadata": {
    "slideshow": {
     "slide_type": "slide"
    }
   },
   "source": [
    "# Pool Example"
   ]
  },
  {
   "cell_type": "code",
   "execution_count": 20,
   "metadata": {},
   "outputs": [
    {
     "name": "stdout",
     "output_type": "stream",
     "text": [
      "[0, 1, 4, 9, 16, 25, 36, 49, 64, 81, 100, 121, 144, 169, 196, 225, 256, 289, 324, 361]\n"
     ]
    }
   ],
   "source": [
    "def f(x):\n",
    "    return x*x\n",
    "\n",
    "pool = multiprocess.Pool(processes=4)\n",
    "\n",
    "print(pool.map(f,range(20)))"
   ]
  },
  {
   "cell_type": "markdown",
   "metadata": {
    "slideshow": {
     "slide_type": "slide"
    }
   },
   "source": [
    "# Producer/Consumer"
   ]
  },
  {
   "cell_type": "code",
   "execution_count": 21,
   "metadata": {},
   "outputs": [],
   "source": [
    "def dowork(inQ, outQ):\n",
    "    val = inQ.get()\n",
    "    outQ.put(val*val)\n",
    "\n",
    "inQ = multiprocess.Queue()\n",
    "outQ = multiprocess.Queue()\n",
    "pool = multiprocess.Pool(4, dowork, (inQ, outQ))"
   ]
  },
  {
   "cell_type": "code",
   "execution_count": 22,
   "metadata": {},
   "outputs": [],
   "source": [
    "inQ.put(4)"
   ]
  },
  {
   "cell_type": "code",
   "execution_count": 23,
   "metadata": {},
   "outputs": [
    {
     "data": {
      "text/plain": [
       "16"
      ]
     },
     "execution_count": 23,
     "metadata": {},
     "output_type": "execute_result"
    }
   ],
   "source": [
    "outQ.get()"
   ]
  },
  {
   "cell_type": "markdown",
   "metadata": {
    "slideshow": {
     "slide_type": "slide"
    }
   },
   "source": [
    "# Bad Example"
   ]
  },
  {
   "cell_type": "code",
   "execution_count": 24,
   "metadata": {},
   "outputs": [],
   "source": [
    "#What is wrong with this code?\n",
    "for i in range(10):\n",
    "    inQ.put(i)\n",
    "\n",
    "while not outQ.empty():\n",
    "    print(outQ.get())"
   ]
  },
  {
   "cell_type": "markdown",
   "metadata": {
    "slideshow": {
     "slide_type": "fragment"
    }
   },
   "source": [
    "You should not produce and consume in the same thread.  If `outQ` fills up, `inQ` will fill up and the `put` will block.\n",
    "\n",
    "The `empty`/`full` methods of the Queue class are pretty much **useless** since their result depends on when they are called.  Here, no values had been generated when it was called so nothing is printed.\n",
    "\n",
    "In order communicate that there are no more values, you must send a *sentinal* value."
   ]
  },
  {
   "cell_type": "markdown",
   "metadata": {
    "slideshow": {
     "slide_type": "slide"
    }
   },
   "source": [
    "# Threads or Processes?"
   ]
  },
  {
   "cell_type": "markdown",
   "metadata": {},
   "source": [
    "Normally, the choice between threads and processes depends on how data will be accessed and the level of communication between parallel tasks etc.\n",
    "\n",
    "However, in Python, the answer is almost always **use multiprocessing, not threading**.\n",
    "\n",
    "Why? The CPython interpretter has a *Global Interpretter Lock*.  This means that only **one** thread of python code is actually executed at any given time when using threads.  With processes, each process has its own interpretter (with its own lock).\n",
    "\n",
    "<center><img width=\"300\" src='../files/threadsprocesses.png'></center>"
   ]
  },
  {
   "cell_type": "markdown",
   "metadata": {
    "slideshow": {
     "slide_type": "slide"
    }
   },
   "source": [
    "# Embarassingly Parallel\n",
    "\n",
    "Writing correct, high performance parallel code can be difficult, but some in some cases it's trivial.\n",
    "\n",
    "A problem is *embarassingly parallel* if it can be easily separated into *independent* subtasks (i.e., no need to communicate between threads) each of which does a substantial amount of computation.\n",
    "\n",
    "Fortunately this is often the case.\n",
    " * Apply this filter to 1000 images\n",
    " * Process these 5000 protein structures\n",
    " * Compute RMSDs of all frames in a trajectory\n",
    " \n",
    "In cases like these, using **Pools** will get you a significant speedup (by however many cores you have)."
   ]
  },
  {
   "cell_type": "markdown",
   "metadata": {
    "slideshow": {
     "slide_type": "slide"
    }
   },
   "source": [
    "# Key Concepts\n",
    "\n",
    "* You can running many things at the same time with threads/processes\n",
    "* This is an easy way to make things faster, but can get complicated\n",
    "* Use `multiprocess` not threads\n",
    "* Processes can communicate with Queues/Pipes\n",
    "* 90% of the time all you need are Pools, and they are not complicated"
   ]
  },
  {
   "cell_type": "markdown",
   "metadata": {
    "slideshow": {
     "slide_type": "slide"
    }
   },
   "source": [
    "# Project\n",
    "\n",
    " * Take a search term as an argument\n",
    " * Use biopython to search the NCBI protein database for entries that match this term and are in the pdb\n",
    " * Extract the PDB entries\n",
    " * For each PDB entry, use ProDy to calculate the ANM modes (this can be done in parallel)\n",
    " * Sort the results based on the highest fractional variance in the first mode\n",
    " * Print out the top ten PDBs with the fractional variance of their first three modes"
   ]
  },
  {
   "cell_type": "code",
   "execution_count": 28,
   "metadata": {
    "slideshow": {
     "slide_type": "slide"
    }
   },
   "outputs": [
    {
     "data": {
      "text/plain": [
       "{'5R7Y',\n",
       " '5R7Z',\n",
       " '5R80',\n",
       " '5R81',\n",
       " '5R82',\n",
       " '5R83',\n",
       " '5R84',\n",
       " '6LU7',\n",
       " '6LXT',\n",
       " '6LZE',\n",
       " '6M03',\n",
       " '6M0K',\n",
       " '6M17',\n",
       " '6M18',\n",
       " '6M1D',\n",
       " '6M39',\n",
       " '6M3M',\n",
       " '6M56',\n",
       " '6M71',\n",
       " '6VGY',\n",
       " '6VGZ',\n",
       " '6VH0',\n",
       " '6VH1',\n",
       " '6VH2',\n",
       " '6VH3',\n",
       " '6VW1',\n",
       " '6W2A',\n",
       " '6W41',\n",
       " '6W4B',\n",
       " '6W63',\n",
       " '6W79',\n",
       " '6WCO',\n",
       " '6WEY',\n",
       " '6WPS',\n",
       " '6WPT',\n",
       " '6WQF',\n",
       " '6WS6',\n",
       " '6WTJ',\n",
       " '6WTK',\n",
       " '6WTM',\n",
       " '6WTT',\n",
       " '6WUU',\n",
       " '6WX4',\n",
       " '6WZO',\n",
       " '6WZQ',\n",
       " '6X6P',\n",
       " '6X79',\n",
       " '6XA4',\n",
       " '6XBG',\n",
       " '6XBH',\n",
       " '6XBI',\n",
       " '6XCA',\n",
       " '6XCM',\n",
       " '6XCN',\n",
       " '6XDC',\n",
       " '6XE1',\n",
       " '6XEY',\n",
       " '6XEZ',\n",
       " '6XFN',\n",
       " '6XHL',\n",
       " '6XHM',\n",
       " '6XHN',\n",
       " '6XHO',\n",
       " '6XKL',\n",
       " '6XKP',\n",
       " '6XKQ',\n",
       " '6XMK',\n",
       " '6Y2E',\n",
       " '6Y2F',\n",
       " '6Y2G',\n",
       " '6Y84',\n",
       " '6YB7',\n",
       " '6YOR',\n",
       " '6YWK',\n",
       " '6YWL',\n",
       " '6YWM',\n",
       " '6YYT',\n",
       " '6Z97',\n",
       " '6ZB4',\n",
       " '6ZB5',\n",
       " '6ZCT',\n",
       " '6ZCZ',\n",
       " '6ZDG',\n",
       " '6ZDH',\n",
       " '6ZER',\n",
       " '6ZFO',\n",
       " '6ZLW',\n",
       " '6ZMT',\n",
       " '6ZN5',\n",
       " '6ZON',\n",
       " '6ZP4',\n",
       " '6ZPE',\n",
       " '6ZXN',\n",
       " '7BQY',\n",
       " '7BTF',\n",
       " '7BUY',\n",
       " '7BV1',\n",
       " '7BV2',\n",
       " '7BW1',\n",
       " '7BW4',\n",
       " '7BWJ',\n",
       " '7BYR',\n",
       " '7BZ5',\n",
       " '7BZF',\n",
       " '7C01',\n",
       " '7C02',\n",
       " '7C2K',\n",
       " '7C2L',\n",
       " '7C2Q',\n",
       " '7C2Y',\n",
       " '7C8R',\n",
       " '7C8T',\n",
       " '7C8U',\n",
       " '7CAH',\n",
       " '7CAI',\n",
       " '7CAK',\n",
       " '7CH4',\n",
       " '7CH5',\n",
       " '7CHB',\n",
       " '7CHC',\n",
       " '7CHE',\n",
       " '7CHF',\n",
       " '7CHH',\n",
       " '7CJD',\n",
       " '7CMD',\n",
       " '7CN9',\n",
       " '7JJI',\n",
       " '7JJJ',\n",
       " '7JTL',\n",
       " '7JV2',\n",
       " '7JV4',\n",
       " '7JV6',\n",
       " '7JVA',\n",
       " '7JVC',\n",
       " '7JW0',\n",
       " '7JWB',\n",
       " '7JX3',\n",
       " '7JXC',\n",
       " '7JXD',\n",
       " '7JXE',\n",
       " '7K5I',\n",
       " '7K8M',\n",
       " '7K8N',\n",
       " '7K8O',\n",
       " '7K8P',\n",
       " '7K8Q',\n",
       " '7K8R',\n",
       " '7K8S',\n",
       " '7K8T',\n",
       " '7K8U',\n",
       " '7K8V',\n",
       " '7K8W',\n",
       " '7K8X',\n",
       " '7K8Y',\n",
       " '7K8Z',\n",
       " '7K90',\n",
       " '7KDT'}"
      ]
     },
     "execution_count": 28,
     "metadata": {},
     "output_type": "execute_result"
    }
   ],
   "source": [
    "from Bio import Entrez\n",
    "import re\n",
    "seqfile = 'searchresults.fasta'\n",
    "Entrez.email = \"dkoes@pitt.edu\"\n",
    "records = Entrez.read(Entrez.esearch(db='protein',term='covid AND pdb[filter]',retmax=1000))\n",
    "result = Entrez.efetch(db='protein',id=records['IdList'],rettype='fasta',retmode='text').read()\n",
    "set(re.findall(r'>pdb\\|(\\S+?)\\|',result))"
   ]
  }
 ],
 "metadata": {
  "celltoolbar": "Slideshow",
  "kernelspec": {
   "display_name": "Python 3 (ipykernel)",
   "language": "python",
   "name": "python3"
  },
  "language_info": {
   "codemirror_mode": {
    "name": "ipython",
    "version": 3
   },
   "file_extension": ".py",
   "mimetype": "text/x-python",
   "name": "python",
   "nbconvert_exporter": "python",
   "pygments_lexer": "ipython3",
   "version": "3.8.10"
  },
  "widgets": {
   "state": {},
   "version": "1.1.1"
  }
 },
 "nbformat": 4,
 "nbformat_minor": 1
}
