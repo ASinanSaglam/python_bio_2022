{
 "cells": [
  {
   "cell_type": "markdown",
   "metadata": {
    "slideshow": {
     "slide_type": "slide"
    }
   },
   "source": [
    "# The Linux Commandline (bash)\n",
    "## 8/31/2021\n",
    "\n",
    "<a href=\"?print-pdf\">print view</a>"
   ]
  },
  {
   "cell_type": "code",
   "execution_count": 1,
   "metadata": {
    "slideshow": {
     "slide_type": "-"
    }
   },
   "outputs": [
    {
     "data": {
      "text/html": [
       "\n",
       "<script src=\"http://bits.mscbio2025.net/asker.js/lib/asker.js\"></script>\n",
       "\n",
       "<script>\n",
       "\n",
       "require(['https://cdnjs.cloudflare.com/ajax/libs/Chart.js/2.2.2/Chart.js'], function(Ch){\n",
       " Chart = Ch;\n",
       "});\n",
       "\n",
       "$('head').append('<link rel=\"stylesheet\" href=\"http://bits.csb.pitt.edu/asker.js/themes/asker.default.css\" />');\n",
       "\n",
       "\n",
       "//the callback is provided a canvas object and data \n",
       "var chartmaker = function(canvas, labels, data) {\n",
       "  var ctx = $(canvas).get(0).getContext(\"2d\");\n",
       "     var dataset = {labels: labels,                     \n",
       "    datasets:[{\n",
       "     data: data,\n",
       "     backgroundColor: \"rgba(150,64,150,0.5)\",\n",
       "         fillColor: \"rgba(150,64,150,0.8)\",    \n",
       "  }]};\n",
       "  var myBarChart = new Chart(ctx,{type:'bar',data:dataset,options:{legend: {display:false}}});\n",
       "\n",
       "};\n",
       "\n",
       "$(\".jp-InputArea .o:contains(html)\").closest('.jp-InputArea').hide();\n",
       "\n",
       "</script>\n"
      ],
      "text/plain": [
       "<IPython.core.display.HTML object>"
      ]
     },
     "metadata": {},
     "output_type": "display_data"
    }
   ],
   "source": [
    "%%html\n",
    "\n",
    "<script src=\"http://bits.mscbio2025.net/asker.js/lib/asker.js\"></script>\n",
    "\n",
    "<script>\n",
    "\n",
    "require(['https://cdnjs.cloudflare.com/ajax/libs/Chart.js/2.2.2/Chart.js'], function(Ch){\n",
    " Chart = Ch;\n",
    "});\n",
    "\n",
    "$('head').append('<link rel=\"stylesheet\" href=\"http://bits.csb.pitt.edu/asker.js/themes/asker.default.css\" />');\n",
    "\n",
    "\n",
    "//the callback is provided a canvas object and data \n",
    "var chartmaker = function(canvas, labels, data) {\n",
    "  var ctx = $(canvas).get(0).getContext(\"2d\");\n",
    "     var dataset = {labels: labels,                     \n",
    "    datasets:[{\n",
    "     data: data,\n",
    "     backgroundColor: \"rgba(150,64,150,0.5)\",\n",
    "         fillColor: \"rgba(150,64,150,0.8)\",    \n",
    "  }]};\n",
    "  var myBarChart = new Chart(ctx,{type:'bar',data:dataset,options:{legend: {display:false}}});\n",
    "\n",
    "};\n",
    "\n",
    "$(\".jp-InputArea .o:contains(html)\").closest('.jp-InputArea').hide();\n",
    "\n",
    "</script>"
   ]
  },
  {
   "cell_type": "markdown",
   "metadata": {
    "slideshow": {
     "slide_type": "slide"
    }
   },
   "source": [
    "# Linux\n",
    "\n",
    "*Happy Birthday Linux! Here's your cake:*\n",
    "<img src=\"https://images-cdn.9gag.com/photo/ay84g8M_700b.jpg\" width=\"500px\">"
   ]
  },
  {
   "cell_type": "markdown",
   "metadata": {
    "slideshow": {
     "slide_type": "slide"
    }
   },
   "source": [
    "# Installing\n",
    "\n",
    "For this class you will be able to use <tt>python.mscbio2025.net</tt> for all your work, but you may prefer to install Linux locally.  One way to do this is install in a virtual machine:\n",
    "http://www.psychocats.net/ubuntu/virtualbox\n",
    "\n",
    "We are using Ubuntu 20.04.  Once the system is installed, you will need to use the system package manager (**apt**) and the python package manager (**pip**) to install additional software.  **sudo** runs a command with super user privileges.\n",
    "\n",
    "```\n",
    "sudo apt install git vim wget python-pip ipython-notebook python-tk clustalw libcairo2 libcairo2-dev libxml2 libxml2-dev cmake libeigen3-dev swig graphviz python-pygraphviz imagemagick\n",
    "\n",
    "sudo pip3 install pysb matplotlib biopython prody MDAnalysis cython sklearn Pillow py3Dmol pandas pydotplus pydot\n",
    "```\n",
    "\n",
    "BioNetGen needs to be installed in /usr/local/share (see <tt>ensemble</tt>)\n",
    "http://bionetgen.org/index.php/Download\n",
    "\n",
    "OpenBabel needs to be installed from source (package version is buggy) but this will only matter for one assignment.\n",
    "```\n",
    "wget https://github.com/openbabel/openbabel/archive/openbabel-3-1-1.tar.gz\n",
    "tar xvfz openbabel-3-1-1.tar.gz\n",
    "cd openbabel-openbabel-3-1-1\n",
    "mkdir build\n",
    "cd build\n",
    "cmake .. -DPYTHON_BINDINGS=ON -DRUN_SWIG=ON\n",
    "make \n",
    "sudo make install\n",
    "```\n"
   ]
  },
  {
   "cell_type": "markdown",
   "metadata": {
    "slideshow": {
     "slide_type": "slide"
    }
   },
   "source": [
    "# macOS\n",
    "\n",
    "Macs also have a built-in commandline (Terminal.app).  Many of the packages we use are also available of OS X.  However, keep in mind your assignments must run properly on <tt>python.mscbio2025.net</tt>.\n",
    "\n",
    "MacPorts is most convenient for installing software (https://www.macports.org), but not all packages that we use are readily available.\n",
    "\n",
    "# Windows\n",
    "\n",
    "As of **Windows 10**, can [install Linux Subsystem](https://docs.microsoft.com/en-us/windows/wsl/install-win10).  In theory should work just like Ubuntu and is much less cumbersome to use."
   ]
  },
  {
   "cell_type": "code",
   "execution_count": 2,
   "metadata": {
    "slideshow": {
     "slide_type": "slide"
    }
   },
   "outputs": [
    {
     "data": {
      "text/html": [
       "<div id=\"prepared\" style=\"width: 500px\"></div>\n",
       "<script>\n",
       "\n",
       "\tjQuery('#prepared').asker({\n",
       "\t    id: \"cdquestion\",\n",
       "\t    question: \"Do you have the bash shell or PuTTY installed?\",\n",
       "\t\tanswers: [\"No\",\"Yes, PuTTY\",\"Yes, Windows BASH\",\"Yes, MacOS\"],\n",
       "        server: \"http://bits.mscbio2025.net/asker.js/example/asker.cgi\",\n",
       "\t\tcharter: chartmaker})\n",
       "    \n",
       "$(\".jp-InputArea .o:contains(html)\").closest('.jp-InputArea').hide();\n",
       "\n",
       "</script>\n"
      ],
      "text/plain": [
       "<IPython.core.display.HTML object>"
      ]
     },
     "metadata": {},
     "output_type": "display_data"
    }
   ],
   "source": [
    "%%html\n",
    "<div id=\"prepared\" style=\"width: 500px\"></div>\n",
    "<script>\n",
    "\n",
    "\tjQuery('#prepared').asker({\n",
    "\t    id: \"cdquestion\",\n",
    "\t    question: \"Do you have the bash shell or PuTTY installed?\",\n",
    "\t\tanswers: [\"No\",\"Yes, PuTTY\",\"Yes, Windows BASH\",\"Yes, MacOS\"],\n",
    "        server: \"http://bits.mscbio2025.net/asker.js/example/asker.cgi\",\n",
    "\t\tcharter: chartmaker})\n",
    "    \n",
    "$(\".jp-InputArea .o:contains(html)\").closest('.jp-InputArea').hide();\n",
    "\n",
    "</script>"
   ]
  },
  {
   "cell_type": "markdown",
   "metadata": {
    "slideshow": {
     "slide_type": "slide"
    }
   },
   "source": [
    "# Commands\n",
    "\n",
    "The first word you type is the program you want to run.  <tt>bash</tt> will search <tt>PATH</tt> environment variable for an appropriately named executable and run it with the specified arguments.\n",
    "\n",
    "* <tt>ipython<tt> - start interactive python shell (more later)\n",
    "* <tt>ssh</tt> *hostname*  - connect to *hostname*\n",
    "* <tt>passwd</tt> - change your password\n",
    "* <tt>nano</tt> - a user-friendly text editor\n",
    "\n",
    "## <tt>ssh</tt> into <tt>python.mscbio2025.net</tt> and change your password\n",
    "\n",
    "`ssh <userid>@python.mscbio2025.net`"
   ]
  },
  {
   "cell_type": "markdown",
   "metadata": {
    "slideshow": {
     "slide_type": "slide"
    }
   },
   "source": [
    "# ssh\n",
    "\n",
    "Secure shell.  On Windows can use [PuTTY](https://www.putty.org).\n",
    "\n",
    "# scp\n",
    "Secure copy: `scp file.py python.mscbio2025.net:.`\n",
    "\n",
    "# sshfs\n",
    "Will mount a remote filesystem over ssh:\n",
    "\n",
    "`mkdir classdir\n",
    "sshfs python.mscbio2025.net:. classdir`"
   ]
  },
  {
   "cell_type": "markdown",
   "metadata": {
    "slideshow": {
     "slide_type": "slide"
    }
   },
   "source": [
    "# Login to python.mscbio.net\n",
    "\n",
    "Use your Pitt userid.\n",
    "\n",
    "Change your password."
   ]
  },
  {
   "cell_type": "markdown",
   "metadata": {
    "slideshow": {
     "slide_type": "slide"
    }
   },
   "source": [
    "# A BASH cheatsheet\n",
    "\n",
    "http://mscbio2025.net/notes/bash_cheatsheet.pdf"
   ]
  },
  {
   "cell_type": "markdown",
   "metadata": {
    "slideshow": {
     "slide_type": "slide"
    }
   },
   "source": [
    "# ls - directory listing\n",
    "<pre>\n",
    "$ ls -l\n",
    "total 8\n",
    "-rw-rw-r-- 1 dkoes dkoes   19 Sep  3 09:08 hello.txt\n",
    "drwxrwxr-x 2 dkoes dkoes 4096 Sep  3 09:08 lecture\n",
    "$ pwd\n",
    "/home/dkoes/intro\n",
    "$ cd lecture/../..\n",
    "$ pwd\n",
    "</pre>"
   ]
  },
  {
   "cell_type": "code",
   "execution_count": 3,
   "metadata": {
    "slideshow": {
     "slide_type": "-"
    }
   },
   "outputs": [
    {
     "data": {
      "text/html": [
       "<div id=\"question1\" style=\"width: 500px\"></div>\n",
       "<script>\n",
       "\n",
       "\tjQuery('#question1').asker({\n",
       "\t    id: \"cdquestion\",\n",
       "\t    question: \"What prints out?\",\n",
       "\t\tanswers: [\"~/\",\"/home/dkoes\", \"/home/dkoes/intro\",\"/home/dkoes/intro/lecture\",\"An Error\"],\n",
       "\t\textra: [\"\",\"\",\"\",\"\",\"\",\"\"],\n",
       "        server: \"http://bits.mscbio2025.net/asker.js/example/asker.cgi\",\n",
       "\t\tcharter: chartmaker})\n",
       "    \n",
       "$(\".jp-InputArea .o:contains(html)\").closest('.jp-InputArea').hide();\n",
       "\n",
       "</script>\n"
      ],
      "text/plain": [
       "<IPython.core.display.HTML object>"
      ]
     },
     "metadata": {},
     "output_type": "display_data"
    }
   ],
   "source": [
    "%%html\n",
    "<div id=\"question1\" style=\"width: 500px\"></div>\n",
    "<script>\n",
    "\n",
    "\tjQuery('#question1').asker({\n",
    "\t    id: \"cdquestion\",\n",
    "\t    question: \"What prints out?\",\n",
    "\t\tanswers: [\"~/\",\"/home/dkoes\", \"/home/dkoes/intro\",\"/home/dkoes/intro/lecture\",\"An Error\"],\n",
    "\t\textra: [\"\",\"\",\"\",\"\",\"\",\"\"],\n",
    "        server: \"http://bits.mscbio2025.net/asker.js/example/asker.cgi\",\n",
    "\t\tcharter: chartmaker})\n",
    "    \n",
    "$(\".jp-InputArea .o:contains(html)\").closest('.jp-InputArea').hide();\n",
    "\n",
    "</script>"
   ]
  },
  {
   "cell_type": "markdown",
   "metadata": {
    "slideshow": {
     "slide_type": "slide"
    }
   },
   "source": [
    "<pre>\n",
    "$ ls -l\n",
    "total 8\n",
    "-rw-rw-r-- 1 dkoes dkoes   19 Sep  3 09:08 hello.txt\n",
    "drwxrwxr-x 2 dkoes dkoes 4096 Sep  3 09:08 lecture\n",
    "$ ls *.txt\n",
    "</pre>\n"
   ]
  },
  {
   "cell_type": "code",
   "execution_count": 4,
   "metadata": {},
   "outputs": [
    {
     "data": {
      "text/html": [
       "<div id=\"question2\" style=\"width: 500px\"></div>\n",
       "<script>\n",
       "\n",
       "\tjQuery('#question2').asker({\n",
       "\t    id: \"lsquestion\",\n",
       "\t    question: \"What prints out?\",\n",
       "\t\tanswers: [\"hello.txt\",\"*.txt\", \"hello.txt lecture\", \"An Error\"],\n",
       "\t\textra: [\"\",\"\",\"\",\"\",\"\",\"\"],\n",
       "        server: \"http://bits.mscbio2025.net/asker.js/example/asker.cgi\",\n",
       "\t\tcharter: chartmaker})\n",
       "    \n",
       "$(\".jp-InputArea .o:contains(html)\").closest('.jp-InputArea').hide();\n",
       "\n",
       "</script>\n"
      ],
      "text/plain": [
       "<IPython.core.display.HTML object>"
      ]
     },
     "metadata": {},
     "output_type": "display_data"
    }
   ],
   "source": [
    "%%html\n",
    "<div id=\"question2\" style=\"width: 500px\"></div>\n",
    "<script>\n",
    "\n",
    "\tjQuery('#question2').asker({\n",
    "\t    id: \"lsquestion\",\n",
    "\t    question: \"What prints out?\",\n",
    "\t\tanswers: [\"hello.txt\",\"*.txt\", \"hello.txt lecture\", \"An Error\"],\n",
    "\t\textra: [\"\",\"\",\"\",\"\",\"\",\"\"],\n",
    "        server: \"http://bits.mscbio2025.net/asker.js/example/asker.cgi\",\n",
    "\t\tcharter: chartmaker})\n",
    "    \n",
    "$(\".jp-InputArea .o:contains(html)\").closest('.jp-InputArea').hide();\n",
    "\n",
    "</script>"
   ]
  },
  {
   "cell_type": "markdown",
   "metadata": {
    "slideshow": {
     "slide_type": "slide"
    }
   },
   "source": [
    "# Spacing Out\n",
    "\n",
    "<tt>du</tt> - disk usage of files/directores\n",
    "```\n",
    "[dkoes@n052 tmp]$ du -s\n",
    "146564\t.\n",
    "[dkoes@n052 tmp]$ du -sh\n",
    "144M\t.\n",
    "[dkoes@n052 tmp]$ du -sh intro\n",
    "4.0K\tintro\n",
    "```\n",
    "\n",
    "<tt>df</tt> - usage of full disk\n",
    "<pre>\n",
    "[dkoes@n052 tmp]$ df -h .\n",
    "Filesystem      Size  Used Avail Use% Mounted on\n",
    "pulsar:/home     37T   28T  9.3T  75% /net/pulsar/home\n",
    "</pre>"
   ]
  },
  {
   "cell_type": "markdown",
   "metadata": {
    "slideshow": {
     "slide_type": "slide"
    }
   },
   "source": [
    "# Dude, where's my stuff?\n",
    "\n",
    "<tt>locate</tt> find a file system wide\n",
    "<tt>find</tt> search directory tree\n",
    "<tt>which</tt> print location of a command\n",
    "<tt>man</tt> print manual page of a command\n"
   ]
  },
  {
   "cell_type": "markdown",
   "metadata": {
    "slideshow": {
     "slide_type": "slide"
    }
   },
   "source": [
    "# Save the Environment\n",
    "\n",
    "<tt>NAME=value</tt>  set NAME equal to value **No spaces around equals**\n",
    "\n",
    "<tt>export NAME=value</tt> set NAME equal to value and make it stick\n",
    "\n",
    "`$` *dereference* variable\n",
    "```\n",
    "user@python$ X=3\n",
    "user@python$ echo $X\n",
    "3\n",
    "user@python$ X=hello\n",
    "user@python$ echo $X\n",
    "hello\n",
    "user@python$ echo X\n",
    "X\n",
    "```"
   ]
  },
  {
   "cell_type": "markdown",
   "metadata": {
    "slideshow": {
     "slide_type": "slide"
    }
   },
   "source": [
    "# Getting at your variables\n",
    "\n",
    "&nbsp;"
   ]
  },
  {
   "cell_type": "code",
   "execution_count": 5,
   "metadata": {},
   "outputs": [
    {
     "data": {
      "text/html": [
       "<div id=\"questionvarprint\" style=\"width: 500px; \"></div>\n",
       "<script>\n",
       "\n",
       "\tjQuery('#questionvarprint').asker({\n",
       "\t    id: \"varquestion\",\n",
       "\t    question: \"Which does <b>not</b> print the value of X?\",\n",
       "\t\tanswers: [\"echo $X\",\"echo ${X}\",\"echo '$X'\",\"echo \\\"$X\\\"\"],\n",
       "\t\textra: [\"\",\"\",\"\",\"\",\"\",\"\"],\n",
       "        server: \"http://bits.mscbio2025.net/asker.js/example/asker.cgi\",\n",
       "\t\tcharter: chartmaker})\n",
       "    \n",
       "$(\".jp-InputArea .o:contains(html)\").closest('.jp-InputArea').hide();\n",
       "\n",
       "</script>\n"
      ],
      "text/plain": [
       "<IPython.core.display.HTML object>"
      ]
     },
     "metadata": {},
     "output_type": "display_data"
    }
   ],
   "source": [
    "%%html\n",
    "<div id=\"questionvarprint\" style=\"width: 500px; \"></div>\n",
    "<script>\n",
    "\n",
    "\tjQuery('#questionvarprint').asker({\n",
    "\t    id: \"varquestion\",\n",
    "\t    question: \"Which does <b>not</b> print the value of X?\",\n",
    "\t\tanswers: [\"echo $X\",\"echo ${X}\",\"echo '$X'\",\"echo \\\"$X\\\"\"],\n",
    "\t\textra: [\"\",\"\",\"\",\"\",\"\",\"\"],\n",
    "        server: \"http://bits.mscbio2025.net/asker.js/example/asker.cgi\",\n",
    "\t\tcharter: chartmaker})\n",
    "    \n",
    "$(\".jp-InputArea .o:contains(html)\").closest('.jp-InputArea').hide();\n",
    "\n",
    "</script>"
   ]
  },
  {
   "cell_type": "markdown",
   "metadata": {
    "slideshow": {
     "slide_type": "slide"
    }
   },
   "source": [
    "<pre>\n",
    "$ ls -l\n",
    "total 8\n",
    "-rw-rw-r-- 1 dkoes dkoes   19 Sep  3 09:08 hello.txt\n",
    "drwxrwxr-x 2 dkoes dkoes 4096 Sep  3 09:08 lecture\n",
    "$ ls '*.txt'\n",
    "</pre>"
   ]
  },
  {
   "cell_type": "code",
   "execution_count": 6,
   "metadata": {},
   "outputs": [
    {
     "data": {
      "text/html": [
       "<div id=\"questionls2\" style=\"width: 500px\"></div>\n",
       "<script>\n",
       "\tjQuery('#questionls2').asker({\n",
       "\t    id: \"ls2question\",\n",
       "\t    question: \"What prints out?\",\n",
       "\t\tanswers: [\"hello.txt\",\"*.txt\", \"hello.txt lecture\", \"An Error\"],\n",
       "\t\textra: [\"\",\"\",\"\",\"\",\"\",\"\"],\n",
       "        server: \"http://bits.mscbio2025.net/asker.js/example/asker.cgi\",\n",
       "\t\tcharter: chartmaker})\n",
       "    \n",
       "$(\".jp-InputArea .o:contains(html)\").closest('.jp-InputArea').hide();\n",
       "\n",
       "</script>\n"
      ],
      "text/plain": [
       "<IPython.core.display.HTML object>"
      ]
     },
     "metadata": {},
     "output_type": "display_data"
    }
   ],
   "source": [
    "%%html\n",
    "<div id=\"questionls2\" style=\"width: 500px\"></div>\n",
    "<script>\n",
    "\tjQuery('#questionls2').asker({\n",
    "\t    id: \"ls2question\",\n",
    "\t    question: \"What prints out?\",\n",
    "\t\tanswers: [\"hello.txt\",\"*.txt\", \"hello.txt lecture\", \"An Error\"],\n",
    "\t\textra: [\"\",\"\",\"\",\"\",\"\",\"\"],\n",
    "        server: \"http://bits.mscbio2025.net/asker.js/example/asker.cgi\",\n",
    "\t\tcharter: chartmaker})\n",
    "    \n",
    "$(\".jp-InputArea .o:contains(html)\").closest('.jp-InputArea').hide();\n",
    "\n",
    "</script>"
   ]
  },
  {
   "cell_type": "markdown",
   "metadata": {
    "slideshow": {
     "slide_type": "slide"
    }
   },
   "source": [
    "# Capturing Output\n",
    "\n",
    "<tt>`cmd`</tt> evaluates to output of cmd\n",
    "<pre>\n",
    "$ FILES=`ls`\n",
    "$ echo $FILES \n",
    "hello.txt lecture\n",
    "</pre>"
   ]
  },
  {
   "cell_type": "markdown",
   "metadata": {
    "slideshow": {
     "slide_type": "slide"
    }
   },
   "source": [
    "# Your Environment\n",
    "\n",
    "<tt>env</tt> list all set environment variables\n",
    "\n",
    "<tt>PATH</tt> where shell searches for commands\n",
    "\n",
    "<tt>LD_LIBRARY_PATH</tt> library search path\n",
    "\n",
    "<tt>PYTHONPATH</tt> where python searches for modules\n",
    "\n",
    "<tt>.bashrc</tt> initialization file for bash - set PATH etc here\n"
   ]
  },
  {
   "cell_type": "markdown",
   "metadata": {
    "slideshow": {
     "slide_type": "slide"
    }
   },
   "source": [
    "# History\n",
    "\n",
    "<tt>history</tt> show commands previously issued\n",
    "\n",
    "<tt>up arrow</tt> cycle through previous commands\n",
    "\n",
    "<tt>Ctrl-R</tt> search through history for command **AWESOME**\n",
    "\n",
    "<tt>.bash_history</tt> file that stores the history\n",
    "\n",
    "<tt>HISTCONTROL</tt> environment variable that sets history options: ignoredups\n",
    "\n",
    "<tt>HISTSIZE</tt> size of history buffer"
   ]
  },
  {
   "cell_type": "markdown",
   "metadata": {
    "slideshow": {
     "slide_type": "slide"
    }
   },
   "source": [
    "# Shortcuts\n",
    "\n",
    "<tt>Tab</tt> autocomplete\n",
    "\n",
    "<tt>Ctrl-D</tt>  EOF/logout/exit\n",
    "\n",
    "<tt>Ctrl-A</tt>  go to beginning of line\n",
    "\n",
    "<tt>Ctrl-E</tt>  go to end of line\n",
    "\n",
    "<tt>alias new=cmd</tt>  \n",
    "\n",
    "<pre>\n",
    "make a nickname for a command\n",
    "$ alias l='ls -l'\n",
    "$ alias\n",
    "$ l\n",
    "</pre>"
   ]
  },
  {
   "cell_type": "markdown",
   "metadata": {
    "slideshow": {
     "slide_type": "slide"
    }
   },
   "source": [
    "\n",
    "## Loops\n",
    "\n",
    "<pre>\n",
    "<b>for</b> i <b>in</b> x y z\n",
    "<b>do</b>\n",
    " echo $i\n",
    "<b>done</b>\n",
    "\n",
    "for i in *.txt\n",
    "do\n",
    " echo $i\n",
    "done\n",
    "</pre>\n",
    "\n",
    "<a href=\"http://tldp.org/LDP/abs/html/loops.html\">Lots more... (TLDP)</a>"
   ]
  },
  {
   "cell_type": "markdown",
   "metadata": {
    "slideshow": {
     "slide_type": "slide"
    }
   },
   "source": [
    "# String Manipulation\n",
    "\n",
    "http://tldp.org/LDP/abs/html/string-manipulation.html\n",
    "\n",
    "<pre>$ i=\"ovolo\"\n",
    "$ echo ${i%o}\n",
    "</pre>"
   ]
  },
  {
   "cell_type": "code",
   "execution_count": 7,
   "metadata": {
    "slideshow": {
     "slide_type": "-"
    }
   },
   "outputs": [
    {
     "data": {
      "text/html": [
       "<div id=\"stringm\" style=\"width: 500px\"></div>\n",
       "<script>\n",
       "$('head').append('<link rel=\"stylesheet\" href=\"http://bits.csb.pitt.edu/asker.js/themes/asker.default.css\" />');\n",
       "\n",
       "\n",
       "\tjQuery('#stringm').asker({\n",
       "\t    id: \"stringm\",\n",
       "\t    question: \"What prints out?\",\n",
       "\t\tanswers: [\"ovolo\",\"volo\", \"ovol\",\"vl\",\"An Error\"],\n",
       "        server: \"http://bits.mscbio2025.net/asker.js/example/asker.cgi\",\n",
       "\t\tcharter: chartmaker})\n",
       "    \n",
       "$(\".jp-InputArea .o:contains(html)\").closest('.jp-InputArea').hide();\n",
       "\n",
       "\n",
       "</script>\n"
      ],
      "text/plain": [
       "<IPython.core.display.HTML object>"
      ]
     },
     "metadata": {},
     "output_type": "display_data"
    }
   ],
   "source": [
    "%%html\n",
    "<div id=\"stringm\" style=\"width: 500px\"></div>\n",
    "<script>\n",
    "$('head').append('<link rel=\"stylesheet\" href=\"http://bits.csb.pitt.edu/asker.js/themes/asker.default.css\" />');\n",
    "\n",
    "\n",
    "\tjQuery('#stringm').asker({\n",
    "\t    id: \"stringm\",\n",
    "\t    question: \"What prints out?\",\n",
    "\t\tanswers: [\"ovolo\",\"volo\", \"ovol\",\"vl\",\"An Error\"],\n",
    "        server: \"http://bits.mscbio2025.net/asker.js/example/asker.cgi\",\n",
    "\t\tcharter: chartmaker})\n",
    "    \n",
    "$(\".jp-InputArea .o:contains(html)\").closest('.jp-InputArea').hide();\n",
    "\n",
    "\n",
    "</script>"
   ]
  },
  {
   "cell_type": "markdown",
   "metadata": {
    "slideshow": {
     "slide_type": "slide"
    }
   },
   "source": [
    "# Batch processing files\n",
    "\n",
    "\n",
    "<pre>\n",
    "for file in *.png\n",
    "do\n",
    " convert $file ${file%.png}.tif\n",
    "done\n",
    "</pre>"
   ]
  }
 ],
 "metadata": {
  "celltoolbar": "Slideshow",
  "kernelspec": {
   "display_name": "Python 2",
   "language": "python",
   "name": "python2"
  },
  "language_info": {
   "codemirror_mode": {
    "name": "ipython",
    "version": 3
   },
   "file_extension": ".py",
   "mimetype": "text/x-python",
   "name": "python",
   "nbconvert_exporter": "python",
   "pygments_lexer": "ipython3",
   "version": "3.8.10"
  }
 },
 "nbformat": 4,
 "nbformat_minor": 1
}
